{
 "cells": [
  {
   "cell_type": "code",
   "execution_count": 1,
   "id": "3e5d5a07",
   "metadata": {},
   "outputs": [],
   "source": [
    "#|default_export conv"
   ]
  },
  {
   "cell_type": "markdown",
   "id": "9c837d9a",
   "metadata": {},
   "source": [
    "### Convolutions"
   ]
  },
  {
   "cell_type": "code",
   "execution_count": 6,
   "id": "7d1c2677",
   "metadata": {},
   "outputs": [],
   "source": [
    "#|export\n",
    "import torch\n",
    "import torch.nn as nn\n",
    "from torch.utils.data import default_collate\n",
    "from miniai.training import *\n",
    "from miniai.datasets import *"
   ]
  },
  {
   "cell_type": "code",
   "execution_count": 21,
   "id": "7263d6c5",
   "metadata": {},
   "outputs": [],
   "source": [
    "import gzip,pickle,matplotlib.pyplot as plt,numpy as np\n",
    "import matplotlib as mpl\n",
    "import pandas as pd\n",
    "mpl.rcParams['image.cmap'] = 'gray'"
   ]
  },
  {
   "cell_type": "code",
   "execution_count": 8,
   "id": "c800b238",
   "metadata": {},
   "outputs": [
    {
     "data": {
      "text/plain": [
       "(torch.Size([50000, 784]),\n",
       " torch.Size([50000]),\n",
       " torch.Size([10000, 784]),\n",
       " torch.Size([10000]))"
      ]
     },
     "execution_count": 8,
     "metadata": {},
     "output_type": "execute_result"
    }
   ],
   "source": [
    "with gzip.open('../data/mnist.pkl.gz', 'rb') as f: data = pickle.load(f, encoding='latin')\n",
    "((x_train,y_train),(x_val,y_val),_) = data\n",
    "(x_train,y_train,x_val,y_val) = map(torch.tensor,(x_train,y_train,x_val,y_val))\n",
    "(x_train.shape,y_train.shape,x_val.shape,y_val.shape)"
   ]
  },
  {
   "cell_type": "markdown",
   "id": "06c569cb",
   "metadata": {},
   "source": [
    "### Understanding Convolution Equations"
   ]
  },
  {
   "cell_type": "markdown",
   "id": "27fe6113",
   "metadata": {},
   "source": [
    "* https://medium.com/impactai/cnns-from-different-viewpoints-fab7f52d159c (How it differ from norm FNN)\n",
    "* https://arxiv.org/pdf/1603.07285.pdf (Convolution Arithmetic)"
   ]
  },
  {
   "cell_type": "markdown",
   "id": "0641e28f",
   "metadata": {},
   "source": [
    "\n",
    "* The mechanics is quite simple, you take your input image and flat it out all the pixel as a single vector and start multiply each pixel with it's corresponding weights and bias then you will get one output, and if you want multiple output, you can copy this same process, just with different weights for the each output, and finaly pass all the outputs through some non-linear function. this is our simple FNN operation. the only difference is, we are going to keep the same weights across multiple outputs and the number of weights are not going to be same as number of input pixels, actually number of weights will be much less than number of input pixels. because of this, each neurons will only be multiplied with few input pixels. But we don't want to miss any input pixels, to solve this issue what we can do is, each output focus on different set of pixels, means for each output, wieghts (same weights) will be multiplied with different set of input pixels, so this way, we cover all the input pixels.\n",
    " <br/>\n",
    "    \n",
    "* Now we need to choose which set of weights each outputs should focus on. this is done, simply by taking weights and reshaping it into 2D format, example if number of weights are 9 then it will be reshaped as 3x3. then you place it across image horizontal and vertical directions, each placement is the set of weights for each output.  that's it. this is \"Convolution\".\n"
   ]
  },
  {
   "cell_type": "markdown",
   "id": "e6b42e56",
   "metadata": {},
   "source": [
    "##### Convolution Arithmetic"
   ]
  },
  {
   "cell_type": "markdown",
   "id": "05ddbc9c",
   "metadata": {},
   "source": [
    "* In Convolution operation output number of neurons depends on input size, number of weights, padding, and stride.\n",
    " <br/>\n",
    " \n",
    "* Input size: number of input pixels.\n",
    " <br/>\n",
    " \n",
    "* Padding: extra number of dummy pixels added to the inputs.\n",
    "<br/>\n",
    "\n",
    "* Stride: number of pixels needs to be skipped during sliding.\n",
    "<br/>\n",
    "\n",
    "* Number of weights (kernel size): size of the shared weights.\n"
   ]
  },
  {
   "cell_type": "markdown",
   "id": "6b55bbbb",
   "metadata": {},
   "source": [
    "##### Deriving General Formula for the Output Size"
   ]
  },
  {
   "cell_type": "markdown",
   "id": "7f0ea86f",
   "metadata": {},
   "source": [
    "```python\n",
    "    # Asumme input is 1D, as it can be extended to 2D.\n",
    "    # Input Size: W\n",
    "    # Kernel Size: K\n",
    "    # Number of Strides: S\n",
    "    # Number of Paddings: P\n",
    "    # Output Size: O\n",
    "    \n",
    "    # Case 1:\n",
    "        # S=1, 0<K<W, P=0\n",
    "        # In this case kernel sliding one pixel at a time on the input pixels\n",
    "        # until it reaches the end where kernel no longer can be contained inside the pixels, so we exclude \n",
    "        # thoes end pixels.\n",
    "        \n",
    "        O = (W-K+1)\n",
    "        \n",
    "    # Case 2:\n",
    "        # P>0, S=1, 0<K<W\n",
    "        # If padding is greater than 0, which means those number extra dumpy pixels both the size,\n",
    "        # so we need to multiply with 2.\n",
    "        \n",
    "        O = (W-k+1+2*P)\n",
    "        \n",
    "    # Case #:\n",
    "        # P>0, S>1, 0<K<W\n",
    "        # When stride is greater than 0, we are going to skip those many pixels.\n",
    "        \n",
    "        O = math.floor(((W-K+2*P)/S) + 1)\n",
    "\n",
    "```"
   ]
  },
  {
   "cell_type": "code",
   "execution_count": 11,
   "id": "8fddc14e",
   "metadata": {},
   "outputs": [],
   "source": [
    "x_imgs = x_train.view(-1, 28, 28)\n",
    "xv_imgs = x_val.view(-1, 28, 28)"
   ]
  },
  {
   "cell_type": "code",
   "execution_count": 23,
   "id": "16465736",
   "metadata": {},
   "outputs": [
    {
     "data": {
      "text/plain": [
       "<matplotlib.image.AxesImage at 0x16c199a10>"
      ]
     },
     "execution_count": 23,
     "metadata": {},
     "output_type": "execute_result"
    },
    {
     "data": {
      "image/png": "[encoded data removed]",
      "text/plain": [
       "<Figure size 540x360 with 1 Axes>"
      ]
     },
     "metadata": {
      "needs_background": "light"
     },
     "output_type": "display_data"
    }
   ],
   "source": [
    "im3 = x_imgs[7]\n",
    "mpl.rcParams['figure.dpi'] = 90\n",
    "plt.imshow(im3)"
   ]
  },
  {
   "cell_type": "markdown",
   "id": "3ed50c8f",
   "metadata": {},
   "source": [
    "##### What is Edge Detection?"
   ]
  },
  {
   "cell_type": "markdown",
   "id": "aafa59c1",
   "metadata": {},
   "source": [
    "Why processing image by multiplying small set of weights make sense?\n",
    "\n",
    "https://en.wikipedia.org/wiki/Edge_detection\n",
    "\n",
    "https://en.wikipedia.org/wiki/Sobel_operator"
   ]
  },
  {
   "cell_type": "markdown",
   "id": "e6cc826c",
   "metadata": {},
   "source": [
    "* Image is bunch of pixels with variying pixel intensity at different places.\n",
    "* Key insight is varying pixel actualy changes how the image actualy looks to the observer, so if we are able to measure this pixel intensity changes, that may give some more clue to the actual image.\n",
    "* Identifying this pixel intensity change across the image is called \"edge detection\".\n",
    "* It turns out, we can do this by constructing the small weight matrix and multiply across the image and get the sum, which actually mathematical approximation for calculating pixel intensity changes.\n",
    "* Depending on the weights value in the weight matrix, it calculate gradient across different direction.\n",
    "* Initialy these weight matrix is hand coded for specific tasks.\n",
    "* Now, instead of hand coding this weight matrirx we can ask our neural network to construct this matrix based on the objective function. hope was our network will learn useful weights.\n",
    "* And it worked, network is able to fill up these weights.\n",
    "* Eventhough it's one of the reason, another main reason is, just feeding raw pixels to normal FNN requires huge number of weights, so impossible to construct deep network or process large images."
   ]
  },
  {
   "cell_type": "code",
   "execution_count": 45,
   "id": "29ce711b",
   "metadata": {},
   "outputs": [
    {
     "data": {
      "text/html": [
       "<style type=\"text/css\">\n",
       "#T_d3a7f_row0_col0, #T_d3a7f_row0_col1, #T_d3a7f_row0_col2, #T_d3a7f_row0_col3, #T_d3a7f_row0_col4, #T_d3a7f_row0_col5, #T_d3a7f_row0_col6, #T_d3a7f_row0_col7, #T_d3a7f_row0_col8, #T_d3a7f_row0_col9, #T_d3a7f_row0_col10, #T_d3a7f_row0_col11, #T_d3a7f_row0_col12, #T_d3a7f_row0_col13, #T_d3a7f_row0_col14, #T_d3a7f_row0_col15, #T_d3a7f_row0_col16, #T_d3a7f_row0_col17, #T_d3a7f_row0_col18, #T_d3a7f_row0_col19, #T_d3a7f_row0_col20, #T_d3a7f_row0_col21, #T_d3a7f_row0_col22, #T_d3a7f_row1_col0, #T_d3a7f_row1_col1, #T_d3a7f_row1_col2, #T_d3a7f_row1_col3, #T_d3a7f_row1_col4, #T_d3a7f_row1_col5, #T_d3a7f_row1_col6, #T_d3a7f_row1_col7, #T_d3a7f_row1_col8, #T_d3a7f_row1_col9, #T_d3a7f_row1_col10, #T_d3a7f_row1_col11, #T_d3a7f_row1_col12, #T_d3a7f_row1_col13, #T_d3a7f_row1_col14, #T_d3a7f_row1_col15, #T_d3a7f_row1_col16, #T_d3a7f_row1_col17, #T_d3a7f_row1_col18, #T_d3a7f_row1_col19, #T_d3a7f_row1_col20, #T_d3a7f_row1_col21, #T_d3a7f_row1_col22, #T_d3a7f_row2_col0, #T_d3a7f_row2_col1, #T_d3a7f_row2_col2, #T_d3a7f_row2_col3, #T_d3a7f_row2_col4, #T_d3a7f_row2_col5, #T_d3a7f_row2_col6, #T_d3a7f_row2_col7, #T_d3a7f_row2_col8, #T_d3a7f_row2_col9, #T_d3a7f_row2_col10, #T_d3a7f_row2_col11, #T_d3a7f_row2_col12, #T_d3a7f_row2_col13, #T_d3a7f_row2_col14, #T_d3a7f_row2_col15, #T_d3a7f_row2_col16, #T_d3a7f_row2_col17, #T_d3a7f_row2_col18, #T_d3a7f_row2_col19, #T_d3a7f_row2_col20, #T_d3a7f_row2_col21, #T_d3a7f_row2_col22, #T_d3a7f_row3_col0, #T_d3a7f_row3_col1, #T_d3a7f_row3_col2, #T_d3a7f_row3_col3, #T_d3a7f_row3_col4, #T_d3a7f_row3_col5, #T_d3a7f_row3_col6, #T_d3a7f_row3_col7, #T_d3a7f_row3_col8, #T_d3a7f_row3_col9, #T_d3a7f_row3_col10, #T_d3a7f_row3_col11, #T_d3a7f_row3_col12, #T_d3a7f_row3_col13, #T_d3a7f_row3_col14, #T_d3a7f_row3_col15, #T_d3a7f_row3_col16, #T_d3a7f_row3_col17, #T_d3a7f_row3_col18, #T_d3a7f_row3_col19, #T_d3a7f_row3_col20, #T_d3a7f_row3_col21, #T_d3a7f_row3_col22, #T_d3a7f_row4_col0, #T_d3a7f_row4_col1, #T_d3a7f_row4_col2, #T_d3a7f_row4_col3, #T_d3a7f_row4_col4, #T_d3a7f_row4_col5, #T_d3a7f_row4_col6, #T_d3a7f_row4_col7, #T_d3a7f_row4_col8, #T_d3a7f_row4_col9, #T_d3a7f_row4_col10, #T_d3a7f_row4_col11, #T_d3a7f_row4_col12, #T_d3a7f_row4_col13, #T_d3a7f_row4_col14, #T_d3a7f_row4_col15, #T_d3a7f_row4_col16, #T_d3a7f_row4_col17, #T_d3a7f_row4_col18, #T_d3a7f_row4_col19, #T_d3a7f_row4_col20, #T_d3a7f_row4_col21, #T_d3a7f_row4_col22, #T_d3a7f_row5_col0, #T_d3a7f_row5_col1, #T_d3a7f_row5_col2, #T_d3a7f_row5_col3, #T_d3a7f_row5_col4, #T_d3a7f_row5_col5, #T_d3a7f_row5_col6, #T_d3a7f_row5_col7, #T_d3a7f_row5_col8, #T_d3a7f_row5_col9, #T_d3a7f_row5_col10, #T_d3a7f_row5_col22, #T_d3a7f_row6_col0, #T_d3a7f_row6_col1, #T_d3a7f_row6_col2, #T_d3a7f_row6_col3, #T_d3a7f_row6_col4, #T_d3a7f_row6_col5, #T_d3a7f_row6_col6, #T_d3a7f_row6_col7, #T_d3a7f_row6_col8, #T_d3a7f_row7_col0, #T_d3a7f_row7_col1, #T_d3a7f_row7_col2, #T_d3a7f_row7_col3, #T_d3a7f_row7_col4, #T_d3a7f_row7_col5, #T_d3a7f_row7_col6, #T_d3a7f_row7_col7, #T_d3a7f_row7_col8, #T_d3a7f_row8_col0, #T_d3a7f_row8_col1, #T_d3a7f_row8_col2, #T_d3a7f_row8_col3, #T_d3a7f_row8_col4, #T_d3a7f_row8_col5, #T_d3a7f_row8_col6, #T_d3a7f_row8_col7, #T_d3a7f_row8_col8, #T_d3a7f_row9_col0, #T_d3a7f_row9_col1, #T_d3a7f_row9_col2, #T_d3a7f_row9_col3, #T_d3a7f_row9_col4, #T_d3a7f_row9_col5, #T_d3a7f_row9_col6, #T_d3a7f_row9_col7, #T_d3a7f_row9_col8, #T_d3a7f_row9_col13, #T_d3a7f_row9_col14, #T_d3a7f_row9_col15, #T_d3a7f_row9_col16, #T_d3a7f_row10_col0, #T_d3a7f_row10_col1, #T_d3a7f_row10_col2, #T_d3a7f_row10_col3, #T_d3a7f_row10_col4, #T_d3a7f_row10_col5, #T_d3a7f_row10_col6, #T_d3a7f_row10_col7, #T_d3a7f_row10_col8, #T_d3a7f_row10_col9, #T_d3a7f_row10_col10, #T_d3a7f_row10_col11, #T_d3a7f_row10_col12, #T_d3a7f_row10_col13, #T_d3a7f_row10_col14, #T_d3a7f_row10_col15, #T_d3a7f_row10_col16, #T_d3a7f_row10_col22, #T_d3a7f_row11_col0, #T_d3a7f_row11_col1, #T_d3a7f_row11_col2, #T_d3a7f_row11_col3, #T_d3a7f_row11_col4, #T_d3a7f_row11_col5, #T_d3a7f_row11_col6, #T_d3a7f_row11_col7, #T_d3a7f_row11_col8, #T_d3a7f_row11_col9, #T_d3a7f_row11_col10, #T_d3a7f_row11_col11, #T_d3a7f_row11_col12, #T_d3a7f_row11_col13, #T_d3a7f_row11_col14, #T_d3a7f_row11_col15, #T_d3a7f_row11_col22, #T_d3a7f_row12_col0, #T_d3a7f_row12_col1, #T_d3a7f_row12_col2, #T_d3a7f_row12_col3, #T_d3a7f_row12_col4, #T_d3a7f_row12_col5, #T_d3a7f_row12_col6, #T_d3a7f_row12_col7, #T_d3a7f_row12_col8, #T_d3a7f_row12_col9, #T_d3a7f_row12_col10, #T_d3a7f_row12_col11, #T_d3a7f_row12_col12, #T_d3a7f_row12_col13, #T_d3a7f_row12_col22 {\n",
       "  font-size: 9pt;\n",
       "  background-color: #000000;\n",
       "  color: #f1f1f1;\n",
       "}\n",
       "#T_d3a7f_row5_col11 {\n",
       "  font-size: 9pt;\n",
       "  background-color: #262626;\n",
       "  color: #f1f1f1;\n",
       "}\n",
       "#T_d3a7f_row5_col12 {\n",
       "  font-size: 9pt;\n",
       "  background-color: #2b2b2b;\n",
       "  color: #f1f1f1;\n",
       "}\n",
       "#T_d3a7f_row5_col13 {\n",
       "  font-size: 9pt;\n",
       "  background-color: #6a6a6a;\n",
       "  color: #f1f1f1;\n",
       "}\n",
       "#T_d3a7f_row5_col14, #T_d3a7f_row5_col15, #T_d3a7f_row5_col16, #T_d3a7f_row5_col17, #T_d3a7f_row5_col18, #T_d3a7f_row5_col19, #T_d3a7f_row6_col13, #T_d3a7f_row6_col20, #T_d3a7f_row7_col9, #T_d3a7f_row7_col10, #T_d3a7f_row7_col11, #T_d3a7f_row7_col12, #T_d3a7f_row7_col13, #T_d3a7f_row7_col20, #T_d3a7f_row7_col21, #T_d3a7f_row7_col22, #T_d3a7f_row8_col10, #T_d3a7f_row8_col11, #T_d3a7f_row8_col20, #T_d3a7f_row8_col21, #T_d3a7f_row8_col22, #T_d3a7f_row9_col20, #T_d3a7f_row10_col20, #T_d3a7f_row11_col20 {\n",
       "  font-size: 9pt;\n",
       "  background-color: #ffffff;\n",
       "  color: #000000;\n",
       "}\n",
       "#T_d3a7f_row5_col20 {\n",
       "  font-size: 9pt;\n",
       "  background-color: #b0b0b0;\n",
       "  color: #000000;\n",
       "}\n",
       "#T_d3a7f_row5_col21 {\n",
       "  font-size: 9pt;\n",
       "  background-color: #060606;\n",
       "  color: #f1f1f1;\n",
       "}\n",
       "#T_d3a7f_row6_col9 {\n",
       "  font-size: 9pt;\n",
       "  background-color: #3d3d3d;\n",
       "  color: #f1f1f1;\n",
       "}\n",
       "#T_d3a7f_row6_col10 {\n",
       "  font-size: 9pt;\n",
       "  background-color: #8d8d8d;\n",
       "  color: #f1f1f1;\n",
       "}\n",
       "#T_d3a7f_row6_col11 {\n",
       "  font-size: 9pt;\n",
       "  background-color: #e3e3e3;\n",
       "  color: #000000;\n",
       "}\n",
       "#T_d3a7f_row6_col12 {\n",
       "  font-size: 9pt;\n",
       "  background-color: #e5e5e5;\n",
       "  color: #000000;\n",
       "}\n",
       "#T_d3a7f_row6_col14, #T_d3a7f_row7_col14 {\n",
       "  font-size: 9pt;\n",
       "  background-color: #fdfdfd;\n",
       "  color: #000000;\n",
       "}\n",
       "#T_d3a7f_row6_col15, #T_d3a7f_row6_col16, #T_d3a7f_row6_col17, #T_d3a7f_row6_col18, #T_d3a7f_row6_col19, #T_d3a7f_row7_col15, #T_d3a7f_row7_col16, #T_d3a7f_row7_col17, #T_d3a7f_row7_col18, #T_d3a7f_row7_col19, #T_d3a7f_row8_col18, #T_d3a7f_row8_col19, #T_d3a7f_row9_col19, #T_d3a7f_row10_col19, #T_d3a7f_row11_col18, #T_d3a7f_row11_col19, #T_d3a7f_row12_col17, #T_d3a7f_row12_col18, #T_d3a7f_row12_col19 {\n",
       "  font-size: 9pt;\n",
       "  background-color: #fefefe;\n",
       "  color: #000000;\n",
       "}\n",
       "#T_d3a7f_row6_col21 {\n",
       "  font-size: 9pt;\n",
       "  background-color: #a0a0a0;\n",
       "  color: #f1f1f1;\n",
       "}\n",
       "#T_d3a7f_row6_col22 {\n",
       "  font-size: 9pt;\n",
       "  background-color: #3c3c3c;\n",
       "  color: #f1f1f1;\n",
       "}\n",
       "#T_d3a7f_row8_col9 {\n",
       "  font-size: 9pt;\n",
       "  background-color: #9c9c9c;\n",
       "  color: #f1f1f1;\n",
       "}\n",
       "#T_d3a7f_row8_col12 {\n",
       "  font-size: 9pt;\n",
       "  background-color: #e9e9e9;\n",
       "  color: #000000;\n",
       "}\n",
       "#T_d3a7f_row8_col13 {\n",
       "  font-size: 9pt;\n",
       "  background-color: #868686;\n",
       "  color: #f1f1f1;\n",
       "}\n",
       "#T_d3a7f_row8_col14, #T_d3a7f_row8_col15, #T_d3a7f_row8_col16 {\n",
       "  font-size: 9pt;\n",
       "  background-color: #858585;\n",
       "  color: #f1f1f1;\n",
       "}\n",
       "#T_d3a7f_row8_col17, #T_d3a7f_row11_col17 {\n",
       "  font-size: 9pt;\n",
       "  background-color: #bfbfbf;\n",
       "  color: #000000;\n",
       "}\n",
       "#T_d3a7f_row9_col9 {\n",
       "  font-size: 9pt;\n",
       "  background-color: #050505;\n",
       "  color: #f1f1f1;\n",
       "}\n",
       "#T_d3a7f_row9_col10, #T_d3a7f_row9_col11 {\n",
       "  font-size: 9pt;\n",
       "  background-color: #1d1d1d;\n",
       "  color: #f1f1f1;\n",
       "}\n",
       "#T_d3a7f_row9_col12 {\n",
       "  font-size: 9pt;\n",
       "  background-color: #181818;\n",
       "  color: #f1f1f1;\n",
       "}\n",
       "#T_d3a7f_row9_col17, #T_d3a7f_row11_col21 {\n",
       "  font-size: 9pt;\n",
       "  background-color: #0e0e0e;\n",
       "  color: #f1f1f1;\n",
       "}\n",
       "#T_d3a7f_row9_col18 {\n",
       "  font-size: 9pt;\n",
       "  background-color: #e4e4e4;\n",
       "  color: #000000;\n",
       "}\n",
       "#T_d3a7f_row9_col21 {\n",
       "  font-size: 9pt;\n",
       "  background-color: #aeaeae;\n",
       "  color: #000000;\n",
       "}\n",
       "#T_d3a7f_row9_col22 {\n",
       "  font-size: 9pt;\n",
       "  background-color: #1e1e1e;\n",
       "  color: #f1f1f1;\n",
       "}\n",
       "#T_d3a7f_row10_col17 {\n",
       "  font-size: 9pt;\n",
       "  background-color: #565656;\n",
       "  color: #f1f1f1;\n",
       "}\n",
       "#T_d3a7f_row10_col18 {\n",
       "  font-size: 9pt;\n",
       "  background-color: #f5f5f5;\n",
       "  color: #000000;\n",
       "}\n",
       "#T_d3a7f_row10_col21 {\n",
       "  font-size: 9pt;\n",
       "  background-color: #929292;\n",
       "  color: #f1f1f1;\n",
       "}\n",
       "#T_d3a7f_row11_col16 {\n",
       "  font-size: 9pt;\n",
       "  background-color: #595959;\n",
       "  color: #f1f1f1;\n",
       "}\n",
       "#T_d3a7f_row12_col14 {\n",
       "  font-size: 9pt;\n",
       "  background-color: #5b5b5b;\n",
       "  color: #f1f1f1;\n",
       "}\n",
       "#T_d3a7f_row12_col15 {\n",
       "  font-size: 9pt;\n",
       "  background-color: #d6d6d6;\n",
       "  color: #000000;\n",
       "}\n",
       "#T_d3a7f_row12_col16 {\n",
       "  font-size: 9pt;\n",
       "  background-color: #f9f9f9;\n",
       "  color: #000000;\n",
       "}\n",
       "#T_d3a7f_row12_col20 {\n",
       "  font-size: 9pt;\n",
       "  background-color: #cfcfcf;\n",
       "  color: #000000;\n",
       "}\n",
       "#T_d3a7f_row12_col21 {\n",
       "  font-size: 9pt;\n",
       "  background-color: #090909;\n",
       "  color: #f1f1f1;\n",
       "}\n",
       "</style>\n",
       "<table id=\"T_d3a7f\">\n",
       "  <thead>\n",
       "    <tr>\n",
       "      <th class=\"blank level0\" >&nbsp;</th>\n",
       "      <th id=\"T_d3a7f_level0_col0\" class=\"col_heading level0 col0\" >0</th>\n",
       "      <th id=\"T_d3a7f_level0_col1\" class=\"col_heading level0 col1\" >1</th>\n",
       "      <th id=\"T_d3a7f_level0_col2\" class=\"col_heading level0 col2\" >2</th>\n",
       "      <th id=\"T_d3a7f_level0_col3\" class=\"col_heading level0 col3\" >3</th>\n",
       "      <th id=\"T_d3a7f_level0_col4\" class=\"col_heading level0 col4\" >4</th>\n",
       "      <th id=\"T_d3a7f_level0_col5\" class=\"col_heading level0 col5\" >5</th>\n",
       "      <th id=\"T_d3a7f_level0_col6\" class=\"col_heading level0 col6\" >6</th>\n",
       "      <th id=\"T_d3a7f_level0_col7\" class=\"col_heading level0 col7\" >7</th>\n",
       "      <th id=\"T_d3a7f_level0_col8\" class=\"col_heading level0 col8\" >8</th>\n",
       "      <th id=\"T_d3a7f_level0_col9\" class=\"col_heading level0 col9\" >9</th>\n",
       "      <th id=\"T_d3a7f_level0_col10\" class=\"col_heading level0 col10\" >10</th>\n",
       "      <th id=\"T_d3a7f_level0_col11\" class=\"col_heading level0 col11\" >11</th>\n",
       "      <th id=\"T_d3a7f_level0_col12\" class=\"col_heading level0 col12\" >12</th>\n",
       "      <th id=\"T_d3a7f_level0_col13\" class=\"col_heading level0 col13\" >13</th>\n",
       "      <th id=\"T_d3a7f_level0_col14\" class=\"col_heading level0 col14\" >14</th>\n",
       "      <th id=\"T_d3a7f_level0_col15\" class=\"col_heading level0 col15\" >15</th>\n",
       "      <th id=\"T_d3a7f_level0_col16\" class=\"col_heading level0 col16\" >16</th>\n",
       "      <th id=\"T_d3a7f_level0_col17\" class=\"col_heading level0 col17\" >17</th>\n",
       "      <th id=\"T_d3a7f_level0_col18\" class=\"col_heading level0 col18\" >18</th>\n",
       "      <th id=\"T_d3a7f_level0_col19\" class=\"col_heading level0 col19\" >19</th>\n",
       "      <th id=\"T_d3a7f_level0_col20\" class=\"col_heading level0 col20\" >20</th>\n",
       "      <th id=\"T_d3a7f_level0_col21\" class=\"col_heading level0 col21\" >21</th>\n",
       "      <th id=\"T_d3a7f_level0_col22\" class=\"col_heading level0 col22\" >22</th>\n",
       "    </tr>\n",
       "  </thead>\n",
       "  <tbody>\n",
       "    <tr>\n",
       "      <th id=\"T_d3a7f_level0_row0\" class=\"row_heading level0 row0\" >0</th>\n",
       "      <td id=\"T_d3a7f_row0_col0\" class=\"data row0 col0\" >0.00</td>\n",
       "      <td id=\"T_d3a7f_row0_col1\" class=\"data row0 col1\" >0.00</td>\n",
       "      <td id=\"T_d3a7f_row0_col2\" class=\"data row0 col2\" >0.00</td>\n",
       "      <td id=\"T_d3a7f_row0_col3\" class=\"data row0 col3\" >0.00</td>\n",
       "      <td id=\"T_d3a7f_row0_col4\" class=\"data row0 col4\" >0.00</td>\n",
       "      <td id=\"T_d3a7f_row0_col5\" class=\"data row0 col5\" >0.00</td>\n",
       "      <td id=\"T_d3a7f_row0_col6\" class=\"data row0 col6\" >0.00</td>\n",
       "      <td id=\"T_d3a7f_row0_col7\" class=\"data row0 col7\" >0.00</td>\n",
       "      <td id=\"T_d3a7f_row0_col8\" class=\"data row0 col8\" >0.00</td>\n",
       "      <td id=\"T_d3a7f_row0_col9\" class=\"data row0 col9\" >0.00</td>\n",
       "      <td id=\"T_d3a7f_row0_col10\" class=\"data row0 col10\" >0.00</td>\n",
       "      <td id=\"T_d3a7f_row0_col11\" class=\"data row0 col11\" >0.00</td>\n",
       "      <td id=\"T_d3a7f_row0_col12\" class=\"data row0 col12\" >0.00</td>\n",
       "      <td id=\"T_d3a7f_row0_col13\" class=\"data row0 col13\" >0.00</td>\n",
       "      <td id=\"T_d3a7f_row0_col14\" class=\"data row0 col14\" >0.00</td>\n",
       "      <td id=\"T_d3a7f_row0_col15\" class=\"data row0 col15\" >0.00</td>\n",
       "      <td id=\"T_d3a7f_row0_col16\" class=\"data row0 col16\" >0.00</td>\n",
       "      <td id=\"T_d3a7f_row0_col17\" class=\"data row0 col17\" >0.00</td>\n",
       "      <td id=\"T_d3a7f_row0_col18\" class=\"data row0 col18\" >0.00</td>\n",
       "      <td id=\"T_d3a7f_row0_col19\" class=\"data row0 col19\" >0.00</td>\n",
       "      <td id=\"T_d3a7f_row0_col20\" class=\"data row0 col20\" >0.00</td>\n",
       "      <td id=\"T_d3a7f_row0_col21\" class=\"data row0 col21\" >0.00</td>\n",
       "      <td id=\"T_d3a7f_row0_col22\" class=\"data row0 col22\" >0.00</td>\n",
       "    </tr>\n",
       "    <tr>\n",
       "      <th id=\"T_d3a7f_level0_row1\" class=\"row_heading level0 row1\" >1</th>\n",
       "      <td id=\"T_d3a7f_row1_col0\" class=\"data row1 col0\" >0.00</td>\n",
       "      <td id=\"T_d3a7f_row1_col1\" class=\"data row1 col1\" >0.00</td>\n",
       "      <td id=\"T_d3a7f_row1_col2\" class=\"data row1 col2\" >0.00</td>\n",
       "      <td id=\"T_d3a7f_row1_col3\" class=\"data row1 col3\" >0.00</td>\n",
       "      <td id=\"T_d3a7f_row1_col4\" class=\"data row1 col4\" >0.00</td>\n",
       "      <td id=\"T_d3a7f_row1_col5\" class=\"data row1 col5\" >0.00</td>\n",
       "      <td id=\"T_d3a7f_row1_col6\" class=\"data row1 col6\" >0.00</td>\n",
       "      <td id=\"T_d3a7f_row1_col7\" class=\"data row1 col7\" >0.00</td>\n",
       "      <td id=\"T_d3a7f_row1_col8\" class=\"data row1 col8\" >0.00</td>\n",
       "      <td id=\"T_d3a7f_row1_col9\" class=\"data row1 col9\" >0.00</td>\n",
       "      <td id=\"T_d3a7f_row1_col10\" class=\"data row1 col10\" >0.00</td>\n",
       "      <td id=\"T_d3a7f_row1_col11\" class=\"data row1 col11\" >0.00</td>\n",
       "      <td id=\"T_d3a7f_row1_col12\" class=\"data row1 col12\" >0.00</td>\n",
       "      <td id=\"T_d3a7f_row1_col13\" class=\"data row1 col13\" >0.00</td>\n",
       "      <td id=\"T_d3a7f_row1_col14\" class=\"data row1 col14\" >0.00</td>\n",
       "      <td id=\"T_d3a7f_row1_col15\" class=\"data row1 col15\" >0.00</td>\n",
       "      <td id=\"T_d3a7f_row1_col16\" class=\"data row1 col16\" >0.00</td>\n",
       "      <td id=\"T_d3a7f_row1_col17\" class=\"data row1 col17\" >0.00</td>\n",
       "      <td id=\"T_d3a7f_row1_col18\" class=\"data row1 col18\" >0.00</td>\n",
       "      <td id=\"T_d3a7f_row1_col19\" class=\"data row1 col19\" >0.00</td>\n",
       "      <td id=\"T_d3a7f_row1_col20\" class=\"data row1 col20\" >0.00</td>\n",
       "      <td id=\"T_d3a7f_row1_col21\" class=\"data row1 col21\" >0.00</td>\n",
       "      <td id=\"T_d3a7f_row1_col22\" class=\"data row1 col22\" >0.00</td>\n",
       "    </tr>\n",
       "    <tr>\n",
       "      <th id=\"T_d3a7f_level0_row2\" class=\"row_heading level0 row2\" >2</th>\n",
       "      <td id=\"T_d3a7f_row2_col0\" class=\"data row2 col0\" >0.00</td>\n",
       "      <td id=\"T_d3a7f_row2_col1\" class=\"data row2 col1\" >0.00</td>\n",
       "      <td id=\"T_d3a7f_row2_col2\" class=\"data row2 col2\" >0.00</td>\n",
       "      <td id=\"T_d3a7f_row2_col3\" class=\"data row2 col3\" >0.00</td>\n",
       "      <td id=\"T_d3a7f_row2_col4\" class=\"data row2 col4\" >0.00</td>\n",
       "      <td id=\"T_d3a7f_row2_col5\" class=\"data row2 col5\" >0.00</td>\n",
       "      <td id=\"T_d3a7f_row2_col6\" class=\"data row2 col6\" >0.00</td>\n",
       "      <td id=\"T_d3a7f_row2_col7\" class=\"data row2 col7\" >0.00</td>\n",
       "      <td id=\"T_d3a7f_row2_col8\" class=\"data row2 col8\" >0.00</td>\n",
       "      <td id=\"T_d3a7f_row2_col9\" class=\"data row2 col9\" >0.00</td>\n",
       "      <td id=\"T_d3a7f_row2_col10\" class=\"data row2 col10\" >0.00</td>\n",
       "      <td id=\"T_d3a7f_row2_col11\" class=\"data row2 col11\" >0.00</td>\n",
       "      <td id=\"T_d3a7f_row2_col12\" class=\"data row2 col12\" >0.00</td>\n",
       "      <td id=\"T_d3a7f_row2_col13\" class=\"data row2 col13\" >0.00</td>\n",
       "      <td id=\"T_d3a7f_row2_col14\" class=\"data row2 col14\" >0.00</td>\n",
       "      <td id=\"T_d3a7f_row2_col15\" class=\"data row2 col15\" >0.00</td>\n",
       "      <td id=\"T_d3a7f_row2_col16\" class=\"data row2 col16\" >0.00</td>\n",
       "      <td id=\"T_d3a7f_row2_col17\" class=\"data row2 col17\" >0.00</td>\n",
       "      <td id=\"T_d3a7f_row2_col18\" class=\"data row2 col18\" >0.00</td>\n",
       "      <td id=\"T_d3a7f_row2_col19\" class=\"data row2 col19\" >0.00</td>\n",
       "      <td id=\"T_d3a7f_row2_col20\" class=\"data row2 col20\" >0.00</td>\n",
       "      <td id=\"T_d3a7f_row2_col21\" class=\"data row2 col21\" >0.00</td>\n",
       "      <td id=\"T_d3a7f_row2_col22\" class=\"data row2 col22\" >0.00</td>\n",
       "    </tr>\n",
       "    <tr>\n",
       "      <th id=\"T_d3a7f_level0_row3\" class=\"row_heading level0 row3\" >3</th>\n",
       "      <td id=\"T_d3a7f_row3_col0\" class=\"data row3 col0\" >0.00</td>\n",
       "      <td id=\"T_d3a7f_row3_col1\" class=\"data row3 col1\" >0.00</td>\n",
       "      <td id=\"T_d3a7f_row3_col2\" class=\"data row3 col2\" >0.00</td>\n",
       "      <td id=\"T_d3a7f_row3_col3\" class=\"data row3 col3\" >0.00</td>\n",
       "      <td id=\"T_d3a7f_row3_col4\" class=\"data row3 col4\" >0.00</td>\n",
       "      <td id=\"T_d3a7f_row3_col5\" class=\"data row3 col5\" >0.00</td>\n",
       "      <td id=\"T_d3a7f_row3_col6\" class=\"data row3 col6\" >0.00</td>\n",
       "      <td id=\"T_d3a7f_row3_col7\" class=\"data row3 col7\" >0.00</td>\n",
       "      <td id=\"T_d3a7f_row3_col8\" class=\"data row3 col8\" >0.00</td>\n",
       "      <td id=\"T_d3a7f_row3_col9\" class=\"data row3 col9\" >0.00</td>\n",
       "      <td id=\"T_d3a7f_row3_col10\" class=\"data row3 col10\" >0.00</td>\n",
       "      <td id=\"T_d3a7f_row3_col11\" class=\"data row3 col11\" >0.00</td>\n",
       "      <td id=\"T_d3a7f_row3_col12\" class=\"data row3 col12\" >0.00</td>\n",
       "      <td id=\"T_d3a7f_row3_col13\" class=\"data row3 col13\" >0.00</td>\n",
       "      <td id=\"T_d3a7f_row3_col14\" class=\"data row3 col14\" >0.00</td>\n",
       "      <td id=\"T_d3a7f_row3_col15\" class=\"data row3 col15\" >0.00</td>\n",
       "      <td id=\"T_d3a7f_row3_col16\" class=\"data row3 col16\" >0.00</td>\n",
       "      <td id=\"T_d3a7f_row3_col17\" class=\"data row3 col17\" >0.00</td>\n",
       "      <td id=\"T_d3a7f_row3_col18\" class=\"data row3 col18\" >0.00</td>\n",
       "      <td id=\"T_d3a7f_row3_col19\" class=\"data row3 col19\" >0.00</td>\n",
       "      <td id=\"T_d3a7f_row3_col20\" class=\"data row3 col20\" >0.00</td>\n",
       "      <td id=\"T_d3a7f_row3_col21\" class=\"data row3 col21\" >0.00</td>\n",
       "      <td id=\"T_d3a7f_row3_col22\" class=\"data row3 col22\" >0.00</td>\n",
       "    </tr>\n",
       "    <tr>\n",
       "      <th id=\"T_d3a7f_level0_row4\" class=\"row_heading level0 row4\" >4</th>\n",
       "      <td id=\"T_d3a7f_row4_col0\" class=\"data row4 col0\" >0.00</td>\n",
       "      <td id=\"T_d3a7f_row4_col1\" class=\"data row4 col1\" >0.00</td>\n",
       "      <td id=\"T_d3a7f_row4_col2\" class=\"data row4 col2\" >0.00</td>\n",
       "      <td id=\"T_d3a7f_row4_col3\" class=\"data row4 col3\" >0.00</td>\n",
       "      <td id=\"T_d3a7f_row4_col4\" class=\"data row4 col4\" >0.00</td>\n",
       "      <td id=\"T_d3a7f_row4_col5\" class=\"data row4 col5\" >0.00</td>\n",
       "      <td id=\"T_d3a7f_row4_col6\" class=\"data row4 col6\" >0.00</td>\n",
       "      <td id=\"T_d3a7f_row4_col7\" class=\"data row4 col7\" >0.00</td>\n",
       "      <td id=\"T_d3a7f_row4_col8\" class=\"data row4 col8\" >0.00</td>\n",
       "      <td id=\"T_d3a7f_row4_col9\" class=\"data row4 col9\" >0.00</td>\n",
       "      <td id=\"T_d3a7f_row4_col10\" class=\"data row4 col10\" >0.00</td>\n",
       "      <td id=\"T_d3a7f_row4_col11\" class=\"data row4 col11\" >0.00</td>\n",
       "      <td id=\"T_d3a7f_row4_col12\" class=\"data row4 col12\" >0.00</td>\n",
       "      <td id=\"T_d3a7f_row4_col13\" class=\"data row4 col13\" >0.00</td>\n",
       "      <td id=\"T_d3a7f_row4_col14\" class=\"data row4 col14\" >0.00</td>\n",
       "      <td id=\"T_d3a7f_row4_col15\" class=\"data row4 col15\" >0.00</td>\n",
       "      <td id=\"T_d3a7f_row4_col16\" class=\"data row4 col16\" >0.00</td>\n",
       "      <td id=\"T_d3a7f_row4_col17\" class=\"data row4 col17\" >0.00</td>\n",
       "      <td id=\"T_d3a7f_row4_col18\" class=\"data row4 col18\" >0.00</td>\n",
       "      <td id=\"T_d3a7f_row4_col19\" class=\"data row4 col19\" >0.00</td>\n",
       "      <td id=\"T_d3a7f_row4_col20\" class=\"data row4 col20\" >0.00</td>\n",
       "      <td id=\"T_d3a7f_row4_col21\" class=\"data row4 col21\" >0.00</td>\n",
       "      <td id=\"T_d3a7f_row4_col22\" class=\"data row4 col22\" >0.00</td>\n",
       "    </tr>\n",
       "    <tr>\n",
       "      <th id=\"T_d3a7f_level0_row5\" class=\"row_heading level0 row5\" >5</th>\n",
       "      <td id=\"T_d3a7f_row5_col0\" class=\"data row5 col0\" >0.00</td>\n",
       "      <td id=\"T_d3a7f_row5_col1\" class=\"data row5 col1\" >0.00</td>\n",
       "      <td id=\"T_d3a7f_row5_col2\" class=\"data row5 col2\" >0.00</td>\n",
       "      <td id=\"T_d3a7f_row5_col3\" class=\"data row5 col3\" >0.00</td>\n",
       "      <td id=\"T_d3a7f_row5_col4\" class=\"data row5 col4\" >0.00</td>\n",
       "      <td id=\"T_d3a7f_row5_col5\" class=\"data row5 col5\" >0.00</td>\n",
       "      <td id=\"T_d3a7f_row5_col6\" class=\"data row5 col6\" >0.00</td>\n",
       "      <td id=\"T_d3a7f_row5_col7\" class=\"data row5 col7\" >0.00</td>\n",
       "      <td id=\"T_d3a7f_row5_col8\" class=\"data row5 col8\" >0.00</td>\n",
       "      <td id=\"T_d3a7f_row5_col9\" class=\"data row5 col9\" >0.00</td>\n",
       "      <td id=\"T_d3a7f_row5_col10\" class=\"data row5 col10\" >0.00</td>\n",
       "      <td id=\"T_d3a7f_row5_col11\" class=\"data row5 col11\" >0.15</td>\n",
       "      <td id=\"T_d3a7f_row5_col12\" class=\"data row5 col12\" >0.17</td>\n",
       "      <td id=\"T_d3a7f_row5_col13\" class=\"data row5 col13\" >0.41</td>\n",
       "      <td id=\"T_d3a7f_row5_col14\" class=\"data row5 col14\" >1.00</td>\n",
       "      <td id=\"T_d3a7f_row5_col15\" class=\"data row5 col15\" >0.99</td>\n",
       "      <td id=\"T_d3a7f_row5_col16\" class=\"data row5 col16\" >0.99</td>\n",
       "      <td id=\"T_d3a7f_row5_col17\" class=\"data row5 col17\" >0.99</td>\n",
       "      <td id=\"T_d3a7f_row5_col18\" class=\"data row5 col18\" >0.99</td>\n",
       "      <td id=\"T_d3a7f_row5_col19\" class=\"data row5 col19\" >0.99</td>\n",
       "      <td id=\"T_d3a7f_row5_col20\" class=\"data row5 col20\" >0.68</td>\n",
       "      <td id=\"T_d3a7f_row5_col21\" class=\"data row5 col21\" >0.02</td>\n",
       "      <td id=\"T_d3a7f_row5_col22\" class=\"data row5 col22\" >0.00</td>\n",
       "    </tr>\n",
       "    <tr>\n",
       "      <th id=\"T_d3a7f_level0_row6\" class=\"row_heading level0 row6\" >6</th>\n",
       "      <td id=\"T_d3a7f_row6_col0\" class=\"data row6 col0\" >0.00</td>\n",
       "      <td id=\"T_d3a7f_row6_col1\" class=\"data row6 col1\" >0.00</td>\n",
       "      <td id=\"T_d3a7f_row6_col2\" class=\"data row6 col2\" >0.00</td>\n",
       "      <td id=\"T_d3a7f_row6_col3\" class=\"data row6 col3\" >0.00</td>\n",
       "      <td id=\"T_d3a7f_row6_col4\" class=\"data row6 col4\" >0.00</td>\n",
       "      <td id=\"T_d3a7f_row6_col5\" class=\"data row6 col5\" >0.00</td>\n",
       "      <td id=\"T_d3a7f_row6_col6\" class=\"data row6 col6\" >0.00</td>\n",
       "      <td id=\"T_d3a7f_row6_col7\" class=\"data row6 col7\" >0.00</td>\n",
       "      <td id=\"T_d3a7f_row6_col8\" class=\"data row6 col8\" >0.00</td>\n",
       "      <td id=\"T_d3a7f_row6_col9\" class=\"data row6 col9\" >0.17</td>\n",
       "      <td id=\"T_d3a7f_row6_col10\" class=\"data row6 col10\" >0.54</td>\n",
       "      <td id=\"T_d3a7f_row6_col11\" class=\"data row6 col11\" >0.88</td>\n",
       "      <td id=\"T_d3a7f_row6_col12\" class=\"data row6 col12\" >0.88</td>\n",
       "      <td id=\"T_d3a7f_row6_col13\" class=\"data row6 col13\" >0.98</td>\n",
       "      <td id=\"T_d3a7f_row6_col14\" class=\"data row6 col14\" >0.99</td>\n",
       "      <td id=\"T_d3a7f_row6_col15\" class=\"data row6 col15\" >0.98</td>\n",
       "      <td id=\"T_d3a7f_row6_col16\" class=\"data row6 col16\" >0.98</td>\n",
       "      <td id=\"T_d3a7f_row6_col17\" class=\"data row6 col17\" >0.98</td>\n",
       "      <td id=\"T_d3a7f_row6_col18\" class=\"data row6 col18\" >0.98</td>\n",
       "      <td id=\"T_d3a7f_row6_col19\" class=\"data row6 col19\" >0.98</td>\n",
       "      <td id=\"T_d3a7f_row6_col20\" class=\"data row6 col20\" >0.98</td>\n",
       "      <td id=\"T_d3a7f_row6_col21\" class=\"data row6 col21\" >0.62</td>\n",
       "      <td id=\"T_d3a7f_row6_col22\" class=\"data row6 col22\" >0.05</td>\n",
       "    </tr>\n",
       "    <tr>\n",
       "      <th id=\"T_d3a7f_level0_row7\" class=\"row_heading level0 row7\" >7</th>\n",
       "      <td id=\"T_d3a7f_row7_col0\" class=\"data row7 col0\" >0.00</td>\n",
       "      <td id=\"T_d3a7f_row7_col1\" class=\"data row7 col1\" >0.00</td>\n",
       "      <td id=\"T_d3a7f_row7_col2\" class=\"data row7 col2\" >0.00</td>\n",
       "      <td id=\"T_d3a7f_row7_col3\" class=\"data row7 col3\" >0.00</td>\n",
       "      <td id=\"T_d3a7f_row7_col4\" class=\"data row7 col4\" >0.00</td>\n",
       "      <td id=\"T_d3a7f_row7_col5\" class=\"data row7 col5\" >0.00</td>\n",
       "      <td id=\"T_d3a7f_row7_col6\" class=\"data row7 col6\" >0.00</td>\n",
       "      <td id=\"T_d3a7f_row7_col7\" class=\"data row7 col7\" >0.00</td>\n",
       "      <td id=\"T_d3a7f_row7_col8\" class=\"data row7 col8\" >0.00</td>\n",
       "      <td id=\"T_d3a7f_row7_col9\" class=\"data row7 col9\" >0.70</td>\n",
       "      <td id=\"T_d3a7f_row7_col10\" class=\"data row7 col10\" >0.98</td>\n",
       "      <td id=\"T_d3a7f_row7_col11\" class=\"data row7 col11\" >0.98</td>\n",
       "      <td id=\"T_d3a7f_row7_col12\" class=\"data row7 col12\" >0.98</td>\n",
       "      <td id=\"T_d3a7f_row7_col13\" class=\"data row7 col13\" >0.98</td>\n",
       "      <td id=\"T_d3a7f_row7_col14\" class=\"data row7 col14\" >0.99</td>\n",
       "      <td id=\"T_d3a7f_row7_col15\" class=\"data row7 col15\" >0.98</td>\n",
       "      <td id=\"T_d3a7f_row7_col16\" class=\"data row7 col16\" >0.98</td>\n",
       "      <td id=\"T_d3a7f_row7_col17\" class=\"data row7 col17\" >0.98</td>\n",
       "      <td id=\"T_d3a7f_row7_col18\" class=\"data row7 col18\" >0.98</td>\n",
       "      <td id=\"T_d3a7f_row7_col19\" class=\"data row7 col19\" >0.98</td>\n",
       "      <td id=\"T_d3a7f_row7_col20\" class=\"data row7 col20\" >0.98</td>\n",
       "      <td id=\"T_d3a7f_row7_col21\" class=\"data row7 col21\" >0.98</td>\n",
       "      <td id=\"T_d3a7f_row7_col22\" class=\"data row7 col22\" >0.23</td>\n",
       "    </tr>\n",
       "    <tr>\n",
       "      <th id=\"T_d3a7f_level0_row8\" class=\"row_heading level0 row8\" >8</th>\n",
       "      <td id=\"T_d3a7f_row8_col0\" class=\"data row8 col0\" >0.00</td>\n",
       "      <td id=\"T_d3a7f_row8_col1\" class=\"data row8 col1\" >0.00</td>\n",
       "      <td id=\"T_d3a7f_row8_col2\" class=\"data row8 col2\" >0.00</td>\n",
       "      <td id=\"T_d3a7f_row8_col3\" class=\"data row8 col3\" >0.00</td>\n",
       "      <td id=\"T_d3a7f_row8_col4\" class=\"data row8 col4\" >0.00</td>\n",
       "      <td id=\"T_d3a7f_row8_col5\" class=\"data row8 col5\" >0.00</td>\n",
       "      <td id=\"T_d3a7f_row8_col6\" class=\"data row8 col6\" >0.00</td>\n",
       "      <td id=\"T_d3a7f_row8_col7\" class=\"data row8 col7\" >0.00</td>\n",
       "      <td id=\"T_d3a7f_row8_col8\" class=\"data row8 col8\" >0.00</td>\n",
       "      <td id=\"T_d3a7f_row8_col9\" class=\"data row8 col9\" >0.43</td>\n",
       "      <td id=\"T_d3a7f_row8_col10\" class=\"data row8 col10\" >0.98</td>\n",
       "      <td id=\"T_d3a7f_row8_col11\" class=\"data row8 col11\" >0.98</td>\n",
       "      <td id=\"T_d3a7f_row8_col12\" class=\"data row8 col12\" >0.90</td>\n",
       "      <td id=\"T_d3a7f_row8_col13\" class=\"data row8 col13\" >0.52</td>\n",
       "      <td id=\"T_d3a7f_row8_col14\" class=\"data row8 col14\" >0.52</td>\n",
       "      <td id=\"T_d3a7f_row8_col15\" class=\"data row8 col15\" >0.52</td>\n",
       "      <td id=\"T_d3a7f_row8_col16\" class=\"data row8 col16\" >0.52</td>\n",
       "      <td id=\"T_d3a7f_row8_col17\" class=\"data row8 col17\" >0.74</td>\n",
       "      <td id=\"T_d3a7f_row8_col18\" class=\"data row8 col18\" >0.98</td>\n",
       "      <td id=\"T_d3a7f_row8_col19\" class=\"data row8 col19\" >0.98</td>\n",
       "      <td id=\"T_d3a7f_row8_col20\" class=\"data row8 col20\" >0.98</td>\n",
       "      <td id=\"T_d3a7f_row8_col21\" class=\"data row8 col21\" >0.98</td>\n",
       "      <td id=\"T_d3a7f_row8_col22\" class=\"data row8 col22\" >0.23</td>\n",
       "    </tr>\n",
       "    <tr>\n",
       "      <th id=\"T_d3a7f_level0_row9\" class=\"row_heading level0 row9\" >9</th>\n",
       "      <td id=\"T_d3a7f_row9_col0\" class=\"data row9 col0\" >0.00</td>\n",
       "      <td id=\"T_d3a7f_row9_col1\" class=\"data row9 col1\" >0.00</td>\n",
       "      <td id=\"T_d3a7f_row9_col2\" class=\"data row9 col2\" >0.00</td>\n",
       "      <td id=\"T_d3a7f_row9_col3\" class=\"data row9 col3\" >0.00</td>\n",
       "      <td id=\"T_d3a7f_row9_col4\" class=\"data row9 col4\" >0.00</td>\n",
       "      <td id=\"T_d3a7f_row9_col5\" class=\"data row9 col5\" >0.00</td>\n",
       "      <td id=\"T_d3a7f_row9_col6\" class=\"data row9 col6\" >0.00</td>\n",
       "      <td id=\"T_d3a7f_row9_col7\" class=\"data row9 col7\" >0.00</td>\n",
       "      <td id=\"T_d3a7f_row9_col8\" class=\"data row9 col8\" >0.00</td>\n",
       "      <td id=\"T_d3a7f_row9_col9\" class=\"data row9 col9\" >0.02</td>\n",
       "      <td id=\"T_d3a7f_row9_col10\" class=\"data row9 col10\" >0.11</td>\n",
       "      <td id=\"T_d3a7f_row9_col11\" class=\"data row9 col11\" >0.11</td>\n",
       "      <td id=\"T_d3a7f_row9_col12\" class=\"data row9 col12\" >0.09</td>\n",
       "      <td id=\"T_d3a7f_row9_col13\" class=\"data row9 col13\" >0.00</td>\n",
       "      <td id=\"T_d3a7f_row9_col14\" class=\"data row9 col14\" >0.00</td>\n",
       "      <td id=\"T_d3a7f_row9_col15\" class=\"data row9 col15\" >0.00</td>\n",
       "      <td id=\"T_d3a7f_row9_col16\" class=\"data row9 col16\" >0.00</td>\n",
       "      <td id=\"T_d3a7f_row9_col17\" class=\"data row9 col17\" >0.05</td>\n",
       "      <td id=\"T_d3a7f_row9_col18\" class=\"data row9 col18\" >0.88</td>\n",
       "      <td id=\"T_d3a7f_row9_col19\" class=\"data row9 col19\" >0.98</td>\n",
       "      <td id=\"T_d3a7f_row9_col20\" class=\"data row9 col20\" >0.98</td>\n",
       "      <td id=\"T_d3a7f_row9_col21\" class=\"data row9 col21\" >0.67</td>\n",
       "      <td id=\"T_d3a7f_row9_col22\" class=\"data row9 col22\" >0.03</td>\n",
       "    </tr>\n",
       "    <tr>\n",
       "      <th id=\"T_d3a7f_level0_row10\" class=\"row_heading level0 row10\" >10</th>\n",
       "      <td id=\"T_d3a7f_row10_col0\" class=\"data row10 col0\" >0.00</td>\n",
       "      <td id=\"T_d3a7f_row10_col1\" class=\"data row10 col1\" >0.00</td>\n",
       "      <td id=\"T_d3a7f_row10_col2\" class=\"data row10 col2\" >0.00</td>\n",
       "      <td id=\"T_d3a7f_row10_col3\" class=\"data row10 col3\" >0.00</td>\n",
       "      <td id=\"T_d3a7f_row10_col4\" class=\"data row10 col4\" >0.00</td>\n",
       "      <td id=\"T_d3a7f_row10_col5\" class=\"data row10 col5\" >0.00</td>\n",
       "      <td id=\"T_d3a7f_row10_col6\" class=\"data row10 col6\" >0.00</td>\n",
       "      <td id=\"T_d3a7f_row10_col7\" class=\"data row10 col7\" >0.00</td>\n",
       "      <td id=\"T_d3a7f_row10_col8\" class=\"data row10 col8\" >0.00</td>\n",
       "      <td id=\"T_d3a7f_row10_col9\" class=\"data row10 col9\" >0.00</td>\n",
       "      <td id=\"T_d3a7f_row10_col10\" class=\"data row10 col10\" >0.00</td>\n",
       "      <td id=\"T_d3a7f_row10_col11\" class=\"data row10 col11\" >0.00</td>\n",
       "      <td id=\"T_d3a7f_row10_col12\" class=\"data row10 col12\" >0.00</td>\n",
       "      <td id=\"T_d3a7f_row10_col13\" class=\"data row10 col13\" >0.00</td>\n",
       "      <td id=\"T_d3a7f_row10_col14\" class=\"data row10 col14\" >0.00</td>\n",
       "      <td id=\"T_d3a7f_row10_col15\" class=\"data row10 col15\" >0.00</td>\n",
       "      <td id=\"T_d3a7f_row10_col16\" class=\"data row10 col16\" >0.00</td>\n",
       "      <td id=\"T_d3a7f_row10_col17\" class=\"data row10 col17\" >0.33</td>\n",
       "      <td id=\"T_d3a7f_row10_col18\" class=\"data row10 col18\" >0.95</td>\n",
       "      <td id=\"T_d3a7f_row10_col19\" class=\"data row10 col19\" >0.98</td>\n",
       "      <td id=\"T_d3a7f_row10_col20\" class=\"data row10 col20\" >0.98</td>\n",
       "      <td id=\"T_d3a7f_row10_col21\" class=\"data row10 col21\" >0.56</td>\n",
       "      <td id=\"T_d3a7f_row10_col22\" class=\"data row10 col22\" >0.00</td>\n",
       "    </tr>\n",
       "    <tr>\n",
       "      <th id=\"T_d3a7f_level0_row11\" class=\"row_heading level0 row11\" >11</th>\n",
       "      <td id=\"T_d3a7f_row11_col0\" class=\"data row11 col0\" >0.00</td>\n",
       "      <td id=\"T_d3a7f_row11_col1\" class=\"data row11 col1\" >0.00</td>\n",
       "      <td id=\"T_d3a7f_row11_col2\" class=\"data row11 col2\" >0.00</td>\n",
       "      <td id=\"T_d3a7f_row11_col3\" class=\"data row11 col3\" >0.00</td>\n",
       "      <td id=\"T_d3a7f_row11_col4\" class=\"data row11 col4\" >0.00</td>\n",
       "      <td id=\"T_d3a7f_row11_col5\" class=\"data row11 col5\" >0.00</td>\n",
       "      <td id=\"T_d3a7f_row11_col6\" class=\"data row11 col6\" >0.00</td>\n",
       "      <td id=\"T_d3a7f_row11_col7\" class=\"data row11 col7\" >0.00</td>\n",
       "      <td id=\"T_d3a7f_row11_col8\" class=\"data row11 col8\" >0.00</td>\n",
       "      <td id=\"T_d3a7f_row11_col9\" class=\"data row11 col9\" >0.00</td>\n",
       "      <td id=\"T_d3a7f_row11_col10\" class=\"data row11 col10\" >0.00</td>\n",
       "      <td id=\"T_d3a7f_row11_col11\" class=\"data row11 col11\" >0.00</td>\n",
       "      <td id=\"T_d3a7f_row11_col12\" class=\"data row11 col12\" >0.00</td>\n",
       "      <td id=\"T_d3a7f_row11_col13\" class=\"data row11 col13\" >0.00</td>\n",
       "      <td id=\"T_d3a7f_row11_col14\" class=\"data row11 col14\" >0.00</td>\n",
       "      <td id=\"T_d3a7f_row11_col15\" class=\"data row11 col15\" >0.00</td>\n",
       "      <td id=\"T_d3a7f_row11_col16\" class=\"data row11 col16\" >0.34</td>\n",
       "      <td id=\"T_d3a7f_row11_col17\" class=\"data row11 col17\" >0.74</td>\n",
       "      <td id=\"T_d3a7f_row11_col18\" class=\"data row11 col18\" >0.98</td>\n",
       "      <td id=\"T_d3a7f_row11_col19\" class=\"data row11 col19\" >0.98</td>\n",
       "      <td id=\"T_d3a7f_row11_col20\" class=\"data row11 col20\" >0.98</td>\n",
       "      <td id=\"T_d3a7f_row11_col21\" class=\"data row11 col21\" >0.05</td>\n",
       "      <td id=\"T_d3a7f_row11_col22\" class=\"data row11 col22\" >0.00</td>\n",
       "    </tr>\n",
       "    <tr>\n",
       "      <th id=\"T_d3a7f_level0_row12\" class=\"row_heading level0 row12\" >12</th>\n",
       "      <td id=\"T_d3a7f_row12_col0\" class=\"data row12 col0\" >0.00</td>\n",
       "      <td id=\"T_d3a7f_row12_col1\" class=\"data row12 col1\" >0.00</td>\n",
       "      <td id=\"T_d3a7f_row12_col2\" class=\"data row12 col2\" >0.00</td>\n",
       "      <td id=\"T_d3a7f_row12_col3\" class=\"data row12 col3\" >0.00</td>\n",
       "      <td id=\"T_d3a7f_row12_col4\" class=\"data row12 col4\" >0.00</td>\n",
       "      <td id=\"T_d3a7f_row12_col5\" class=\"data row12 col5\" >0.00</td>\n",
       "      <td id=\"T_d3a7f_row12_col6\" class=\"data row12 col6\" >0.00</td>\n",
       "      <td id=\"T_d3a7f_row12_col7\" class=\"data row12 col7\" >0.00</td>\n",
       "      <td id=\"T_d3a7f_row12_col8\" class=\"data row12 col8\" >0.00</td>\n",
       "      <td id=\"T_d3a7f_row12_col9\" class=\"data row12 col9\" >0.00</td>\n",
       "      <td id=\"T_d3a7f_row12_col10\" class=\"data row12 col10\" >0.00</td>\n",
       "      <td id=\"T_d3a7f_row12_col11\" class=\"data row12 col11\" >0.00</td>\n",
       "      <td id=\"T_d3a7f_row12_col12\" class=\"data row12 col12\" >0.00</td>\n",
       "      <td id=\"T_d3a7f_row12_col13\" class=\"data row12 col13\" >0.00</td>\n",
       "      <td id=\"T_d3a7f_row12_col14\" class=\"data row12 col14\" >0.36</td>\n",
       "      <td id=\"T_d3a7f_row12_col15\" class=\"data row12 col15\" >0.83</td>\n",
       "      <td id=\"T_d3a7f_row12_col16\" class=\"data row12 col16\" >0.96</td>\n",
       "      <td id=\"T_d3a7f_row12_col17\" class=\"data row12 col17\" >0.98</td>\n",
       "      <td id=\"T_d3a7f_row12_col18\" class=\"data row12 col18\" >0.98</td>\n",
       "      <td id=\"T_d3a7f_row12_col19\" class=\"data row12 col19\" >0.98</td>\n",
       "      <td id=\"T_d3a7f_row12_col20\" class=\"data row12 col20\" >0.80</td>\n",
       "      <td id=\"T_d3a7f_row12_col21\" class=\"data row12 col21\" >0.04</td>\n",
       "      <td id=\"T_d3a7f_row12_col22\" class=\"data row12 col22\" >0.00</td>\n",
       "    </tr>\n",
       "  </tbody>\n",
       "</table>\n"
      ],
      "text/plain": [
       "<pandas.io.formats.style.Styler at 0x16c1a0e90>"
      ]
     },
     "execution_count": 45,
     "metadata": {},
     "output_type": "execute_result"
    }
   ],
   "source": [
    "df = pd.DataFrame(im3[:13, :23])\n",
    "df.style.format(precision=2).set_properties(**{'font-size': '9pt'}).background_gradient('gray')"
   ]
  },
  {
   "cell_type": "markdown",
   "id": "758593b7",
   "metadata": {},
   "source": [
    "##### Top Edge Kerenl \n",
    "\n",
    "This is hand coded kernel (weight matrix), this will help to identify top edges."
   ]
  },
  {
   "cell_type": "code",
   "execution_count": 50,
   "id": "a9337c26",
   "metadata": {},
   "outputs": [
    {
     "data": {
      "text/plain": [
       "<matplotlib.image.AxesImage at 0x174d2c550>"
      ]
     },
     "execution_count": 50,
     "metadata": {},
     "output_type": "execute_result"
    },
    {
     "data": {
      "image/png": "[encoded data removed]",
      "text/plain": [
       "<Figure size 540x360 with 1 Axes>"
      ]
     },
     "metadata": {
      "needs_background": "light"
     },
     "output_type": "display_data"
    }
   ],
   "source": [
    "top_edges = torch.tensor([\n",
    "    [-1, -1, -1],\n",
    "    [0, 0, 0],\n",
    "    [1, 1, 1.],\n",
    "])\n",
    "plt.imshow(top_edges)"
   ]
  },
  {
   "cell_type": "code",
   "execution_count": 49,
   "id": "7af23caf",
   "metadata": {},
   "outputs": [
    {
     "data": {
      "text/plain": [
       "tensor(0.5664)"
      ]
     },
     "execution_count": 49,
     "metadata": {},
     "output_type": "execute_result"
    }
   ],
   "source": [
    "(im3[6:9, 10:13]*top_edges).sum()"
   ]
  },
  {
   "cell_type": "code",
   "execution_count": 62,
   "id": "b89351d1",
   "metadata": {},
   "outputs": [],
   "source": [
    "def apply_kerenl(row, col, kerenl):\n",
    "    return (im3[row-1:row+2, col-1:col+2]*kerenl).sum()"
   ]
  },
  {
   "cell_type": "code",
   "execution_count": 63,
   "id": "d18d3fad",
   "metadata": {},
   "outputs": [
    {
     "data": {
      "text/plain": [
       "tensor(0.5664)"
      ]
     },
     "execution_count": 63,
     "metadata": {},
     "output_type": "execute_result"
    }
   ],
   "source": [
    "apply_kerenl(7, 11, top_edges)"
   ]
  },
  {
   "cell_type": "code",
   "execution_count": 64,
   "id": "e052d5b5",
   "metadata": {},
   "outputs": [],
   "source": [
    "rng = range(1,27)\n",
    "im3_top_edges = [[apply_kerenl(i, j, top_edges) for j in rng] for i in rng]"
   ]
  },
  {
   "cell_type": "code",
   "execution_count": 65,
   "id": "9622a3e3",
   "metadata": {},
   "outputs": [
    {
     "data": {
      "text/plain": [
       "<matplotlib.image.AxesImage at 0x174f6c650>"
      ]
     },
     "execution_count": 65,
     "metadata": {},
     "output_type": "execute_result"
    },
    {
     "data": {
      "image/png": "[encoded data removed]",
      "text/plain": [
       "<Figure size 540x360 with 1 Axes>"
      ]
     },
     "metadata": {
      "needs_background": "light"
     },
     "output_type": "display_data"
    }
   ],
   "source": [
    "plt.imshow(im3_top_edges)"
   ]
  },
  {
   "cell_type": "markdown",
   "id": "f9fd740e",
   "metadata": {},
   "source": [
    "### Convolution in PyTorch"
   ]
  },
  {
   "cell_type": "code",
   "execution_count": 66,
   "id": "9e03c2a2",
   "metadata": {},
   "outputs": [],
   "source": [
    "import torch.nn.functional as F\n",
    "import torch"
   ]
  },
  {
   "cell_type": "code",
   "execution_count": 70,
   "id": "02359088",
   "metadata": {},
   "outputs": [
    {
     "data": {
      "text/plain": [
       "torch.Size([28, 28])"
      ]
     },
     "execution_count": 70,
     "metadata": {},
     "output_type": "execute_result"
    }
   ],
   "source": [
    "im3.shape"
   ]
  },
  {
   "cell_type": "code",
   "execution_count": 75,
   "id": "60bd335c",
   "metadata": {},
   "outputs": [
    {
     "data": {
      "text/plain": [
       "torch.Size([1, 1, 28, 28])"
      ]
     },
     "execution_count": 75,
     "metadata": {},
     "output_type": "execute_result"
    }
   ],
   "source": [
    "inp = im3[None,None,].float()\n",
    "inp.shape"
   ]
  },
  {
   "cell_type": "code",
   "execution_count": 79,
   "id": "8256157c",
   "metadata": {},
   "outputs": [
    {
     "data": {
      "text/plain": [
       "torch.Size([9, 676])"
      ]
     },
     "execution_count": 79,
     "metadata": {},
     "output_type": "execute_result"
    }
   ],
   "source": [
    "inp_unf = F.unfold(inp, 3)[0]\n",
    "inp_unf.shape"
   ]
  },
  {
   "cell_type": "code",
   "execution_count": 80,
   "id": "9d6bba7d",
   "metadata": {},
   "outputs": [
    {
     "data": {
      "text/plain": [
       "torch.Size([9])"
      ]
     },
     "execution_count": 80,
     "metadata": {},
     "output_type": "execute_result"
    }
   ],
   "source": [
    "w = top_edges.view(-1)\n",
    "w.shape"
   ]
  },
  {
   "cell_type": "code",
   "execution_count": 86,
   "id": "9e3fa55d",
   "metadata": {},
   "outputs": [],
   "source": [
    "out = (w@inp_unf).view(26, 26)"
   ]
  },
  {
   "cell_type": "code",
   "execution_count": 87,
   "id": "a0f4654d",
   "metadata": {},
   "outputs": [
    {
     "data": {
      "text/plain": [
       "<matplotlib.image.AxesImage at 0x176277c50>"
      ]
     },
     "execution_count": 87,
     "metadata": {},
     "output_type": "execute_result"
    },
    {
     "data": {
      "image/png": "[encoded data removed]",
      "text/plain": [
       "<Figure size 540x360 with 1 Axes>"
      ]
     },
     "metadata": {
      "needs_background": "light"
     },
     "output_type": "display_data"
    }
   ],
   "source": [
    "plt.imshow(out)"
   ]
  },
  {
   "cell_type": "markdown",
   "id": "1e9189dd",
   "metadata": {},
   "source": [
    "##### Time comparison"
   ]
  },
  {
   "cell_type": "code",
   "execution_count": 96,
   "id": "2e315140",
   "metadata": {},
   "outputs": [
    {
     "name": "stdout",
     "output_type": "stream",
     "text": [
      "14.2 ms ± 5.76 ms per loop (mean ± std. dev. of 7 runs, 1 loop each)\n"
     ]
    }
   ],
   "source": [
    "%timeit -n 1 [[apply_kerenl(i,j,top_edges) for j in rng] for i in rng]"
   ]
  },
  {
   "cell_type": "code",
   "execution_count": 95,
   "id": "16c0629c",
   "metadata": {},
   "outputs": [
    {
     "name": "stdout",
     "output_type": "stream",
     "text": [
      "5.06 µs ± 123 ns per loop (mean ± std. dev. of 7 runs, 100,000 loops each)\n"
     ]
    }
   ],
   "source": [
    "%timeit -n 100000 (w@inp_unf)"
   ]
  },
  {
   "cell_type": "code",
   "execution_count": 104,
   "id": "904f1c2d",
   "metadata": {},
   "outputs": [
    {
     "name": "stdout",
     "output_type": "stream",
     "text": [
      "25.1 µs ± 1.78 µs per loop (mean ± std. dev. of 7 runs, 10,000 loops each)\n"
     ]
    }
   ],
   "source": [
    "%timeit -n 10000 F.conv2d(inp, top_edges[None,None,]).shape"
   ]
  },
  {
   "cell_type": "code",
   "execution_count": 107,
   "id": "7cff6cfe",
   "metadata": {},
   "outputs": [],
   "source": [
    "t1 = F.conv2d(inp, top_edges[None,None,])[0][0]\n",
    "t2 = (w@inp_unf).view(26, 26)"
   ]
  },
  {
   "cell_type": "code",
   "execution_count": 108,
   "id": "7d18b00a",
   "metadata": {},
   "outputs": [
    {
     "data": {
      "text/plain": [
       "(torch.Size([26, 26]), torch.Size([26, 26]))"
      ]
     },
     "execution_count": 108,
     "metadata": {},
     "output_type": "execute_result"
    }
   ],
   "source": [
    "t1.shape,t2.shape"
   ]
  },
  {
   "cell_type": "code",
   "execution_count": 109,
   "id": "62813bfe",
   "metadata": {},
   "outputs": [
    {
     "data": {
      "text/plain": [
       "True"
      ]
     },
     "execution_count": 109,
     "metadata": {},
     "output_type": "execute_result"
    }
   ],
   "source": [
    "torch.allclose(t1, t2)"
   ]
  },
  {
   "attachments": {
    "image.png": {
     "image/png": "[encoded data removed]"
    }
   },
   "cell_type": "markdown",
   "id": "8846a613",
   "metadata": {},
   "source": [
    "### Let's Create CNN\n",
    "\n",
    "* nn.Conv2d : helper function which do everythin we did so far, one difference is, it will assign kernels with random weights initialy, during training these weights will be updated.\n",
    "* It will take number of input channels, in our case gray scale 1 start with, number of output channel, and usual params kernel size, stride, padding.\n",
    "* Usually Channels in image means colors. 1 for gray, 3 for RGB combo colors, 4 for RGB colors with opacity option. but in our neural network channels means different after the first layer, once image processed by the first layer we can have more than 4 channels. in this context channel means, different kernel with different weights applied to the image, 5-channel means, 5 different kernels applied to the input image.\n",
    "* Note: the reason we set padding = kernel_size//2 is, it allows to keep the original image size same. you can dervie this by working out the conv arithmetic mentioned above.\n",
    "\n",
    "![image.png](attachment:image.png)"
   ]
  },
  {
   "cell_type": "code",
   "execution_count": 141,
   "id": "03806e16",
   "metadata": {},
   "outputs": [
    {
     "data": {
      "text/plain": [
       "Conv2d(1, 4, kernel_size=(3, 3), stride=(8, 8), padding=(1, 1))"
      ]
     },
     "execution_count": 141,
     "metadata": {},
     "output_type": "execute_result"
    }
   ],
   "source": [
    "t = nn.Conv2d(1, 4, kernel_size=3, stride=8, padding=3//2)\n",
    "t"
   ]
  },
  {
   "cell_type": "code",
   "execution_count": 142,
   "id": "84b0a4cd",
   "metadata": {},
   "outputs": [
    {
     "data": {
      "text/plain": [
       "torch.Size([1, 4, 4, 4])"
      ]
     },
     "execution_count": 142,
     "metadata": {},
     "output_type": "execute_result"
    }
   ],
   "source": [
    "t2 = t(inp)\n",
    "t2.shape"
   ]
  },
  {
   "cell_type": "code",
   "execution_count": 138,
   "id": "90db2169",
   "metadata": {},
   "outputs": [],
   "source": [
    "#|export\n",
    "def conv(ni, nf, ks=3, stride=2, act=True):\n",
    "    res= nn.Conv2d(ni, nf, kernel_size=ks, stride=stride, padding=ks//2)\n",
    "    if act:\n",
    "        res = nn.Sequential(res, nn.ReLU())\n",
    "    return res"
   ]
  },
  {
   "cell_type": "code",
   "execution_count": 136,
   "id": "251de907",
   "metadata": {},
   "outputs": [],
   "source": [
    "simple_cnn = nn.Sequential(\n",
    "    conv(1, 4), # 14x14\n",
    "    conv(4, 8), # 7x7\n",
    "    conv(8, 16), # 4x4\n",
    "    conv(16, 16), # 2x2\n",
    "    conv(16, 10, act=False), # 1x1\n",
    "    nn.Flatten(),\n",
    ")"
   ]
  },
  {
   "cell_type": "code",
   "execution_count": 137,
   "id": "c312603b",
   "metadata": {},
   "outputs": [
    {
     "data": {
      "text/plain": [
       "Sequential(\n",
       "  (0): Sequential(\n",
       "    (0): Conv2d(1, 4, kernel_size=(3, 3), stride=(2, 2), padding=(1, 1))\n",
       "    (1): ReLU()\n",
       "  )\n",
       "  (1): Sequential(\n",
       "    (0): Conv2d(4, 8, kernel_size=(3, 3), stride=(2, 2), padding=(1, 1))\n",
       "    (1): ReLU()\n",
       "  )\n",
       "  (2): Sequential(\n",
       "    (0): Conv2d(8, 16, kernel_size=(3, 3), stride=(2, 2), padding=(1, 1))\n",
       "    (1): ReLU()\n",
       "  )\n",
       "  (3): Sequential(\n",
       "    (0): Conv2d(16, 16, kernel_size=(3, 3), stride=(2, 2), padding=(1, 1))\n",
       "    (1): ReLU()\n",
       "  )\n",
       "  (4): Conv2d(16, 10, kernel_size=(3, 3), stride=(2, 2), padding=(1, 1))\n",
       "  (5): Flatten(start_dim=1, end_dim=-1)\n",
       ")"
      ]
     },
     "execution_count": 137,
     "metadata": {},
     "output_type": "execute_result"
    }
   ],
   "source": [
    "simple_cnn"
   ]
  },
  {
   "cell_type": "code",
   "execution_count": null,
   "id": "67008688",
   "metadata": {},
   "outputs": [],
   "source": []
  }
 ],
 "metadata": {
  "kernelspec": {
   "display_name": "python_main",
   "language": "python",
   "name": "python_main"
  },
  "language_info": {
   "codemirror_mode": {
    "name": "ipython",
    "version": 3
   },
   "file_extension": ".py",
   "mimetype": "text/x-python",
   "name": "python",
   "nbconvert_exporter": "python",
   "pygments_lexer": "ipython3",
   "version": "3.11.0"
  }
 },
 "nbformat": 4,
 "nbformat_minor": 5
}
