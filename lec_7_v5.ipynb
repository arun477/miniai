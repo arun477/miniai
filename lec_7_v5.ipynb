{
 "cells": [
  {
   "cell_type": "code",
   "execution_count": 8,
   "id": "8db39e1e",
   "metadata": {},
   "outputs": [],
   "source": [
    "import torch\n",
    "import torch.nn as nn\n",
    "import torch.nn.functional as F\n",
    "import matplotlib.pyplot as plt\n",
    "import gzip, pickle\n",
    "import matplotlib as mpl\n",
    "from pathlib import Path\n",
    "import pandas as pd\n",
    "\n",
    "mpl.rcParams['image.cmap'] = 'gray'"
   ]
  },
  {
   "cell_type": "code",
   "execution_count": 5,
   "id": "b631c3df",
   "metadata": {},
   "outputs": [],
   "source": [
    "with gzip.open('./data/mnist.pkl.gz', 'rb') as f:\n",
    "    data = pickle.load(f, encoding='latin')\n",
    "((x_train, y_train), (x_val, y_val), _) = data\n",
    "(x_train, y_train, x_val, y_val) = map(torch.tensor, (x_train, y_train, x_val, y_val) )"
   ]
  },
  {
   "cell_type": "code",
   "execution_count": 24,
   "id": "8ce9414c",
   "metadata": {},
   "outputs": [
    {
     "data": {
      "text/plain": [
       "(tensor(0.2461), tensor(0.2461))"
      ]
     },
     "execution_count": 24,
     "metadata": {},
     "output_type": "execute_result"
    }
   ],
   "source": [
    "x_imgs = x_train.view(-1, 28, 28)\n",
    "xval_imgs = x_val.view(-1, 28, 28)\n",
    "\n",
    "img3 = im3 = x_imgs[7]\n",
    "top_edges = torch.tensor([\n",
    "    [-1, -1, -1],\n",
    "    [0, 0, 0],\n",
    "    [1, 1, 1]\n",
    "]).float()\n",
    "\n",
    "df = pd.DataFrame(img3[:13, :23])\n",
    "df.style.background_gradient('gist_stern')\n",
    "\n",
    "def apply_kernel(row, col, kernel):\n",
    "    return (img3[row-1:row+2, col-1:col+2]*kernel).sum()\n",
    "\n",
    "apply_kernel(14, 14, top_edges), (img3[13:16, 13:16]*top_edges).sum()"
   ]
  },
  {
   "cell_type": "code",
   "execution_count": 26,
   "id": "41aa05fa",
   "metadata": {},
   "outputs": [
    {
     "data": {
      "text/plain": [
       "<matplotlib.image.AxesImage at 0x172c5d550>"
      ]
     },
     "execution_count": 26,
     "metadata": {},
     "output_type": "execute_result"
    },
    {
     "data": {
      "image/png": "[encoded data removed]",
      "text/plain": [
       "<Figure size 432x288 with 1 Axes>"
      ]
     },
     "metadata": {
      "needs_background": "light"
     },
     "output_type": "display_data"
    }
   ],
   "source": [
    "rng = range(1, 27)\n",
    "top_edge3 = [[apply_kernel(i, j, top_edges) for j in rng] for i in rng]\n",
    "plt.imshow(top_edge3)"
   ]
  },
  {
   "cell_type": "code",
   "execution_count": 27,
   "id": "fd9003d5",
   "metadata": {},
   "outputs": [
    {
     "data": {
      "text/plain": [
       "<matplotlib.image.AxesImage at 0x172a363d0>"
      ]
     },
     "execution_count": 27,
     "metadata": {},
     "output_type": "execute_result"
    },
    {
     "data": {
      "image/png": "[encoded data removed]",
      "text/plain": [
       "<Figure size 432x288 with 1 Axes>"
      ]
     },
     "metadata": {
      "needs_background": "light"
     },
     "output_type": "display_data"
    }
   ],
   "source": [
    "left_edges = torch.tensor([\n",
    "    [-1, 0, 1],\n",
    "    [-1, 0, 1],\n",
    "    [-1, 0, 1]g\n",
    "]).float()\n",
    "left_edge3 = [[apply_kernel(i, j, left_edges) for j in rng] for i in rng]\n",
    "plt.imshow(left_edge3)"
   ]
  },
  {
   "cell_type": "code",
   "execution_count": 48,
   "id": "4ff900b0",
   "metadata": {},
   "outputs": [
    {
     "data": {
      "text/plain": [
       "torch.Size([26, 26])"
      ]
     },
     "execution_count": 48,
     "metadata": {},
     "output_type": "execute_result"
    }
   ],
   "source": [
    "inp = im3[None,None,:]\n",
    "w = left_edges.view(-1)\n",
    "out = (w @ F.unfold(inp, (3, 3))[0]).view(-1, 26, 26)\n",
    "out[0].shape"
   ]
  },
  {
   "cell_type": "code",
   "execution_count": 56,
   "id": "f1f67391",
   "metadata": {},
   "outputs": [
    {
     "data": {
      "text/plain": [
       "True"
      ]
     },
     "execution_count": 56,
     "metadata": {},
     "output_type": "execute_result"
    }
   ],
   "source": [
    "torch.allclose(out[0], torch.tensor(left_edge3))"
   ]
  },
  {
   "cell_type": "code",
   "execution_count": 60,
   "id": "a832480b",
   "metadata": {},
   "outputs": [
    {
     "name": "stderr",
     "output_type": "stream",
     "text": [
      "[W NNPACK.cpp:64] Could not initialize NNPACK! Reason: Unsupported hardware.\n"
     ]
    }
   ],
   "source": [
    "out2 = F.conv2d(inp, left_edges[None,None,:])"
   ]
  },
  {
   "cell_type": "code",
   "execution_count": 62,
   "id": "65b85487",
   "metadata": {},
   "outputs": [
    {
     "data": {
      "text/plain": [
       "True"
      ]
     },
     "execution_count": 62,
     "metadata": {},
     "output_type": "execute_result"
    }
   ],
   "source": [
    "torch.allclose(out2[0], torch.tensor(left_edge3))"
   ]
  },
  {
   "cell_type": "code",
   "execution_count": 66,
   "id": "67d38351",
   "metadata": {},
   "outputs": [
    {
     "data": {
      "text/plain": [
       "torch.Size([1, 26, 26])"
      ]
     },
     "execution_count": 66,
     "metadata": {},
     "output_type": "execute_result"
    }
   ],
   "source": [
    "out2[0].shape"
   ]
  },
  {
   "cell_type": "code",
   "execution_count": 67,
   "id": "55b5a8f4",
   "metadata": {},
   "outputs": [
    {
     "data": {
      "text/plain": [
       "<matplotlib.image.AxesImage at 0x175d963d0>"
      ]
     },
     "execution_count": 67,
     "metadata": {},
     "output_type": "execute_result"
    },
    {
     "data": {
      "image/png": "[encoded data removed]",
      "text/plain": [
       "<Figure size 432x288 with 1 Axes>"
      ]
     },
     "metadata": {
      "needs_background": "light"
     },
     "output_type": "display_data"
    }
   ],
   "source": [
    "plt.imshow(out2[0][0].detach())"
   ]
  },
  {
   "cell_type": "code",
   "execution_count": 68,
   "id": "588a6cf7",
   "metadata": {},
   "outputs": [
    {
     "name": "stdout",
     "output_type": "stream",
     "text": [
      "11.5 ms ± 3.72 ms per loop (mean ± std. dev. of 7 runs, 1 loop each)\n"
     ]
    }
   ],
   "source": [
    "%timeit -n 1 [[apply_kernel(i, j, left_edges) for j in rng] for i in rng]"
   ]
  },
  {
   "cell_type": "code",
   "execution_count": 70,
   "id": "804e21d5",
   "metadata": {},
   "outputs": [
    {
     "name": "stdout",
     "output_type": "stream",
     "text": [
      "89.6 µs ± 29.1 µs per loop (mean ± std. dev. of 7 runs, 100 loops each)\n"
     ]
    }
   ],
   "source": [
    "%timeit -n 100  (w @ F.unfold(inp, (3, 3))[0]).view(-1, 26, 26) "
   ]
  },
  {
   "cell_type": "code",
   "execution_count": 71,
   "id": "5c519acc",
   "metadata": {},
   "outputs": [
    {
     "name": "stdout",
     "output_type": "stream",
     "text": [
      "71.5 µs ± 20 µs per loop (mean ± std. dev. of 7 runs, 100 loops each)\n"
     ]
    }
   ],
   "source": [
    "%timeit -n 100  F.conv2d(inp, left_edges[None,None,:])"
   ]
  },
  {
   "cell_type": "code",
   "execution_count": 79,
   "id": "4d5c0404",
   "metadata": {},
   "outputs": [],
   "source": [
    "diag1_edge = torch.tensor([\n",
    "    [0, -1, 1],\n",
    "    [-1, 1, 0],\n",
    "    [1, 0, 0]\n",
    "]).float()\n",
    "\n",
    "diag2_edge = torch.tensor([\n",
    "    [1, -1, 0],\n",
    "    [0, 1, -1],\n",
    "    [0, 0, 1]\n",
    "]).float()"
   ]
  },
  {
   "cell_type": "code",
   "execution_count": 84,
   "id": "5c92947a",
   "metadata": {},
   "outputs": [
    {
     "data": {
      "text/plain": [
       "torch.Size([4, 1, 3, 3])"
      ]
     },
     "execution_count": 84,
     "metadata": {},
     "output_type": "execute_result"
    }
   ],
   "source": [
    "xb = x_imgs[:16][:,None]\n",
    "edge_kernels = torch.stack([top_edges, left_edges, diag1_edge, diag2_edge])[:,None]\n",
    "edge_kernels.shape"
   ]
  },
  {
   "cell_type": "code",
   "execution_count": 87,
   "id": "9bae26b3",
   "metadata": {},
   "outputs": [
    {
     "data": {
      "text/plain": [
       "torch.Size([16, 4, 26, 26])"
      ]
     },
     "execution_count": 87,
     "metadata": {},
     "output_type": "execute_result"
    }
   ],
   "source": [
    "batch_features = F.conv2d(xb, edge_kernels)\n",
    "batch_features.shape"
   ]
  },
  {
   "cell_type": "code",
   "execution_count": 95,
   "id": "85c717f7",
   "metadata": {},
   "outputs": [
    {
     "data": {
      "text/plain": [
       "<matplotlib.image.AxesImage at 0x175edde50>"
      ]
     },
     "execution_count": 95,
     "metadata": {},
     "output_type": "execute_result"
    },
    {
     "data": {
      "image/png": "[encoded data removed]",
      "text/plain": [
       "<Figure size 432x288 with 1 Axes>"
      ]
     },
     "metadata": {
      "needs_background": "light"
     },
     "output_type": "display_data"
    }
   ],
   "source": [
    "plt.imshow(batch_features[7][3])"
   ]
  },
  {
   "cell_type": "code",
   "execution_count": 98,
   "id": "b4711aa5",
   "metadata": {},
   "outputs": [
    {
     "data": {
      "text/plain": [
       "torch.Size([16, 10, 28, 28])"
      ]
     },
     "execution_count": 98,
     "metadata": {},
     "output_type": "execute_result"
    }
   ],
   "source": [
    "n,m = x_train.shape\n",
    "nh = 50\n",
    "c = y_train.max()+1\n",
    "\n",
    "broken_cnn = nn.Sequential(*[\n",
    "    nn.Conv2d(1, 30, kernel_size=3, padding=1),\n",
    "    nn.ReLU(),\n",
    "    nn.Conv2d(30, 10, kernel_size=3, padding=1)\n",
    "])\n",
    "t = broken_cnn(xb)\n",
    "t.shape"
   ]
  },
  {
   "cell_type": "code",
   "execution_count": null,
   "id": "08267f4c",
   "metadata": {},
   "outputs": [],
   "source": [
    "def conv(ni, nf, ks=3, stride=2, act=True):\n",
    "    res = nn.Conv2d(ni, nf, stride=stride, kernel_size=ks, padding=ks//2)\n",
    "    if act:\n",
    "        res = nn.Sequential(res, nn.ReLU())\n",
    "    return res\n",
    "\n",
    "simple_cnn = nn.Sequential(\n",
    "    conv(1, 4), #14x14\n",
    "    conv(4, 8), #7x7\n",
    "    conv(8, 16), #2x2\n",
    "    conv(16, 16), #1x1\n",
    "    conv(16, 10, act=False),\n",
    "    nn.Flatten()\n",
    ")\n",
    "t = simple_cnn(xb)\n",
    "t.shape"
   ]
  },
  {
   "cell_type": "code",
   "execution_count": 105,
   "id": "dcc05cd3",
   "metadata": {},
   "outputs": [],
   "source": [
    "def conv(ni, nf, ks=3, stride=2, act=True):\n",
    "    res = nn.Conv2d(ni, nf, stride=stride, kernel_size=ks, padding=ks//2)\n",
    "    if act:\n",
    "        res = nn.Sequential(*[res, nn.ReLU()])\n",
    "    return res\n",
    "\n",
    "simple_cnn = nn.Sequential(*[\n",
    "    conv(1, 4), # 14x14\n",
    "    conv(4, 8), # 7x7\n",
    "    conv(8, 16), # 2x2\n",
    "    conv(16, 16), # 1x1\n",
    "    conv(16, 10, act=False),\n",
    "    nn.Flatten()\n",
    "])\n",
    "t = simple_cnn(xb)"
   ]
  },
  {
   "cell_type": "code",
   "execution_count": 135,
   "id": "ee5d74b7",
   "metadata": {},
   "outputs": [],
   "source": [
    "def of(w,p,s,f):\n",
    "    print(f'(({w}-{f}+2*{p})/{s})+1')\n",
    "    return ((w-f+2*p)/s)+1"
   ]
  },
  {
   "cell_type": "code",
   "execution_count": 145,
   "id": "52689d01",
   "metadata": {},
   "outputs": [
    {
     "name": "stdout",
     "output_type": "stream",
     "text": [
      "((7-3+2*0)/1)+1\n"
     ]
    },
    {
     "data": {
      "text/plain": [
       "5.0"
      ]
     },
     "execution_count": 145,
     "metadata": {},
     "output_type": "execute_result"
    }
   ],
   "source": [
    "w,p,s,f=7,0,1,3\n",
    "of(w,p,s,f)"
   ]
  },
  {
   "cell_type": "code",
   "execution_count": null,
   "id": "c04841d0",
   "metadata": {},
   "outputs": [],
   "source": []
  },
  {
   "cell_type": "code",
   "execution_count": null,
   "id": "0f55dedc",
   "metadata": {},
   "outputs": [],
   "source": []
  },
  {
   "cell_type": "code",
   "execution_count": null,
   "id": "354b848a",
   "metadata": {},
   "outputs": [],
   "source": []
  }
 ],
 "metadata": {
  "kernelspec": {
   "display_name": "python_main",
   "language": "python",
   "name": "python_main"
  },
  "language_info": {
   "codemirror_mode": {
    "name": "ipython",
    "version": 3
   },
   "file_extension": ".py",
   "mimetype": "text/x-python",
   "name": "python",
   "nbconvert_exporter": "python",
   "pygments_lexer": "ipython3",
   "version": "3.11.0"
  }
 },
 "nbformat": 4,
 "nbformat_minor": 5
}
