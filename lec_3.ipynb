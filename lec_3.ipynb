{
 "cells": [
  {
   "cell_type": "code",
   "execution_count": 68,
   "id": "5f566da6",
   "metadata": {},
   "outputs": [],
   "source": [
    "import matplotlib.pyplot as plt\n",
    "from pathlib import Path\n",
    "import gzip, torch, pickle\n",
    "from sympy import symbols, diff"
   ]
  },
  {
   "cell_type": "code",
   "execution_count": 17,
   "id": "2fd1cd9f",
   "metadata": {},
   "outputs": [],
   "source": [
    "%matplotlib inline\n",
    "torch.manual_seed(42)\n",
    "torch.set_printoptions(linewidth=140, sci_mode=False)"
   ]
  },
  {
   "cell_type": "code",
   "execution_count": 5,
   "id": "35b97181",
   "metadata": {},
   "outputs": [],
   "source": [
    "FOLDER_PATH = Path('data')\n",
    "FILE_PATH = FOLDER_PATH/'mnist.pkl.gz'"
   ]
  },
  {
   "cell_type": "code",
   "execution_count": 35,
   "id": "76bdfedd",
   "metadata": {},
   "outputs": [],
   "source": [
    "with gzip.open(FILE_PATH, 'rb') as f:\n",
    "    data = pickle.load(f, encoding='latin')"
   ]
  },
  {
   "cell_type": "code",
   "execution_count": 36,
   "id": "63ed5605",
   "metadata": {},
   "outputs": [],
   "source": [
    "((x_train, y_train),(x_dev, y_dev), _) = data"
   ]
  },
  {
   "cell_type": "code",
   "execution_count": 37,
   "id": "bb011ede",
   "metadata": {},
   "outputs": [],
   "source": [
    "(x_train, y_train, x_dev, y_dev) = map(torch.tensor, (x_train, y_train, x_dev, y_dev))"
   ]
  },
  {
   "cell_type": "code",
   "execution_count": 38,
   "id": "d8faee65",
   "metadata": {},
   "outputs": [
    {
     "data": {
      "text/plain": [
       "(torch.Size([50000, 784]),\n",
       " torch.Size([50000]),\n",
       " torch.Size([10000, 784]),\n",
       " torch.Size([10000]))"
      ]
     },
     "execution_count": 38,
     "metadata": {},
     "output_type": "execute_result"
    }
   ],
   "source": [
    "x_train.shape, y_train.shape, x_dev.shape, y_dev.shape"
   ]
  },
  {
   "cell_type": "markdown",
   "id": "fa80c6bf",
   "metadata": {},
   "source": [
    "#### model"
   ]
  },
  {
   "cell_type": "code",
   "execution_count": 39,
   "id": "db8af0dc",
   "metadata": {},
   "outputs": [],
   "source": [
    "m,n = x_train.shape\n",
    "c = y_train.max() + 1\n",
    "nh = 50 # num of hidden neuron"
   ]
  },
  {
   "cell_type": "code",
   "execution_count": 40,
   "id": "74d4ed69",
   "metadata": {},
   "outputs": [],
   "source": [
    "w1 = torch.randn(n, nh)\n",
    "b1 = torch.zeros(nh)\n",
    "w2 = torch.randn(nh, 1)\n",
    "b2 = torch.zeros(1)"
   ]
  },
  {
   "cell_type": "code",
   "execution_count": 41,
   "id": "502c8c3f",
   "metadata": {},
   "outputs": [],
   "source": [
    "def lin(x, w, b):\n",
    "    return x@w+b"
   ]
  },
  {
   "cell_type": "code",
   "execution_count": 299,
   "id": "f4dd648b",
   "metadata": {},
   "outputs": [],
   "source": [
    "def relu(x):\n",
    "    return x.clamp_min(0)"
   ]
  },
  {
   "cell_type": "code",
   "execution_count": 72,
   "id": "e0b8d838",
   "metadata": {},
   "outputs": [],
   "source": [
    "def model(x):\n",
    "    lyrl = lin(x, w1, b1)\n",
    "    lyr2 = lin(relu(lyrl), w2, b2)\n",
    "    return lyr2"
   ]
  },
  {
   "cell_type": "code",
   "execution_count": 73,
   "id": "64a2ba20",
   "metadata": {},
   "outputs": [
    {
     "data": {
      "text/plain": [
       "torch.Size([10000, 1])"
      ]
     },
     "execution_count": 73,
     "metadata": {},
     "output_type": "execute_result"
    }
   ],
   "source": [
    "res = model(x_dev);res.shape"
   ]
  },
  {
   "cell_type": "markdown",
   "id": "0044172a",
   "metadata": {},
   "source": [
    "#### error measure"
   ]
  },
  {
   "cell_type": "code",
   "execution_count": 49,
   "id": "384bd3b1",
   "metadata": {},
   "outputs": [
    {
     "data": {
      "text/plain": [
       "(torch.Size([10000, 1]), torch.Size([10000]))"
      ]
     },
     "execution_count": 49,
     "metadata": {},
     "output_type": "execute_result"
    }
   ],
   "source": [
    "res.shape, y_dev.shape"
   ]
  },
  {
   "cell_type": "code",
   "execution_count": 59,
   "id": "d1857167",
   "metadata": {},
   "outputs": [
    {
     "data": {
      "text/plain": [
       "tensor([ 21.5985, -12.8880,  12.9920,  ...,  -5.2024,   0.8196, -41.5658])"
      ]
     },
     "execution_count": 59,
     "metadata": {},
     "output_type": "execute_result"
    }
   ],
   "source": [
    "err = (res[:,0] - y_dev);err"
   ]
  },
  {
   "cell_type": "code",
   "execution_count": 60,
   "id": "32b47ef0",
   "metadata": {},
   "outputs": [
    {
     "data": {
      "text/plain": [
       "torch.Size([10000])"
      ]
     },
     "execution_count": 60,
     "metadata": {},
     "output_type": "execute_result"
    }
   ],
   "source": [
    "err.shape"
   ]
  },
  {
   "cell_type": "code",
   "execution_count": 61,
   "id": "943c1e91",
   "metadata": {},
   "outputs": [],
   "source": [
    "y_train, y_dev = y_train.float(), y_dev.float()"
   ]
  },
  {
   "cell_type": "code",
   "execution_count": 63,
   "id": "326dd5b6",
   "metadata": {},
   "outputs": [
    {
     "data": {
      "text/plain": [
       "torch.Size([50000, 1])"
      ]
     },
     "execution_count": 63,
     "metadata": {},
     "output_type": "execute_result"
    }
   ],
   "source": [
    "res = model(x_train);res.shape"
   ]
  },
  {
   "cell_type": "code",
   "execution_count": 66,
   "id": "7ec9c4b7",
   "metadata": {},
   "outputs": [],
   "source": [
    "def mse(out, trg):\n",
    "    return (out[:,0]-trg).pow(2).mean()"
   ]
  },
  {
   "cell_type": "code",
   "execution_count": 67,
   "id": "2eed63b6",
   "metadata": {},
   "outputs": [
    {
     "data": {
      "text/plain": [
       "tensor(2630.1516)"
      ]
     },
     "execution_count": 67,
     "metadata": {},
     "output_type": "execute_result"
    }
   ],
   "source": [
    "err = mse(res, y_train);err"
   ]
  },
  {
   "cell_type": "markdown",
   "id": "4f6adc79",
   "metadata": {},
   "source": [
    "#### gradient and backward pass"
   ]
  },
  {
   "cell_type": "code",
   "execution_count": 351,
   "id": "6382c11a",
   "metadata": {},
   "outputs": [],
   "source": [
    "x, y = symbols('x y')"
   ]
  },
  {
   "cell_type": "code",
   "execution_count": 354,
   "id": "a96096e8",
   "metadata": {},
   "outputs": [
    {
     "data": {
      "text/latex": [
       "$\\displaystyle 2 x$"
      ],
      "text/plain": [
       "2*x"
      ]
     },
     "execution_count": 354,
     "metadata": {},
     "output_type": "execute_result"
    }
   ],
   "source": [
    "diff(x**2 + y, x)"
   ]
  },
  {
   "cell_type": "code",
   "execution_count": 75,
   "id": "0e1c9f75",
   "metadata": {},
   "outputs": [
    {
     "data": {
      "text/plain": [
       "torch.Size([10000])"
      ]
     },
     "execution_count": 75,
     "metadata": {},
     "output_type": "execute_result"
    }
   ],
   "source": [
    "err = (res[:,0] - y_dev);err.shape"
   ]
  },
  {
   "cell_type": "code",
   "execution_count": 79,
   "id": "d4a489b1",
   "metadata": {},
   "outputs": [
    {
     "data": {
      "text/plain": [
       "tensor([ -5.8467, -37.3039, -19.2733,  ..., -31.9318, -22.2322, -29.9598])"
      ]
     },
     "execution_count": 79,
     "metadata": {},
     "output_type": "execute_result"
    }
   ],
   "source": [
    "err"
   ]
  },
  {
   "cell_type": "code",
   "execution_count": 80,
   "id": "cc26feb3",
   "metadata": {},
   "outputs": [
    {
     "data": {
      "text/plain": [
       "tensor([-0.0006, -0.0037, -0.0019,  ..., -0.0032, -0.0022, -0.0030])"
      ]
     },
     "execution_count": 80,
     "metadata": {},
     "output_type": "execute_result"
    }
   ],
   "source": [
    "err / x_dev.shape[0]"
   ]
  },
  {
   "cell_type": "code",
   "execution_count": 82,
   "id": "4b5300e4",
   "metadata": {},
   "outputs": [
    {
     "data": {
      "text/latex": [
       "$\\displaystyle \\left(x - y\\right)^{2}$"
      ],
      "text/plain": [
       "(x - y)**2"
      ]
     },
     "execution_count": 82,
     "metadata": {},
     "output_type": "execute_result"
    }
   ],
   "source": [
    "(x-y)**2"
   ]
  },
  {
   "cell_type": "code",
   "execution_count": 358,
   "id": "029d4e8a",
   "metadata": {},
   "outputs": [
    {
     "data": {
      "text/latex": [
       "$\\displaystyle 2 x - 2 y$"
      ],
      "text/plain": [
       "2*x - 2*y"
      ]
     },
     "execution_count": 358,
     "metadata": {},
     "output_type": "execute_result"
    }
   ],
   "source": [
    "diff((x-y)**2, x)"
   ]
  },
  {
   "cell_type": "code",
   "execution_count": 364,
   "id": "e2210e98",
   "metadata": {},
   "outputs": [],
   "source": [
    "o,x,w,b = symbols('o x w b')"
   ]
  },
  {
   "cell_type": "code",
   "execution_count": 369,
   "id": "0a8e7fab",
   "metadata": {},
   "outputs": [
    {
     "data": {
      "text/plain": [
       "(w, x, 1)"
      ]
     },
     "execution_count": 369,
     "metadata": {},
     "output_type": "execute_result"
    }
   ],
   "source": [
    "diff(x*w+b, 'x'), diff(x*w+b, 'w'), diff(x*w+b, 'b')"
   ]
  },
  {
   "cell_type": "code",
   "execution_count": 493,
   "id": "815d3d92",
   "metadata": {},
   "outputs": [],
   "source": [
    "def lingrad(x, o, w, b):\n",
    "    b.g = 1 * o.g.sum(0)\n",
    "    w.g = x.T @ o.g\n",
    "    x.g = o.g @ w.T\n"
   ]
  },
  {
   "cell_type": "code",
   "execution_count": 494,
   "id": "e36faf4f",
   "metadata": {},
   "outputs": [],
   "source": [
    "def forward_backward(inp, tar):\n",
    "    # forward pass\n",
    "    l1 = lin(inp, w1, b1)\n",
    "    l2 = relu(l1)\n",
    "    out = lin(l2, w2, b2)\n",
    "    \n",
    "    # calculate loss (MSE)\n",
    "    diff = out[:,0] - tar\n",
    "    loss = diff.pow(2).mean()\n",
    "    \n",
    "    \n",
    "    # backward pass\n",
    "    out.g = 2 * diff[:,None] / inp.shape[0]\n",
    "    lingrad(l2, out, w2, b2)\n",
    "    l1.g = (l1 > 0).float() * l2.g\n",
    "    lingrad(inp, l1, w1, b1)\n",
    "     "
   ]
  },
  {
   "cell_type": "code",
   "execution_count": 495,
   "id": "34f64467",
   "metadata": {},
   "outputs": [],
   "source": [
    "forward_backward(x_train, y_train)"
   ]
  },
  {
   "cell_type": "code",
   "execution_count": 474,
   "id": "225f4bfa",
   "metadata": {},
   "outputs": [],
   "source": [
    "def get_gard(x):\n",
    "    return x.g.clone()"
   ]
  },
  {
   "cell_type": "code",
   "execution_count": 475,
   "id": "0c3a7286",
   "metadata": {},
   "outputs": [],
   "source": [
    "chcks = w1,w2,b1,b2,x_train"
   ]
  },
  {
   "cell_type": "code",
   "execution_count": 476,
   "id": "31e5609f",
   "metadata": {},
   "outputs": [],
   "source": [
    "grads = tuple(map(get_grad, chcks))"
   ]
  },
  {
   "cell_type": "code",
   "execution_count": 477,
   "id": "6580f81c",
   "metadata": {
    "scrolled": true
   },
   "outputs": [],
   "source": [
    "def make_grad(x):\n",
    "    return x.clone().requires_grad_(True)"
   ]
  },
  {
   "cell_type": "code",
   "execution_count": 478,
   "id": "243f3ab0",
   "metadata": {},
   "outputs": [],
   "source": [
    "ptgrads = w1pyt, w2pyt, b1pyt, b2pyt, x_trianpyt = tuple(map(make_grad, chcks))"
   ]
  },
  {
   "cell_type": "code",
   "execution_count": 479,
   "id": "a2f068e0",
   "metadata": {},
   "outputs": [],
   "source": [
    "def pyt_forward(inp, targ):\n",
    "    l1 = lin(inp, w1pyt, b1pyt)\n",
    "    l2 = relu(l1)\n",
    "    out = lin(l2, w2pyt, b2pyt)\n",
    "    return mse(out, targ)"
   ]
  },
  {
   "cell_type": "code",
   "execution_count": 480,
   "id": "737b5dfc",
   "metadata": {},
   "outputs": [],
   "source": [
    "loss = pyt_forward(x_trianpyt, y_train)"
   ]
  },
  {
   "cell_type": "code",
   "execution_count": 481,
   "id": "a91aa33d",
   "metadata": {},
   "outputs": [],
   "source": [
    "loss.backward()"
   ]
  },
  {
   "cell_type": "code",
   "execution_count": 485,
   "id": "78a6a8d3",
   "metadata": {},
   "outputs": [
    {
     "name": "stdout",
     "output_type": "stream",
     "text": [
      "torch.Size([784, 50]) torch.Size([784, 50])\n",
      "tensor([[0., 0., 0.,  ..., 0., 0., 0.],\n",
      "        [0., 0., 0.,  ..., 0., 0., 0.],\n",
      "        [0., 0., 0.,  ..., 0., 0., 0.],\n",
      "        ...,\n",
      "        [0., 0., 0.,  ..., 0., 0., 0.],\n",
      "        [0., 0., 0.,  ..., 0., 0., 0.],\n",
      "        [0., 0., 0.,  ..., 0., 0., 0.]]) tensor([[ 2.5353,  1.7152,  0.2519,  ...,  1.2621, -1.3704, -1.8541],\n",
      "        [ 0.8463, -0.7835, -1.1173,  ..., -1.9560,  0.5467, -0.7582],\n",
      "        [ 0.9242,  0.5263,  1.1134,  ...,  2.2070,  1.6893, -0.6268],\n",
      "        ...,\n",
      "        [-0.6378, -0.0758,  0.5120,  ..., -0.6960,  0.0835,  0.5951],\n",
      "        [-0.2228, -1.0157,  1.3523,  ..., -1.4237, -0.2719, -1.1539],\n",
      "        [-1.0204,  0.1851, -0.4556,  ..., -1.1737,  1.0057, -0.7915]], requires_grad=True)\n"
     ]
    }
   ],
   "source": [
    "for a, b in zip(grads, ptgrads):\n",
    "    print(a.shape, b.shape)\n",
    "    print(a, b)\n",
    "    break"
   ]
  },
  {
   "cell_type": "markdown",
   "id": "1f0348fb",
   "metadata": {},
   "source": [
    "#### refactor the code"
   ]
  },
  {
   "cell_type": "code",
   "execution_count": 522,
   "id": "d0a42656",
   "metadata": {},
   "outputs": [],
   "source": [
    "class Relu():\n",
    "    def __call__(self, inp):\n",
    "        self.inp = inp\n",
    "        self.out = inp.clamp_min(0.)\n",
    "        return self.out\n",
    "    \n",
    "    def backward(self):\n",
    "        self.inp.g = (self.inp > 0).float() * self.out.g"
   ]
  },
  {
   "cell_type": "code",
   "execution_count": 575,
   "id": "6e69d6b2",
   "metadata": {},
   "outputs": [],
   "source": [
    "class Lin():\n",
    "    def __init__(self, w, b):\n",
    "        self.w = w\n",
    "        self.b = b\n",
    "    \n",
    "    def __call__(self, inp):\n",
    "        self.inp = inp\n",
    "        self.out = inp @ self.w + self.b\n",
    "        return self.out\n",
    "    \n",
    "    def backward(self):\n",
    "        self.b.g = 1 * self.out.g.sum(0)\n",
    "        self.w.g = self.inp.t() @ self.out.g\n",
    "        self.inp.g = self.out.g @ self.w.t()"
   ]
  },
  {
   "cell_type": "code",
   "execution_count": 576,
   "id": "71a5b562",
   "metadata": {},
   "outputs": [],
   "source": [
    "class Mse():\n",
    "    def __call__(self, inp, targ):\n",
    "        self.inp = inp\n",
    "        self.targ = targ\n",
    "        self.out = (self.inp[:,0]-self.targ).pow(2).mean()\n",
    "        return self.out\n",
    "    \n",
    "    def backward(self):\n",
    "        self.inp.g = 2 * (self.inp[:,0]-self.targ)[:,None] / self.inp.shape[0] "
   ]
  },
  {
   "cell_type": "code",
   "execution_count": 577,
   "id": "0f3b166b",
   "metadata": {},
   "outputs": [],
   "source": [
    "class Model():\n",
    "    def __init__(self, w1, b1, w2, b2):\n",
    "        self.layers = [Lin(w1, b1), Relu(), Lin(w2, b2)]\n",
    "        self.loss = Mse()\n",
    "    \n",
    "    def __call__(self, inp, targ):\n",
    "        x = inp\n",
    "        for lyr in self.layers:\n",
    "            x = lyr(x)\n",
    "        return self.loss(x, targ)\n",
    "    \n",
    "    def backward(self):\n",
    "        self.loss.backward()\n",
    "        for lyr in reversed(self.layers):\n",
    "            lyr.backward()"
   ]
  },
  {
   "cell_type": "code",
   "execution_count": 578,
   "id": "9558ee23",
   "metadata": {},
   "outputs": [],
   "source": [
    "# initialize params\n",
    "m,n = x_train.shape\n",
    "c = y_train.max() + 1\n",
    "nh = 50 # num of hidden neuron\n",
    "\n",
    "w1 = torch.randn(n, nh)\n",
    "b1 = torch.zeros(nh)\n",
    "w2 = torch.randn(nh, 1)\n",
    "b2 = torch.zeros(1)"
   ]
  },
  {
   "cell_type": "code",
   "execution_count": 579,
   "id": "1bef1b95",
   "metadata": {},
   "outputs": [],
   "source": [
    "model = Model(w1, b1, w2, b2)"
   ]
  },
  {
   "cell_type": "code",
   "execution_count": 580,
   "id": "5a1584f5",
   "metadata": {},
   "outputs": [],
   "source": [
    "loss = model(x_train, y_train)"
   ]
  },
  {
   "cell_type": "code",
   "execution_count": 581,
   "id": "07a59a6a",
   "metadata": {},
   "outputs": [
    {
     "data": {
      "text/plain": [
       "tensor(1419.5629)"
      ]
     },
     "execution_count": 581,
     "metadata": {},
     "output_type": "execute_result"
    }
   ],
   "source": [
    "loss"
   ]
  },
  {
   "cell_type": "code",
   "execution_count": 582,
   "id": "bf7e05a1",
   "metadata": {},
   "outputs": [],
   "source": [
    "model.backward()"
   ]
  },
  {
   "cell_type": "code",
   "execution_count": null,
   "id": "9403156f",
   "metadata": {},
   "outputs": [],
   "source": []
  },
  {
   "cell_type": "code",
   "execution_count": null,
   "id": "c93ab6f2",
   "metadata": {},
   "outputs": [],
   "source": []
  }
 ],
 "metadata": {
  "kernelspec": {
   "display_name": "python_main",
   "language": "python",
   "name": "python_main"
  },
  "language_info": {
   "codemirror_mode": {
    "name": "ipython",
    "version": 3
   },
   "file_extension": ".py",
   "mimetype": "text/x-python",
   "name": "python",
   "nbconvert_exporter": "python",
   "pygments_lexer": "ipython3",
   "version": "3.11.0"
  }
 },
 "nbformat": 4,
 "nbformat_minor": 5
}
