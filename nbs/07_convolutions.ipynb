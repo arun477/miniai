{
 "cells": [
  {
   "cell_type": "code",
   "execution_count": null,
   "id": "06dc594d",
   "metadata": {},
   "outputs": [],
   "source": [
    "#|default_export conv"
   ]
  },
  {
   "cell_type": "code",
   "execution_count": null,
   "id": "0482bdcc",
   "metadata": {},
   "outputs": [],
   "source": []
  }
 ],
 "metadata": {
  "kernelspec": {
   "display_name": "conda-env-python_main-py",
   "language": "python",
   "name": "conda-env-python_main-py"
  }
 },
 "nbformat": 4,
 "nbformat_minor": 5
}
