{
 "cells": [
  {
   "cell_type": "code",
   "execution_count": null,
   "id": "2d1dfa8a",
   "metadata": {},
   "outputs": [],
   "source": [
    "#|default_exp datasets"
   ]
  },
  {
   "cell_type": "code",
   "execution_count": null,
   "id": "743140a2",
   "metadata": {},
   "outputs": [],
   "source": [
    "#|export\n",
    "from __future__ import annotations\n",
    "import math,numpy as np,matplotlib.pyplot as plt\n",
    "from operator import itemgetter\n",
    "from itertools import zip_longest\n",
    "import fastcore.all as fc\n",
    "from torch.utils.data import default_collate,DataLoader\n",
    "from miniai.training import *\n",
    "import torchvision.transforms.functional as TF"
   ]
  },
  {
   "cell_type": "code",
   "execution_count": null,
   "id": "5f76a113",
   "metadata": {},
   "outputs": [],
   "source": [
    "from datasets import load_dataset\n",
    "import torch\n",
    "\n",
    "%matplotlib inline"
   ]
  },
  {
   "cell_type": "markdown",
   "id": "8a763e40",
   "metadata": {},
   "source": [
    "### Hugging Face dataset"
   ]
  },
  {
   "cell_type": "code",
   "execution_count": null,
   "id": "c2bffb03",
   "metadata": {},
   "outputs": [],
   "source": [
    "name = 'fashion_mnist'"
   ]
  },
  {
   "cell_type": "code",
   "execution_count": null,
   "id": "f77088e6",
   "metadata": {},
   "outputs": [],
   "source": [
    "#|export\n",
    "def inplace(f):\n",
    "    def _f(b):\n",
    "        f(b)\n",
    "        return b\n",
    "    return _f"
   ]
  },
  {
   "cell_type": "code",
   "execution_count": null,
   "id": "3a41a84d",
   "metadata": {},
   "outputs": [
    {
     "name": "stderr",
     "output_type": "stream",
     "text": [
      "Found cached dataset fashion_mnist (/Users/arun/.cache/huggingface/datasets/fashion_mnist/fashion_mnist/1.0.0/0a671f063342996f19779d38c0ab4abef9c64f757b35af8134b331c294d7ba48)\n"
     ]
    },
    {
     "data": {
      "application/vnd.jupyter.widget-view+json": {
       "model_id": "a359272287f044b28eec816a551e09e5",
       "version_major": 2,
       "version_minor": 0
      },
      "text/plain": [
       "  0%|          | 0/2 [00:00<?, ?it/s]"
      ]
     },
     "metadata": {},
     "output_type": "display_data"
    }
   ],
   "source": [
    "rds = load_dataset(name)"
   ]
  },
  {
   "cell_type": "code",
   "execution_count": null,
   "id": "cf73a3fb",
   "metadata": {},
   "outputs": [],
   "source": [
    "x,y = rds['train'].features"
   ]
  },
  {
   "cell_type": "code",
   "execution_count": null,
   "id": "94693c67",
   "metadata": {},
   "outputs": [],
   "source": [
    "@inplace\n",
    "def transformi(b):\n",
    "    b[x] = [torch.flatten(TF.to_tensor(ele)) for ele in b[x]]"
   ]
  },
  {
   "cell_type": "code",
   "execution_count": null,
   "id": "1d824f15",
   "metadata": {},
   "outputs": [],
   "source": [
    "tds = rds.with_transform(transformi)"
   ]
  },
  {
   "cell_type": "code",
   "execution_count": null,
   "id": "f041a0f6",
   "metadata": {},
   "outputs": [],
   "source": [
    "#|export\n",
    "def collated_dict(ds):\n",
    "    get = itemgetter(*ds.features)\n",
    "    def _f(b):\n",
    "        return get(default_collate(b))\n",
    "    return _f"
   ]
  },
  {
   "cell_type": "code",
   "execution_count": null,
   "id": "23483872",
   "metadata": {},
   "outputs": [],
   "source": [
    "dlf = DataLoader(tds['train'], batch_size=10, collate_fn=collated_dict(tds['train']))"
   ]
  },
  {
   "cell_type": "markdown",
   "id": "b026dab6",
   "metadata": {},
   "source": [
    "### Plotting images"
   ]
  },
  {
   "cell_type": "code",
   "execution_count": null,
   "id": "31c1c968",
   "metadata": {},
   "outputs": [],
   "source": [
    "#|export\n",
    "@fc.delegates(plt.Axes.imshow)\n",
    "def show_image(im, ax=None, title=None, figsize=None, noframe=True, **kwargs):\n",
    "    if fc.hasattrs(im, ('cpu', 'permute', 'detach')):\n",
    "        im = im.detach().cpu()\n",
    "        if len(im.shape)==3 and im.shape[0] < 5:\n",
    "            im = im.permute(1,2,0)\n",
    "    elif not isinstance(im, np.ndarray):\n",
    "        im = np.array(im)\n",
    "    if im.shape[-1] == 1:\n",
    "        im = im[..., 0]\n",
    "    if ax is None:\n",
    "        _,ax = plt.subplots(figsize=figsize)\n",
    "    ax.imshow(im, **kwargs)\n",
    "    ax.set_xticks([])\n",
    "    ax.set_yticks([])\n",
    "    if noframe:\n",
    "        ax.axis('off')\n",
    "    if title is not None:\n",
    "        ax.set_title(title)\n",
    "    return ax"
   ]
  },
  {
   "cell_type": "code",
   "execution_count": null,
   "id": "8b0fe815",
   "metadata": {},
   "outputs": [
    {
     "data": {
      "text/plain": [
       "(torch.Size([10, 784]), torch.Size([10]))"
      ]
     },
     "execution_count": null,
     "metadata": {},
     "output_type": "execute_result"
    }
   ],
   "source": [
    "xb,yb = next(iter(dlf))\n",
    "xb.shape,yb.shape"
   ]
  },
  {
   "cell_type": "code",
   "execution_count": null,
   "id": "eea15059",
   "metadata": {},
   "outputs": [
    {
     "data": {
      "text/plain": [
       "torch.Size([28, 28, 1])"
      ]
     },
     "execution_count": null,
     "metadata": {},
     "output_type": "execute_result"
    }
   ],
   "source": [
    "im = xb[0].view(1, 28, 28)\n",
    "if len(im.shape)==3 and im.shape[0] < 5:\n",
    "    im = im.permute(1,2,0)\n",
    "im.shape"
   ]
  },
  {
   "cell_type": "code",
   "execution_count": null,
   "id": "c2928bda",
   "metadata": {},
   "outputs": [
    {
     "data": {
      "image/png": "[encoded data removed]",
      "text/plain": [
       "<Figure size 432x288 with 1 Axes>"
      ]
     },
     "metadata": {},
     "output_type": "display_data"
    }
   ],
   "source": [
    "show_image(im, cmap='gray');"
   ]
  },
  {
   "cell_type": "code",
   "execution_count": null,
   "id": "10b72d52",
   "metadata": {},
   "outputs": [],
   "source": [
    "#|export\n",
    "@fc.delegates(plt.subplots, keep=True)\n",
    "def subplots( nrows:int=1, # Number of rows in returned axes grid\n",
    "    ncols:int=1, # Number of columns in returned axes grid\n",
    "    figsize:tuple=None, # Width, height in inches of the returned figure\n",
    "    imsize:int=3, # Size (in inches) of images that will be displayed in the returned figure\n",
    "    suptitle:str=None, # Title to be set to returned figure cool\n",
    "    **kwargs):\n",
    "    if figsize is None:\n",
    "        figsize = (nrows*imsize, ncols*imsize)\n",
    "    fig,ax = plt.subplots(nrows, ncols, figsize=figsize, **kwargs)\n",
    "    if suptitle is not None:\n",
    "        fig.suptitle(suptitle)\n",
    "    if nrows*ncols == 1:\n",
    "        ax = np.array([ax])\n",
    "    return fig, ax"
   ]
  },
  {
   "cell_type": "code",
   "execution_count": null,
   "id": "e2703be4",
   "metadata": {},
   "outputs": [],
   "source": [
    "from nbdev.showdoc import show_doc"
   ]
  },
  {
   "cell_type": "code",
   "execution_count": null,
   "id": "6d31afff",
   "metadata": {},
   "outputs": [
    {
     "data": {
      "text/markdown": [
       "---\n",
       "\n",
       "### subplots\n",
       "\n",
       ">      subplots (nrows:int=1, ncols:int=1, figsize:tuple=None, imsize:int=3,\n",
       ">                suptitle:str=None, sharex=False, sharey=False, squeeze=True,\n",
       ">                width_ratios=None, height_ratios=None, subplot_kw=None,\n",
       ">                gridspec_kw=None, **kwargs)\n",
       "\n",
       "|    | **Type** | **Default** | **Details** |\n",
       "| -- | -------- | ----------- | ----------- |\n",
       "| nrows | int | 1 | Number of rows in returned axes grid |\n",
       "| ncols | int | 1 | Number of columns in returned axes grid |\n",
       "| figsize | tuple | None | Width, height in inches of the returned figure |\n",
       "| imsize | int | 3 | Size (in inches) of images that will be displayed in the returned figure |\n",
       "| suptitle | str | None | Title to be set to returned figure cool |\n",
       "| sharex | bool | False |  |\n",
       "| sharey | bool | False |  |\n",
       "| squeeze | bool | True |  |\n",
       "| width_ratios | NoneType | None |  |\n",
       "| height_ratios | NoneType | None |  |\n",
       "| subplot_kw | NoneType | None |  |\n",
       "| gridspec_kw | NoneType | None |  |\n",
       "| kwargs |  |  |  |"
      ],
      "text/plain": [
       "---\n",
       "\n",
       "### subplots\n",
       "\n",
       ">      subplots (nrows:int=1, ncols:int=1, figsize:tuple=None, imsize:int=3,\n",
       ">                suptitle:str=None, sharex=False, sharey=False, squeeze=True,\n",
       ">                width_ratios=None, height_ratios=None, subplot_kw=None,\n",
       ">                gridspec_kw=None, **kwargs)\n",
       "\n",
       "|    | **Type** | **Default** | **Details** |\n",
       "| -- | -------- | ----------- | ----------- |\n",
       "| nrows | int | 1 | Number of rows in returned axes grid |\n",
       "| ncols | int | 1 | Number of columns in returned axes grid |\n",
       "| figsize | tuple | None | Width, height in inches of the returned figure |\n",
       "| imsize | int | 3 | Size (in inches) of images that will be displayed in the returned figure |\n",
       "| suptitle | str | None | Title to be set to returned figure cool |\n",
       "| sharex | bool | False |  |\n",
       "| sharey | bool | False |  |\n",
       "| squeeze | bool | True |  |\n",
       "| width_ratios | NoneType | None |  |\n",
       "| height_ratios | NoneType | None |  |\n",
       "| subplot_kw | NoneType | None |  |\n",
       "| gridspec_kw | NoneType | None |  |\n",
       "| kwargs |  |  |  |"
      ]
     },
     "execution_count": null,
     "metadata": {},
     "output_type": "execute_result"
    }
   ],
   "source": [
    "show_doc(subplots)"
   ]
  },
  {
   "cell_type": "code",
   "execution_count": null,
   "id": "efa43718",
   "metadata": {},
   "outputs": [
    {
     "data": {
      "image/png": "[encoded data removed]",
      "text/plain": [
       "<Figure size 216x216 with 9 Axes>"
      ]
     },
     "metadata": {},
     "output_type": "display_data"
    }
   ],
   "source": [
    "fig,ax = subplots(3,3, imsize=1, suptitle='images')\n",
    "imgs = xb[:9]\n",
    "for ax,im in zip(ax.flat, imgs):\n",
    "    show_image(im.view(28,28), ax=ax, cmap='gray');"
   ]
  },
  {
   "cell_type": "code",
   "execution_count": null,
   "id": "a2919a60",
   "metadata": {},
   "outputs": [],
   "source": [
    "def get_grid(n, nrows=None, ncols=None, title=None, weight=None, size=14, **kwargs):\n",
    "    if nrows:\n",
    "        ncols = ncols or int(np.floor(n/nrows))\n",
    "    elif ncols:\n",
    "        nrows = nrows or int(np.ceil(n/ncols))\n",
    "    else:\n",
    "        nrows = int(math.sqrt(n))\n",
    "        ncols = int(np.floor(n/nrows))\n",
    "    \n",
    "    print('nrows:', nrows)\n",
    "    print('ncols:', ncols)\n",
    "    fig,ax = subplots(nrows, ncols, **kwargs)\n",
    "    for i in range(n, nrows*ncols):\n",
    "        ax.flat[i].set_axis_off()\n",
    "    if title is not None:\n",
    "        fig.suptitle(title, weight=weight, size=size)\n",
    "    return fig,ax"
   ]
  },
  {
   "cell_type": "code",
   "execution_count": null,
   "id": "d6cf23c9",
   "metadata": {},
   "outputs": [],
   "source": [
    "#|export\n",
    "@fc.delegates(subplots)\n",
    "def get_grid(n, nrows=None, ncols=None, title=None, weight=None, size=14, **kwargs):\n",
    "    if nrows:\n",
    "        ncols = ncols or int(np.floor(n/nrows))\n",
    "    elif ncols:\n",
    "        nrows = nrows or int(np.ceil(n/ncols))\n",
    "    else:\n",
    "        nrows = int(math.sqrt(n))\n",
    "        ncols = int(np.floor(n/nrows))\n",
    "    fig,axs = subplots(nrows,ncols,**kwargs)\n",
    "    for i in range(len(axs.flat)):\n",
    "        axs.flat[i].set_axis_off()\n",
    "    if title is not None:\n",
    "        fig.suptitle(title, weight=weight, size=size)\n",
    "    return fig,axs"
   ]
  },
  {
   "cell_type": "code",
   "execution_count": null,
   "id": "c6a66624",
   "metadata": {},
   "outputs": [
    {
     "data": {
      "image/png": "[encoded data removed]",
      "text/plain": [
       "<Figure size 216x216 with 9 Axes>"
      ]
     },
     "metadata": {},
     "output_type": "display_data"
    }
   ],
   "source": [
    "fig,axs = get_grid(9,imsize=1)\n",
    "for im,ax in zip(imgs, axs.flat):\n",
    "    show_image(im.view(28, 28), ax=ax)"
   ]
  },
  {
   "cell_type": "code",
   "execution_count": null,
   "id": "fe949cd7",
   "metadata": {},
   "outputs": [],
   "source": []
  },
  {
   "cell_type": "code",
   "execution_count": null,
   "id": "412a0163",
   "metadata": {},
   "outputs": [],
   "source": []
  }
 ],
 "metadata": {
  "kernelspec": {
   "display_name": "python_main",
   "language": "python",
   "name": "python_main"
  }
 },
 "nbformat": 4,
 "nbformat_minor": 5
}
