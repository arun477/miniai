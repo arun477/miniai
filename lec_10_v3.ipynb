{
 "cells": [
  {
   "cell_type": "code",
   "execution_count": 17,
   "id": "b6bd6616",
   "metadata": {
    "scrolled": true
   },
   "outputs": [],
   "source": [
    "import torch\n",
    "import torch.nn as nn\n",
    "import matplotlib.pyplot as plt\n",
    "from datasets import load_dataset\n",
    "import fastcore.all as fc\n",
    "import torchvision.transforms as TF\n",
    "import torch.nn.functional as F\n",
    "from torcheval.metrics import MulticlassAccuracy, Mean\n",
    "import matplotlib as mpl\n",
    "from miniai.lec_9_v4 import *\n",
    "\n",
    "mpl.rcParams['image.cmap'] = 'gray'"
   ]
  },
  {
   "cell_type": "code",
   "execution_count": 18,
   "id": "b723342c",
   "metadata": {},
   "outputs": [
    {
     "name": "stderr",
     "output_type": "stream",
     "text": [
      "Found cached dataset fashion_mnist (/Users/arun/.cache/huggingface/datasets/fashion_mnist/fashion_mnist/1.0.0/0a671f063342996f19779d38c0ab4abef9c64f757b35af8134b331c294d7ba48)\n"
     ]
    },
    {
     "data": {
      "application/vnd.jupyter.widget-view+json": {
       "model_id": "ee90c267ae844ed0a793229e44eb7a45",
       "version_major": 2,
       "version_minor": 0
      },
      "text/plain": [
       "  0%|          | 0/2 [00:00<?, ?it/s]"
      ]
     },
     "metadata": {},
     "output_type": "display_data"
    }
   ],
   "source": [
    "name = 'fashion_mnist'\n",
    "x,y = 'image', 'label'\n",
    "dd = load_dataset(name)"
   ]
  },
  {
   "cell_type": "code",
   "execution_count": 19,
   "id": "70f73aba",
   "metadata": {},
   "outputs": [],
   "source": [
    "from torch.utils.data import DataLoader, default_collate\n",
    "from operator import itemgetter"
   ]
  },
  {
   "cell_type": "code",
   "execution_count": 29,
   "id": "f2fa163c",
   "metadata": {},
   "outputs": [],
   "source": [
    "def inplace(f):\n",
    "    def _f(b):\n",
    "        f(b)\n",
    "        return b\n",
    "    return _f\n",
    "\n",
    "@inplace\n",
    "def transform_(b):\n",
    "    b[x] = [torch.flatten(TF.to_tensor(ele)) for ele in b[x]]\n",
    "\n",
    "def get_dls(train_ds, valid_ds, batch_size, **kwargs):\n",
    "    return (\n",
    "        DataLoader(train_ds, batch_size=batch_size, shuffle=True, **kwargs),\n",
    "        DataLoader(valid_ds, batch_size=batch_size*2, shuffle=False, **kwargs),\n",
    "    )\n",
    "\n",
    "def collate_dict(ds):\n",
    "    g = itemgetter(*ds.features)\n",
    "    def _f(b):\n",
    "        return g(default_collate(b))\n",
    "    return _f\n",
    "\n",
    "class DataLoaders:\n",
    "    def __init__(self, *dss):\n",
    "        self.train,self.valid = dss[:2]\n",
    "    \n",
    "    @classmethod\n",
    "    def from_dd(cls, dd, batch_size, as_tuple=True, **kwargs):\n",
    "        cf = collate_dict(dd['train'])\n",
    "        return cls(*get_dls(*dd.values(), batch_size=batch_size, collate_fn=cf, **kwargs))"
   ]
  },
  {
   "cell_type": "code",
   "execution_count": 30,
   "id": "fd56cdfd",
   "metadata": {},
   "outputs": [],
   "source": [
    "tds = dd.with_transform(transform_)"
   ]
  },
  {
   "cell_type": "code",
   "execution_count": 31,
   "id": "07247a9c",
   "metadata": {},
   "outputs": [],
   "source": [
    "bs = 1024\n",
    "dls = DataLoaders.from_dd(tds, batch_size=bs)"
   ]
  },
  {
   "cell_type": "code",
   "execution_count": 35,
   "id": "85c18327",
   "metadata": {},
   "outputs": [],
   "source": [
    "def conv(ni, nf, ks=3, act=True):\n",
    "    res = nn.Conv2d(ni, nf, kernel_size=ks, stride=2, padding=ks//2)\n",
    "    if res:\n",
    "        res = nn.Sequential(res, nn.ReLU())\n",
    "    return res\n",
    "\n",
    "def cnn_layers():\n",
    "    return [\n",
    "        conv(1, 8, ks=5),\n",
    "        conv(8, 16),\n",
    "        conv(16, 32),\n",
    "        conv(32, 64),\n",
    "        conv(64, 10, act=False),\n",
    "        nn.Flatten()\n",
    "    ]"
   ]
  },
  {
   "cell_type": "code",
   "execution_count": null,
   "id": "55d1c38c",
   "metadata": {},
   "outputs": [],
   "source": []
  }
 ],
 "metadata": {
  "kernelspec": {
   "display_name": "python_main",
   "language": "python",
   "name": "python_main"
  },
  "language_info": {
   "codemirror_mode": {
    "name": "ipython",
    "version": 3
   },
   "file_extension": ".py",
   "mimetype": "text/x-python",
   "name": "python",
   "nbconvert_exporter": "python",
   "pygments_lexer": "ipython3",
   "version": "3.11.0"
  }
 },
 "nbformat": 4,
 "nbformat_minor": 5
}
