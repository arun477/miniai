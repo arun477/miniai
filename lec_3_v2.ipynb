{
 "cells": [
  {
   "cell_type": "code",
   "execution_count": 2,
   "id": "5e9461d7",
   "metadata": {},
   "outputs": [],
   "source": [
    "import gzip, pickle, torch, matplotlib as mpl\n",
    "from pathlib import Path\n",
    "import numpy as np\n",
    "\n",
    "torch.manual_seed(42)\n",
    "torch.set_printoptions(precision=2, linewidth=140, sci_mode=False)\n",
    "np.set_printoptions(precision=2, linewidth=140)"
   ]
  },
  {
   "cell_type": "code",
   "execution_count": 3,
   "id": "fc082eb9",
   "metadata": {},
   "outputs": [],
   "source": [
    "file = Path('data/mnist.pkl.gz')"
   ]
  },
  {
   "cell_type": "code",
   "execution_count": 4,
   "id": "1587be45",
   "metadata": {},
   "outputs": [
    {
     "data": {
      "text/plain": [
       "True"
      ]
     },
     "execution_count": 4,
     "metadata": {},
     "output_type": "execute_result"
    }
   ],
   "source": [
    "file.exists()"
   ]
  },
  {
   "cell_type": "code",
   "execution_count": 5,
   "id": "d167d09e",
   "metadata": {},
   "outputs": [],
   "source": [
    "data = None\n",
    "with gzip.open(file, 'rb') as f:\n",
    "    data = pickle.load(f, encoding='latin')"
   ]
  },
  {
   "cell_type": "code",
   "execution_count": 6,
   "id": "a82f21fe",
   "metadata": {},
   "outputs": [
    {
     "data": {
      "text/plain": [
       "((50000, 784), (50000,), (10000, 784), (10000,))"
      ]
     },
     "execution_count": 6,
     "metadata": {},
     "output_type": "execute_result"
    }
   ],
   "source": [
    "((x_train, y_train), (x_val, y_val), _) = data\n",
    "x_train.shape, y_train.shape, x_val.shape, y_val.shape"
   ]
  },
  {
   "cell_type": "code",
   "execution_count": 7,
   "id": "c8cfe60c",
   "metadata": {},
   "outputs": [
    {
     "data": {
      "text/plain": [
       "(torch.Size([50000, 784]),\n",
       " torch.Size([50000]),\n",
       " torch.Size([10000, 784]),\n",
       " torch.Size([10000]))"
      ]
     },
     "execution_count": 7,
     "metadata": {},
     "output_type": "execute_result"
    }
   ],
   "source": [
    "(x_train, y_train, x_val, y_val) = map(torch.tensor, (x_train, y_train, x_val, y_val))\n",
    "x_train.shape, y_train.shape, x_val.shape, y_val.shape"
   ]
  },
  {
   "cell_type": "markdown",
   "id": "45c993b2",
   "metadata": {},
   "source": [
    "#### 1 hidden layer neural network with relu activation (ffn)"
   ]
  },
  {
   "cell_type": "code",
   "execution_count": 8,
   "id": "091191d0",
   "metadata": {},
   "outputs": [
    {
     "data": {
      "text/plain": [
       "(50000, 784, tensor(10))"
      ]
     },
     "execution_count": 8,
     "metadata": {},
     "output_type": "execute_result"
    }
   ],
   "source": [
    "m, n = x_train.shape\n",
    "c = y_train.max() + 1\n",
    "m, n, c"
   ]
  },
  {
   "cell_type": "code",
   "execution_count": 9,
   "id": "ad2b62b4",
   "metadata": {},
   "outputs": [],
   "source": [
    "nh = 50"
   ]
  },
  {
   "cell_type": "code",
   "execution_count": 10,
   "id": "1c894bbd",
   "metadata": {},
   "outputs": [],
   "source": [
    "w1 = torch.randn(n, nh)\n",
    "b1 = torch.zeros(nh)\n",
    "w2 = torch.randn(nh, 1)\n",
    "b2 = torch.zeros(1)"
   ]
  },
  {
   "cell_type": "code",
   "execution_count": 11,
   "id": "c97ada4d",
   "metadata": {},
   "outputs": [],
   "source": [
    "def lin(x, w, b):\n",
    "    return x @ w + b"
   ]
  },
  {
   "cell_type": "code",
   "execution_count": 12,
   "id": "aca6669d",
   "metadata": {},
   "outputs": [],
   "source": [
    "t = lin(x_val, w1, b1)"
   ]
  },
  {
   "cell_type": "code",
   "execution_count": 13,
   "id": "9b1bb95f",
   "metadata": {},
   "outputs": [
    {
     "data": {
      "text/plain": [
       "(tensor([[ -0.09,  11.87, -11.39,  ...,   5.48,   2.14,  15.30],\n",
       "         [  5.38,  10.21, -14.49,  ...,   0.88,   0.08,  20.23],\n",
       "         [  3.31,   0.12,   3.10,  ...,  16.89,  -6.05,  24.74],\n",
       "         ...,\n",
       "         [  4.01,  10.35, -11.25,  ...,   0.23,  -5.30,  18.28],\n",
       "         [ 10.62,  -4.27,  10.72,  ...,  -2.87,  -2.87,  18.23],\n",
       "         [  2.84,  -0.22,   1.43,  ...,  -3.91,   5.75,   2.12]]),\n",
       " torch.Size([10000, 50]))"
      ]
     },
     "execution_count": 13,
     "metadata": {},
     "output_type": "execute_result"
    }
   ],
   "source": [
    "t, t.shape"
   ]
  },
  {
   "cell_type": "code",
   "execution_count": 14,
   "id": "a734dad8",
   "metadata": {},
   "outputs": [],
   "source": [
    "def relu(x):\n",
    "    return x.clamp_min(0)"
   ]
  },
  {
   "cell_type": "code",
   "execution_count": 15,
   "id": "885f2d5f",
   "metadata": {},
   "outputs": [],
   "source": [
    "def model(xb):\n",
    "    l1 = lin(xb, w1, b1)\n",
    "    l2 = relu(l1)\n",
    "    return lin(l2, w2, b2)"
   ]
  },
  {
   "cell_type": "code",
   "execution_count": 16,
   "id": "962c4c76",
   "metadata": {},
   "outputs": [],
   "source": [
    "res = model(x_val)"
   ]
  },
  {
   "cell_type": "code",
   "execution_count": 17,
   "id": "c75a7870",
   "metadata": {},
   "outputs": [
    {
     "data": {
      "text/plain": [
       "torch.Size([10000, 1])"
      ]
     },
     "execution_count": 17,
     "metadata": {},
     "output_type": "execute_result"
    }
   ],
   "source": [
    "res.shape"
   ]
  },
  {
   "cell_type": "markdown",
   "id": "9211843d",
   "metadata": {},
   "source": [
    "#### loss function (MSE)"
   ]
  },
  {
   "cell_type": "code",
   "execution_count": 18,
   "id": "7d33ce49",
   "metadata": {},
   "outputs": [
    {
     "data": {
      "text/plain": [
       "(torch.Size([10000, 1]), torch.Size([10000]))"
      ]
     },
     "execution_count": 18,
     "metadata": {},
     "output_type": "execute_result"
    }
   ],
   "source": [
    "res.shape, y_val.shape"
   ]
  },
  {
   "cell_type": "code",
   "execution_count": 19,
   "id": "083a2529",
   "metadata": {},
   "outputs": [
    {
     "data": {
      "text/plain": [
       "tensor([[  22.75,   17.75,   19.75,  ...,   20.75,   19.75,   17.75],\n",
       "        [ -16.06,  -21.06,  -19.06,  ...,  -18.06,  -19.06,  -21.06],\n",
       "        [-117.79, -122.79, -120.79,  ..., -119.79, -120.79, -122.79],\n",
       "        ...,\n",
       "        [ -70.44,  -75.44,  -73.44,  ...,  -72.44,  -73.44,  -75.44],\n",
       "        [ -77.48,  -82.48,  -80.48,  ...,  -79.48,  -80.48,  -82.48],\n",
       "        [ -63.19,  -68.19,  -66.19,  ...,  -65.19,  -66.19,  -68.19]])"
      ]
     },
     "execution_count": 19,
     "metadata": {},
     "output_type": "execute_result"
    }
   ],
   "source": [
    "(res - y_val)"
   ]
  },
  {
   "cell_type": "code",
   "execution_count": 20,
   "id": "a66dd371",
   "metadata": {},
   "outputs": [
    {
     "data": {
      "text/plain": [
       "torch.Size([10000, 1])"
      ]
     },
     "execution_count": 20,
     "metadata": {},
     "output_type": "execute_result"
    }
   ],
   "source": [
    "y_val.view(-1, 1).shape"
   ]
  },
  {
   "cell_type": "code",
   "execution_count": 21,
   "id": "00fe3ca8",
   "metadata": {},
   "outputs": [
    {
     "data": {
      "text/plain": [
       "tensor(4154.01)"
      ]
     },
     "execution_count": 21,
     "metadata": {},
     "output_type": "execute_result"
    }
   ],
   "source": [
    "(res - y_val.view(-1, 1)).pow(2).mean()"
   ]
  },
  {
   "cell_type": "code",
   "execution_count": 22,
   "id": "3267ad56",
   "metadata": {},
   "outputs": [
    {
     "data": {
      "text/plain": [
       "tensor(4154.01)"
      ]
     },
     "execution_count": 22,
     "metadata": {},
     "output_type": "execute_result"
    }
   ],
   "source": [
    "(res - y_val.view(-1, 1)).pow(2).sum()/(res - y_val.view(-1, 1)).shape[0]"
   ]
  },
  {
   "cell_type": "code",
   "execution_count": 23,
   "id": "ca43a130",
   "metadata": {},
   "outputs": [
    {
     "data": {
      "text/plain": [
       "10000"
      ]
     },
     "execution_count": 23,
     "metadata": {},
     "output_type": "execute_result"
    }
   ],
   "source": [
    "(res - y_val.view(-1, 1)).shape[0]"
   ]
  },
  {
   "cell_type": "code",
   "execution_count": 24,
   "id": "a9044b14",
   "metadata": {},
   "outputs": [
    {
     "data": {
      "text/plain": [
       "True"
      ]
     },
     "execution_count": 24,
     "metadata": {},
     "output_type": "execute_result"
    }
   ],
   "source": [
    "torch.diag((res - y_val)).allclose((res - y_val.view(-1, 1)).view(-1))"
   ]
  },
  {
   "cell_type": "code",
   "execution_count": 25,
   "id": "ff64da7b",
   "metadata": {},
   "outputs": [],
   "source": [
    "y_train, y_val = y_train.float(), y_val.float()"
   ]
  },
  {
   "cell_type": "code",
   "execution_count": 26,
   "id": "c748fcc4",
   "metadata": {},
   "outputs": [],
   "source": [
    "def mse(out, targ):\n",
    "    return (out - targ.view(-1, 1)).pow(2).mean()"
   ]
  },
  {
   "cell_type": "code",
   "execution_count": 27,
   "id": "7ed583fb",
   "metadata": {},
   "outputs": [],
   "source": [
    "pred = model(x_train)"
   ]
  },
  {
   "cell_type": "code",
   "execution_count": 28,
   "id": "71a9d63e",
   "metadata": {},
   "outputs": [
    {
     "data": {
      "text/plain": [
       "tensor(4308.76)"
      ]
     },
     "execution_count": 28,
     "metadata": {},
     "output_type": "execute_result"
    }
   ],
   "source": [
    "mse(pred, y_train)"
   ]
  },
  {
   "cell_type": "markdown",
   "id": "44141f9a",
   "metadata": {},
   "source": [
    "#### gradients and backward pass"
   ]
  },
  {
   "cell_type": "code",
   "execution_count": 29,
   "id": "1ad71471",
   "metadata": {},
   "outputs": [],
   "source": [
    "from sympy import symbols, diff"
   ]
  },
  {
   "cell_type": "code",
   "execution_count": 30,
   "id": "861692da",
   "metadata": {},
   "outputs": [],
   "source": [
    "x, y = symbols('x y')"
   ]
  },
  {
   "cell_type": "code",
   "execution_count": 31,
   "id": "d62febed",
   "metadata": {},
   "outputs": [
    {
     "data": {
      "text/latex": [
       "$\\displaystyle 2 x$"
      ],
      "text/plain": [
       "2*x"
      ]
     },
     "execution_count": 31,
     "metadata": {},
     "output_type": "execute_result"
    }
   ],
   "source": [
    "diff(x**2, x)"
   ]
  },
  {
   "cell_type": "code",
   "execution_count": 32,
   "id": "77bb771d",
   "metadata": {},
   "outputs": [],
   "source": [
    "def lin_grad(out, x, w, b):\n",
    "    b.g = out.g.sum(0)\n",
    "    w.g = out.g * x.t().sum(1)\n",
    "    x.g = out.g @ w.t()"
   ]
  },
  {
   "cell_type": "code",
   "execution_count": 34,
   "id": "387e87dd",
   "metadata": {},
   "outputs": [],
   "source": [
    "def forward_backward(xb):\n",
    "    l1 = lin(xb, w1, b1)\n",
    "    l2 = relu(l1)\n",
    "    out = lin(l2, w2, b2)\n",
    "    "
   ]
  },
  {
   "cell_type": "code",
   "execution_count": null,
   "id": "249f50d0",
   "metadata": {},
   "outputs": [],
   "source": []
  },
  {
   "cell_type": "code",
   "execution_count": null,
   "id": "09660f70",
   "metadata": {},
   "outputs": [],
   "source": []
  },
  {
   "cell_type": "code",
   "execution_count": null,
   "id": "bdaeef95",
   "metadata": {},
   "outputs": [],
   "source": []
  },
  {
   "cell_type": "code",
   "execution_count": null,
   "id": "e9ab8183",
   "metadata": {},
   "outputs": [],
   "source": []
  },
  {
   "cell_type": "code",
   "execution_count": null,
   "id": "74540604",
   "metadata": {},
   "outputs": [],
   "source": []
  },
  {
   "cell_type": "code",
   "execution_count": null,
   "id": "c4a3d567",
   "metadata": {},
   "outputs": [],
   "source": []
  }
 ],
 "metadata": {
  "kernelspec": {
   "display_name": "python_main",
   "language": "python",
   "name": "python_main"
  },
  "language_info": {
   "codemirror_mode": {
    "name": "ipython",
    "version": 3
   },
   "file_extension": ".py",
   "mimetype": "text/x-python",
   "name": "python",
   "nbconvert_exporter": "python",
   "pygments_lexer": "ipython3",
   "version": "3.11.0"
  }
 },
 "nbformat": 4,
 "nbformat_minor": 5
}
