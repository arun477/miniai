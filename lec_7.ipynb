{
 "cells": [
  {
   "cell_type": "markdown",
   "id": "42f8e5bd",
   "metadata": {},
   "source": [
    "#### convolution"
   ]
  },
  {
   "cell_type": "code",
   "execution_count": 2,
   "id": "be203f99",
   "metadata": {},
   "outputs": [],
   "source": [
    "import torch\n",
    "from pathlib import Path\n",
    "import matplotlib.pyplot as plt\n",
    "import gzip, pickle\n",
    "import matplotlib as mpl\n",
    "import pandas as pd"
   ]
  },
  {
   "cell_type": "code",
   "execution_count": 3,
   "id": "161a807b",
   "metadata": {},
   "outputs": [],
   "source": [
    "%matplotlib inline\n",
    "mpl.rcParams['image.cmap'] = 'gray'"
   ]
  },
  {
   "cell_type": "code",
   "execution_count": 4,
   "id": "b2a57631",
   "metadata": {},
   "outputs": [],
   "source": [
    "data_path  = Path('./data/mnist.pkl.gz')"
   ]
  },
  {
   "cell_type": "code",
   "execution_count": 5,
   "id": "c7b6ae09",
   "metadata": {},
   "outputs": [
    {
     "data": {
      "text/plain": [
       "True"
      ]
     },
     "execution_count": 5,
     "metadata": {},
     "output_type": "execute_result"
    }
   ],
   "source": [
    "data_path.exists()"
   ]
  },
  {
   "cell_type": "code",
   "execution_count": 6,
   "id": "9ba4cd4e",
   "metadata": {},
   "outputs": [],
   "source": [
    "data = None\n",
    "with gzip.open(data_path, 'rb') as f:\n",
    "    data = pickle.load(f, encoding='latin')"
   ]
  },
  {
   "cell_type": "code",
   "execution_count": 7,
   "id": "9cc66408",
   "metadata": {},
   "outputs": [],
   "source": [
    "((x_train, y_train), (x_val, y_val), _) = data"
   ]
  },
  {
   "cell_type": "code",
   "execution_count": 8,
   "id": "70dd8b87",
   "metadata": {},
   "outputs": [],
   "source": [
    "(x_train, y_train, x_val, y_val) = map(torch.tensor, (x_train, y_train, x_val, y_val))"
   ]
  },
  {
   "cell_type": "code",
   "execution_count": 9,
   "id": "9da5c356",
   "metadata": {},
   "outputs": [
    {
     "data": {
      "text/plain": [
       "(torch.Size([50000, 784]),\n",
       " torch.Size([50000]),\n",
       " torch.Size([10000, 784]),\n",
       " torch.Size([10000]))"
      ]
     },
     "execution_count": 9,
     "metadata": {},
     "output_type": "execute_result"
    }
   ],
   "source": [
    "x_train.shape, y_train.shape, x_val.shape, y_val.shape"
   ]
  },
  {
   "cell_type": "code",
   "execution_count": 10,
   "id": "5fe6dbba",
   "metadata": {},
   "outputs": [],
   "source": [
    "x_imgs = x_train.view(-1, 28, 28)\n",
    "xval_imgs = x_val.view(-1, 28, 28)"
   ]
  },
  {
   "cell_type": "code",
   "execution_count": 11,
   "id": "a6799090",
   "metadata": {},
   "outputs": [],
   "source": [
    "im3 = x_imgs[7]"
   ]
  },
  {
   "cell_type": "code",
   "execution_count": 12,
   "id": "7d4c48a3",
   "metadata": {},
   "outputs": [
    {
     "data": {
      "text/plain": [
       "<matplotlib.image.AxesImage at 0x1a71f33d0>"
      ]
     },
     "execution_count": 12,
     "metadata": {},
     "output_type": "execute_result"
    },
    {
     "data": {
      "image/png": "[encoded data removed]",
      "text/plain": [
       "<Figure size 432x288 with 1 Axes>"
      ]
     },
     "metadata": {
      "needs_background": "light"
     },
     "output_type": "display_data"
    }
   ],
   "source": [
    "plt.imshow(im3)"
   ]
  },
  {
   "cell_type": "code",
   "execution_count": 13,
   "id": "773c98ec",
   "metadata": {},
   "outputs": [],
   "source": [
    "top_edges = torch.tensor([\n",
    "    [-1, -1, -1],\n",
    "    [0, 0, 0],\n",
    "    [1, 1, 1]\n",
    "])"
   ]
  },
  {
   "cell_type": "code",
   "execution_count": 14,
   "id": "2bcd6c86",
   "metadata": {},
   "outputs": [
    {
     "data": {
      "text/plain": [
       "<matplotlib.image.AxesImage at 0x1a725ebd0>"
      ]
     },
     "execution_count": 14,
     "metadata": {},
     "output_type": "execute_result"
    },
    {
     "data": {
      "image/png": "[encoded data removed]",
      "text/plain": [
       "<Figure size 432x288 with 1 Axes>"
      ]
     },
     "metadata": {
      "needs_background": "light"
     },
     "output_type": "display_data"
    }
   ],
   "source": [
    "plt.imshow(top_edges)"
   ]
  },
  {
   "cell_type": "code",
   "execution_count": 15,
   "id": "da63c677",
   "metadata": {},
   "outputs": [
    {
     "data": {
      "text/html": [
       "<style type=\"text/css\">\n",
       "#T_d4778_row0_col0, #T_d4778_row0_col1, #T_d4778_row0_col2, #T_d4778_row0_col3, #T_d4778_row0_col4, #T_d4778_row0_col5, #T_d4778_row0_col6, #T_d4778_row0_col7, #T_d4778_row0_col8, #T_d4778_row0_col9, #T_d4778_row0_col10, #T_d4778_row0_col11, #T_d4778_row0_col12, #T_d4778_row0_col13, #T_d4778_row0_col14, #T_d4778_row0_col15, #T_d4778_row0_col16, #T_d4778_row0_col17, #T_d4778_row0_col18, #T_d4778_row0_col19, #T_d4778_row0_col20, #T_d4778_row0_col21, #T_d4778_row0_col22, #T_d4778_row1_col0, #T_d4778_row1_col1, #T_d4778_row1_col2, #T_d4778_row1_col3, #T_d4778_row1_col4, #T_d4778_row1_col5, #T_d4778_row1_col6, #T_d4778_row1_col7, #T_d4778_row1_col8, #T_d4778_row1_col9, #T_d4778_row1_col10, #T_d4778_row1_col11, #T_d4778_row1_col12, #T_d4778_row1_col13, #T_d4778_row1_col14, #T_d4778_row1_col15, #T_d4778_row1_col16, #T_d4778_row1_col17, #T_d4778_row1_col18, #T_d4778_row1_col19, #T_d4778_row1_col20, #T_d4778_row1_col21, #T_d4778_row1_col22, #T_d4778_row2_col0, #T_d4778_row2_col1, #T_d4778_row2_col2, #T_d4778_row2_col3, #T_d4778_row2_col4, #T_d4778_row2_col5, #T_d4778_row2_col6, #T_d4778_row2_col7, #T_d4778_row2_col8, #T_d4778_row2_col9, #T_d4778_row2_col10, #T_d4778_row2_col11, #T_d4778_row2_col12, #T_d4778_row2_col13, #T_d4778_row2_col14, #T_d4778_row2_col15, #T_d4778_row2_col16, #T_d4778_row2_col17, #T_d4778_row2_col18, #T_d4778_row2_col19, #T_d4778_row2_col20, #T_d4778_row2_col21, #T_d4778_row2_col22, #T_d4778_row3_col0, #T_d4778_row3_col1, #T_d4778_row3_col2, #T_d4778_row3_col3, #T_d4778_row3_col4, #T_d4778_row3_col5, #T_d4778_row3_col6, #T_d4778_row3_col7, #T_d4778_row3_col8, #T_d4778_row3_col9, #T_d4778_row3_col10, #T_d4778_row3_col11, #T_d4778_row3_col12, #T_d4778_row3_col13, #T_d4778_row3_col14, #T_d4778_row3_col15, #T_d4778_row3_col16, #T_d4778_row3_col17, #T_d4778_row3_col18, #T_d4778_row3_col19, #T_d4778_row3_col20, #T_d4778_row3_col21, #T_d4778_row3_col22, #T_d4778_row4_col0, #T_d4778_row4_col1, #T_d4778_row4_col2, #T_d4778_row4_col3, #T_d4778_row4_col4, #T_d4778_row4_col5, #T_d4778_row4_col6, #T_d4778_row4_col7, #T_d4778_row4_col8, #T_d4778_row4_col9, #T_d4778_row4_col10, #T_d4778_row4_col11, #T_d4778_row4_col12, #T_d4778_row4_col13, #T_d4778_row4_col14, #T_d4778_row4_col15, #T_d4778_row4_col16, #T_d4778_row4_col17, #T_d4778_row4_col18, #T_d4778_row4_col19, #T_d4778_row4_col20, #T_d4778_row4_col21, #T_d4778_row4_col22, #T_d4778_row5_col0, #T_d4778_row5_col1, #T_d4778_row5_col2, #T_d4778_row5_col3, #T_d4778_row5_col4, #T_d4778_row5_col5, #T_d4778_row5_col6, #T_d4778_row5_col7, #T_d4778_row5_col8, #T_d4778_row5_col9, #T_d4778_row5_col10, #T_d4778_row5_col22, #T_d4778_row6_col0, #T_d4778_row6_col1, #T_d4778_row6_col2, #T_d4778_row6_col3, #T_d4778_row6_col4, #T_d4778_row6_col5, #T_d4778_row6_col6, #T_d4778_row6_col7, #T_d4778_row6_col8, #T_d4778_row7_col0, #T_d4778_row7_col1, #T_d4778_row7_col2, #T_d4778_row7_col3, #T_d4778_row7_col4, #T_d4778_row7_col5, #T_d4778_row7_col6, #T_d4778_row7_col7, #T_d4778_row7_col8, #T_d4778_row8_col0, #T_d4778_row8_col1, #T_d4778_row8_col2, #T_d4778_row8_col3, #T_d4778_row8_col4, #T_d4778_row8_col5, #T_d4778_row8_col6, #T_d4778_row8_col7, #T_d4778_row8_col8, #T_d4778_row9_col0, #T_d4778_row9_col1, #T_d4778_row9_col2, #T_d4778_row9_col3, #T_d4778_row9_col4, #T_d4778_row9_col5, #T_d4778_row9_col6, #T_d4778_row9_col7, #T_d4778_row9_col8, #T_d4778_row9_col13, #T_d4778_row9_col14, #T_d4778_row9_col15, #T_d4778_row9_col16, #T_d4778_row10_col0, #T_d4778_row10_col1, #T_d4778_row10_col2, #T_d4778_row10_col3, #T_d4778_row10_col4, #T_d4778_row10_col5, #T_d4778_row10_col6, #T_d4778_row10_col7, #T_d4778_row10_col8, #T_d4778_row10_col9, #T_d4778_row10_col10, #T_d4778_row10_col11, #T_d4778_row10_col12, #T_d4778_row10_col13, #T_d4778_row10_col14, #T_d4778_row10_col15, #T_d4778_row10_col16, #T_d4778_row10_col22, #T_d4778_row11_col0, #T_d4778_row11_col1, #T_d4778_row11_col2, #T_d4778_row11_col3, #T_d4778_row11_col4, #T_d4778_row11_col5, #T_d4778_row11_col6, #T_d4778_row11_col7, #T_d4778_row11_col8, #T_d4778_row11_col9, #T_d4778_row11_col10, #T_d4778_row11_col11, #T_d4778_row11_col12, #T_d4778_row11_col13, #T_d4778_row11_col14, #T_d4778_row11_col15, #T_d4778_row11_col22, #T_d4778_row12_col0, #T_d4778_row12_col1, #T_d4778_row12_col2, #T_d4778_row12_col3, #T_d4778_row12_col4, #T_d4778_row12_col5, #T_d4778_row12_col6, #T_d4778_row12_col7, #T_d4778_row12_col8, #T_d4778_row12_col9, #T_d4778_row12_col10, #T_d4778_row12_col11, #T_d4778_row12_col12, #T_d4778_row12_col13, #T_d4778_row12_col22 {\n",
       "  font-size: 8pt;\n",
       "  background-color: #f7fcf5;\n",
       "  color: #000000;\n",
       "}\n",
       "#T_d4778_row5_col11 {\n",
       "  font-size: 8pt;\n",
       "  background-color: #dff3da;\n",
       "  color: #000000;\n",
       "}\n",
       "#T_d4778_row5_col12 {\n",
       "  font-size: 8pt;\n",
       "  background-color: #dbf1d5;\n",
       "  color: #000000;\n",
       "}\n",
       "#T_d4778_row5_col13 {\n",
       "  font-size: 8pt;\n",
       "  background-color: #92d28f;\n",
       "  color: #000000;\n",
       "}\n",
       "#T_d4778_row5_col14, #T_d4778_row5_col15, #T_d4778_row5_col16, #T_d4778_row5_col17, #T_d4778_row5_col18, #T_d4778_row5_col19, #T_d4778_row6_col13, #T_d4778_row6_col20, #T_d4778_row7_col9, #T_d4778_row7_col10, #T_d4778_row7_col11, #T_d4778_row7_col12, #T_d4778_row7_col13, #T_d4778_row7_col20, #T_d4778_row7_col21, #T_d4778_row7_col22, #T_d4778_row8_col10, #T_d4778_row8_col11, #T_d4778_row8_col20, #T_d4778_row8_col21, #T_d4778_row8_col22, #T_d4778_row9_col20, #T_d4778_row10_col20, #T_d4778_row11_col20 {\n",
       "  font-size: 8pt;\n",
       "  background-color: #00441b;\n",
       "  color: #f1f1f1;\n",
       "}\n",
       "#T_d4778_row5_col20 {\n",
       "  font-size: 8pt;\n",
       "  background-color: #319a50;\n",
       "  color: #f1f1f1;\n",
       "}\n",
       "#T_d4778_row5_col21 {\n",
       "  font-size: 8pt;\n",
       "  background-color: #f4fbf1;\n",
       "  color: #000000;\n",
       "}\n",
       "#T_d4778_row6_col9 {\n",
       "  font-size: 8pt;\n",
       "  background-color: #caeac3;\n",
       "  color: #000000;\n",
       "}\n",
       "#T_d4778_row6_col10 {\n",
       "  font-size: 8pt;\n",
       "  background-color: #5eb96b;\n",
       "  color: #f1f1f1;\n",
       "}\n",
       "#T_d4778_row6_col11 {\n",
       "  font-size: 8pt;\n",
       "  background-color: #00682a;\n",
       "  color: #f1f1f1;\n",
       "}\n",
       "#T_d4778_row6_col12 {\n",
       "  font-size: 8pt;\n",
       "  background-color: #006529;\n",
       "  color: #f1f1f1;\n",
       "}\n",
       "#T_d4778_row6_col14, #T_d4778_row7_col14 {\n",
       "  font-size: 8pt;\n",
       "  background-color: #00471c;\n",
       "  color: #f1f1f1;\n",
       "}\n",
       "#T_d4778_row6_col15, #T_d4778_row6_col16, #T_d4778_row6_col17, #T_d4778_row6_col18, #T_d4778_row6_col19, #T_d4778_row7_col15, #T_d4778_row7_col16, #T_d4778_row7_col17, #T_d4778_row7_col18, #T_d4778_row7_col19, #T_d4778_row8_col18, #T_d4778_row8_col19, #T_d4778_row9_col19, #T_d4778_row10_col19, #T_d4778_row11_col18, #T_d4778_row11_col19, #T_d4778_row12_col17, #T_d4778_row12_col18, #T_d4778_row12_col19 {\n",
       "  font-size: 8pt;\n",
       "  background-color: #00451c;\n",
       "  color: #f1f1f1;\n",
       "}\n",
       "#T_d4778_row6_col21 {\n",
       "  font-size: 8pt;\n",
       "  background-color: #40aa5d;\n",
       "  color: #f1f1f1;\n",
       "}\n",
       "#T_d4778_row6_col22 {\n",
       "  font-size: 8pt;\n",
       "  background-color: #cbeac4;\n",
       "  color: #000000;\n",
       "}\n",
       "#T_d4778_row8_col9 {\n",
       "  font-size: 8pt;\n",
       "  background-color: #46ae60;\n",
       "  color: #f1f1f1;\n",
       "}\n",
       "#T_d4778_row8_col12 {\n",
       "  font-size: 8pt;\n",
       "  background-color: #006027;\n",
       "  color: #f1f1f1;\n",
       "}\n",
       "#T_d4778_row8_col13 {\n",
       "  font-size: 8pt;\n",
       "  background-color: #6abf71;\n",
       "  color: #000000;\n",
       "}\n",
       "#T_d4778_row8_col14, #T_d4778_row8_col15, #T_d4778_row8_col16 {\n",
       "  font-size: 8pt;\n",
       "  background-color: #6bc072;\n",
       "  color: #000000;\n",
       "}\n",
       "#T_d4778_row8_col17, #T_d4778_row11_col17 {\n",
       "  font-size: 8pt;\n",
       "  background-color: #238b45;\n",
       "  color: #f1f1f1;\n",
       "}\n",
       "#T_d4778_row9_col9 {\n",
       "  font-size: 8pt;\n",
       "  background-color: #f4fbf2;\n",
       "  color: #000000;\n",
       "}\n",
       "#T_d4778_row9_col10, #T_d4778_row9_col11 {\n",
       "  font-size: 8pt;\n",
       "  background-color: #e7f6e2;\n",
       "  color: #000000;\n",
       "}\n",
       "#T_d4778_row9_col12 {\n",
       "  font-size: 8pt;\n",
       "  background-color: #e9f7e5;\n",
       "  color: #000000;\n",
       "}\n",
       "#T_d4778_row9_col17, #T_d4778_row11_col21 {\n",
       "  font-size: 8pt;\n",
       "  background-color: #eff9ec;\n",
       "  color: #000000;\n",
       "}\n",
       "#T_d4778_row9_col18 {\n",
       "  font-size: 8pt;\n",
       "  background-color: #006729;\n",
       "  color: #f1f1f1;\n",
       "}\n",
       "#T_d4778_row9_col21 {\n",
       "  font-size: 8pt;\n",
       "  background-color: #339c52;\n",
       "  color: #f1f1f1;\n",
       "}\n",
       "#T_d4778_row9_col22 {\n",
       "  font-size: 8pt;\n",
       "  background-color: #e6f5e1;\n",
       "  color: #000000;\n",
       "}\n",
       "#T_d4778_row10_col17 {\n",
       "  font-size: 8pt;\n",
       "  background-color: #acdea6;\n",
       "  color: #000000;\n",
       "}\n",
       "#T_d4778_row10_col18 {\n",
       "  font-size: 8pt;\n",
       "  background-color: #005120;\n",
       "  color: #f1f1f1;\n",
       "}\n",
       "#T_d4778_row10_col21 {\n",
       "  font-size: 8pt;\n",
       "  background-color: #56b567;\n",
       "  color: #f1f1f1;\n",
       "}\n",
       "#T_d4778_row11_col16 {\n",
       "  font-size: 8pt;\n",
       "  background-color: #a9dca3;\n",
       "  color: #000000;\n",
       "}\n",
       "#T_d4778_row12_col14 {\n",
       "  font-size: 8pt;\n",
       "  background-color: #a7dba0;\n",
       "  color: #000000;\n",
       "}\n",
       "#T_d4778_row12_col15 {\n",
       "  font-size: 8pt;\n",
       "  background-color: #0a7633;\n",
       "  color: #f1f1f1;\n",
       "}\n",
       "#T_d4778_row12_col16 {\n",
       "  font-size: 8pt;\n",
       "  background-color: #004c1e;\n",
       "  color: #f1f1f1;\n",
       "}\n",
       "#T_d4778_row12_col20 {\n",
       "  font-size: 8pt;\n",
       "  background-color: #127c39;\n",
       "  color: #f1f1f1;\n",
       "}\n",
       "#T_d4778_row12_col21 {\n",
       "  font-size: 8pt;\n",
       "  background-color: #f2faef;\n",
       "  color: #000000;\n",
       "}\n",
       "</style>\n",
       "<table id=\"T_d4778\">\n",
       "  <thead>\n",
       "    <tr>\n",
       "      <th class=\"blank level0\" >&nbsp;</th>\n",
       "      <th id=\"T_d4778_level0_col0\" class=\"col_heading level0 col0\" >0</th>\n",
       "      <th id=\"T_d4778_level0_col1\" class=\"col_heading level0 col1\" >1</th>\n",
       "      <th id=\"T_d4778_level0_col2\" class=\"col_heading level0 col2\" >2</th>\n",
       "      <th id=\"T_d4778_level0_col3\" class=\"col_heading level0 col3\" >3</th>\n",
       "      <th id=\"T_d4778_level0_col4\" class=\"col_heading level0 col4\" >4</th>\n",
       "      <th id=\"T_d4778_level0_col5\" class=\"col_heading level0 col5\" >5</th>\n",
       "      <th id=\"T_d4778_level0_col6\" class=\"col_heading level0 col6\" >6</th>\n",
       "      <th id=\"T_d4778_level0_col7\" class=\"col_heading level0 col7\" >7</th>\n",
       "      <th id=\"T_d4778_level0_col8\" class=\"col_heading level0 col8\" >8</th>\n",
       "      <th id=\"T_d4778_level0_col9\" class=\"col_heading level0 col9\" >9</th>\n",
       "      <th id=\"T_d4778_level0_col10\" class=\"col_heading level0 col10\" >10</th>\n",
       "      <th id=\"T_d4778_level0_col11\" class=\"col_heading level0 col11\" >11</th>\n",
       "      <th id=\"T_d4778_level0_col12\" class=\"col_heading level0 col12\" >12</th>\n",
       "      <th id=\"T_d4778_level0_col13\" class=\"col_heading level0 col13\" >13</th>\n",
       "      <th id=\"T_d4778_level0_col14\" class=\"col_heading level0 col14\" >14</th>\n",
       "      <th id=\"T_d4778_level0_col15\" class=\"col_heading level0 col15\" >15</th>\n",
       "      <th id=\"T_d4778_level0_col16\" class=\"col_heading level0 col16\" >16</th>\n",
       "      <th id=\"T_d4778_level0_col17\" class=\"col_heading level0 col17\" >17</th>\n",
       "      <th id=\"T_d4778_level0_col18\" class=\"col_heading level0 col18\" >18</th>\n",
       "      <th id=\"T_d4778_level0_col19\" class=\"col_heading level0 col19\" >19</th>\n",
       "      <th id=\"T_d4778_level0_col20\" class=\"col_heading level0 col20\" >20</th>\n",
       "      <th id=\"T_d4778_level0_col21\" class=\"col_heading level0 col21\" >21</th>\n",
       "      <th id=\"T_d4778_level0_col22\" class=\"col_heading level0 col22\" >22</th>\n",
       "    </tr>\n",
       "  </thead>\n",
       "  <tbody>\n",
       "    <tr>\n",
       "      <th id=\"T_d4778_level0_row0\" class=\"row_heading level0 row0\" >0</th>\n",
       "      <td id=\"T_d4778_row0_col0\" class=\"data row0 col0\" >0.00</td>\n",
       "      <td id=\"T_d4778_row0_col1\" class=\"data row0 col1\" >0.00</td>\n",
       "      <td id=\"T_d4778_row0_col2\" class=\"data row0 col2\" >0.00</td>\n",
       "      <td id=\"T_d4778_row0_col3\" class=\"data row0 col3\" >0.00</td>\n",
       "      <td id=\"T_d4778_row0_col4\" class=\"data row0 col4\" >0.00</td>\n",
       "      <td id=\"T_d4778_row0_col5\" class=\"data row0 col5\" >0.00</td>\n",
       "      <td id=\"T_d4778_row0_col6\" class=\"data row0 col6\" >0.00</td>\n",
       "      <td id=\"T_d4778_row0_col7\" class=\"data row0 col7\" >0.00</td>\n",
       "      <td id=\"T_d4778_row0_col8\" class=\"data row0 col8\" >0.00</td>\n",
       "      <td id=\"T_d4778_row0_col9\" class=\"data row0 col9\" >0.00</td>\n",
       "      <td id=\"T_d4778_row0_col10\" class=\"data row0 col10\" >0.00</td>\n",
       "      <td id=\"T_d4778_row0_col11\" class=\"data row0 col11\" >0.00</td>\n",
       "      <td id=\"T_d4778_row0_col12\" class=\"data row0 col12\" >0.00</td>\n",
       "      <td id=\"T_d4778_row0_col13\" class=\"data row0 col13\" >0.00</td>\n",
       "      <td id=\"T_d4778_row0_col14\" class=\"data row0 col14\" >0.00</td>\n",
       "      <td id=\"T_d4778_row0_col15\" class=\"data row0 col15\" >0.00</td>\n",
       "      <td id=\"T_d4778_row0_col16\" class=\"data row0 col16\" >0.00</td>\n",
       "      <td id=\"T_d4778_row0_col17\" class=\"data row0 col17\" >0.00</td>\n",
       "      <td id=\"T_d4778_row0_col18\" class=\"data row0 col18\" >0.00</td>\n",
       "      <td id=\"T_d4778_row0_col19\" class=\"data row0 col19\" >0.00</td>\n",
       "      <td id=\"T_d4778_row0_col20\" class=\"data row0 col20\" >0.00</td>\n",
       "      <td id=\"T_d4778_row0_col21\" class=\"data row0 col21\" >0.00</td>\n",
       "      <td id=\"T_d4778_row0_col22\" class=\"data row0 col22\" >0.00</td>\n",
       "    </tr>\n",
       "    <tr>\n",
       "      <th id=\"T_d4778_level0_row1\" class=\"row_heading level0 row1\" >1</th>\n",
       "      <td id=\"T_d4778_row1_col0\" class=\"data row1 col0\" >0.00</td>\n",
       "      <td id=\"T_d4778_row1_col1\" class=\"data row1 col1\" >0.00</td>\n",
       "      <td id=\"T_d4778_row1_col2\" class=\"data row1 col2\" >0.00</td>\n",
       "      <td id=\"T_d4778_row1_col3\" class=\"data row1 col3\" >0.00</td>\n",
       "      <td id=\"T_d4778_row1_col4\" class=\"data row1 col4\" >0.00</td>\n",
       "      <td id=\"T_d4778_row1_col5\" class=\"data row1 col5\" >0.00</td>\n",
       "      <td id=\"T_d4778_row1_col6\" class=\"data row1 col6\" >0.00</td>\n",
       "      <td id=\"T_d4778_row1_col7\" class=\"data row1 col7\" >0.00</td>\n",
       "      <td id=\"T_d4778_row1_col8\" class=\"data row1 col8\" >0.00</td>\n",
       "      <td id=\"T_d4778_row1_col9\" class=\"data row1 col9\" >0.00</td>\n",
       "      <td id=\"T_d4778_row1_col10\" class=\"data row1 col10\" >0.00</td>\n",
       "      <td id=\"T_d4778_row1_col11\" class=\"data row1 col11\" >0.00</td>\n",
       "      <td id=\"T_d4778_row1_col12\" class=\"data row1 col12\" >0.00</td>\n",
       "      <td id=\"T_d4778_row1_col13\" class=\"data row1 col13\" >0.00</td>\n",
       "      <td id=\"T_d4778_row1_col14\" class=\"data row1 col14\" >0.00</td>\n",
       "      <td id=\"T_d4778_row1_col15\" class=\"data row1 col15\" >0.00</td>\n",
       "      <td id=\"T_d4778_row1_col16\" class=\"data row1 col16\" >0.00</td>\n",
       "      <td id=\"T_d4778_row1_col17\" class=\"data row1 col17\" >0.00</td>\n",
       "      <td id=\"T_d4778_row1_col18\" class=\"data row1 col18\" >0.00</td>\n",
       "      <td id=\"T_d4778_row1_col19\" class=\"data row1 col19\" >0.00</td>\n",
       "      <td id=\"T_d4778_row1_col20\" class=\"data row1 col20\" >0.00</td>\n",
       "      <td id=\"T_d4778_row1_col21\" class=\"data row1 col21\" >0.00</td>\n",
       "      <td id=\"T_d4778_row1_col22\" class=\"data row1 col22\" >0.00</td>\n",
       "    </tr>\n",
       "    <tr>\n",
       "      <th id=\"T_d4778_level0_row2\" class=\"row_heading level0 row2\" >2</th>\n",
       "      <td id=\"T_d4778_row2_col0\" class=\"data row2 col0\" >0.00</td>\n",
       "      <td id=\"T_d4778_row2_col1\" class=\"data row2 col1\" >0.00</td>\n",
       "      <td id=\"T_d4778_row2_col2\" class=\"data row2 col2\" >0.00</td>\n",
       "      <td id=\"T_d4778_row2_col3\" class=\"data row2 col3\" >0.00</td>\n",
       "      <td id=\"T_d4778_row2_col4\" class=\"data row2 col4\" >0.00</td>\n",
       "      <td id=\"T_d4778_row2_col5\" class=\"data row2 col5\" >0.00</td>\n",
       "      <td id=\"T_d4778_row2_col6\" class=\"data row2 col6\" >0.00</td>\n",
       "      <td id=\"T_d4778_row2_col7\" class=\"data row2 col7\" >0.00</td>\n",
       "      <td id=\"T_d4778_row2_col8\" class=\"data row2 col8\" >0.00</td>\n",
       "      <td id=\"T_d4778_row2_col9\" class=\"data row2 col9\" >0.00</td>\n",
       "      <td id=\"T_d4778_row2_col10\" class=\"data row2 col10\" >0.00</td>\n",
       "      <td id=\"T_d4778_row2_col11\" class=\"data row2 col11\" >0.00</td>\n",
       "      <td id=\"T_d4778_row2_col12\" class=\"data row2 col12\" >0.00</td>\n",
       "      <td id=\"T_d4778_row2_col13\" class=\"data row2 col13\" >0.00</td>\n",
       "      <td id=\"T_d4778_row2_col14\" class=\"data row2 col14\" >0.00</td>\n",
       "      <td id=\"T_d4778_row2_col15\" class=\"data row2 col15\" >0.00</td>\n",
       "      <td id=\"T_d4778_row2_col16\" class=\"data row2 col16\" >0.00</td>\n",
       "      <td id=\"T_d4778_row2_col17\" class=\"data row2 col17\" >0.00</td>\n",
       "      <td id=\"T_d4778_row2_col18\" class=\"data row2 col18\" >0.00</td>\n",
       "      <td id=\"T_d4778_row2_col19\" class=\"data row2 col19\" >0.00</td>\n",
       "      <td id=\"T_d4778_row2_col20\" class=\"data row2 col20\" >0.00</td>\n",
       "      <td id=\"T_d4778_row2_col21\" class=\"data row2 col21\" >0.00</td>\n",
       "      <td id=\"T_d4778_row2_col22\" class=\"data row2 col22\" >0.00</td>\n",
       "    </tr>\n",
       "    <tr>\n",
       "      <th id=\"T_d4778_level0_row3\" class=\"row_heading level0 row3\" >3</th>\n",
       "      <td id=\"T_d4778_row3_col0\" class=\"data row3 col0\" >0.00</td>\n",
       "      <td id=\"T_d4778_row3_col1\" class=\"data row3 col1\" >0.00</td>\n",
       "      <td id=\"T_d4778_row3_col2\" class=\"data row3 col2\" >0.00</td>\n",
       "      <td id=\"T_d4778_row3_col3\" class=\"data row3 col3\" >0.00</td>\n",
       "      <td id=\"T_d4778_row3_col4\" class=\"data row3 col4\" >0.00</td>\n",
       "      <td id=\"T_d4778_row3_col5\" class=\"data row3 col5\" >0.00</td>\n",
       "      <td id=\"T_d4778_row3_col6\" class=\"data row3 col6\" >0.00</td>\n",
       "      <td id=\"T_d4778_row3_col7\" class=\"data row3 col7\" >0.00</td>\n",
       "      <td id=\"T_d4778_row3_col8\" class=\"data row3 col8\" >0.00</td>\n",
       "      <td id=\"T_d4778_row3_col9\" class=\"data row3 col9\" >0.00</td>\n",
       "      <td id=\"T_d4778_row3_col10\" class=\"data row3 col10\" >0.00</td>\n",
       "      <td id=\"T_d4778_row3_col11\" class=\"data row3 col11\" >0.00</td>\n",
       "      <td id=\"T_d4778_row3_col12\" class=\"data row3 col12\" >0.00</td>\n",
       "      <td id=\"T_d4778_row3_col13\" class=\"data row3 col13\" >0.00</td>\n",
       "      <td id=\"T_d4778_row3_col14\" class=\"data row3 col14\" >0.00</td>\n",
       "      <td id=\"T_d4778_row3_col15\" class=\"data row3 col15\" >0.00</td>\n",
       "      <td id=\"T_d4778_row3_col16\" class=\"data row3 col16\" >0.00</td>\n",
       "      <td id=\"T_d4778_row3_col17\" class=\"data row3 col17\" >0.00</td>\n",
       "      <td id=\"T_d4778_row3_col18\" class=\"data row3 col18\" >0.00</td>\n",
       "      <td id=\"T_d4778_row3_col19\" class=\"data row3 col19\" >0.00</td>\n",
       "      <td id=\"T_d4778_row3_col20\" class=\"data row3 col20\" >0.00</td>\n",
       "      <td id=\"T_d4778_row3_col21\" class=\"data row3 col21\" >0.00</td>\n",
       "      <td id=\"T_d4778_row3_col22\" class=\"data row3 col22\" >0.00</td>\n",
       "    </tr>\n",
       "    <tr>\n",
       "      <th id=\"T_d4778_level0_row4\" class=\"row_heading level0 row4\" >4</th>\n",
       "      <td id=\"T_d4778_row4_col0\" class=\"data row4 col0\" >0.00</td>\n",
       "      <td id=\"T_d4778_row4_col1\" class=\"data row4 col1\" >0.00</td>\n",
       "      <td id=\"T_d4778_row4_col2\" class=\"data row4 col2\" >0.00</td>\n",
       "      <td id=\"T_d4778_row4_col3\" class=\"data row4 col3\" >0.00</td>\n",
       "      <td id=\"T_d4778_row4_col4\" class=\"data row4 col4\" >0.00</td>\n",
       "      <td id=\"T_d4778_row4_col5\" class=\"data row4 col5\" >0.00</td>\n",
       "      <td id=\"T_d4778_row4_col6\" class=\"data row4 col6\" >0.00</td>\n",
       "      <td id=\"T_d4778_row4_col7\" class=\"data row4 col7\" >0.00</td>\n",
       "      <td id=\"T_d4778_row4_col8\" class=\"data row4 col8\" >0.00</td>\n",
       "      <td id=\"T_d4778_row4_col9\" class=\"data row4 col9\" >0.00</td>\n",
       "      <td id=\"T_d4778_row4_col10\" class=\"data row4 col10\" >0.00</td>\n",
       "      <td id=\"T_d4778_row4_col11\" class=\"data row4 col11\" >0.00</td>\n",
       "      <td id=\"T_d4778_row4_col12\" class=\"data row4 col12\" >0.00</td>\n",
       "      <td id=\"T_d4778_row4_col13\" class=\"data row4 col13\" >0.00</td>\n",
       "      <td id=\"T_d4778_row4_col14\" class=\"data row4 col14\" >0.00</td>\n",
       "      <td id=\"T_d4778_row4_col15\" class=\"data row4 col15\" >0.00</td>\n",
       "      <td id=\"T_d4778_row4_col16\" class=\"data row4 col16\" >0.00</td>\n",
       "      <td id=\"T_d4778_row4_col17\" class=\"data row4 col17\" >0.00</td>\n",
       "      <td id=\"T_d4778_row4_col18\" class=\"data row4 col18\" >0.00</td>\n",
       "      <td id=\"T_d4778_row4_col19\" class=\"data row4 col19\" >0.00</td>\n",
       "      <td id=\"T_d4778_row4_col20\" class=\"data row4 col20\" >0.00</td>\n",
       "      <td id=\"T_d4778_row4_col21\" class=\"data row4 col21\" >0.00</td>\n",
       "      <td id=\"T_d4778_row4_col22\" class=\"data row4 col22\" >0.00</td>\n",
       "    </tr>\n",
       "    <tr>\n",
       "      <th id=\"T_d4778_level0_row5\" class=\"row_heading level0 row5\" >5</th>\n",
       "      <td id=\"T_d4778_row5_col0\" class=\"data row5 col0\" >0.00</td>\n",
       "      <td id=\"T_d4778_row5_col1\" class=\"data row5 col1\" >0.00</td>\n",
       "      <td id=\"T_d4778_row5_col2\" class=\"data row5 col2\" >0.00</td>\n",
       "      <td id=\"T_d4778_row5_col3\" class=\"data row5 col3\" >0.00</td>\n",
       "      <td id=\"T_d4778_row5_col4\" class=\"data row5 col4\" >0.00</td>\n",
       "      <td id=\"T_d4778_row5_col5\" class=\"data row5 col5\" >0.00</td>\n",
       "      <td id=\"T_d4778_row5_col6\" class=\"data row5 col6\" >0.00</td>\n",
       "      <td id=\"T_d4778_row5_col7\" class=\"data row5 col7\" >0.00</td>\n",
       "      <td id=\"T_d4778_row5_col8\" class=\"data row5 col8\" >0.00</td>\n",
       "      <td id=\"T_d4778_row5_col9\" class=\"data row5 col9\" >0.00</td>\n",
       "      <td id=\"T_d4778_row5_col10\" class=\"data row5 col10\" >0.00</td>\n",
       "      <td id=\"T_d4778_row5_col11\" class=\"data row5 col11\" >0.15</td>\n",
       "      <td id=\"T_d4778_row5_col12\" class=\"data row5 col12\" >0.17</td>\n",
       "      <td id=\"T_d4778_row5_col13\" class=\"data row5 col13\" >0.41</td>\n",
       "      <td id=\"T_d4778_row5_col14\" class=\"data row5 col14\" >1.00</td>\n",
       "      <td id=\"T_d4778_row5_col15\" class=\"data row5 col15\" >0.99</td>\n",
       "      <td id=\"T_d4778_row5_col16\" class=\"data row5 col16\" >0.99</td>\n",
       "      <td id=\"T_d4778_row5_col17\" class=\"data row5 col17\" >0.99</td>\n",
       "      <td id=\"T_d4778_row5_col18\" class=\"data row5 col18\" >0.99</td>\n",
       "      <td id=\"T_d4778_row5_col19\" class=\"data row5 col19\" >0.99</td>\n",
       "      <td id=\"T_d4778_row5_col20\" class=\"data row5 col20\" >0.68</td>\n",
       "      <td id=\"T_d4778_row5_col21\" class=\"data row5 col21\" >0.02</td>\n",
       "      <td id=\"T_d4778_row5_col22\" class=\"data row5 col22\" >0.00</td>\n",
       "    </tr>\n",
       "    <tr>\n",
       "      <th id=\"T_d4778_level0_row6\" class=\"row_heading level0 row6\" >6</th>\n",
       "      <td id=\"T_d4778_row6_col0\" class=\"data row6 col0\" >0.00</td>\n",
       "      <td id=\"T_d4778_row6_col1\" class=\"data row6 col1\" >0.00</td>\n",
       "      <td id=\"T_d4778_row6_col2\" class=\"data row6 col2\" >0.00</td>\n",
       "      <td id=\"T_d4778_row6_col3\" class=\"data row6 col3\" >0.00</td>\n",
       "      <td id=\"T_d4778_row6_col4\" class=\"data row6 col4\" >0.00</td>\n",
       "      <td id=\"T_d4778_row6_col5\" class=\"data row6 col5\" >0.00</td>\n",
       "      <td id=\"T_d4778_row6_col6\" class=\"data row6 col6\" >0.00</td>\n",
       "      <td id=\"T_d4778_row6_col7\" class=\"data row6 col7\" >0.00</td>\n",
       "      <td id=\"T_d4778_row6_col8\" class=\"data row6 col8\" >0.00</td>\n",
       "      <td id=\"T_d4778_row6_col9\" class=\"data row6 col9\" >0.17</td>\n",
       "      <td id=\"T_d4778_row6_col10\" class=\"data row6 col10\" >0.54</td>\n",
       "      <td id=\"T_d4778_row6_col11\" class=\"data row6 col11\" >0.88</td>\n",
       "      <td id=\"T_d4778_row6_col12\" class=\"data row6 col12\" >0.88</td>\n",
       "      <td id=\"T_d4778_row6_col13\" class=\"data row6 col13\" >0.98</td>\n",
       "      <td id=\"T_d4778_row6_col14\" class=\"data row6 col14\" >0.99</td>\n",
       "      <td id=\"T_d4778_row6_col15\" class=\"data row6 col15\" >0.98</td>\n",
       "      <td id=\"T_d4778_row6_col16\" class=\"data row6 col16\" >0.98</td>\n",
       "      <td id=\"T_d4778_row6_col17\" class=\"data row6 col17\" >0.98</td>\n",
       "      <td id=\"T_d4778_row6_col18\" class=\"data row6 col18\" >0.98</td>\n",
       "      <td id=\"T_d4778_row6_col19\" class=\"data row6 col19\" >0.98</td>\n",
       "      <td id=\"T_d4778_row6_col20\" class=\"data row6 col20\" >0.98</td>\n",
       "      <td id=\"T_d4778_row6_col21\" class=\"data row6 col21\" >0.62</td>\n",
       "      <td id=\"T_d4778_row6_col22\" class=\"data row6 col22\" >0.05</td>\n",
       "    </tr>\n",
       "    <tr>\n",
       "      <th id=\"T_d4778_level0_row7\" class=\"row_heading level0 row7\" >7</th>\n",
       "      <td id=\"T_d4778_row7_col0\" class=\"data row7 col0\" >0.00</td>\n",
       "      <td id=\"T_d4778_row7_col1\" class=\"data row7 col1\" >0.00</td>\n",
       "      <td id=\"T_d4778_row7_col2\" class=\"data row7 col2\" >0.00</td>\n",
       "      <td id=\"T_d4778_row7_col3\" class=\"data row7 col3\" >0.00</td>\n",
       "      <td id=\"T_d4778_row7_col4\" class=\"data row7 col4\" >0.00</td>\n",
       "      <td id=\"T_d4778_row7_col5\" class=\"data row7 col5\" >0.00</td>\n",
       "      <td id=\"T_d4778_row7_col6\" class=\"data row7 col6\" >0.00</td>\n",
       "      <td id=\"T_d4778_row7_col7\" class=\"data row7 col7\" >0.00</td>\n",
       "      <td id=\"T_d4778_row7_col8\" class=\"data row7 col8\" >0.00</td>\n",
       "      <td id=\"T_d4778_row7_col9\" class=\"data row7 col9\" >0.70</td>\n",
       "      <td id=\"T_d4778_row7_col10\" class=\"data row7 col10\" >0.98</td>\n",
       "      <td id=\"T_d4778_row7_col11\" class=\"data row7 col11\" >0.98</td>\n",
       "      <td id=\"T_d4778_row7_col12\" class=\"data row7 col12\" >0.98</td>\n",
       "      <td id=\"T_d4778_row7_col13\" class=\"data row7 col13\" >0.98</td>\n",
       "      <td id=\"T_d4778_row7_col14\" class=\"data row7 col14\" >0.99</td>\n",
       "      <td id=\"T_d4778_row7_col15\" class=\"data row7 col15\" >0.98</td>\n",
       "      <td id=\"T_d4778_row7_col16\" class=\"data row7 col16\" >0.98</td>\n",
       "      <td id=\"T_d4778_row7_col17\" class=\"data row7 col17\" >0.98</td>\n",
       "      <td id=\"T_d4778_row7_col18\" class=\"data row7 col18\" >0.98</td>\n",
       "      <td id=\"T_d4778_row7_col19\" class=\"data row7 col19\" >0.98</td>\n",
       "      <td id=\"T_d4778_row7_col20\" class=\"data row7 col20\" >0.98</td>\n",
       "      <td id=\"T_d4778_row7_col21\" class=\"data row7 col21\" >0.98</td>\n",
       "      <td id=\"T_d4778_row7_col22\" class=\"data row7 col22\" >0.23</td>\n",
       "    </tr>\n",
       "    <tr>\n",
       "      <th id=\"T_d4778_level0_row8\" class=\"row_heading level0 row8\" >8</th>\n",
       "      <td id=\"T_d4778_row8_col0\" class=\"data row8 col0\" >0.00</td>\n",
       "      <td id=\"T_d4778_row8_col1\" class=\"data row8 col1\" >0.00</td>\n",
       "      <td id=\"T_d4778_row8_col2\" class=\"data row8 col2\" >0.00</td>\n",
       "      <td id=\"T_d4778_row8_col3\" class=\"data row8 col3\" >0.00</td>\n",
       "      <td id=\"T_d4778_row8_col4\" class=\"data row8 col4\" >0.00</td>\n",
       "      <td id=\"T_d4778_row8_col5\" class=\"data row8 col5\" >0.00</td>\n",
       "      <td id=\"T_d4778_row8_col6\" class=\"data row8 col6\" >0.00</td>\n",
       "      <td id=\"T_d4778_row8_col7\" class=\"data row8 col7\" >0.00</td>\n",
       "      <td id=\"T_d4778_row8_col8\" class=\"data row8 col8\" >0.00</td>\n",
       "      <td id=\"T_d4778_row8_col9\" class=\"data row8 col9\" >0.43</td>\n",
       "      <td id=\"T_d4778_row8_col10\" class=\"data row8 col10\" >0.98</td>\n",
       "      <td id=\"T_d4778_row8_col11\" class=\"data row8 col11\" >0.98</td>\n",
       "      <td id=\"T_d4778_row8_col12\" class=\"data row8 col12\" >0.90</td>\n",
       "      <td id=\"T_d4778_row8_col13\" class=\"data row8 col13\" >0.52</td>\n",
       "      <td id=\"T_d4778_row8_col14\" class=\"data row8 col14\" >0.52</td>\n",
       "      <td id=\"T_d4778_row8_col15\" class=\"data row8 col15\" >0.52</td>\n",
       "      <td id=\"T_d4778_row8_col16\" class=\"data row8 col16\" >0.52</td>\n",
       "      <td id=\"T_d4778_row8_col17\" class=\"data row8 col17\" >0.74</td>\n",
       "      <td id=\"T_d4778_row8_col18\" class=\"data row8 col18\" >0.98</td>\n",
       "      <td id=\"T_d4778_row8_col19\" class=\"data row8 col19\" >0.98</td>\n",
       "      <td id=\"T_d4778_row8_col20\" class=\"data row8 col20\" >0.98</td>\n",
       "      <td id=\"T_d4778_row8_col21\" class=\"data row8 col21\" >0.98</td>\n",
       "      <td id=\"T_d4778_row8_col22\" class=\"data row8 col22\" >0.23</td>\n",
       "    </tr>\n",
       "    <tr>\n",
       "      <th id=\"T_d4778_level0_row9\" class=\"row_heading level0 row9\" >9</th>\n",
       "      <td id=\"T_d4778_row9_col0\" class=\"data row9 col0\" >0.00</td>\n",
       "      <td id=\"T_d4778_row9_col1\" class=\"data row9 col1\" >0.00</td>\n",
       "      <td id=\"T_d4778_row9_col2\" class=\"data row9 col2\" >0.00</td>\n",
       "      <td id=\"T_d4778_row9_col3\" class=\"data row9 col3\" >0.00</td>\n",
       "      <td id=\"T_d4778_row9_col4\" class=\"data row9 col4\" >0.00</td>\n",
       "      <td id=\"T_d4778_row9_col5\" class=\"data row9 col5\" >0.00</td>\n",
       "      <td id=\"T_d4778_row9_col6\" class=\"data row9 col6\" >0.00</td>\n",
       "      <td id=\"T_d4778_row9_col7\" class=\"data row9 col7\" >0.00</td>\n",
       "      <td id=\"T_d4778_row9_col8\" class=\"data row9 col8\" >0.00</td>\n",
       "      <td id=\"T_d4778_row9_col9\" class=\"data row9 col9\" >0.02</td>\n",
       "      <td id=\"T_d4778_row9_col10\" class=\"data row9 col10\" >0.11</td>\n",
       "      <td id=\"T_d4778_row9_col11\" class=\"data row9 col11\" >0.11</td>\n",
       "      <td id=\"T_d4778_row9_col12\" class=\"data row9 col12\" >0.09</td>\n",
       "      <td id=\"T_d4778_row9_col13\" class=\"data row9 col13\" >0.00</td>\n",
       "      <td id=\"T_d4778_row9_col14\" class=\"data row9 col14\" >0.00</td>\n",
       "      <td id=\"T_d4778_row9_col15\" class=\"data row9 col15\" >0.00</td>\n",
       "      <td id=\"T_d4778_row9_col16\" class=\"data row9 col16\" >0.00</td>\n",
       "      <td id=\"T_d4778_row9_col17\" class=\"data row9 col17\" >0.05</td>\n",
       "      <td id=\"T_d4778_row9_col18\" class=\"data row9 col18\" >0.88</td>\n",
       "      <td id=\"T_d4778_row9_col19\" class=\"data row9 col19\" >0.98</td>\n",
       "      <td id=\"T_d4778_row9_col20\" class=\"data row9 col20\" >0.98</td>\n",
       "      <td id=\"T_d4778_row9_col21\" class=\"data row9 col21\" >0.67</td>\n",
       "      <td id=\"T_d4778_row9_col22\" class=\"data row9 col22\" >0.03</td>\n",
       "    </tr>\n",
       "    <tr>\n",
       "      <th id=\"T_d4778_level0_row10\" class=\"row_heading level0 row10\" >10</th>\n",
       "      <td id=\"T_d4778_row10_col0\" class=\"data row10 col0\" >0.00</td>\n",
       "      <td id=\"T_d4778_row10_col1\" class=\"data row10 col1\" >0.00</td>\n",
       "      <td id=\"T_d4778_row10_col2\" class=\"data row10 col2\" >0.00</td>\n",
       "      <td id=\"T_d4778_row10_col3\" class=\"data row10 col3\" >0.00</td>\n",
       "      <td id=\"T_d4778_row10_col4\" class=\"data row10 col4\" >0.00</td>\n",
       "      <td id=\"T_d4778_row10_col5\" class=\"data row10 col5\" >0.00</td>\n",
       "      <td id=\"T_d4778_row10_col6\" class=\"data row10 col6\" >0.00</td>\n",
       "      <td id=\"T_d4778_row10_col7\" class=\"data row10 col7\" >0.00</td>\n",
       "      <td id=\"T_d4778_row10_col8\" class=\"data row10 col8\" >0.00</td>\n",
       "      <td id=\"T_d4778_row10_col9\" class=\"data row10 col9\" >0.00</td>\n",
       "      <td id=\"T_d4778_row10_col10\" class=\"data row10 col10\" >0.00</td>\n",
       "      <td id=\"T_d4778_row10_col11\" class=\"data row10 col11\" >0.00</td>\n",
       "      <td id=\"T_d4778_row10_col12\" class=\"data row10 col12\" >0.00</td>\n",
       "      <td id=\"T_d4778_row10_col13\" class=\"data row10 col13\" >0.00</td>\n",
       "      <td id=\"T_d4778_row10_col14\" class=\"data row10 col14\" >0.00</td>\n",
       "      <td id=\"T_d4778_row10_col15\" class=\"data row10 col15\" >0.00</td>\n",
       "      <td id=\"T_d4778_row10_col16\" class=\"data row10 col16\" >0.00</td>\n",
       "      <td id=\"T_d4778_row10_col17\" class=\"data row10 col17\" >0.33</td>\n",
       "      <td id=\"T_d4778_row10_col18\" class=\"data row10 col18\" >0.95</td>\n",
       "      <td id=\"T_d4778_row10_col19\" class=\"data row10 col19\" >0.98</td>\n",
       "      <td id=\"T_d4778_row10_col20\" class=\"data row10 col20\" >0.98</td>\n",
       "      <td id=\"T_d4778_row10_col21\" class=\"data row10 col21\" >0.56</td>\n",
       "      <td id=\"T_d4778_row10_col22\" class=\"data row10 col22\" >0.00</td>\n",
       "    </tr>\n",
       "    <tr>\n",
       "      <th id=\"T_d4778_level0_row11\" class=\"row_heading level0 row11\" >11</th>\n",
       "      <td id=\"T_d4778_row11_col0\" class=\"data row11 col0\" >0.00</td>\n",
       "      <td id=\"T_d4778_row11_col1\" class=\"data row11 col1\" >0.00</td>\n",
       "      <td id=\"T_d4778_row11_col2\" class=\"data row11 col2\" >0.00</td>\n",
       "      <td id=\"T_d4778_row11_col3\" class=\"data row11 col3\" >0.00</td>\n",
       "      <td id=\"T_d4778_row11_col4\" class=\"data row11 col4\" >0.00</td>\n",
       "      <td id=\"T_d4778_row11_col5\" class=\"data row11 col5\" >0.00</td>\n",
       "      <td id=\"T_d4778_row11_col6\" class=\"data row11 col6\" >0.00</td>\n",
       "      <td id=\"T_d4778_row11_col7\" class=\"data row11 col7\" >0.00</td>\n",
       "      <td id=\"T_d4778_row11_col8\" class=\"data row11 col8\" >0.00</td>\n",
       "      <td id=\"T_d4778_row11_col9\" class=\"data row11 col9\" >0.00</td>\n",
       "      <td id=\"T_d4778_row11_col10\" class=\"data row11 col10\" >0.00</td>\n",
       "      <td id=\"T_d4778_row11_col11\" class=\"data row11 col11\" >0.00</td>\n",
       "      <td id=\"T_d4778_row11_col12\" class=\"data row11 col12\" >0.00</td>\n",
       "      <td id=\"T_d4778_row11_col13\" class=\"data row11 col13\" >0.00</td>\n",
       "      <td id=\"T_d4778_row11_col14\" class=\"data row11 col14\" >0.00</td>\n",
       "      <td id=\"T_d4778_row11_col15\" class=\"data row11 col15\" >0.00</td>\n",
       "      <td id=\"T_d4778_row11_col16\" class=\"data row11 col16\" >0.34</td>\n",
       "      <td id=\"T_d4778_row11_col17\" class=\"data row11 col17\" >0.74</td>\n",
       "      <td id=\"T_d4778_row11_col18\" class=\"data row11 col18\" >0.98</td>\n",
       "      <td id=\"T_d4778_row11_col19\" class=\"data row11 col19\" >0.98</td>\n",
       "      <td id=\"T_d4778_row11_col20\" class=\"data row11 col20\" >0.98</td>\n",
       "      <td id=\"T_d4778_row11_col21\" class=\"data row11 col21\" >0.05</td>\n",
       "      <td id=\"T_d4778_row11_col22\" class=\"data row11 col22\" >0.00</td>\n",
       "    </tr>\n",
       "    <tr>\n",
       "      <th id=\"T_d4778_level0_row12\" class=\"row_heading level0 row12\" >12</th>\n",
       "      <td id=\"T_d4778_row12_col0\" class=\"data row12 col0\" >0.00</td>\n",
       "      <td id=\"T_d4778_row12_col1\" class=\"data row12 col1\" >0.00</td>\n",
       "      <td id=\"T_d4778_row12_col2\" class=\"data row12 col2\" >0.00</td>\n",
       "      <td id=\"T_d4778_row12_col3\" class=\"data row12 col3\" >0.00</td>\n",
       "      <td id=\"T_d4778_row12_col4\" class=\"data row12 col4\" >0.00</td>\n",
       "      <td id=\"T_d4778_row12_col5\" class=\"data row12 col5\" >0.00</td>\n",
       "      <td id=\"T_d4778_row12_col6\" class=\"data row12 col6\" >0.00</td>\n",
       "      <td id=\"T_d4778_row12_col7\" class=\"data row12 col7\" >0.00</td>\n",
       "      <td id=\"T_d4778_row12_col8\" class=\"data row12 col8\" >0.00</td>\n",
       "      <td id=\"T_d4778_row12_col9\" class=\"data row12 col9\" >0.00</td>\n",
       "      <td id=\"T_d4778_row12_col10\" class=\"data row12 col10\" >0.00</td>\n",
       "      <td id=\"T_d4778_row12_col11\" class=\"data row12 col11\" >0.00</td>\n",
       "      <td id=\"T_d4778_row12_col12\" class=\"data row12 col12\" >0.00</td>\n",
       "      <td id=\"T_d4778_row12_col13\" class=\"data row12 col13\" >0.00</td>\n",
       "      <td id=\"T_d4778_row12_col14\" class=\"data row12 col14\" >0.36</td>\n",
       "      <td id=\"T_d4778_row12_col15\" class=\"data row12 col15\" >0.83</td>\n",
       "      <td id=\"T_d4778_row12_col16\" class=\"data row12 col16\" >0.96</td>\n",
       "      <td id=\"T_d4778_row12_col17\" class=\"data row12 col17\" >0.98</td>\n",
       "      <td id=\"T_d4778_row12_col18\" class=\"data row12 col18\" >0.98</td>\n",
       "      <td id=\"T_d4778_row12_col19\" class=\"data row12 col19\" >0.98</td>\n",
       "      <td id=\"T_d4778_row12_col20\" class=\"data row12 col20\" >0.80</td>\n",
       "      <td id=\"T_d4778_row12_col21\" class=\"data row12 col21\" >0.04</td>\n",
       "      <td id=\"T_d4778_row12_col22\" class=\"data row12 col22\" >0.00</td>\n",
       "    </tr>\n",
       "  </tbody>\n",
       "</table>\n"
      ],
      "text/plain": [
       "<pandas.io.formats.style.Styler at 0x1a7254850>"
      ]
     },
     "execution_count": 15,
     "metadata": {},
     "output_type": "execute_result"
    }
   ],
   "source": [
    "df = pd.DataFrame(im3[:13, :23])\n",
    "df.style.format(precision=2).set_properties(**{'font-size': '8pt'}).background_gradient('Greens')"
   ]
  },
  {
   "cell_type": "code",
   "execution_count": 16,
   "id": "5596d370",
   "metadata": {},
   "outputs": [
    {
     "data": {
      "text/plain": [
       "tensor(2.9727)"
      ]
     },
     "execution_count": 16,
     "metadata": {},
     "output_type": "execute_result"
    }
   ],
   "source": [
    "(im3[3:6, 14:17] * top_edges).sum()"
   ]
  },
  {
   "cell_type": "code",
   "execution_count": 17,
   "id": "26d7d586",
   "metadata": {},
   "outputs": [
    {
     "data": {
      "text/plain": [
       "tensor([[-0.0000, -0.0000, -0.0000],\n",
       "        [0.0000, 0.0000, 0.0000],\n",
       "        [0.9961, 0.9883, 0.9883]])"
      ]
     },
     "execution_count": 17,
     "metadata": {},
     "output_type": "execute_result"
    }
   ],
   "source": [
    "(im3[3:6, 14:17] * top_edges)"
   ]
  },
  {
   "cell_type": "code",
   "execution_count": 18,
   "id": "2b7ba6ca",
   "metadata": {},
   "outputs": [
    {
     "data": {
      "text/plain": [
       "tensor(-0.0234)"
      ]
     },
     "execution_count": 18,
     "metadata": {},
     "output_type": "execute_result"
    }
   ],
   "source": [
    "(im3[3:6, 14:17].to(dtype=torch.float) @ top_edges.to(dtype=torch.float)).sum()"
   ]
  },
  {
   "cell_type": "code",
   "execution_count": 19,
   "id": "63480888",
   "metadata": {},
   "outputs": [],
   "source": [
    "def apply_kernel(row, col, kernel):\n",
    "    return (im3[row-1:row+2, col-1:col+2] * kernel).sum()"
   ]
  },
  {
   "cell_type": "code",
   "execution_count": 20,
   "id": "9d59f1e1",
   "metadata": {},
   "outputs": [
    {
     "data": {
      "text/plain": [
       "tensor(2.9727)"
      ]
     },
     "execution_count": 20,
     "metadata": {},
     "output_type": "execute_result"
    }
   ],
   "source": [
    "apply_kernel(4, 15, top_edges)"
   ]
  },
  {
   "cell_type": "code",
   "execution_count": 21,
   "id": "9af1520b",
   "metadata": {},
   "outputs": [
    {
     "data": {
      "text/plain": [
       "range(1, 27)"
      ]
     },
     "execution_count": 21,
     "metadata": {},
     "output_type": "execute_result"
    }
   ],
   "source": [
    "rng = range(1, 27)\n",
    "rng"
   ]
  },
  {
   "cell_type": "code",
   "execution_count": 22,
   "id": "b8177885",
   "metadata": {},
   "outputs": [],
   "source": [
    "top_edges3 = [[apply_kernel(i, j, top_edges) for j in rng] for i in rng]"
   ]
  },
  {
   "cell_type": "code",
   "execution_count": 23,
   "id": "a3e95012",
   "metadata": {},
   "outputs": [
    {
     "data": {
      "text/plain": [
       "<matplotlib.image.AxesImage at 0x1a7494650>"
      ]
     },
     "execution_count": 23,
     "metadata": {},
     "output_type": "execute_result"
    },
    {
     "data": {
      "image/png": "[encoded data removed]",
      "text/plain": [
       "<Figure size 432x288 with 1 Axes>"
      ]
     },
     "metadata": {
      "needs_background": "light"
     },
     "output_type": "display_data"
    }
   ],
   "source": [
    "plt.imshow(top_edges3)"
   ]
  },
  {
   "cell_type": "code",
   "execution_count": 24,
   "id": "e0786366",
   "metadata": {},
   "outputs": [],
   "source": [
    "left_edge = torch.tensor([\n",
    "    [-1, 0, 1],\n",
    "    [-1, 0, 1],\n",
    "    [-1, 0, 1]\n",
    "]).float()"
   ]
  },
  {
   "cell_type": "code",
   "execution_count": 25,
   "id": "8d0baa73",
   "metadata": {},
   "outputs": [],
   "source": [
    "lef_edges3 = [[apply_kernel(i, j, left_edge) for j in rng] for i in rng]"
   ]
  },
  {
   "cell_type": "code",
   "execution_count": 26,
   "id": "0833baf3",
   "metadata": {},
   "outputs": [
    {
     "data": {
      "text/plain": [
       "<matplotlib.image.AxesImage at 0x1a7559350>"
      ]
     },
     "execution_count": 26,
     "metadata": {},
     "output_type": "execute_result"
    },
    {
     "data": {
      "image/png": "[encoded data removed]",
      "text/plain": [
       "<Figure size 432x288 with 1 Axes>"
      ]
     },
     "metadata": {
      "needs_background": "light"
     },
     "output_type": "display_data"
    }
   ],
   "source": [
    "plt.imshow(lef_edges3)"
   ]
  },
  {
   "cell_type": "markdown",
   "id": "f635cdab",
   "metadata": {},
   "source": [
    "#### convolutions in pytorch"
   ]
  },
  {
   "cell_type": "code",
   "execution_count": 27,
   "id": "eb6d4a47",
   "metadata": {},
   "outputs": [],
   "source": [
    "import torch\n",
    "import torch.nn.functional as F"
   ]
  },
  {
   "cell_type": "code",
   "execution_count": 28,
   "id": "f3430f21",
   "metadata": {},
   "outputs": [
    {
     "data": {
      "text/plain": [
       "torch.Size([28, 28])"
      ]
     },
     "execution_count": 28,
     "metadata": {},
     "output_type": "execute_result"
    }
   ],
   "source": [
    "im3.shape"
   ]
  },
  {
   "cell_type": "code",
   "execution_count": 29,
   "id": "6482bb2c",
   "metadata": {},
   "outputs": [
    {
     "data": {
      "text/plain": [
       "torch.Size([1, 1, 28, 28])"
      ]
     },
     "execution_count": 29,
     "metadata": {},
     "output_type": "execute_result"
    }
   ],
   "source": [
    "im3[None,None,:,:].shape"
   ]
  },
  {
   "cell_type": "code",
   "execution_count": 30,
   "id": "4fe0eb64",
   "metadata": {},
   "outputs": [
    {
     "data": {
      "text/plain": [
       "torch.Size([9, 676])"
      ]
     },
     "execution_count": 30,
     "metadata": {},
     "output_type": "execute_result"
    }
   ],
   "source": [
    "inp = im3[None,None,:,:].float()\n",
    "inp_unf = F.unfold(inp, (3, 3))[0]\n",
    "inp_unf.shape"
   ]
  },
  {
   "cell_type": "code",
   "execution_count": 31,
   "id": "21b351a8",
   "metadata": {},
   "outputs": [
    {
     "data": {
      "text/plain": [
       "torch.Size([3, 3])"
      ]
     },
     "execution_count": 31,
     "metadata": {},
     "output_type": "execute_result"
    }
   ],
   "source": [
    "left_edge.shape"
   ]
  },
  {
   "cell_type": "code",
   "execution_count": 32,
   "id": "d5eaaad9",
   "metadata": {},
   "outputs": [
    {
     "data": {
      "text/plain": [
       "tensor([-1.,  0.,  1., -1.,  0.,  1., -1.,  0.,  1.])"
      ]
     },
     "execution_count": 32,
     "metadata": {},
     "output_type": "execute_result"
    }
   ],
   "source": [
    "left_edge.view(-1)"
   ]
  },
  {
   "cell_type": "code",
   "execution_count": 33,
   "id": "3eca08a7",
   "metadata": {},
   "outputs": [
    {
     "data": {
      "text/plain": [
       "torch.Size([9])"
      ]
     },
     "execution_count": 33,
     "metadata": {},
     "output_type": "execute_result"
    }
   ],
   "source": [
    "w = left_edge.view(-1)\n",
    "w.shape"
   ]
  },
  {
   "cell_type": "code",
   "execution_count": 34,
   "id": "4a718f3e",
   "metadata": {},
   "outputs": [
    {
     "data": {
      "text/plain": [
       "torch.Size([676])"
      ]
     },
     "execution_count": 34,
     "metadata": {},
     "output_type": "execute_result"
    }
   ],
   "source": [
    "out_unf = w @ inp_unf\n",
    "out_unf.shape"
   ]
  },
  {
   "cell_type": "code",
   "execution_count": 35,
   "id": "3659de12",
   "metadata": {},
   "outputs": [
    {
     "data": {
      "text/plain": [
       "torch.Size([26, 26])"
      ]
     },
     "execution_count": 35,
     "metadata": {},
     "output_type": "execute_result"
    }
   ],
   "source": [
    "out = out_unf.view(26, 26)\n",
    "out.shape"
   ]
  },
  {
   "cell_type": "code",
   "execution_count": 36,
   "id": "0556e2e1",
   "metadata": {},
   "outputs": [
    {
     "data": {
      "text/plain": [
       "<matplotlib.image.AxesImage at 0x1a760d850>"
      ]
     },
     "execution_count": 36,
     "metadata": {},
     "output_type": "execute_result"
    },
    {
     "data": {
      "image/png": "[encoded data removed]",
      "text/plain": [
       "<Figure size 432x288 with 1 Axes>"
      ]
     },
     "metadata": {
      "needs_background": "light"
     },
     "output_type": "display_data"
    }
   ],
   "source": [
    "plt.imshow(out)"
   ]
  },
  {
   "cell_type": "code",
   "execution_count": 37,
   "id": "256c9f9e",
   "metadata": {},
   "outputs": [
    {
     "name": "stdout",
     "output_type": "stream",
     "text": [
      "7.42 ms ± 685 µs per loop (mean ± std. dev. of 7 runs, 1 loop each)\n"
     ]
    }
   ],
   "source": [
    "%timeit -n 1 [[apply_kernel(i, j, left_edge) for j in rng] for i in rng]"
   ]
  },
  {
   "cell_type": "code",
   "execution_count": 38,
   "id": "123b5d05",
   "metadata": {},
   "outputs": [
    {
     "name": "stdout",
     "output_type": "stream",
     "text": [
      "86 µs ± 24.8 µs per loop (mean ± std. dev. of 7 runs, 100 loops each)\n"
     ]
    }
   ],
   "source": [
    "%timeit -n 100 (w@F.unfold(inp, (3, 3))[0]).view(26, 26)"
   ]
  },
  {
   "cell_type": "code",
   "execution_count": 39,
   "id": "aebd8702",
   "metadata": {},
   "outputs": [
    {
     "name": "stdout",
     "output_type": "stream",
     "text": [
      "The slowest run took 4.27 times longer than the fastest. This could mean that an intermediate result is being cached.\n",
      "97.8 µs ± 43.7 µs per loop (mean ± std. dev. of 7 runs, 100 loops each)\n"
     ]
    },
    {
     "name": "stderr",
     "output_type": "stream",
     "text": [
      "[W NNPACK.cpp:64] Could not initialize NNPACK! Reason: Unsupported hardware.\n"
     ]
    }
   ],
   "source": [
    "%timeit -n 100 F.conv2d(inp, left_edge[None, None])"
   ]
  },
  {
   "cell_type": "code",
   "execution_count": 40,
   "id": "b6442077",
   "metadata": {},
   "outputs": [],
   "source": [
    "dig1_edge = torch.tensor([\n",
    "    [0, -1, 1],\n",
    "    [-1, 1, 0],\n",
    "    [1, 0, 0]\n",
    "]).float()"
   ]
  },
  {
   "cell_type": "code",
   "execution_count": 41,
   "id": "9fde493f",
   "metadata": {},
   "outputs": [
    {
     "data": {
      "text/plain": [
       "<matplotlib.image.AxesImage at 0x1a75fc510>"
      ]
     },
     "execution_count": 41,
     "metadata": {},
     "output_type": "execute_result"
    },
    {
     "data": {
      "image/png": "[encoded data removed]",
      "text/plain": [
       "<Figure size 432x288 with 1 Axes>"
      ]
     },
     "metadata": {
      "needs_background": "light"
     },
     "output_type": "display_data"
    }
   ],
   "source": [
    "plt.imshow(dig1_edge)"
   ]
  },
  {
   "cell_type": "code",
   "execution_count": 42,
   "id": "53de350b",
   "metadata": {},
   "outputs": [],
   "source": [
    "dig2_edge = torch.tensor([\n",
    "    [1, -1, 0],\n",
    "    [0, 1, -1],\n",
    "    [0, 0, 1]\n",
    "]).float()"
   ]
  },
  {
   "cell_type": "code",
   "execution_count": 43,
   "id": "62dcb6f2",
   "metadata": {},
   "outputs": [
    {
     "data": {
      "text/plain": [
       "<matplotlib.image.AxesImage at 0x1a76cb3d0>"
      ]
     },
     "execution_count": 43,
     "metadata": {},
     "output_type": "execute_result"
    },
    {
     "data": {
      "image/png": "[encoded data removed]",
      "text/plain": [
       "<Figure size 432x288 with 1 Axes>"
      ]
     },
     "metadata": {
      "needs_background": "light"
     },
     "output_type": "display_data"
    }
   ],
   "source": [
    "plt.imshow(dig2_edge)"
   ]
  },
  {
   "cell_type": "code",
   "execution_count": 44,
   "id": "8a2bd8b2",
   "metadata": {},
   "outputs": [
    {
     "data": {
      "text/plain": [
       "torch.Size([16, 1, 28, 28])"
      ]
     },
     "execution_count": 44,
     "metadata": {},
     "output_type": "execute_result"
    }
   ],
   "source": [
    "xb = x_imgs[:16][:,None]\n",
    "xb.shape"
   ]
  },
  {
   "cell_type": "code",
   "execution_count": 45,
   "id": "2cd438fb",
   "metadata": {},
   "outputs": [
    {
     "data": {
      "text/plain": [
       "torch.Size([4, 1, 3, 3])"
      ]
     },
     "execution_count": 45,
     "metadata": {},
     "output_type": "execute_result"
    }
   ],
   "source": [
    "edge_kernels = torch.stack([left_edge, top_edges, dig1_edge, dig2_edge])[:,None]\n",
    "edge_kernels.shape"
   ]
  },
  {
   "cell_type": "code",
   "execution_count": 46,
   "id": "70c65951",
   "metadata": {},
   "outputs": [
    {
     "data": {
      "text/plain": [
       "torch.Size([16, 4, 26, 26])"
      ]
     },
     "execution_count": 46,
     "metadata": {},
     "output_type": "execute_result"
    }
   ],
   "source": [
    "batch_features = F.conv2d(xb, edge_kernels)\n",
    "batch_features.shape"
   ]
  },
  {
   "cell_type": "code",
   "execution_count": 47,
   "id": "d0952010",
   "metadata": {},
   "outputs": [
    {
     "data": {
      "text/plain": [
       "<matplotlib.image.AxesImage at 0x1a7789950>"
      ]
     },
     "execution_count": 47,
     "metadata": {},
     "output_type": "execute_result"
    },
    {
     "data": {
      "image/png": "[encoded data removed]",
      "text/plain": [
       "<Figure size 432x288 with 1 Axes>"
      ]
     },
     "metadata": {
      "needs_background": "light"
     },
     "output_type": "display_data"
    }
   ],
   "source": [
    "im0 = xb[1, 0]\n",
    "plt.imshow(im0)"
   ]
  },
  {
   "cell_type": "code",
   "execution_count": 48,
   "id": "1bb23ee5",
   "metadata": {},
   "outputs": [
    {
     "data": {
      "text/plain": [
       "<matplotlib.image.AxesImage at 0x1a7479990>"
      ]
     },
     "execution_count": 48,
     "metadata": {},
     "output_type": "execute_result"
    },
    {
     "data": {
      "image/png": "[encoded data removed]",
      "text/plain": [
       "<Figure size 432x288 with 4 Axes>"
      ]
     },
     "metadata": {
      "needs_background": "light"
     },
     "output_type": "display_data"
    }
   ],
   "source": [
    "plt.subplot(2, 2, 1)\n",
    "plt.imshow(batch_features[1, 0])\n",
    "\n",
    "plt.subplot(2, 2, 2)\n",
    "plt.imshow(batch_features[1, 1])\n",
    "\n",
    "plt.subplot(2, 2, 3)\n",
    "plt.imshow(batch_features[1, 2])\n",
    "\n",
    "plt.subplot(2, 2, 4)\n",
    "plt.imshow(batch_features[1, 3])"
   ]
  },
  {
   "cell_type": "markdown",
   "id": "9516ca67",
   "metadata": {},
   "source": [
    "#### creating cnn"
   ]
  },
  {
   "cell_type": "code",
   "execution_count": 49,
   "id": "d1b76488",
   "metadata": {},
   "outputs": [],
   "source": [
    "from torch import nn"
   ]
  },
  {
   "cell_type": "code",
   "execution_count": 50,
   "id": "42d66e0e",
   "metadata": {},
   "outputs": [],
   "source": [
    "class Dataset():\n",
    "    def __init__(self, x, y): self.x,self.y = x,y\n",
    "    def __len__(self): return len(self.x)\n",
    "    def __getitem__(self, i): return self.x[i],self.y[i]\n",
    "    \n",
    "    \n",
    "class DataLoader():\n",
    "    def __init__(self, ds, batch_size): self.ds,self.bs = ds,bs\n",
    "    def __iter__(self):\n",
    "        for i in range(0, len(self.ds), self.bs): yield self.ds[i:i+self.bs]\n",
    "     \n",
    "    \n",
    "def get_dls(train_ds, valid_ds, bs, **kwargs):\n",
    "    return (DataLoader(train_ds, batch_size=bs, **kwargs),\n",
    "            DataLoader(valid_ds, batch_size=bs*2, **kwargs))\n",
    "\n",
    "def accuracy(out, yb): return (out.argmax(dim=1)==yb).float().mean()\n",
    "\n",
    "def fit(epochs, model, loss_func, opt, train_dl, valid_dl):\n",
    "    for epoch in range(epochs):\n",
    "        model.train()\n",
    "        for xb,yb in train_dl:\n",
    "            loss = loss_func(model(xb), yb)\n",
    "            loss.backward()\n",
    "            opt.step()\n",
    "            opt.zero_grad()\n",
    "\n",
    "        model.eval()\n",
    "        with torch.no_grad():\n",
    "            tot_loss,tot_acc,count = 0.,0.,0\n",
    "            for xb,yb in valid_dl:\n",
    "                pred = model(xb)\n",
    "                n = len(xb)\n",
    "                count += n\n",
    "                tot_loss += loss_func(pred,yb).item()*n\n",
    "                tot_acc  += accuracy (pred,yb).item()*n\n",
    "        print(epoch, tot_loss/count, tot_acc/count)\n",
    "    return tot_loss/count, tot_acc/count"
   ]
  },
  {
   "cell_type": "code",
   "execution_count": 51,
   "id": "f0ab8459",
   "metadata": {},
   "outputs": [],
   "source": [
    "m,n = x_train.shape\n",
    "nh  = 50\n",
    "c  = y_train.max() + 1"
   ]
  },
  {
   "cell_type": "code",
   "execution_count": 52,
   "id": "ac56882f",
   "metadata": {},
   "outputs": [],
   "source": [
    "broken_cnn = nn.Sequential(\n",
    "    nn.Conv2d(1, 30, kernel_size=3, padding=1),\n",
    "    nn.ReLU(),\n",
    "    nn.Conv2d(30, 10, kernel_size=3, padding=1)\n",
    ")"
   ]
  },
  {
   "cell_type": "code",
   "execution_count": 53,
   "id": "a4a8833c",
   "metadata": {},
   "outputs": [
    {
     "data": {
      "text/plain": [
       "Sequential(\n",
       "  (0): Conv2d(1, 30, kernel_size=(3, 3), stride=(1, 1), padding=(1, 1))\n",
       "  (1): ReLU()\n",
       "  (2): Conv2d(30, 10, kernel_size=(3, 3), stride=(1, 1), padding=(1, 1))\n",
       ")"
      ]
     },
     "execution_count": 53,
     "metadata": {},
     "output_type": "execute_result"
    }
   ],
   "source": [
    "broken_cnn"
   ]
  },
  {
   "cell_type": "code",
   "execution_count": 54,
   "id": "7284ce98",
   "metadata": {},
   "outputs": [
    {
     "data": {
      "text/plain": [
       "torch.Size([16, 10, 28, 28])"
      ]
     },
     "execution_count": 54,
     "metadata": {},
     "output_type": "execute_result"
    }
   ],
   "source": [
    "broken_cnn(xb).shape"
   ]
  },
  {
   "cell_type": "code",
   "execution_count": 55,
   "id": "fb82161a",
   "metadata": {},
   "outputs": [
    {
     "data": {
      "text/plain": [
       "torch.Size([16, 1, 28, 28])"
      ]
     },
     "execution_count": 55,
     "metadata": {},
     "output_type": "execute_result"
    }
   ],
   "source": [
    "xb.shape"
   ]
  },
  {
   "cell_type": "code",
   "execution_count": 56,
   "id": "4f7e010f",
   "metadata": {},
   "outputs": [],
   "source": [
    "def conv(ni, nf, ks=3, stride=2, act=True):\n",
    "    res = nn.Conv2d(ni, nf, kernel_size=ks, stride=stride, padding=ks//2)\n",
    "    if act:\n",
    "        res = nn.Sequential(res, nn.ReLU())\n",
    "    return res"
   ]
  },
  {
   "cell_type": "code",
   "execution_count": 57,
   "id": "65faee73",
   "metadata": {},
   "outputs": [],
   "source": [
    "simple_cnn = nn.Sequential(\n",
    "    conv(1, 4),\n",
    "    conv(4, 8),\n",
    "    conv(8, 16),\n",
    "    conv(16, 16),\n",
    "    conv(16, 10, act=False),\n",
    "    nn.Flatten()\n",
    ")"
   ]
  },
  {
   "cell_type": "code",
   "execution_count": 58,
   "id": "ac8fb020",
   "metadata": {},
   "outputs": [
    {
     "data": {
      "text/plain": [
       "torch.Size([16, 10])"
      ]
     },
     "execution_count": 58,
     "metadata": {},
     "output_type": "execute_result"
    }
   ],
   "source": [
    "simple_cnn(xb).shape"
   ]
  },
  {
   "cell_type": "code",
   "execution_count": 59,
   "id": "8288b227",
   "metadata": {},
   "outputs": [],
   "source": [
    "def_device = 'mps' if torch.backends.mps.is_available() else 'cuda' if torch.cuda.is_available() else 'cpu'\n",
    "\n",
    "def to_device(x, device=def_device):\n",
    "    if isinstance(x, torch.Tensor): return x.to(device)\n",
    "    if isinstance(x, Mapping): return {k:v.to(device) for k,v in x.items()}\n",
    "    return type(x)(to_device(o, device) for o in x)\n",
    "\n",
    "def collate_device(b): return to_device(default_collate(b))"
   ]
  },
  {
   "cell_type": "code",
   "execution_count": 60,
   "id": "0a5832cb",
   "metadata": {},
   "outputs": [],
   "source": [
    "x_imgs = x_train.view(-1, 1, 28, 28)\n",
    "xval_imgs = x_val.view(-1, 1, 28, 28)\n",
    "train_ds, val_ds = Dataset(x_imgs, y_train), Dataset(xval_imgs, y_val)"
   ]
  },
  {
   "cell_type": "code",
   "execution_count": 61,
   "id": "35c000e1",
   "metadata": {},
   "outputs": [],
   "source": [
    "from torch import optim"
   ]
  },
  {
   "cell_type": "code",
   "execution_count": 62,
   "id": "0a46aaef",
   "metadata": {},
   "outputs": [],
   "source": [
    "lr = 0.4\n",
    "bs = 256"
   ]
  },
  {
   "cell_type": "code",
   "execution_count": 63,
   "id": "e0d55bde",
   "metadata": {},
   "outputs": [],
   "source": [
    "train_dl, val_dl = get_dls(train_ds, val_ds, bs)"
   ]
  },
  {
   "cell_type": "code",
   "execution_count": 64,
   "id": "ce253dfc",
   "metadata": {},
   "outputs": [],
   "source": [
    "opt = optim.SGD(simple_cnn.parameters(), lr)"
   ]
  },
  {
   "cell_type": "code",
   "execution_count": 65,
   "id": "c1582f45",
   "metadata": {},
   "outputs": [
    {
     "name": "stdout",
     "output_type": "stream",
     "text": [
      "0 2.2360411514282226 0.2893\n",
      "1 0.2510062300205231 0.9272\n",
      "2 0.1556034809887409 0.9515\n",
      "3 0.17306179146766662 0.9449\n",
      "4 0.14703145915716886 0.9544\n"
     ]
    }
   ],
   "source": [
    "loss, acc =  fit(5, simple_cnn.to(def_device), F.cross_entropy, opt, train_dl, val_dl)"
   ]
  },
  {
   "cell_type": "markdown",
   "id": "a29e8d4b",
   "metadata": {},
   "source": [
    "#### understanding convolution arithmetic"
   ]
  },
  {
   "cell_type": "code",
   "execution_count": 68,
   "id": "b8fcf519",
   "metadata": {},
   "outputs": [
    {
     "data": {
      "text/plain": [
       "Conv2d(1, 4, kernel_size=(3, 3), stride=(2, 2), padding=(1, 1))"
      ]
     },
     "execution_count": 68,
     "metadata": {},
     "output_type": "execute_result"
    }
   ],
   "source": [
    "simple_cnn[0][0]"
   ]
  },
  {
   "cell_type": "code",
   "execution_count": 69,
   "id": "d9cd9a99",
   "metadata": {},
   "outputs": [
    {
     "data": {
      "text/plain": [
       "Conv2d(1, 4, kernel_size=(3, 3), stride=(2, 2), padding=(1, 1))"
      ]
     },
     "execution_count": 69,
     "metadata": {},
     "output_type": "execute_result"
    }
   ],
   "source": [
    "conv1 = simple_cnn[0][0]\n",
    "conv1"
   ]
  },
  {
   "cell_type": "code",
   "execution_count": 70,
   "id": "f7c6de54",
   "metadata": {},
   "outputs": [
    {
     "data": {
      "text/plain": [
       "torch.Size([4, 1, 3, 3])"
      ]
     },
     "execution_count": 70,
     "metadata": {},
     "output_type": "execute_result"
    }
   ],
   "source": [
    "conv1.weight.shape"
   ]
  },
  {
   "cell_type": "code",
   "execution_count": 71,
   "id": "1c171ca0",
   "metadata": {},
   "outputs": [
    {
     "data": {
      "text/plain": [
       "torch.Size([4])"
      ]
     },
     "execution_count": 71,
     "metadata": {},
     "output_type": "execute_result"
    }
   ],
   "source": [
    "conv1.bias.shape"
   ]
  },
  {
   "cell_type": "markdown",
   "id": "43b90609",
   "metadata": {},
   "source": [
    "#### color images"
   ]
  },
  {
   "cell_type": "code",
   "execution_count": 75,
   "id": "0c1eaf10",
   "metadata": {},
   "outputs": [],
   "source": [
    "import torch"
   ]
  },
  {
   "cell_type": "code",
   "execution_count": null,
   "id": "e1b5d12a",
   "metadata": {},
   "outputs": [],
   "source": []
  },
  {
   "cell_type": "code",
   "execution_count": null,
   "id": "6a0f9dfb",
   "metadata": {},
   "outputs": [],
   "source": []
  }
 ],
 "metadata": {
  "kernelspec": {
   "display_name": "python_main",
   "language": "python",
   "name": "python_main"
  },
  "language_info": {
   "codemirror_mode": {
    "name": "ipython",
    "version": 3
   },
   "file_extension": ".py",
   "mimetype": "text/x-python",
   "name": "python",
   "nbconvert_exporter": "python",
   "pygments_lexer": "ipython3",
   "version": "3.11.0"
  }
 },
 "nbformat": 4,
 "nbformat_minor": 5
}
