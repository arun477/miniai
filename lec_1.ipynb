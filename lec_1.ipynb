{
 "cells": [
  {
   "cell_type": "code",
   "execution_count": 1,
   "id": "381fd51a",
   "metadata": {},
   "outputs": [],
   "source": [
    "from pathlib import Path\n",
    "from urllib.request import urlretrieve\n",
    "import matplotlib.pyplot as plt\n",
    "import gzip, pickle, chardet\n",
    "from itertools import islice\n",
    "from memory_profiler import profile\n",
    "import torch"
   ]
  },
  {
   "cell_type": "code",
   "execution_count": 2,
   "id": "6f39c3a5",
   "metadata": {},
   "outputs": [
    {
     "data": {
      "text/plain": [
       "'2.0.0'"
      ]
     },
     "execution_count": 2,
     "metadata": {},
     "output_type": "execute_result"
    }
   ],
   "source": [
    "torch.__version__"
   ]
  },
  {
   "cell_type": "code",
   "execution_count": 151,
   "id": "0d375148",
   "metadata": {},
   "outputs": [
    {
     "name": "stdout",
     "output_type": "stream",
     "text": [
      "The memory_profiler extension is already loaded. To reload it, use:\n",
      "  %reload_ext memory_profiler\n"
     ]
    }
   ],
   "source": [
    "%matplotlib inline\n",
    "%load_ext memory_profiler"
   ]
  },
  {
   "cell_type": "code",
   "execution_count": 375,
   "id": "32c7c1b3",
   "metadata": {},
   "outputs": [
    {
     "name": "stdout",
     "output_type": "stream",
     "text": [
      "Collecting numba\n",
      "  Downloading numba-0.56.4.tar.gz (2.4 MB)\n",
      "\u001b[2K     \u001b[90m━━━━━━━━━━━━━━━━━━━━━━━━━━━━━━━━━━━━━━━━\u001b[0m \u001b[32m2.4/2.4 MB\u001b[0m \u001b[31m6.0 MB/s\u001b[0m eta \u001b[36m0:00:00\u001b[0m00:01\u001b[0m00:01\u001b[0m\n",
      "\u001b[?25h  Preparing metadata (setup.py) ... \u001b[?25lerror\n",
      "  \u001b[1;31merror\u001b[0m: \u001b[1msubprocess-exited-with-error\u001b[0m\n",
      "  \n",
      "  \u001b[31m×\u001b[0m \u001b[32mpython setup.py egg_info\u001b[0m did not run successfully.\n",
      "  \u001b[31m│\u001b[0m exit code: \u001b[1;36m1\u001b[0m\n",
      "  \u001b[31m╰─>\u001b[0m \u001b[31m[8 lines of output]\u001b[0m\n",
      "  \u001b[31m   \u001b[0m Traceback (most recent call last):\n",
      "  \u001b[31m   \u001b[0m   File \"<string>\", line 2, in <module>\n",
      "  \u001b[31m   \u001b[0m   File \"<pip-setuptools-caller>\", line 34, in <module>\n",
      "  \u001b[31m   \u001b[0m   File \"/private/var/folders/8k/07c2mpg56x7c31_26k0qj2y00000gn/T/pip-install-f6nu76g7/numba_2d59cf8c089e4d10b5a1e86467b9ba7a/setup.py\", line 51, in <module>\n",
      "  \u001b[31m   \u001b[0m     _guard_py_ver()\n",
      "  \u001b[31m   \u001b[0m   File \"/private/var/folders/8k/07c2mpg56x7c31_26k0qj2y00000gn/T/pip-install-f6nu76g7/numba_2d59cf8c089e4d10b5a1e86467b9ba7a/setup.py\", line 48, in _guard_py_ver\n",
      "  \u001b[31m   \u001b[0m     raise RuntimeError(msg.format(cur_py, min_py, max_py))\n",
      "  \u001b[31m   \u001b[0m RuntimeError: Cannot install on Python version 3.11.0; only versions >=3.7,<3.11 are supported.\n",
      "  \u001b[31m   \u001b[0m \u001b[31m[end of output]\u001b[0m\n",
      "  \n",
      "  \u001b[1;35mnote\u001b[0m: This error originates from a subprocess, and is likely not a problem with pip.\n",
      "\u001b[1;31merror\u001b[0m: \u001b[1mmetadata-generation-failed\u001b[0m\n",
      "\n",
      "\u001b[31m×\u001b[0m Encountered error while generating package metadata.\n",
      "\u001b[31m╰─>\u001b[0m See above for output.\n",
      "\n",
      "\u001b[1;35mnote\u001b[0m: This is an issue with the package mentioned above, not pip.\n",
      "\u001b[1;36mhint\u001b[0m: See above for details.\n",
      "\u001b[?25h"
     ]
    }
   ],
   "source": [
    "# !pip install chardet\n",
    "# !pip install memory_profiler\n",
    "!pip install numba"
   ]
  },
  {
   "cell_type": "code",
   "execution_count": 21,
   "id": "517baf7f",
   "metadata": {},
   "outputs": [],
   "source": [
    "MNIST_URL = 'https://github.com/mnielsen/neural-networks-and-deep-learning/blob/master/data/mnist.pkl.gz?raw=true'"
   ]
  },
  {
   "cell_type": "code",
   "execution_count": 27,
   "id": "93d781c4",
   "metadata": {},
   "outputs": [],
   "source": [
    "data_folder = Path('data')"
   ]
  },
  {
   "cell_type": "code",
   "execution_count": 28,
   "id": "7931a1f1",
   "metadata": {},
   "outputs": [],
   "source": [
    "data_folder.mkdir(exist_ok=True)"
   ]
  },
  {
   "cell_type": "code",
   "execution_count": 29,
   "id": "95391c05",
   "metadata": {},
   "outputs": [],
   "source": [
    "file_path = data_folder/'mnist.pkl.gz'"
   ]
  },
  {
   "cell_type": "code",
   "execution_count": 40,
   "id": "1c52e8ae",
   "metadata": {},
   "outputs": [],
   "source": [
    "if not file_path.exists():\n",
    "    urlretrieve(MNIST_URL, file_path)"
   ]
  },
  {
   "cell_type": "code",
   "execution_count": 44,
   "id": "b1a25a13",
   "metadata": {},
   "outputs": [
    {
     "data": {
      "text/plain": [
       "True"
      ]
     },
     "execution_count": 44,
     "metadata": {},
     "output_type": "execute_result"
    }
   ],
   "source": [
    "file_path.exists()"
   ]
  },
  {
   "cell_type": "code",
   "execution_count": 65,
   "id": "9ca18e6c",
   "metadata": {},
   "outputs": [],
   "source": [
    "data = None\n",
    "with gzip.open(file_path, 'rb') as f:\n",
    "#     %time print('encoding type: ', chardet.detect(f.read()))\n",
    "    data = pickle.load(f, encoding='latin1')"
   ]
  },
  {
   "cell_type": "code",
   "execution_count": 78,
   "id": "6c488e05",
   "metadata": {},
   "outputs": [],
   "source": [
    "((x_train, y_train), (x_test, y_test), _) = data"
   ]
  },
  {
   "cell_type": "code",
   "execution_count": 83,
   "id": "82a0560b",
   "metadata": {},
   "outputs": [],
   "source": [
    "lst = list(x_train[0])"
   ]
  },
  {
   "cell_type": "code",
   "execution_count": 85,
   "id": "6fe5f434",
   "metadata": {},
   "outputs": [
    {
     "data": {
      "text/plain": [
       "784"
      ]
     },
     "execution_count": 85,
     "metadata": {},
     "output_type": "execute_result"
    }
   ],
   "source": [
    "len(lst)"
   ]
  },
  {
   "cell_type": "code",
   "execution_count": 111,
   "id": "2ee14c14",
   "metadata": {},
   "outputs": [],
   "source": [
    "def chunks(lst, sz):\n",
    "    chnklst = []\n",
    "    for i in range(0, len(lst), sz):\n",
    "        chnklst.append(lst[i:i+sz])\n",
    "    return chnklst"
   ]
  },
  {
   "cell_type": "code",
   "execution_count": 112,
   "id": "e542f8e4",
   "metadata": {},
   "outputs": [
    {
     "name": "stdout",
     "output_type": "stream",
     "text": [
      "CPU times: user 50 µs, sys: 105 µs, total: 155 µs\n",
      "Wall time: 159 µs\n"
     ]
    }
   ],
   "source": [
    "%time chnklst = chunks(lst, 28)"
   ]
  },
  {
   "cell_type": "code",
   "execution_count": 152,
   "id": "569d290f",
   "metadata": {},
   "outputs": [
    {
     "name": "stdout",
     "output_type": "stream",
     "text": [
      "peak memory: 199.68 MiB, increment: 0.25 MiB\n"
     ]
    }
   ],
   "source": [
    "%memit chnklst = chunks(lst, 28)"
   ]
  },
  {
   "cell_type": "code",
   "execution_count": 117,
   "id": "2ae18f9c",
   "metadata": {},
   "outputs": [
    {
     "data": {
      "text/plain": [
       "(28, 28)"
      ]
     },
     "execution_count": 117,
     "metadata": {},
     "output_type": "execute_result"
    }
   ],
   "source": [
    "len(chnklst), len(chnklst[0])"
   ]
  },
  {
   "cell_type": "code",
   "execution_count": 123,
   "id": "711ef308",
   "metadata": {},
   "outputs": [
    {
     "data": {
      "text/plain": [
       "<matplotlib.image.AxesImage at 0x114cb0750>"
      ]
     },
     "execution_count": 123,
     "metadata": {},
     "output_type": "execute_result"
    },
    {
     "data": {
      "image/png": "[encoded data removed]",
      "text/plain": [
       "<Figure size 432x288 with 1 Axes>"
      ]
     },
     "metadata": {
      "needs_background": "light"
     },
     "output_type": "display_data"
    }
   ],
   "source": [
    "plt.imshow(chnklst, cmap='gray')"
   ]
  },
  {
   "cell_type": "code",
   "execution_count": 125,
   "id": "f7e8af7e",
   "metadata": {},
   "outputs": [],
   "source": [
    "def chunks_with_yield(lst, sz):\n",
    "    for i in range(0, len(lst), sz):\n",
    "        yield lst[i:i+sz]"
   ]
  },
  {
   "cell_type": "code",
   "execution_count": 138,
   "id": "1fb6d66d",
   "metadata": {},
   "outputs": [
    {
     "name": "stdout",
     "output_type": "stream",
     "text": [
      "CPU times: user 49 µs, sys: 144 µs, total: 193 µs\n",
      "Wall time: 207 µs\n"
     ]
    }
   ],
   "source": [
    "%time chnklst2 = list(chunks_with_yield(lst, 28))"
   ]
  },
  {
   "cell_type": "code",
   "execution_count": 153,
   "id": "3f5b950d",
   "metadata": {},
   "outputs": [
    {
     "name": "stdout",
     "output_type": "stream",
     "text": [
      "peak memory: 194.51 MiB, increment: 0.02 MiB\n"
     ]
    }
   ],
   "source": [
    "%memit chnklst2 = list(chunks_with_yield(lst, 28))"
   ]
  },
  {
   "cell_type": "code",
   "execution_count": 140,
   "id": "d5f52e98",
   "metadata": {},
   "outputs": [
    {
     "data": {
      "text/plain": [
       "(28, 28)"
      ]
     },
     "execution_count": 140,
     "metadata": {},
     "output_type": "execute_result"
    }
   ],
   "source": [
    "len(chnklst2), len(chnklst2[0])"
   ]
  },
  {
   "cell_type": "code",
   "execution_count": 141,
   "id": "dd6669bb",
   "metadata": {},
   "outputs": [
    {
     "data": {
      "text/plain": [
       "<matplotlib.image.AxesImage at 0x16666ebd0>"
      ]
     },
     "execution_count": 141,
     "metadata": {},
     "output_type": "execute_result"
    },
    {
     "data": {
      "image/png": "[encoded data removed]",
      "text/plain": [
       "<Figure size 432x288 with 1 Axes>"
      ]
     },
     "metadata": {
      "needs_background": "light"
     },
     "output_type": "display_data"
    }
   ],
   "source": [
    "plt.imshow(chnklst2, cmap='gray')"
   ]
  },
  {
   "cell_type": "code",
   "execution_count": 170,
   "id": "1dcb0fce",
   "metadata": {},
   "outputs": [],
   "source": [
    "islice??"
   ]
  },
  {
   "cell_type": "code",
   "execution_count": 161,
   "id": "8bb232c4",
   "metadata": {},
   "outputs": [
    {
     "name": "stdout",
     "output_type": "stream",
     "text": [
      "peak memory: 231.00 MiB, increment: 35.64 MiB\n"
     ]
    }
   ],
   "source": [
    "%memit lst = [ele for ele in range(1000000)]"
   ]
  },
  {
   "cell_type": "code",
   "execution_count": 164,
   "id": "f71e28cb",
   "metadata": {},
   "outputs": [
    {
     "name": "stdout",
     "output_type": "stream",
     "text": [
      "peak memory: 240.09 MiB, increment: 0.02 MiB\n"
     ]
    }
   ],
   "source": [
    "%memit lst"
   ]
  },
  {
   "cell_type": "code",
   "execution_count": 171,
   "id": "6d13f495",
   "metadata": {},
   "outputs": [],
   "source": [
    "nums_squared_gc = (i ** 2 for i in range(10000))"
   ]
  },
  {
   "cell_type": "code",
   "execution_count": 178,
   "id": "776e4a12",
   "metadata": {},
   "outputs": [
    {
     "data": {
      "text/plain": [
       "16"
      ]
     },
     "execution_count": 178,
     "metadata": {},
     "output_type": "execute_result"
    }
   ],
   "source": [
    "next(nums_squared_gc)"
   ]
  },
  {
   "cell_type": "code",
   "execution_count": 179,
   "id": "b239bff7",
   "metadata": {},
   "outputs": [],
   "source": [
    "import cProfile"
   ]
  },
  {
   "cell_type": "code",
   "execution_count": 185,
   "id": "189775fa",
   "metadata": {},
   "outputs": [
    {
     "name": "stdout",
     "output_type": "stream",
     "text": [
      "         5 function calls in 0.175 seconds\n",
      "\n",
      "   Ordered by: standard name\n",
      "\n",
      "   ncalls  tottime  percall  cumtime  percall filename:lineno(function)\n",
      "        1    0.158    0.158    0.158    0.158 <string>:1(<listcomp>)\n",
      "        1    0.009    0.009    0.175    0.175 <string>:1(<module>)\n",
      "        1    0.000    0.000    0.175    0.175 {built-in method builtins.exec}\n",
      "        1    0.009    0.009    0.009    0.009 {built-in method builtins.sum}\n",
      "        1    0.000    0.000    0.000    0.000 {method 'disable' of '_lsprof.Profiler' objects}\n",
      "\n",
      "\n"
     ]
    }
   ],
   "source": [
    "cProfile.run('sum([i * 2 for i in range(1000000)])')"
   ]
  },
  {
   "cell_type": "code",
   "execution_count": 186,
   "id": "7659b9b6",
   "metadata": {},
   "outputs": [
    {
     "name": "stdout",
     "output_type": "stream",
     "text": [
      "         1000005 function calls in 0.229 seconds\n",
      "\n",
      "   Ordered by: standard name\n",
      "\n",
      "   ncalls  tottime  percall  cumtime  percall filename:lineno(function)\n",
      "  1000001    0.151    0.000    0.151    0.000 <string>:1(<genexpr>)\n",
      "        1    0.000    0.000    0.228    0.228 <string>:1(<module>)\n",
      "        1    0.001    0.001    0.229    0.229 {built-in method builtins.exec}\n",
      "        1    0.077    0.077    0.228    0.228 {built-in method builtins.sum}\n",
      "        1    0.000    0.000    0.000    0.000 {method 'disable' of '_lsprof.Profiler' objects}\n",
      "\n",
      "\n"
     ]
    }
   ],
   "source": [
    "cProfile.run('sum((i * 2 for i in range(1000000)))')"
   ]
  },
  {
   "cell_type": "code",
   "execution_count": 187,
   "id": "c5176f92",
   "metadata": {},
   "outputs": [
    {
     "data": {
      "text/plain": [
       "1.3085714285714287"
      ]
     },
     "execution_count": 187,
     "metadata": {},
     "output_type": "execute_result"
    }
   ],
   "source": [
    "0.229/0.175"
   ]
  },
  {
   "cell_type": "code",
   "execution_count": 189,
   "id": "1881c959",
   "metadata": {},
   "outputs": [],
   "source": [
    "iter?"
   ]
  },
  {
   "cell_type": "code",
   "execution_count": 190,
   "id": "8997f791",
   "metadata": {},
   "outputs": [],
   "source": [
    "x = [ele for ele in range(1000)]"
   ]
  },
  {
   "cell_type": "code",
   "execution_count": 191,
   "id": "214e45b3",
   "metadata": {},
   "outputs": [],
   "source": [
    "y = iter(x)"
   ]
  },
  {
   "cell_type": "code",
   "execution_count": 202,
   "id": "f932d666",
   "metadata": {},
   "outputs": [],
   "source": [
    "z = (ele for ele in range(10000))"
   ]
  },
  {
   "cell_type": "code",
   "execution_count": 192,
   "id": "9f9bc480",
   "metadata": {},
   "outputs": [
    {
     "data": {
      "text/plain": [
       "list_iterator"
      ]
     },
     "execution_count": 192,
     "metadata": {},
     "output_type": "execute_result"
    }
   ],
   "source": [
    "type(y)"
   ]
  },
  {
   "cell_type": "code",
   "execution_count": 200,
   "id": "c07bac60",
   "metadata": {},
   "outputs": [
    {
     "data": {
      "text/plain": [
       "4"
      ]
     },
     "execution_count": 200,
     "metadata": {},
     "output_type": "execute_result"
    }
   ],
   "source": [
    "next(y)"
   ]
  },
  {
   "cell_type": "code",
   "execution_count": 201,
   "id": "cac35f15",
   "metadata": {},
   "outputs": [
    {
     "name": "stdout",
     "output_type": "stream",
     "text": [
      "peak memory: 252.98 MiB, increment: 0.06 MiB\n"
     ]
    }
   ],
   "source": [
    "%memit y"
   ]
  },
  {
   "cell_type": "code",
   "execution_count": 204,
   "id": "4eae2237",
   "metadata": {},
   "outputs": [
    {
     "name": "stdout",
     "output_type": "stream",
     "text": [
      "peak memory: 253.02 MiB, increment: 0.02 MiB\n"
     ]
    }
   ],
   "source": [
    "%memit z"
   ]
  },
  {
   "cell_type": "code",
   "execution_count": 208,
   "id": "08efdcb2",
   "metadata": {},
   "outputs": [
    {
     "data": {
      "text/plain": [
       "784"
      ]
     },
     "execution_count": 208,
     "metadata": {},
     "output_type": "execute_result"
    }
   ],
   "source": [
    "lst = x_train[0]\n",
    "len(lst)"
   ]
  },
  {
   "cell_type": "code",
   "execution_count": 221,
   "id": "876a99bc",
   "metadata": {},
   "outputs": [],
   "source": [
    "lst_itr = iter(lst)\n",
    "chunklst3  = list(iter(lambda: list(islice(lst_itr, 28)), []))"
   ]
  },
  {
   "cell_type": "code",
   "execution_count": 223,
   "id": "f46bfa69",
   "metadata": {},
   "outputs": [
    {
     "data": {
      "text/plain": [
       "(28, 28)"
      ]
     },
     "execution_count": 223,
     "metadata": {},
     "output_type": "execute_result"
    }
   ],
   "source": [
    "len(chunklst3), len(chunklst3[0])"
   ]
  },
  {
   "cell_type": "code",
   "execution_count": 225,
   "id": "4449a8c7",
   "metadata": {},
   "outputs": [
    {
     "data": {
      "text/plain": [
       "<matplotlib.image.AxesImage at 0x166ca8750>"
      ]
     },
     "execution_count": 225,
     "metadata": {},
     "output_type": "execute_result"
    },
    {
     "data": {
      "image/png": "[encoded data removed]",
      "text/plain": [
       "<Figure size 432x288 with 1 Axes>"
      ]
     },
     "metadata": {
      "needs_background": "light"
     },
     "output_type": "display_data"
    }
   ],
   "source": [
    "plt.imshow(chunklst3, cmap='gray')"
   ]
  },
  {
   "cell_type": "code",
   "execution_count": 228,
   "id": "fc86d598",
   "metadata": {},
   "outputs": [],
   "source": [
    "class Matrix():\n",
    "    def __init__(self, x):\n",
    "        self.x = x\n",
    "    \n",
    "    def __getitem__(self, idx):\n",
    "        return self.x[idx[0]][idx[1]]"
   ]
  },
  {
   "cell_type": "code",
   "execution_count": 232,
   "id": "27d26fac",
   "metadata": {},
   "outputs": [],
   "source": [
    "chunklst3_mat = Matrix(chunklst3)"
   ]
  },
  {
   "cell_type": "code",
   "execution_count": 237,
   "id": "6f8a7501",
   "metadata": {},
   "outputs": [
    {
     "data": {
      "text/plain": [
       "0.98828125"
      ]
     },
     "execution_count": 237,
     "metadata": {},
     "output_type": "execute_result"
    }
   ],
   "source": [
    "chunklst3_mat[24,5]"
   ]
  },
  {
   "cell_type": "code",
   "execution_count": 240,
   "id": "ea311a71",
   "metadata": {},
   "outputs": [],
   "source": [
    "x_train,y_train,x_dev,y_dev = map(torch.tensor, (x_train, y_train, x_test, y_test))"
   ]
  },
  {
   "cell_type": "code",
   "execution_count": 241,
   "id": "418b71ba",
   "metadata": {},
   "outputs": [
    {
     "data": {
      "text/plain": [
       "torch.Size([50000, 784])"
      ]
     },
     "execution_count": 241,
     "metadata": {},
     "output_type": "execute_result"
    }
   ],
   "source": [
    "x_train.shape"
   ]
  },
  {
   "cell_type": "code",
   "execution_count": 243,
   "id": "25a2052c",
   "metadata": {},
   "outputs": [
    {
     "data": {
      "text/plain": [
       "torch.Size([784])"
      ]
     },
     "execution_count": 243,
     "metadata": {},
     "output_type": "execute_result"
    }
   ],
   "source": [
    "x_train[0].shape"
   ]
  },
  {
   "cell_type": "code",
   "execution_count": 244,
   "id": "74ffcee7",
   "metadata": {},
   "outputs": [
    {
     "data": {
      "text/plain": [
       "torch.float32"
      ]
     },
     "execution_count": 244,
     "metadata": {},
     "output_type": "execute_result"
    }
   ],
   "source": [
    "x_train.dtype"
   ]
  },
  {
   "cell_type": "code",
   "execution_count": 245,
   "id": "da7cad53",
   "metadata": {},
   "outputs": [
    {
     "data": {
      "text/plain": [
       "'torch.FloatTensor'"
      ]
     },
     "execution_count": 245,
     "metadata": {},
     "output_type": "execute_result"
    }
   ],
   "source": [
    "x_train.type()"
   ]
  },
  {
   "cell_type": "code",
   "execution_count": 246,
   "id": "32201b82",
   "metadata": {},
   "outputs": [],
   "source": [
    "chunklst4 = x_train[0].reshape(-1, 28, 28)"
   ]
  },
  {
   "cell_type": "code",
   "execution_count": 247,
   "id": "f26477fa",
   "metadata": {},
   "outputs": [
    {
     "data": {
      "text/plain": [
       "torch.Size([1, 28, 28])"
      ]
     },
     "execution_count": 247,
     "metadata": {},
     "output_type": "execute_result"
    }
   ],
   "source": [
    "chunklst4.shape"
   ]
  },
  {
   "cell_type": "code",
   "execution_count": 250,
   "id": "428ee8cf",
   "metadata": {},
   "outputs": [
    {
     "data": {
      "text/plain": [
       "<matplotlib.image.AxesImage at 0x16c8b6a10>"
      ]
     },
     "execution_count": 250,
     "metadata": {},
     "output_type": "execute_result"
    },
    {
     "data": {
      "image/png": "[encoded data removed]",
      "text/plain": [
       "<Figure size 432x288 with 1 Axes>"
      ]
     },
     "metadata": {
      "needs_background": "light"
     },
     "output_type": "display_data"
    }
   ],
   "source": [
    "plt.imshow(chunklst4[0])"
   ]
  },
  {
   "cell_type": "code",
   "execution_count": 252,
   "id": "a100c097",
   "metadata": {},
   "outputs": [],
   "source": [
    "import random"
   ]
  },
  {
   "cell_type": "code",
   "execution_count": 259,
   "id": "70049980",
   "metadata": {},
   "outputs": [
    {
     "data": {
      "text/plain": [
       "[<matplotlib.lines.Line2D at 0x166d2bf50>]"
      ]
     },
     "execution_count": 259,
     "metadata": {},
     "output_type": "execute_result"
    },
    {
     "data": {
      "image/png": "[encoded data removed]",
      "text/plain": [
       "<Figure size 432x288 with 1 Axes>"
      ]
     },
     "metadata": {
      "needs_background": "light"
     },
     "output_type": "display_data"
    }
   ],
   "source": [
    "plt.plot([random.random() for _ in range(100)])"
   ]
  },
  {
   "cell_type": "code",
   "execution_count": 264,
   "id": "00fb2f33",
   "metadata": {},
   "outputs": [
    {
     "data": {
      "text/plain": [
       "(array([ 97., 112.,  95., 100.,  92.,  97.,  95.,  94., 110., 108.]),\n",
       " array([0.00117792, 0.10103385, 0.20088978, 0.30074571, 0.40060164,\n",
       "        0.50045757, 0.6003135 , 0.70016943, 0.80002536, 0.89988129,\n",
       "        0.99973722]),\n",
       " <BarContainer object of 10 artists>)"
      ]
     },
     "execution_count": 264,
     "metadata": {},
     "output_type": "execute_result"
    },
    {
     "data": {
      "image/png": "[encoded data removed]",
      "text/plain": [
       "<Figure size 432x288 with 1 Axes>"
      ]
     },
     "metadata": {
      "needs_background": "light"
     },
     "output_type": "display_data"
    }
   ],
   "source": [
    "plt.hist([random.random() for _ in range(1000)])"
   ]
  },
  {
   "cell_type": "code",
   "execution_count": 265,
   "id": "4d30b5a0",
   "metadata": {},
   "outputs": [],
   "source": [
    "random.random??"
   ]
  },
  {
   "cell_type": "code",
   "execution_count": 266,
   "id": "21b6c263",
   "metadata": {
    "scrolled": true
   },
   "outputs": [
    {
     "data": {
      "text/plain": [
       "[0.23312284638918135,\n",
       " 0.6600825669494873,\n",
       " 0.5559688062888731,\n",
       " 0.9393223872510965,\n",
       " 0.997069113766209,\n",
       " 0.9714371556726054,\n",
       " 0.7979060101290658,\n",
       " 0.6629985036926377,\n",
       " 0.007034324704647266,\n",
       " 0.4604418170165272,\n",
       " 0.4367622378615764,\n",
       " 0.3229516309516832,\n",
       " 0.5383612539230914,\n",
       " 0.8243091045034872,\n",
       " 0.24013412090178465,\n",
       " 0.3455729964983424,\n",
       " 0.6079545462485493,\n",
       " 0.8533317537069128,\n",
       " 0.45888556361342037,\n",
       " 0.6760229327990728,\n",
       " 0.6552822039633079,\n",
       " 0.16372087489333542,\n",
       " 0.30821510321298884,\n",
       " 0.3411020029491336,\n",
       " 0.2284972693758235,\n",
       " 0.9189732861588299,\n",
       " 0.5188445223222962,\n",
       " 0.95425706864202,\n",
       " 0.34257280292191405,\n",
       " 0.6223847348893689,\n",
       " 0.7053108988479604,\n",
       " 0.16547508789617216,\n",
       " 0.058448613968726026,\n",
       " 0.8716886377687983,\n",
       " 0.6718017717556175,\n",
       " 0.2930057082189871,\n",
       " 0.981469057250725,\n",
       " 0.9887329341668547,\n",
       " 0.19981334445496002,\n",
       " 0.8017015329716433,\n",
       " 0.38193925681764995,\n",
       " 0.05686705418930804,\n",
       " 0.5829386725915756,\n",
       " 0.4232424077625232,\n",
       " 0.15928277653922773,\n",
       " 0.9759090668765136,\n",
       " 0.2287409148406263,\n",
       " 0.3735120764411256,\n",
       " 0.7505385148009515,\n",
       " 0.33129914584917997,\n",
       " 0.11281531949659107,\n",
       " 0.30211685696154666,\n",
       " 0.7330642583620189,\n",
       " 0.7918072168845139,\n",
       " 0.021969286643303554,\n",
       " 0.21209868810776134,\n",
       " 0.17047901308604374,\n",
       " 0.2189298216855351,\n",
       " 0.559942365588439,\n",
       " 0.6899847800750963,\n",
       " 0.7287159671089263,\n",
       " 0.797365363301911,\n",
       " 0.9793298239849829,\n",
       " 0.040679139483605686,\n",
       " 0.08277466628299845,\n",
       " 0.6773739949263372,\n",
       " 0.6864682833267179,\n",
       " 0.2124978766188882,\n",
       " 0.13599635405398902,\n",
       " 0.3294248262788939,\n",
       " 0.6956392841831511,\n",
       " 0.22074144190096956,\n",
       " 0.5794347406704586,\n",
       " 0.07761318401063955,\n",
       " 0.68444415283443,\n",
       " 0.4294324975000461,\n",
       " 0.7858999977555952,\n",
       " 0.4556134674651068,\n",
       " 0.2455784020888867,\n",
       " 0.8223440921034946,\n",
       " 0.24070590831765293,\n",
       " 0.7445121301851502,\n",
       " 0.09500865412106763,\n",
       " 0.6663729737871769,\n",
       " 0.07168833618784698,\n",
       " 0.24216629874303885,\n",
       " 0.3489708103550003,\n",
       " 0.057870304840079934,\n",
       " 0.0961604808519787,\n",
       " 0.4855343158425943,\n",
       " 0.9336100684127864,\n",
       " 0.2993248233442767,\n",
       " 0.7845182447964164,\n",
       " 0.5717348144043684,\n",
       " 0.6699367095608474,\n",
       " 0.47141292143315117,\n",
       " 0.3162376593030185,\n",
       " 0.5512472847750597,\n",
       " 0.3818871095955346,\n",
       " 0.9817768778257107]"
      ]
     },
     "execution_count": 266,
     "metadata": {},
     "output_type": "execute_result"
    }
   ],
   "source": [
    "[random.random() for _ in range(100)]"
   ]
  },
  {
   "cell_type": "code",
   "execution_count": 269,
   "id": "e0be5428",
   "metadata": {},
   "outputs": [],
   "source": [
    "torch.randn??"
   ]
  },
  {
   "cell_type": "code",
   "execution_count": 276,
   "id": "8a25ca14",
   "metadata": {},
   "outputs": [
    {
     "data": {
      "text/plain": [
       "[<matplotlib.lines.Line2D at 0x16d3c6810>]"
      ]
     },
     "execution_count": 276,
     "metadata": {},
     "output_type": "execute_result"
    },
    {
     "data": {
      "image/png": "[encoded data removed]",
      "text/plain": [
       "<Figure size 432x288 with 1 Axes>"
      ]
     },
     "metadata": {
      "needs_background": "light"
     },
     "output_type": "display_data"
    }
   ],
   "source": [
    "plt.plot(list(torch.randn((1, 10000))[0]))"
   ]
  },
  {
   "cell_type": "code",
   "execution_count": 277,
   "id": "caf9b479",
   "metadata": {},
   "outputs": [
    {
     "data": {
      "text/plain": [
       "(array([  11.,   83.,  439., 1518., 2600., 2826., 1764.,  612.,  131.,\n",
       "          16.]),\n",
       " array([-3.92053127, -3.15524149, -2.38995171, -1.62466204, -0.85937232,\n",
       "        -0.09408259,  0.67120713,  1.43649685,  2.20178652,  2.9670763 ,\n",
       "         3.73236609]),\n",
       " <BarContainer object of 10 artists>)"
      ]
     },
     "execution_count": 277,
     "metadata": {},
     "output_type": "execute_result"
    },
    {
     "data": {
      "image/png": "[encoded data removed]",
      "text/plain": [
       "<Figure size 432x288 with 1 Axes>"
      ]
     },
     "metadata": {
      "needs_background": "light"
     },
     "output_type": "display_data"
    }
   ],
   "source": [
    "plt.hist(list(torch.randn((1, 10000))[0]))"
   ]
  },
  {
   "cell_type": "code",
   "execution_count": 280,
   "id": "30854ae4",
   "metadata": {},
   "outputs": [
    {
     "data": {
      "text/plain": [
       "(array([1000., 1026.,  979.,  976.,  996., 1010., 1029., 1017.,  993.,\n",
       "         974.]),\n",
       " array([8.42809677e-05, 1.00074515e-01, 2.00064749e-01, 3.00054997e-01,\n",
       "        4.00045216e-01, 5.00035465e-01, 6.00025713e-01, 7.00015962e-01,\n",
       "        8.00006151e-01, 8.99996400e-01, 9.99986649e-01]),\n",
       " <BarContainer object of 10 artists>)"
      ]
     },
     "execution_count": 280,
     "metadata": {},
     "output_type": "execute_result"
    },
    {
     "data": {
      "image/png": "[encoded data removed]",
      "text/plain": [
       "<Figure size 432x288 with 1 Axes>"
      ]
     },
     "metadata": {
      "needs_background": "light"
     },
     "output_type": "display_data"
    }
   ],
   "source": [
    "plt.hist(list(torch.rand((1, 10000))[0]))"
   ]
  },
  {
   "cell_type": "code",
   "execution_count": 286,
   "id": "0e8b7d5b",
   "metadata": {},
   "outputs": [
    {
     "data": {
      "text/plain": [
       "['Generator',\n",
       " '__builtins__',\n",
       " '__cached__',\n",
       " '__doc__',\n",
       " '__file__',\n",
       " '__loader__',\n",
       " '__name__',\n",
       " '__package__',\n",
       " '__spec__',\n",
       " '_fork_rng_warned_already',\n",
       " 'contextlib',\n",
       " 'default_generator',\n",
       " 'fork_rng',\n",
       " 'get_rng_state',\n",
       " 'initial_seed',\n",
       " 'manual_seed',\n",
       " 'seed',\n",
       " 'set_rng_state',\n",
       " 'torch',\n",
       " 'warnings']"
      ]
     },
     "execution_count": 286,
     "metadata": {},
     "output_type": "execute_result"
    }
   ],
   "source": [
    "dir(torch.random)"
   ]
  },
  {
   "cell_type": "code",
   "execution_count": 329,
   "id": "e6d66a50",
   "metadata": {},
   "outputs": [
    {
     "data": {
      "text/plain": [
       "<torch._C.Generator at 0x166d1acd0>"
      ]
     },
     "execution_count": 329,
     "metadata": {},
     "output_type": "execute_result"
    }
   ],
   "source": [
    "torch.random.manual_seed(1)"
   ]
  },
  {
   "cell_type": "code",
   "execution_count": 347,
   "id": "d1fab162",
   "metadata": {},
   "outputs": [
    {
     "data": {
      "text/plain": [
       "[tensor([[0.7576]]),\n",
       " tensor([[0.2793]]),\n",
       " tensor([[0.4031]]),\n",
       " tensor([[0.7347]]),\n",
       " tensor([[0.0293]]),\n",
       " tensor([[0.7999]]),\n",
       " tensor([[0.3971]]),\n",
       " tensor([[0.7544]]),\n",
       " tensor([[0.5695]]),\n",
       " tensor([[0.4388]])]"
      ]
     },
     "execution_count": 347,
     "metadata": {},
     "output_type": "execute_result"
    }
   ],
   "source": [
    "torch.manual_seed(1)\n",
    "[torch.rand((1, 1)) for _ in range(10)]"
   ]
  },
  {
   "cell_type": "code",
   "execution_count": 348,
   "id": "a3b92494",
   "metadata": {},
   "outputs": [
    {
     "data": {
      "text/plain": [
       "[tensor([[0.7576]]),\n",
       " tensor([[0.2793]]),\n",
       " tensor([[0.4031]]),\n",
       " tensor([[0.7347]]),\n",
       " tensor([[0.0293]]),\n",
       " tensor([[0.7999]]),\n",
       " tensor([[0.3971]]),\n",
       " tensor([[0.7544]]),\n",
       " tensor([[0.5695]]),\n",
       " tensor([[0.4388]])]"
      ]
     },
     "execution_count": 348,
     "metadata": {},
     "output_type": "execute_result"
    }
   ],
   "source": [
    "torch.manual_seed(1)\n",
    "[torch.rand((1, 1)) for _ in range(10)]"
   ]
  },
  {
   "cell_type": "code",
   "execution_count": 463,
   "id": "94e09276",
   "metadata": {},
   "outputs": [
    {
     "data": {
      "text/plain": [
       "(5, 784)"
      ]
     },
     "execution_count": 463,
     "metadata": {},
     "output_type": "execute_result"
    }
   ],
   "source": [
    "m1 = x_test[:5]\n",
    "m1.shape"
   ]
  },
  {
   "cell_type": "code",
   "execution_count": 351,
   "id": "de5aa9ed",
   "metadata": {},
   "outputs": [
    {
     "data": {
      "text/plain": [
       "torch.Size([784, 10])"
      ]
     },
     "execution_count": 351,
     "metadata": {},
     "output_type": "execute_result"
    }
   ],
   "source": [
    "torch.manual_seed(1)\n",
    "m2 = torch.randn(m1.shape[1], 10)\n",
    "m2.shape"
   ]
  },
  {
   "cell_type": "code",
   "execution_count": 353,
   "id": "1b7c1c1d",
   "metadata": {},
   "outputs": [
    {
     "data": {
      "text/plain": [
       "torch.Size([5, 10])"
      ]
     },
     "execution_count": 353,
     "metadata": {},
     "output_type": "execute_result"
    }
   ],
   "source": [
    "# (5, 784) * (784, 10) => (5, 10)\n",
    "t1 = torch.zeros(5, 10)\n",
    "t1.shape"
   ]
  },
  {
   "cell_type": "code",
   "execution_count": 354,
   "id": "f95ac49d",
   "metadata": {},
   "outputs": [],
   "source": [
    "ar, ac = m1.shape\n",
    "br, bc = m2.shape"
   ]
  },
  {
   "cell_type": "code",
   "execution_count": 355,
   "id": "006eaf46",
   "metadata": {},
   "outputs": [],
   "source": [
    "for i in range(ar):\n",
    "    for j in range(bc):\n",
    "        for k in range(ac):\n",
    "            t1[i, j] += m1[i,k] * m2[k, j]"
   ]
  },
  {
   "cell_type": "code",
   "execution_count": 357,
   "id": "14136d45",
   "metadata": {},
   "outputs": [
    {
     "data": {
      "text/plain": [
       "torch.Size([5, 10])"
      ]
     },
     "execution_count": 357,
     "metadata": {},
     "output_type": "execute_result"
    }
   ],
   "source": [
    "t1.shape"
   ]
  },
  {
   "cell_type": "code",
   "execution_count": 358,
   "id": "6ad2edde",
   "metadata": {},
   "outputs": [
    {
     "data": {
      "text/plain": [
       "tensor([[-10.9417,  -0.6844,  -7.0038,  -4.0066,  -2.0857,  -3.3588,   3.9127,\n",
       "          -3.4375, -11.4696,  -2.1153],\n",
       "        [ 14.5430,   5.9977,   2.8914,  -4.0777,   6.5914, -14.7383,  -9.2787,\n",
       "           2.1577, -15.2772,  -2.6758],\n",
       "        [  2.2204,  -3.2171,  -4.7988,  -6.0453,  14.1661,  -8.9824,  -4.7922,\n",
       "          -5.4446, -20.6758,  13.5657],\n",
       "        [ -6.7097,   8.8998,  -7.4611,  -7.8966,   2.6994,  -4.7260, -11.0278,\n",
       "         -12.9776,  -6.4443,   3.6376],\n",
       "        [ -2.4444,  -6.4034,  -2.3984,  -9.0371,  11.1772,  -5.7724,  -8.9214,\n",
       "          -3.7862,  -8.9827,   5.2797]])"
      ]
     },
     "execution_count": 358,
     "metadata": {},
     "output_type": "execute_result"
    }
   ],
   "source": [
    "t1"
   ]
  },
  {
   "cell_type": "code",
   "execution_count": 369,
   "id": "2581a56a",
   "metadata": {},
   "outputs": [
    {
     "data": {
      "text/plain": [
       "tensor([[-10.94,  -0.68,  -7.00,  -4.01,  -2.09,  -3.36,   3.91,  -3.44, -11.47,  -2.12],\n",
       "        [ 14.54,   6.00,   2.89,  -4.08,   6.59, -14.74,  -9.28,   2.16, -15.28,  -2.68],\n",
       "        [  2.22,  -3.22,  -4.80,  -6.05,  14.17,  -8.98,  -4.79,  -5.44, -20.68,  13.57],\n",
       "        [ -6.71,   8.90,  -7.46,  -7.90,   2.70,  -4.73, -11.03, -12.98,  -6.44,   3.64],\n",
       "        [ -2.44,  -6.40,  -2.40,  -9.04,  11.18,  -5.77,  -8.92,  -3.79,  -8.98,   5.28]])"
      ]
     },
     "execution_count": 369,
     "metadata": {},
     "output_type": "execute_result"
    }
   ],
   "source": [
    "torch.set_printoptions(precision=2, linewidth=140, sci_mode=False)\n",
    "t1"
   ]
  },
  {
   "cell_type": "code",
   "execution_count": 371,
   "id": "fdbad87b",
   "metadata": {},
   "outputs": [],
   "source": [
    "def matmul(a, b):\n",
    "    (ar, ac), (br, bc) = a.shape, b.shape\n",
    "    c = torch.zeros(ar, bc)\n",
    "    for i in range(ar):\n",
    "        for j in range(bc):\n",
    "            for k in range(ac):\n",
    "                c[i, j] += m1[i,k] * m2[k, j]\n",
    "    return c"
   ]
  },
  {
   "cell_type": "code",
   "execution_count": 372,
   "id": "8be74ade",
   "metadata": {},
   "outputs": [
    {
     "name": "stdout",
     "output_type": "stream",
     "text": [
      "CPU times: user 818 ms, sys: 4.33 ms, total: 823 ms\n",
      "Wall time: 821 ms\n"
     ]
    }
   ],
   "source": [
    "%time _ = matmul(m1, m2)"
   ]
  },
  {
   "cell_type": "code",
   "execution_count": 373,
   "id": "f1343894",
   "metadata": {},
   "outputs": [
    {
     "data": {
      "text/plain": [
       "tensor([[-10.94,  -0.68,  -7.00,  -4.01,  -2.09,  -3.36,   3.91,  -3.44, -11.47,  -2.12],\n",
       "        [ 14.54,   6.00,   2.89,  -4.08,   6.59, -14.74,  -9.28,   2.16, -15.28,  -2.68],\n",
       "        [  2.22,  -3.22,  -4.80,  -6.05,  14.17,  -8.98,  -4.79,  -5.44, -20.68,  13.57],\n",
       "        [ -6.71,   8.90,  -7.46,  -7.90,   2.70,  -4.73, -11.03, -12.98,  -6.44,   3.64],\n",
       "        [ -2.44,  -6.40,  -2.40,  -9.04,  11.18,  -5.77,  -8.92,  -3.79,  -8.98,   5.28]])"
      ]
     },
     "execution_count": 373,
     "metadata": {},
     "output_type": "execute_result"
    }
   ],
   "source": [
    "_"
   ]
  },
  {
   "cell_type": "code",
   "execution_count": 374,
   "id": "c631d368",
   "metadata": {},
   "outputs": [
    {
     "data": {
      "text/plain": [
       "39200"
      ]
     },
     "execution_count": 374,
     "metadata": {},
     "output_type": "execute_result"
    }
   ],
   "source": [
    "# number of operations\n",
    "ar*bc*ac"
   ]
  },
  {
   "cell_type": "markdown",
   "id": "3b19a71b",
   "metadata": {},
   "source": [
    "#### numba"
   ]
  },
  {
   "cell_type": "code",
   "execution_count": 380,
   "id": "7a98597e",
   "metadata": {},
   "outputs": [],
   "source": [
    "# from numba import njit"
   ]
  },
  {
   "cell_type": "code",
   "execution_count": 379,
   "id": "f688488a",
   "metadata": {},
   "outputs": [],
   "source": [
    "# !pip install numba==0.55.2 "
   ]
  },
  {
   "cell_type": "code",
   "execution_count": 388,
   "id": "75d62fb4",
   "metadata": {},
   "outputs": [],
   "source": [
    "import fastcore.test as ftest"
   ]
  },
  {
   "cell_type": "code",
   "execution_count": 397,
   "id": "fbedf083",
   "metadata": {
    "scrolled": true
   },
   "outputs": [
    {
     "ename": "AssertionError",
     "evalue": "close:\ntensor([[0., 0., 0., 0., 0., 0., 0., 0., 0., 0.],\n        [0., 0., 0., 0., 0., 0., 0., 0., 0., 0.],\n        [0., 0., 0., 0., 0., 0., 0., 0., 0., 0.],\n        [0., 0., 0., 0., 0., 0., 0., 0., 0., 0.],\n        [0., 0., 0., 0., 0., 0., 0., 0., 0., 0.]])\ntensor([[-10.94,  -0.68,  -7.00,  -4.01,  -2.09,  -3.36,   3.91,  -3.44, -11.47,  -2.12],\n        [ 14.54,   6.00,   2.89,  -4.08,   6.59, -14.74,  -9.28,   2.16, -15.28,  -2.68],\n        [  2.22,  -3.22,  -4.80,  -6.05,  14.17,  -8.98,  -4.79,  -5.44, -20.68,  13.57],\n        [ -6.71,   8.90,  -7.46,  -7.90,   2.70,  -4.73, -11.03, -12.98,  -6.44,   3.64],\n        [ -2.44,  -6.40,  -2.40,  -9.04,  11.18,  -5.77,  -8.92,  -3.79,  -8.98,   5.28]])",
     "output_type": "error",
     "traceback": [
      "\u001b[0;31m---------------------------------------------------------------------------\u001b[0m",
      "\u001b[0;31mAssertionError\u001b[0m                            Traceback (most recent call last)",
      "Cell \u001b[0;32mIn[397], line 1\u001b[0m\n\u001b[0;32m----> 1\u001b[0m ftest\u001b[38;5;241m.\u001b[39mtest_close(torch\u001b[38;5;241m.\u001b[39mzeros(\u001b[38;5;241m5\u001b[39m, \u001b[38;5;241m10\u001b[39m), matmul(m1, m2))\n",
      "File \u001b[0;32m/Applications/anaconda3/envs/python_main/lib/python3.11/site-packages/fastcore/test.py:63\u001b[0m, in \u001b[0;36mtest_close\u001b[0;34m(a, b, eps)\u001b[0m\n\u001b[1;32m     61\u001b[0m \u001b[38;5;28;01mdef\u001b[39;00m \u001b[38;5;21mtest_close\u001b[39m(a,b,eps\u001b[38;5;241m=\u001b[39m\u001b[38;5;241m1e-5\u001b[39m):\n\u001b[1;32m     62\u001b[0m     \u001b[38;5;124m\"\u001b[39m\u001b[38;5;124m`test` that `a` is within `eps` of `b`\u001b[39m\u001b[38;5;124m\"\u001b[39m\n\u001b[0;32m---> 63\u001b[0m     test(a,b,partial(is_close,eps\u001b[38;5;241m=\u001b[39meps),\u001b[38;5;124m'\u001b[39m\u001b[38;5;124mclose\u001b[39m\u001b[38;5;124m'\u001b[39m)\n",
      "File \u001b[0;32m/Applications/anaconda3/envs/python_main/lib/python3.11/site-packages/fastcore/test.py:27\u001b[0m, in \u001b[0;36mtest\u001b[0;34m(a, b, cmp, cname)\u001b[0m\n\u001b[1;32m     25\u001b[0m \u001b[38;5;124m\"\u001b[39m\u001b[38;5;124m`assert` that `cmp(a,b)`; display inputs and `cname or cmp.__name__` if it fails\u001b[39m\u001b[38;5;124m\"\u001b[39m\n\u001b[1;32m     26\u001b[0m \u001b[38;5;28;01mif\u001b[39;00m cname \u001b[38;5;129;01mis\u001b[39;00m \u001b[38;5;28;01mNone\u001b[39;00m: cname\u001b[38;5;241m=\u001b[39mcmp\u001b[38;5;241m.\u001b[39m\u001b[38;5;18m__name__\u001b[39m\n\u001b[0;32m---> 27\u001b[0m \u001b[38;5;28;01massert\u001b[39;00m cmp(a,b),\u001b[38;5;124mf\u001b[39m\u001b[38;5;124m\"\u001b[39m\u001b[38;5;132;01m{\u001b[39;00mcname\u001b[38;5;132;01m}\u001b[39;00m\u001b[38;5;124m:\u001b[39m\u001b[38;5;130;01m\\n\u001b[39;00m\u001b[38;5;132;01m{\u001b[39;00ma\u001b[38;5;132;01m}\u001b[39;00m\u001b[38;5;130;01m\\n\u001b[39;00m\u001b[38;5;132;01m{\u001b[39;00mb\u001b[38;5;132;01m}\u001b[39;00m\u001b[38;5;124m\"\u001b[39m\n",
      "\u001b[0;31mAssertionError\u001b[0m: close:\ntensor([[0., 0., 0., 0., 0., 0., 0., 0., 0., 0.],\n        [0., 0., 0., 0., 0., 0., 0., 0., 0., 0.],\n        [0., 0., 0., 0., 0., 0., 0., 0., 0., 0.],\n        [0., 0., 0., 0., 0., 0., 0., 0., 0., 0.],\n        [0., 0., 0., 0., 0., 0., 0., 0., 0., 0.]])\ntensor([[-10.94,  -0.68,  -7.00,  -4.01,  -2.09,  -3.36,   3.91,  -3.44, -11.47,  -2.12],\n        [ 14.54,   6.00,   2.89,  -4.08,   6.59, -14.74,  -9.28,   2.16, -15.28,  -2.68],\n        [  2.22,  -3.22,  -4.80,  -6.05,  14.17,  -8.98,  -4.79,  -5.44, -20.68,  13.57],\n        [ -6.71,   8.90,  -7.46,  -7.90,   2.70,  -4.73, -11.03, -12.98,  -6.44,   3.64],\n        [ -2.44,  -6.40,  -2.40,  -9.04,  11.18,  -5.77,  -8.92,  -3.79,  -8.98,   5.28]])"
     ]
    }
   ],
   "source": [
    "ftest.test_close(torch.zeros(5, 10), matmul(m1, m2))"
   ]
  },
  {
   "cell_type": "code",
   "execution_count": 405,
   "id": "b8e9597d",
   "metadata": {},
   "outputs": [],
   "source": [
    "ftest.test_close(t1, matmul(m1, m2))"
   ]
  },
  {
   "cell_type": "code",
   "execution_count": 404,
   "id": "f9544386",
   "metadata": {},
   "outputs": [
    {
     "data": {
      "text/plain": [
       "True"
      ]
     },
     "execution_count": 404,
     "metadata": {},
     "output_type": "execute_result"
    }
   ],
   "source": [
    "torch.allclose(t1, matmul(m1, m2))"
   ]
  },
  {
   "cell_type": "code",
   "execution_count": 406,
   "id": "d8159e71",
   "metadata": {},
   "outputs": [
    {
     "data": {
      "text/plain": [
       "False"
      ]
     },
     "execution_count": 406,
     "metadata": {},
     "output_type": "execute_result"
    }
   ],
   "source": [
    "torch.allclose(torch.zeros(5, 10), matmul(m1, m2))"
   ]
  },
  {
   "cell_type": "code",
   "execution_count": 411,
   "id": "6b6802a1",
   "metadata": {},
   "outputs": [],
   "source": [
    "def test_func(*args, **kwargs):\n",
    "    print(args)\n",
    "    print(kwargs)"
   ]
  },
  {
   "cell_type": "code",
   "execution_count": 414,
   "id": "e0221a0a",
   "metadata": {
    "scrolled": true
   },
   "outputs": [],
   "source": [
    "# test_func('hello', 'arun', a='arun', 'john')"
   ]
  },
  {
   "cell_type": "code",
   "execution_count": 422,
   "id": "0056d14f",
   "metadata": {},
   "outputs": [],
   "source": [
    "a = torch.tensor([10., 6, -4])\n",
    "b = torch.tensor([2., 8, 7])"
   ]
  },
  {
   "cell_type": "code",
   "execution_count": 423,
   "id": "09b5945a",
   "metadata": {},
   "outputs": [
    {
     "data": {
      "text/plain": [
       "tensor([12., 14.,  3.])"
      ]
     },
     "execution_count": 423,
     "metadata": {},
     "output_type": "execute_result"
    }
   ],
   "source": [
    "a + b"
   ]
  },
  {
   "cell_type": "code",
   "execution_count": 424,
   "id": "8bbf8117",
   "metadata": {},
   "outputs": [
    {
     "data": {
      "text/plain": [
       "tensor(0.67)"
      ]
     },
     "execution_count": 424,
     "metadata": {},
     "output_type": "execute_result"
    }
   ],
   "source": [
    "(a<b).float().mean()"
   ]
  },
  {
   "cell_type": "markdown",
   "id": "07ec3d33",
   "metadata": {},
   "source": [
    "$$\\| A \\|_F = \\left( \\sum_{i,j=1}^n | a_{ij} |^2 \\right)^{1/2}$$"
   ]
  },
  {
   "cell_type": "code",
   "execution_count": 425,
   "id": "959f28d7",
   "metadata": {},
   "outputs": [],
   "source": [
    "m = torch.tensor([\n",
    "    [1, 2, 3],\n",
    "    [4, 5, 6],\n",
    "    [7, 8, 9],\n",
    "])"
   ]
  },
  {
   "cell_type": "code",
   "execution_count": 431,
   "id": "66a9cc90",
   "metadata": {},
   "outputs": [
    {
     "data": {
      "text/plain": [
       "tensor([[1, 2, 3],\n",
       "        [4, 5, 6],\n",
       "        [7, 8, 9]])"
      ]
     },
     "execution_count": 431,
     "metadata": {},
     "output_type": "execute_result"
    }
   ],
   "source": [
    "m"
   ]
  },
  {
   "cell_type": "code",
   "execution_count": 432,
   "id": "99634672",
   "metadata": {},
   "outputs": [
    {
     "data": {
      "text/plain": [
       "tensor([[ 1,  4,  9],\n",
       "        [16, 25, 36],\n",
       "        [49, 64, 81]])"
      ]
     },
     "execution_count": 432,
     "metadata": {},
     "output_type": "execute_result"
    }
   ],
   "source": [
    "m*m"
   ]
  },
  {
   "cell_type": "code",
   "execution_count": 434,
   "id": "6ef3cd6c",
   "metadata": {},
   "outputs": [],
   "source": [
    "sf = (m*m).sum()"
   ]
  },
  {
   "cell_type": "code",
   "execution_count": 435,
   "id": "660a68c4",
   "metadata": {},
   "outputs": [
    {
     "data": {
      "text/plain": [
       "tensor(285)"
      ]
     },
     "execution_count": 435,
     "metadata": {},
     "output_type": "execute_result"
    }
   ],
   "source": [
    "sf"
   ]
  },
  {
   "cell_type": "code",
   "execution_count": 436,
   "id": "a1b10e69",
   "metadata": {},
   "outputs": [
    {
     "data": {
      "text/plain": [
       "tensor(16.88)"
      ]
     },
     "execution_count": 436,
     "metadata": {},
     "output_type": "execute_result"
    }
   ],
   "source": [
    "sf.sqrt()"
   ]
  },
  {
   "cell_type": "code",
   "execution_count": 481,
   "id": "cd48c386",
   "metadata": {},
   "outputs": [],
   "source": [
    "def matmul(a, b):\n",
    "    (ar, ac), (br, bc) = a.shape, b.shape\n",
    "    c = torch.zeros(ar, bc)\n",
    "    for i in range(ar):\n",
    "        for j in range(bc):\n",
    "            c[i, j] += torch.dot(a[i,:], b[:,j])\n",
    "    return c"
   ]
  },
  {
   "cell_type": "code",
   "execution_count": 442,
   "id": "f4c60527",
   "metadata": {},
   "outputs": [
    {
     "data": {
      "text/plain": [
       "tensor([[4, 5, 6],\n",
       "        [7, 8, 9]])"
      ]
     },
     "execution_count": 442,
     "metadata": {},
     "output_type": "execute_result"
    }
   ],
   "source": [
    "m[1:,]"
   ]
  },
  {
   "cell_type": "code",
   "execution_count": 441,
   "id": "8117595e",
   "metadata": {},
   "outputs": [
    {
     "data": {
      "text/plain": [
       "tensor([[1, 2, 3],\n",
       "        [4, 5, 6],\n",
       "        [7, 8, 9]])"
      ]
     },
     "execution_count": 441,
     "metadata": {},
     "output_type": "execute_result"
    }
   ],
   "source": [
    "m"
   ]
  },
  {
   "cell_type": "code",
   "execution_count": 453,
   "id": "7d5e0698",
   "metadata": {},
   "outputs": [
    {
     "data": {
      "text/plain": [
       "tensor([3, 6, 9])"
      ]
     },
     "execution_count": 453,
     "metadata": {},
     "output_type": "execute_result"
    }
   ],
   "source": [
    "m[:,2]"
   ]
  },
  {
   "cell_type": "code",
   "execution_count": 454,
   "id": "a0ed7472",
   "metadata": {},
   "outputs": [
    {
     "data": {
      "text/plain": [
       "tensor([[7, 8, 9]])"
      ]
     },
     "execution_count": 454,
     "metadata": {},
     "output_type": "execute_result"
    }
   ],
   "source": [
    "m[2:,]"
   ]
  },
  {
   "cell_type": "code",
   "execution_count": 458,
   "id": "bc21ef4e",
   "metadata": {},
   "outputs": [
    {
     "name": "stderr",
     "output_type": "stream",
     "text": [
      "/var/folders/8k/07c2mpg56x7c31_26k0qj2y00000gn/T/ipykernel_72407/3119844781.py:1: UserWarning: To copy construct from a tensor, it is recommended to use sourceTensor.clone().detach() or sourceTensor.clone().detach().requires_grad_(True), rather than torch.tensor(sourceTensor).\n",
      "  m1, m2 = map(torch.tensor, (m1, m2))\n"
     ]
    }
   ],
   "source": [
    "m1, m2 = map(torch.tensor, (m1, m2))"
   ]
  },
  {
   "cell_type": "code",
   "execution_count": 471,
   "id": "c2178480",
   "metadata": {},
   "outputs": [
    {
     "data": {
      "text/plain": [
       "torch.Size([784, 10])"
      ]
     },
     "execution_count": 471,
     "metadata": {},
     "output_type": "execute_result"
    }
   ],
   "source": [
    "m1 = x_test[:5]\n",
    "m1.shape\n",
    "\n",
    "torch.manual_seed(1)\n",
    "m2 = torch.randn(m1.shape[1], 10)\n",
    "m2.shape"
   ]
  },
  {
   "cell_type": "code",
   "execution_count": 476,
   "id": "2a6fab82",
   "metadata": {},
   "outputs": [
    {
     "name": "stderr",
     "output_type": "stream",
     "text": [
      "/var/folders/8k/07c2mpg56x7c31_26k0qj2y00000gn/T/ipykernel_72407/3119844781.py:1: UserWarning: To copy construct from a tensor, it is recommended to use sourceTensor.clone().detach() or sourceTensor.clone().detach().requires_grad_(True), rather than torch.tensor(sourceTensor).\n",
      "  m1, m2 = map(torch.tensor, (m1, m2))\n"
     ]
    }
   ],
   "source": [
    "m1, m2 = map(torch.tensor, (m1, m2))"
   ]
  },
  {
   "cell_type": "code",
   "execution_count": 482,
   "id": "3932e58d",
   "metadata": {},
   "outputs": [
    {
     "data": {
      "text/plain": [
       "tensor([[-10.94,  -0.68,  -7.00,  -4.01,  -2.09,  -3.36,   3.91,  -3.44, -11.47,  -2.12],\n",
       "        [ 14.54,   6.00,   2.89,  -4.08,   6.59, -14.74,  -9.28,   2.16, -15.28,  -2.68],\n",
       "        [  2.22,  -3.22,  -4.80,  -6.05,  14.17,  -8.98,  -4.79,  -5.44, -20.68,  13.57],\n",
       "        [ -6.71,   8.90,  -7.46,  -7.90,   2.70,  -4.73, -11.03, -12.98,  -6.44,   3.64],\n",
       "        [ -2.44,  -6.40,  -2.40,  -9.04,  11.18,  -5.77,  -8.92,  -3.79,  -8.98,   5.28]])"
      ]
     },
     "execution_count": 482,
     "metadata": {},
     "output_type": "execute_result"
    }
   ],
   "source": [
    "matmul(m1, m2)"
   ]
  },
  {
   "cell_type": "code",
   "execution_count": 483,
   "id": "5aad5bf4",
   "metadata": {},
   "outputs": [
    {
     "data": {
      "text/plain": [
       "True"
      ]
     },
     "execution_count": 483,
     "metadata": {},
     "output_type": "execute_result"
    }
   ],
   "source": [
    "torch.allclose(t1, matmul(m1, m2))"
   ]
  },
  {
   "cell_type": "markdown",
   "id": "5e072b1f",
   "metadata": {},
   "source": [
    "#### broadcasting"
   ]
  },
  {
   "cell_type": "code",
   "execution_count": 484,
   "id": "e0be3f6d",
   "metadata": {},
   "outputs": [],
   "source": [
    "# basically process about how array with different shapes go through arithmetic operations"
   ]
  },
  {
   "cell_type": "code",
   "execution_count": 485,
   "id": "58b68102",
   "metadata": {},
   "outputs": [],
   "source": [
    "a = torch.tensor([10, 6, -4])"
   ]
  },
  {
   "cell_type": "code",
   "execution_count": 486,
   "id": "c6290546",
   "metadata": {},
   "outputs": [
    {
     "data": {
      "text/plain": [
       "tensor([ True,  True, False])"
      ]
     },
     "execution_count": 486,
     "metadata": {},
     "output_type": "execute_result"
    }
   ],
   "source": [
    "a > 0"
   ]
  },
  {
   "cell_type": "code",
   "execution_count": 487,
   "id": "eca7e53c",
   "metadata": {},
   "outputs": [
    {
     "data": {
      "text/plain": [
       "tensor([11,  7, -3])"
      ]
     },
     "execution_count": 487,
     "metadata": {},
     "output_type": "execute_result"
    }
   ],
   "source": [
    "a + 1"
   ]
  },
  {
   "cell_type": "code",
   "execution_count": 488,
   "id": "4bf19803",
   "metadata": {},
   "outputs": [
    {
     "data": {
      "text/plain": [
       "tensor([20, 12, -8])"
      ]
     },
     "execution_count": 488,
     "metadata": {},
     "output_type": "execute_result"
    }
   ],
   "source": [
    "2 * a"
   ]
  },
  {
   "cell_type": "code",
   "execution_count": 489,
   "id": "cc366af2",
   "metadata": {},
   "outputs": [
    {
     "data": {
      "text/plain": [
       "tensor([20, 12, -8])"
      ]
     },
     "execution_count": 489,
     "metadata": {},
     "output_type": "execute_result"
    }
   ],
   "source": [
    "a * 2"
   ]
  },
  {
   "cell_type": "code",
   "execution_count": 490,
   "id": "f8fd78e5",
   "metadata": {},
   "outputs": [
    {
     "data": {
      "text/plain": [
       "tensor([11,  7, -3])"
      ]
     },
     "execution_count": 490,
     "metadata": {},
     "output_type": "execute_result"
    }
   ],
   "source": [
    "1 + a"
   ]
  },
  {
   "cell_type": "code",
   "execution_count": 491,
   "id": "4480c65a",
   "metadata": {},
   "outputs": [
    {
     "data": {
      "text/plain": [
       "tensor([[1, 2, 3],\n",
       "        [4, 5, 6],\n",
       "        [7, 8, 9]])"
      ]
     },
     "execution_count": 491,
     "metadata": {},
     "output_type": "execute_result"
    }
   ],
   "source": [
    "m "
   ]
  },
  {
   "cell_type": "code",
   "execution_count": 492,
   "id": "8d649207",
   "metadata": {},
   "outputs": [
    {
     "data": {
      "text/plain": [
       "tensor([[True, True, True],\n",
       "        [True, True, True],\n",
       "        [True, True, True]])"
      ]
     },
     "execution_count": 492,
     "metadata": {},
     "output_type": "execute_result"
    }
   ],
   "source": [
    "m > 0"
   ]
  },
  {
   "cell_type": "code",
   "execution_count": 493,
   "id": "1cc9edbb",
   "metadata": {},
   "outputs": [
    {
     "data": {
      "text/plain": [
       "tensor([[True, True, True],\n",
       "        [True, True, True],\n",
       "        [True, True, True]])"
      ]
     },
     "execution_count": 493,
     "metadata": {},
     "output_type": "execute_result"
    }
   ],
   "source": [
    "0 < m"
   ]
  },
  {
   "cell_type": "code",
   "execution_count": 494,
   "id": "a44534aa",
   "metadata": {},
   "outputs": [
    {
     "data": {
      "text/plain": [
       "tensor([[ 2,  3,  4],\n",
       "        [ 5,  6,  7],\n",
       "        [ 8,  9, 10]])"
      ]
     },
     "execution_count": 494,
     "metadata": {},
     "output_type": "execute_result"
    }
   ],
   "source": [
    "m + 1"
   ]
  },
  {
   "cell_type": "code",
   "execution_count": 495,
   "id": "03b5c86c",
   "metadata": {},
   "outputs": [
    {
     "data": {
      "text/plain": [
       "tensor([[ 2,  3,  4],\n",
       "        [ 5,  6,  7],\n",
       "        [ 8,  9, 10]])"
      ]
     },
     "execution_count": 495,
     "metadata": {},
     "output_type": "execute_result"
    }
   ],
   "source": [
    "1 + m"
   ]
  },
  {
   "cell_type": "code",
   "execution_count": 496,
   "id": "37a6e1da",
   "metadata": {},
   "outputs": [
    {
     "data": {
      "text/plain": [
       "tensor([[ 2,  4,  6],\n",
       "        [ 8, 10, 12],\n",
       "        [14, 16, 18]])"
      ]
     },
     "execution_count": 496,
     "metadata": {},
     "output_type": "execute_result"
    }
   ],
   "source": [
    "2*m"
   ]
  },
  {
   "cell_type": "code",
   "execution_count": 497,
   "id": "14004f8f",
   "metadata": {},
   "outputs": [
    {
     "data": {
      "text/plain": [
       "tensor([[ 2,  4,  6],\n",
       "        [ 8, 10, 12],\n",
       "        [14, 16, 18]])"
      ]
     },
     "execution_count": 497,
     "metadata": {},
     "output_type": "execute_result"
    }
   ],
   "source": [
    "m*2"
   ]
  },
  {
   "cell_type": "code",
   "execution_count": 498,
   "id": "34ab58ce",
   "metadata": {},
   "outputs": [],
   "source": [
    "# broadcasting vector to a matrix"
   ]
  },
  {
   "cell_type": "code",
   "execution_count": 503,
   "id": "81af807c",
   "metadata": {},
   "outputs": [
    {
     "data": {
      "text/plain": [
       "tensor([1, 2, 3])"
      ]
     },
     "execution_count": 503,
     "metadata": {},
     "output_type": "execute_result"
    }
   ],
   "source": [
    "c = torch.tensor([1, 2, 3]);c"
   ]
  },
  {
   "cell_type": "code",
   "execution_count": 500,
   "id": "b7fed182",
   "metadata": {},
   "outputs": [
    {
     "data": {
      "text/plain": [
       "tensor([[1, 2, 3],\n",
       "        [4, 5, 6],\n",
       "        [7, 8, 9]])"
      ]
     },
     "execution_count": 500,
     "metadata": {},
     "output_type": "execute_result"
    }
   ],
   "source": [
    "m"
   ]
  },
  {
   "cell_type": "code",
   "execution_count": 505,
   "id": "061683d2",
   "metadata": {},
   "outputs": [
    {
     "name": "stderr",
     "output_type": "stream",
     "text": [
      "/var/folders/8k/07c2mpg56x7c31_26k0qj2y00000gn/T/ipykernel_72407/1498395764.py:1: UserWarning: The use of `x.T` on tensors of dimension other than 2 to reverse their shape is deprecated and it will throw an error in a future release. Consider `x.mT` to transpose batches of matrices or `x.permute(*torch.arange(x.ndim - 1, -1, -1))` to reverse the dimensions of a tensor. (Triggered internally at /Users/runner/work/pytorch/pytorch/pytorch/aten/src/ATen/native/TensorShape.cpp:3575.)\n",
      "  m + c.T\n"
     ]
    },
    {
     "data": {
      "text/plain": [
       "tensor([[ 2,  4,  6],\n",
       "        [ 5,  7,  9],\n",
       "        [ 8, 10, 12]])"
      ]
     },
     "execution_count": 505,
     "metadata": {},
     "output_type": "execute_result"
    }
   ],
   "source": [
    "m + c.T"
   ]
  },
  {
   "cell_type": "code",
   "execution_count": 504,
   "id": "2004cbee",
   "metadata": {},
   "outputs": [
    {
     "data": {
      "text/plain": [
       "(torch.Size([3, 3]), torch.Size([3]))"
      ]
     },
     "execution_count": 504,
     "metadata": {},
     "output_type": "execute_result"
    }
   ],
   "source": [
    "m.shape, c.shape"
   ]
  },
  {
   "cell_type": "code",
   "execution_count": 507,
   "id": "af68c299",
   "metadata": {},
   "outputs": [
    {
     "data": {
      "text/plain": [
       "(torch.Size([3, 3]), torch.Size([3]))"
      ]
     },
     "execution_count": 507,
     "metadata": {},
     "output_type": "execute_result"
    }
   ],
   "source": [
    "m.shape, c.T.shape"
   ]
  },
  {
   "cell_type": "code",
   "execution_count": 508,
   "id": "53c5bdd8",
   "metadata": {},
   "outputs": [
    {
     "data": {
      "text/plain": [
       "(torch.Size([3]), torch.Size([3]))"
      ]
     },
     "execution_count": 508,
     "metadata": {},
     "output_type": "execute_result"
    }
   ],
   "source": [
    "c.shape, c.T.shape"
   ]
  },
  {
   "cell_type": "code",
   "execution_count": 509,
   "id": "b40e13de",
   "metadata": {},
   "outputs": [
    {
     "data": {
      "text/plain": [
       "(tensor([1, 2, 3]), tensor([1, 2, 3]))"
      ]
     },
     "execution_count": 509,
     "metadata": {},
     "output_type": "execute_result"
    }
   ],
   "source": [
    "c, c.T"
   ]
  },
  {
   "cell_type": "code",
   "execution_count": 511,
   "id": "2a684385",
   "metadata": {},
   "outputs": [
    {
     "data": {
      "text/plain": [
       "torch.Size([1, 3])"
      ]
     },
     "execution_count": 511,
     "metadata": {},
     "output_type": "execute_result"
    }
   ],
   "source": [
    "c.reshape((1, 3)).shape"
   ]
  },
  {
   "cell_type": "code",
   "execution_count": 515,
   "id": "9efe1a9d",
   "metadata": {},
   "outputs": [
    {
     "data": {
      "text/plain": [
       "tensor([[ 2,  4,  6],\n",
       "        [ 5,  7,  9],\n",
       "        [ 8, 10, 12]])"
      ]
     },
     "execution_count": 515,
     "metadata": {},
     "output_type": "execute_result"
    }
   ],
   "source": [
    "m + c"
   ]
  },
  {
   "cell_type": "code",
   "execution_count": 516,
   "id": "20e5568f",
   "metadata": {},
   "outputs": [
    {
     "data": {
      "text/plain": [
       "tensor([[ 2,  4,  6],\n",
       "        [ 5,  7,  9],\n",
       "        [ 8, 10, 12]])"
      ]
     },
     "execution_count": 516,
     "metadata": {},
     "output_type": "execute_result"
    }
   ],
   "source": [
    "c + m"
   ]
  },
  {
   "cell_type": "code",
   "execution_count": 518,
   "id": "f38d4d3e",
   "metadata": {},
   "outputs": [
    {
     "data": {
      "text/plain": [
       "tensor([[1, 2, 3],\n",
       "        [1, 2, 3],\n",
       "        [1, 2, 3]])"
      ]
     },
     "execution_count": 518,
     "metadata": {},
     "output_type": "execute_result"
    }
   ],
   "source": [
    "c.expand_as(m)"
   ]
  },
  {
   "cell_type": "code",
   "execution_count": 519,
   "id": "5620ffb2",
   "metadata": {},
   "outputs": [
    {
     "data": {
      "text/plain": [
       "tensor([[ 2,  4,  6],\n",
       "        [ 5,  7,  9],\n",
       "        [ 8, 10, 12]])"
      ]
     },
     "execution_count": 519,
     "metadata": {},
     "output_type": "execute_result"
    }
   ],
   "source": [
    "m + c.expand_as(m)"
   ]
  },
  {
   "cell_type": "code",
   "execution_count": 520,
   "id": "da6c30d1",
   "metadata": {},
   "outputs": [],
   "source": [
    "t = c.expand_as(m)"
   ]
  },
  {
   "cell_type": "code",
   "execution_count": 526,
   "id": "29d12721",
   "metadata": {},
   "outputs": [
    {
     "data": {
      "text/plain": [
       " 1\n",
       " 0\n",
       " 0\n",
       " 0\n",
       " 0\n",
       " 0\n",
       " 0\n",
       " 0\n",
       " 2\n",
       " 0\n",
       " 0\n",
       " 0\n",
       " 0\n",
       " 0\n",
       " 0\n",
       " 0\n",
       " 3\n",
       " 0\n",
       " 0\n",
       " 0\n",
       " 0\n",
       " 0\n",
       " 0\n",
       " 0\n",
       "[torch.storage.UntypedStorage(device=cpu) of size 24]"
      ]
     },
     "execution_count": 526,
     "metadata": {},
     "output_type": "execute_result"
    }
   ],
   "source": [
    "t.untyped_storage()"
   ]
  },
  {
   "cell_type": "code",
   "execution_count": 527,
   "id": "7e4a7399",
   "metadata": {
    "scrolled": true
   },
   "outputs": [
    {
     "data": {
      "text/plain": [
       " 1\n",
       " 0\n",
       " 0\n",
       " 0\n",
       " 0\n",
       " 0\n",
       " 0\n",
       " 0\n",
       " 2\n",
       " 0\n",
       " 0\n",
       " 0\n",
       " 0\n",
       " 0\n",
       " 0\n",
       " 0\n",
       " 3\n",
       " 0\n",
       " 0\n",
       " 0\n",
       " 0\n",
       " 0\n",
       " 0\n",
       " 0\n",
       "[torch.storage.UntypedStorage(device=cpu) of size 24]"
      ]
     },
     "execution_count": 527,
     "metadata": {},
     "output_type": "execute_result"
    }
   ],
   "source": [
    "c.untyped_storage()"
   ]
  },
  {
   "cell_type": "code",
   "execution_count": 528,
   "id": "e3debed9",
   "metadata": {
    "scrolled": true
   },
   "outputs": [
    {
     "data": {
      "text/plain": [
       " 1\n",
       " 0\n",
       " 0\n",
       " 0\n",
       " 0\n",
       " 0\n",
       " 0\n",
       " 0\n",
       " 2\n",
       " 0\n",
       " 0\n",
       " 0\n",
       " 0\n",
       " 0\n",
       " 0\n",
       " 0\n",
       " 3\n",
       " 0\n",
       " 0\n",
       " 0\n",
       " 0\n",
       " 0\n",
       " 0\n",
       " 0\n",
       " 4\n",
       " 0\n",
       " 0\n",
       " 0\n",
       " 0\n",
       " 0\n",
       " 0\n",
       " 0\n",
       " 5\n",
       " 0\n",
       " 0\n",
       " 0\n",
       " 0\n",
       " 0\n",
       " 0\n",
       " 0\n",
       " 6\n",
       " 0\n",
       " 0\n",
       " 0\n",
       " 0\n",
       " 0\n",
       " 0\n",
       " 0\n",
       " 7\n",
       " 0\n",
       " 0\n",
       " 0\n",
       " 0\n",
       " 0\n",
       " 0\n",
       " 0\n",
       " 8\n",
       " 0\n",
       " 0\n",
       " 0\n",
       " 0\n",
       " 0\n",
       " 0\n",
       " 0\n",
       " 9\n",
       " 0\n",
       " 0\n",
       " 0\n",
       " 0\n",
       " 0\n",
       " 0\n",
       " 0\n",
       "[torch.storage.UntypedStorage(device=cpu) of size 72]"
      ]
     },
     "execution_count": 528,
     "metadata": {},
     "output_type": "execute_result"
    }
   ],
   "source": [
    "m.untyped_storage()"
   ]
  },
  {
   "cell_type": "code",
   "execution_count": 525,
   "id": "021b7ec1",
   "metadata": {},
   "outputs": [
    {
     "data": {
      "text/plain": [
       "24"
      ]
     },
     "execution_count": 525,
     "metadata": {},
     "output_type": "execute_result"
    }
   ],
   "source": [
    "3*8"
   ]
  },
  {
   "cell_type": "code",
   "execution_count": 530,
   "id": "1582770f",
   "metadata": {},
   "outputs": [
    {
     "data": {
      "text/plain": [
       "torch.Size([3])"
      ]
     },
     "execution_count": 530,
     "metadata": {},
     "output_type": "execute_result"
    }
   ],
   "source": [
    "c.shape"
   ]
  },
  {
   "cell_type": "code",
   "execution_count": 531,
   "id": "e57e1a1a",
   "metadata": {},
   "outputs": [
    {
     "data": {
      "text/plain": [
       "3.0"
      ]
     },
     "execution_count": 531,
     "metadata": {},
     "output_type": "execute_result"
    }
   ],
   "source": [
    "72/24"
   ]
  },
  {
   "cell_type": "code",
   "execution_count": 548,
   "id": "b62953e2",
   "metadata": {
    "scrolled": true
   },
   "outputs": [
    {
     "data": {
      "text/plain": [
       " 4\n",
       " 0\n",
       " 0\n",
       " 0\n",
       " 0\n",
       " 0\n",
       " 0\n",
       " 0\n",
       " 3\n",
       " 0\n",
       " 0\n",
       " 0\n",
       " 0\n",
       " 0\n",
       " 0\n",
       " 0\n",
       "[torch.storage.UntypedStorage(device=cpu) of size 16]"
      ]
     },
     "execution_count": 548,
     "metadata": {},
     "output_type": "execute_result"
    }
   ],
   "source": [
    "torch.tensor([[4], [3]]).untyped_storage()"
   ]
  },
  {
   "cell_type": "code",
   "execution_count": 557,
   "id": "582c1364",
   "metadata": {},
   "outputs": [
    {
     "data": {
      "text/plain": [
       "((0, 1), torch.Size([3, 3]))"
      ]
     },
     "execution_count": 557,
     "metadata": {},
     "output_type": "execute_result"
    }
   ],
   "source": [
    "t.stride(), t.shape"
   ]
  },
  {
   "cell_type": "code",
   "execution_count": 555,
   "id": "1ecfc844",
   "metadata": {},
   "outputs": [
    {
     "data": {
      "text/plain": [
       "((3, 1), torch.Size([3, 3]))"
      ]
     },
     "execution_count": 555,
     "metadata": {},
     "output_type": "execute_result"
    }
   ],
   "source": [
    "m.stride(), m.shape"
   ]
  },
  {
   "cell_type": "code",
   "execution_count": 556,
   "id": "a14ad81c",
   "metadata": {},
   "outputs": [
    {
     "data": {
      "text/plain": [
       "((1,), torch.Size([3]))"
      ]
     },
     "execution_count": 556,
     "metadata": {},
     "output_type": "execute_result"
    }
   ],
   "source": [
    "c.stride(), c.shape"
   ]
  },
  {
   "cell_type": "code",
   "execution_count": 561,
   "id": "413517a0",
   "metadata": {},
   "outputs": [],
   "source": [
    "t = torch.randn(2, 3, 4)"
   ]
  },
  {
   "cell_type": "code",
   "execution_count": 562,
   "id": "5eecf3a5",
   "metadata": {},
   "outputs": [
    {
     "data": {
      "text/plain": [
       "tensor([[[ 1.26, -0.60, -0.94,  0.12],\n",
       "         [ 3.16,  0.61,  1.24, -0.27],\n",
       "         [-1.57,  0.92,  0.34, -0.64]],\n",
       "\n",
       "        [[ 0.12, -1.24,  0.35,  0.95],\n",
       "         [-0.54, -0.29,  1.76,  0.52],\n",
       "         [ 0.69, -0.85,  0.19,  1.14]]])"
      ]
     },
     "execution_count": 562,
     "metadata": {},
     "output_type": "execute_result"
    }
   ],
   "source": [
    "t"
   ]
  },
  {
   "cell_type": "code",
   "execution_count": 563,
   "id": "861001a4",
   "metadata": {},
   "outputs": [
    {
     "data": {
      "text/plain": [
       "torch.Size([2, 3, 4])"
      ]
     },
     "execution_count": 563,
     "metadata": {},
     "output_type": "execute_result"
    }
   ],
   "source": [
    "t.shape"
   ]
  },
  {
   "cell_type": "code",
   "execution_count": 564,
   "id": "0472ceb1",
   "metadata": {},
   "outputs": [
    {
     "data": {
      "text/plain": [
       "(12, 4, 1)"
      ]
     },
     "execution_count": 564,
     "metadata": {},
     "output_type": "execute_result"
    }
   ],
   "source": [
    "t.stride()"
   ]
  },
  {
   "cell_type": "code",
   "execution_count": 565,
   "id": "eb2dc616",
   "metadata": {},
   "outputs": [
    {
     "data": {
      "text/plain": [
       "torch.Size([2, 3, 4])"
      ]
     },
     "execution_count": 565,
     "metadata": {},
     "output_type": "execute_result"
    }
   ],
   "source": [
    "t.shape"
   ]
  },
  {
   "cell_type": "code",
   "execution_count": 567,
   "id": "d4faf37e",
   "metadata": {},
   "outputs": [
    {
     "data": {
      "text/plain": [
       "torch.Size([3])"
      ]
     },
     "execution_count": 567,
     "metadata": {},
     "output_type": "execute_result"
    }
   ],
   "source": [
    "c.shape"
   ]
  },
  {
   "cell_type": "code",
   "execution_count": 576,
   "id": "fb19a5c8",
   "metadata": {},
   "outputs": [
    {
     "data": {
      "text/plain": [
       "tensor([[1],\n",
       "        [2],\n",
       "        [3]])"
      ]
     },
     "execution_count": 576,
     "metadata": {},
     "output_type": "execute_result"
    }
   ],
   "source": [
    "c.unsqueeze(1)"
   ]
  },
  {
   "cell_type": "code",
   "execution_count": 573,
   "id": "01bc78d1",
   "metadata": {},
   "outputs": [
    {
     "data": {
      "text/plain": [
       "tensor([[1, 2, 3]])"
      ]
     },
     "execution_count": 573,
     "metadata": {},
     "output_type": "execute_result"
    }
   ],
   "source": [
    "c.unsqueeze(0)"
   ]
  },
  {
   "cell_type": "code",
   "execution_count": 574,
   "id": "ef2a161f",
   "metadata": {},
   "outputs": [
    {
     "data": {
      "text/plain": [
       "torch.Size([1, 3])"
      ]
     },
     "execution_count": 574,
     "metadata": {},
     "output_type": "execute_result"
    }
   ],
   "source": [
    "c.unsqueeze(0).shape"
   ]
  },
  {
   "cell_type": "code",
   "execution_count": 575,
   "id": "5509214d",
   "metadata": {},
   "outputs": [
    {
     "data": {
      "text/plain": [
       "torch.Size([3, 1])"
      ]
     },
     "execution_count": 575,
     "metadata": {},
     "output_type": "execute_result"
    }
   ],
   "source": [
    "c.unsqueeze(1).shape"
   ]
  },
  {
   "cell_type": "code",
   "execution_count": 578,
   "id": "d4079251",
   "metadata": {},
   "outputs": [
    {
     "data": {
      "text/plain": [
       "torch.Size([1, 3])"
      ]
     },
     "execution_count": 578,
     "metadata": {},
     "output_type": "execute_result"
    }
   ],
   "source": [
    "c[None, :].shape"
   ]
  },
  {
   "cell_type": "code",
   "execution_count": 579,
   "id": "985700aa",
   "metadata": {},
   "outputs": [
    {
     "data": {
      "text/plain": [
       "tensor([[1],\n",
       "        [2],\n",
       "        [3]])"
      ]
     },
     "execution_count": 579,
     "metadata": {},
     "output_type": "execute_result"
    }
   ],
   "source": [
    "c[:,None]"
   ]
  },
  {
   "cell_type": "code",
   "execution_count": 583,
   "id": "f37dd2fc",
   "metadata": {},
   "outputs": [
    {
     "data": {
      "text/plain": [
       "torch.Size([1, 3])"
      ]
     },
     "execution_count": 583,
     "metadata": {},
     "output_type": "execute_result"
    }
   ],
   "source": [
    "c[None].shape"
   ]
  },
  {
   "cell_type": "code",
   "execution_count": 584,
   "id": "bb99562e",
   "metadata": {},
   "outputs": [
    {
     "data": {
      "text/plain": [
       "torch.Size([3, 1])"
      ]
     },
     "execution_count": 584,
     "metadata": {},
     "output_type": "execute_result"
    }
   ],
   "source": [
    " c[...,None].shape"
   ]
  },
  {
   "cell_type": "code",
   "execution_count": 590,
   "id": "cc0ef5b5",
   "metadata": {},
   "outputs": [
    {
     "data": {
      "text/plain": [
       "tensor([[1, 2, 3]])"
      ]
     },
     "execution_count": 590,
     "metadata": {},
     "output_type": "execute_result"
    }
   ],
   "source": [
    "c[None,:]"
   ]
  },
  {
   "cell_type": "code",
   "execution_count": 591,
   "id": "5900dcea",
   "metadata": {},
   "outputs": [
    {
     "data": {
      "text/plain": [
       "tensor([[1],\n",
       "        [2],\n",
       "        [3]])"
      ]
     },
     "execution_count": 591,
     "metadata": {},
     "output_type": "execute_result"
    }
   ],
   "source": [
    "c[:,None]"
   ]
  },
  {
   "cell_type": "code",
   "execution_count": 608,
   "id": "6c24defa",
   "metadata": {},
   "outputs": [
    {
     "data": {
      "text/plain": [
       "tensor([[ 0.59, -0.05],\n",
       "        [ 0.80, -0.31]])"
      ]
     },
     "execution_count": 608,
     "metadata": {},
     "output_type": "execute_result"
    }
   ],
   "source": [
    "x = torch.randn(2,2)\n",
    "x"
   ]
  },
  {
   "cell_type": "code",
   "execution_count": 609,
   "id": "b1d426b9",
   "metadata": {},
   "outputs": [
    {
     "data": {
      "text/plain": [
       "tensor([[[ 0.91, -0.19,  1.66,  1.10, -0.43],\n",
       "         [-0.12,  0.35,  0.51,  0.07,  0.37],\n",
       "         [ 1.60,  0.92,  0.55, -0.88,  0.26]],\n",
       "\n",
       "        [[-0.39,  0.45, -0.38, -0.62,  0.96],\n",
       "         [ 1.77,  0.43, -0.41, -2.52, -1.36],\n",
       "         [ 0.11,  0.53,  0.88,  0.05,  0.91]]])"
      ]
     },
     "execution_count": 609,
     "metadata": {},
     "output_type": "execute_result"
    }
   ],
   "source": [
    "y = torch.randn(2,3,5)\n",
    "y"
   ]
  },
  {
   "cell_type": "code",
   "execution_count": 610,
   "id": "7817147f",
   "metadata": {},
   "outputs": [
    {
     "ename": "RuntimeError",
     "evalue": "expand(torch.FloatTensor{[2, 3, 5]}, size=[2, 2]): the number of sizes provided (2) must be greater or equal to the number of dimensions in the tensor (3)",
     "output_type": "error",
     "traceback": [
      "\u001b[0;31m---------------------------------------------------------------------------\u001b[0m",
      "\u001b[0;31mRuntimeError\u001b[0m                              Traceback (most recent call last)",
      "Cell \u001b[0;32mIn[610], line 1\u001b[0m\n\u001b[0;32m----> 1\u001b[0m y\u001b[38;5;241m.\u001b[39mexpand_as(x)\n",
      "\u001b[0;31mRuntimeError\u001b[0m: expand(torch.FloatTensor{[2, 3, 5]}, size=[2, 2]): the number of sizes provided (2) must be greater or equal to the number of dimensions in the tensor (3)"
     ]
    }
   ],
   "source": [
    "y.expand_as(x)"
   ]
  },
  {
   "cell_type": "code",
   "execution_count": 611,
   "id": "debc2c68",
   "metadata": {},
   "outputs": [
    {
     "ename": "RuntimeError",
     "evalue": "The size of tensor a (5) must match the size of tensor b (2) at non-singleton dimension 2",
     "output_type": "error",
     "traceback": [
      "\u001b[0;31m---------------------------------------------------------------------------\u001b[0m",
      "\u001b[0;31mRuntimeError\u001b[0m                              Traceback (most recent call last)",
      "Cell \u001b[0;32mIn[611], line 1\u001b[0m\n\u001b[0;32m----> 1\u001b[0m y\u001b[38;5;241m*\u001b[39mx\n",
      "\u001b[0;31mRuntimeError\u001b[0m: The size of tensor a (5) must match the size of tensor b (2) at non-singleton dimension 2"
     ]
    }
   ],
   "source": [
    "y*x"
   ]
  },
  {
   "cell_type": "code",
   "execution_count": 620,
   "id": "64f63bca",
   "metadata": {},
   "outputs": [
    {
     "data": {
      "text/plain": [
       "torch.Size([1])"
      ]
     },
     "execution_count": 620,
     "metadata": {},
     "output_type": "execute_result"
    }
   ],
   "source": [
    "torch.zeros((1)).shape"
   ]
  },
  {
   "cell_type": "code",
   "execution_count": 633,
   "id": "41656d1d",
   "metadata": {},
   "outputs": [
    {
     "data": {
      "text/plain": [
       "(tensor([    0.00]), torch.Size([1]))"
      ]
     },
     "execution_count": 633,
     "metadata": {},
     "output_type": "execute_result"
    }
   ],
   "source": [
    "x=torch.empty((1,))\n",
    "x, x.shape"
   ]
  },
  {
   "cell_type": "code",
   "execution_count": 635,
   "id": "c2b5bbb8",
   "metadata": {},
   "outputs": [
    {
     "data": {
      "text/plain": [
       "(tensor([[     inf,     0.00],\n",
       "         [    0.00,     0.00]]),\n",
       " torch.Size([2, 2]))"
      ]
     },
     "execution_count": 635,
     "metadata": {},
     "output_type": "execute_result"
    }
   ],
   "source": [
    "y=torch.empty(2,2)\n",
    "y, y.shape"
   ]
  },
  {
   "cell_type": "code",
   "execution_count": 636,
   "id": "559128cd",
   "metadata": {},
   "outputs": [
    {
     "data": {
      "text/plain": [
       "tensor([[     inf,     0.00],\n",
       "        [    0.00,     0.00]])"
      ]
     },
     "execution_count": 636,
     "metadata": {},
     "output_type": "execute_result"
    }
   ],
   "source": [
    "x + y"
   ]
  },
  {
   "cell_type": "code",
   "execution_count": 640,
   "id": "2e2bd2f2",
   "metadata": {},
   "outputs": [
    {
     "data": {
      "text/plain": [
       "tensor([[[     0.00]],\n",
       "\n",
       "        [[     0.00]],\n",
       "\n",
       "        [[-31013545689727723634688.00]]])"
      ]
     },
     "execution_count": 640,
     "metadata": {},
     "output_type": "execute_result"
    }
   ],
   "source": [
    "torch.empty(3,1,1)"
   ]
  },
  {
   "cell_type": "code",
   "execution_count": null,
   "id": "5294ef7d",
   "metadata": {},
   "outputs": [],
   "source": []
  }
 ],
 "metadata": {
  "kernelspec": {
   "display_name": "python_main",
   "language": "python",
   "name": "python_main"
  },
  "language_info": {
   "codemirror_mode": {
    "name": "ipython",
    "version": 3
   },
   "file_extension": ".py",
   "mimetype": "text/x-python",
   "name": "python",
   "nbconvert_exporter": "python",
   "pygments_lexer": "ipython3",
   "version": "3.11.0"
  }
 },
 "nbformat": 4,
 "nbformat_minor": 5
}
