{
 "cells": [
  {
   "cell_type": "code",
   "execution_count": 1,
   "id": "eb7c5700",
   "metadata": {},
   "outputs": [
    {
     "data": {
      "text/plain": [
       "<torch._C.Generator at 0x10fad0bb0>"
      ]
     },
     "execution_count": 1,
     "metadata": {},
     "output_type": "execute_result"
    }
   ],
   "source": [
    "import gzip, pickle, torch\n",
    "import numpy as np\n",
    "import matplotlib.pyplot as plt\n",
    "\n",
    "torch.manual_seed(42)"
   ]
  },
  {
   "cell_type": "code",
   "execution_count": 2,
   "id": "de1730c1",
   "metadata": {},
   "outputs": [],
   "source": [
    "data = None\n",
    "with gzip.open('./data/mnist.pkl.gz', 'rb') as f:\n",
    "    data = pickle.load(f, encoding='latin')"
   ]
  },
  {
   "cell_type": "code",
   "execution_count": 3,
   "id": "b05e1574",
   "metadata": {},
   "outputs": [
    {
     "data": {
      "text/plain": [
       "((50000, 784), (50000,), (10000, 784), (10000,))"
      ]
     },
     "execution_count": 3,
     "metadata": {},
     "output_type": "execute_result"
    }
   ],
   "source": [
    "((x_train, y_train), (x_val, y_val), _) = data\n",
    "x_train.shape, y_train.shape, x_val.shape, y_val.shape"
   ]
  },
  {
   "cell_type": "code",
   "execution_count": 4,
   "id": "94151ae6",
   "metadata": {},
   "outputs": [
    {
     "data": {
      "text/plain": [
       "(torch.Size([50000, 784]),\n",
       " torch.Size([50000]),\n",
       " torch.Size([10000, 784]),\n",
       " torch.Size([10000]))"
      ]
     },
     "execution_count": 4,
     "metadata": {},
     "output_type": "execute_result"
    }
   ],
   "source": [
    "(x_train, y_train, x_val, y_val) = map(torch.tensor, (x_train, y_train, x_val, y_val))\n",
    "x_train.shape, y_train.shape, x_val.shape, y_val.shape"
   ]
  },
  {
   "cell_type": "code",
   "execution_count": 35,
   "id": "c5545c35",
   "metadata": {},
   "outputs": [
    {
     "data": {
      "text/plain": [
       "(torch.Size([784, 50]), torch.Size([50]), torch.Size([50, 1]), torch.Size([1]))"
      ]
     },
     "execution_count": 35,
     "metadata": {},
     "output_type": "execute_result"
    }
   ],
   "source": [
    "n_hidden = 50\n",
    "\n",
    "w1 = torch.randn((x_train.shape[1], n_hidden))\n",
    "b1 = torch.zeros(n_hidden)\n",
    "w2 = torch.randn((n_hidden, 1))\n",
    "b2 = torch.zeros(1)\n",
    "\n",
    "w1.shape, b1.shape, w2.shape, b2.shape"
   ]
  },
  {
   "cell_type": "markdown",
   "id": "7ae08d91",
   "metadata": {},
   "source": [
    "#### anatomy"
   ]
  },
  {
   "cell_type": "code",
   "execution_count": 6,
   "id": "145467ca",
   "metadata": {},
   "outputs": [],
   "source": [
    "# linear function\n",
    "def lin(x, w, b):\n",
    "    return x@w+b"
   ]
  },
  {
   "cell_type": "code",
   "execution_count": 7,
   "id": "fa06283b",
   "metadata": {},
   "outputs": [],
   "source": [
    "temp_x = x_train.clone()"
   ]
  },
  {
   "cell_type": "code",
   "execution_count": 8,
   "id": "d4b650b4",
   "metadata": {},
   "outputs": [
    {
     "data": {
      "text/plain": [
       "torch.Size([50000, 784])"
      ]
     },
     "execution_count": 8,
     "metadata": {},
     "output_type": "execute_result"
    }
   ],
   "source": [
    "temp_x.shape"
   ]
  },
  {
   "cell_type": "code",
   "execution_count": 9,
   "id": "a5683d93",
   "metadata": {},
   "outputs": [
    {
     "data": {
      "text/plain": [
       "torch.Size([50000, 50])"
      ]
     },
     "execution_count": 9,
     "metadata": {},
     "output_type": "execute_result"
    }
   ],
   "source": [
    "t = lin(temp_x, w1, b1)\n",
    "t.shape"
   ]
  },
  {
   "cell_type": "code",
   "execution_count": 10,
   "id": "c369e6be",
   "metadata": {},
   "outputs": [],
   "source": [
    "def relu(x):\n",
    "    return x.clamp_min(0)"
   ]
  },
  {
   "cell_type": "code",
   "execution_count": 11,
   "id": "da85d6d3",
   "metadata": {},
   "outputs": [
    {
     "data": {
      "text/plain": [
       "torch.Size([50000, 50])"
      ]
     },
     "execution_count": 11,
     "metadata": {},
     "output_type": "execute_result"
    }
   ],
   "source": [
    "t2 = relu(t)\n",
    "t2.shape"
   ]
  },
  {
   "cell_type": "code",
   "execution_count": 12,
   "id": "946bd616",
   "metadata": {},
   "outputs": [
    {
     "data": {
      "text/plain": [
       "tensor(56.5448)"
      ]
     },
     "execution_count": 12,
     "metadata": {},
     "output_type": "execute_result"
    }
   ],
   "source": [
    "t2.max()"
   ]
  },
  {
   "cell_type": "code",
   "execution_count": 13,
   "id": "86616d63",
   "metadata": {},
   "outputs": [],
   "source": [
    "def model(x):\n",
    "    l1 = lin(x, w1, b1)\n",
    "    l2 = relu(l1)\n",
    "    return lin(l2, w2, b2)"
   ]
  },
  {
   "cell_type": "code",
   "execution_count": 14,
   "id": "ee8d6dff",
   "metadata": {},
   "outputs": [],
   "source": [
    "t3 = model(temp_x)"
   ]
  },
  {
   "cell_type": "code",
   "execution_count": 15,
   "id": "6fa7c9aa",
   "metadata": {},
   "outputs": [
    {
     "data": {
      "text/plain": [
       "torch.Size([50000, 1])"
      ]
     },
     "execution_count": 15,
     "metadata": {},
     "output_type": "execute_result"
    }
   ],
   "source": [
    "t3.shape"
   ]
  },
  {
   "cell_type": "code",
   "execution_count": 16,
   "id": "6eb405b3",
   "metadata": {},
   "outputs": [],
   "source": [
    "# loss function (mse)"
   ]
  },
  {
   "cell_type": "code",
   "execution_count": 17,
   "id": "267e4a56",
   "metadata": {},
   "outputs": [],
   "source": [
    "# formula: mean((pred - actual)**2)\n",
    "# total sample size here means batch size"
   ]
  },
  {
   "cell_type": "code",
   "execution_count": 18,
   "id": "f08ec4a4",
   "metadata": {},
   "outputs": [
    {
     "data": {
      "text/plain": [
       "torch.Size([50000])"
      ]
     },
     "execution_count": 18,
     "metadata": {},
     "output_type": "execute_result"
    }
   ],
   "source": [
    "temp_y = y_train.clone()\n",
    "temp_y.shape"
   ]
  },
  {
   "cell_type": "code",
   "execution_count": 19,
   "id": "2e92f7d8",
   "metadata": {},
   "outputs": [
    {
     "data": {
      "text/plain": [
       "tensor([5, 0, 4, 1])"
      ]
     },
     "execution_count": 19,
     "metadata": {},
     "output_type": "execute_result"
    }
   ],
   "source": [
    "temp_y[:4]"
   ]
  },
  {
   "cell_type": "code",
   "execution_count": 20,
   "id": "de122493",
   "metadata": {},
   "outputs": [
    {
     "data": {
      "text/plain": [
       "torch.Size([50000, 1])"
      ]
     },
     "execution_count": 20,
     "metadata": {},
     "output_type": "execute_result"
    }
   ],
   "source": [
    "temp_y.view(-1, 1).shape"
   ]
  },
  {
   "cell_type": "code",
   "execution_count": 21,
   "id": "8faafdaa",
   "metadata": {},
   "outputs": [
    {
     "data": {
      "text/plain": [
       "tensor(4308.7598)"
      ]
     },
     "execution_count": 21,
     "metadata": {},
     "output_type": "execute_result"
    }
   ],
   "source": [
    "(t3 - temp_y.view(-1, 1)).pow(2).mean()"
   ]
  },
  {
   "cell_type": "code",
   "execution_count": 22,
   "id": "bafd9539",
   "metadata": {},
   "outputs": [],
   "source": [
    "# gradient and backward pass"
   ]
  },
  {
   "cell_type": "code",
   "execution_count": 36,
   "id": "6746259c",
   "metadata": {},
   "outputs": [],
   "source": [
    "def lingrad(out, x, w, b):\n",
    "    b.g = out.g.sum(0)\n",
    "    x.g = out.g @ w.t()\n",
    "    w.g = (x.t() @ out.g)\n",
    "    \n",
    "def lingrad(out, inp, w, b):\n",
    "    # grad of matmul with respect to input\n",
    "    inp.g = out.g @ w.t()\n",
    "    w.g = (inp.unsqueeze(-1) * out.g.unsqueeze(1)).sum(0)\n",
    "    b.g = out.g.sum(0)"
   ]
  },
  {
   "cell_type": "code",
   "execution_count": 37,
   "id": "14396472",
   "metadata": {},
   "outputs": [],
   "source": [
    "def forward_and_backward(xb, target):\n",
    "    # forward pass and loss\n",
    "    l1 = lin(xb, w1, b1)\n",
    "    l2 = relu(l1)\n",
    "    out = lin(l2, w2, b2)\n",
    "    diff = (out - target.view(-1, 1))\n",
    "    loss = diff.pow(2).mean()\n",
    "    \n",
    "    # calculate gradient\n",
    "    out.g = 2*diff/xb.shape[0]\n",
    "    lingrad(out, l2, w2, b2)\n",
    "    l1.g = (l1 > 0).float() * l2.g\n",
    "    lingrad(l1, xb, w1, b1)\n",
    "    "
   ]
  },
  {
   "cell_type": "code",
   "execution_count": null,
   "id": "18092f0f",
   "metadata": {},
   "outputs": [],
   "source": [
    "forward_and_backward(x_train, y_train)"
   ]
  },
  {
   "cell_type": "code",
   "execution_count": null,
   "id": "99c7e2a8",
   "metadata": {},
   "outputs": [],
   "source": [
    "#  # forward pass:\n",
    "#     l1 = lin(inp, w1, b1)\n",
    "#     l2 = relu(l1)\n",
    "#     out = lin(l2, w2, b2)\n",
    "#     diff = out[:,0]-targ\n",
    "#     loss = diff.pow(2).mean()\n",
    "    \n",
    "#     # backward pass:\n",
    "#     out.g = 2.*diff[:,None] / inp.shape[0]\n",
    "#     lin_grad(l2, out, w2, b2)\n",
    "#     l1.g = (l1>0).float() * l2.g\n",
    "#     lin_grad(inp, l1, w1, b1)"
   ]
  },
  {
   "cell_type": "code",
   "execution_count": 26,
   "id": "6f26a5d9",
   "metadata": {},
   "outputs": [],
   "source": [
    "def get_grad(x):\n",
    "    return x.g.clone()\n",
    "\n",
    "chks = w1,b1,w2,b2,x_train\n",
    "grads = tuple(map(get_grad, chks))"
   ]
  },
  {
   "cell_type": "code",
   "execution_count": 27,
   "id": "a02551c6",
   "metadata": {},
   "outputs": [],
   "source": [
    "# calculate params grad using pytorch"
   ]
  },
  {
   "cell_type": "code",
   "execution_count": 28,
   "id": "8d23c59a",
   "metadata": {},
   "outputs": [],
   "source": [
    "def make_grad(x):\n",
    "    return x.clone().requires_grad_(True)\n",
    "\n",
    "ptgrads = ptw1, ptb1, ptw2, ptb2, ptx_train = tuple(map(make_grad, chks))"
   ]
  },
  {
   "cell_type": "code",
   "execution_count": 29,
   "id": "adffb348",
   "metadata": {},
   "outputs": [],
   "source": [
    "def pytorch_forward_backward(xb, target):\n",
    "    l1 = lin(xb, ptw1, ptb1)\n",
    "    l2 = relu(l1)\n",
    "    out = lin(l2, ptw2, ptb2)\n",
    "    diff = (out - target.view(-1, 1))\n",
    "    loss =  diff.pow(2).mean()\n",
    "    return loss"
   ]
  },
  {
   "cell_type": "code",
   "execution_count": 30,
   "id": "fe50ad86",
   "metadata": {},
   "outputs": [],
   "source": [
    "pytorch_loss = pytorch_forward_backward(ptx_train, y_train)"
   ]
  },
  {
   "cell_type": "code",
   "execution_count": 31,
   "id": "04cbe462",
   "metadata": {},
   "outputs": [],
   "source": [
    "pytorch_loss.backward()"
   ]
  },
  {
   "cell_type": "code",
   "execution_count": 32,
   "id": "671b97fa",
   "metadata": {},
   "outputs": [
    {
     "name": "stdout",
     "output_type": "stream",
     "text": [
      "False\n",
      "False\n",
      "False\n",
      "False\n",
      "False\n"
     ]
    }
   ],
   "source": [
    "for a, b in zip(grads, ptgrads):\n",
    "    print(torch.allclose(a, b))"
   ]
  },
  {
   "cell_type": "code",
   "execution_count": 33,
   "id": "bcbfd51e",
   "metadata": {},
   "outputs": [
    {
     "data": {
      "text/plain": [
       "tensor([[0., 0., 0.,  ..., 0., 0., 0.],\n",
       "        [0., 0., 0.,  ..., 0., 0., 0.],\n",
       "        [0., 0., 0.,  ..., 0., 0., 0.],\n",
       "        ...,\n",
       "        [0., 0., 0.,  ..., 0., 0., 0.],\n",
       "        [0., 0., 0.,  ..., 0., 0., 0.],\n",
       "        [0., 0., 0.,  ..., 0., 0., 0.]])"
      ]
     },
     "execution_count": 33,
     "metadata": {},
     "output_type": "execute_result"
    }
   ],
   "source": [
    "grads[0]"
   ]
  },
  {
   "cell_type": "code",
   "execution_count": 34,
   "id": "9f06a3d0",
   "metadata": {},
   "outputs": [
    {
     "data": {
      "text/plain": [
       "tensor([[ 1.9269,  1.4873,  0.9007,  ..., -0.4879, -0.9138, -0.6581],\n",
       "        [ 0.0780,  0.5258, -0.4880,  ...,  0.4880,  0.7846,  0.0286],\n",
       "        [ 0.6408,  0.5832,  1.0669,  ...,  1.4506,  0.2695, -0.2104],\n",
       "        ...,\n",
       "        [-1.0870,  0.5770,  1.0833,  ..., -0.0442,  0.3561, -0.0153],\n",
       "        [-0.7371, -0.1260, -1.2686,  ..., -0.2711,  0.3694,  0.2720],\n",
       "        [ 0.4637, -0.7807,  2.4361,  ..., -1.6001, -0.0425, -1.2497]],\n",
       "       requires_grad=True)"
      ]
     },
     "execution_count": 34,
     "metadata": {},
     "output_type": "execute_result"
    }
   ],
   "source": [
    "ptgrads[0]"
   ]
  },
  {
   "cell_type": "code",
   "execution_count": null,
   "id": "acf1b626",
   "metadata": {},
   "outputs": [],
   "source": []
  },
  {
   "cell_type": "code",
   "execution_count": null,
   "id": "0ac7e782",
   "metadata": {},
   "outputs": [],
   "source": []
  },
  {
   "cell_type": "code",
   "execution_count": null,
   "id": "8127e2a9",
   "metadata": {},
   "outputs": [],
   "source": [
    "\n"
   ]
  }
 ],
 "metadata": {
  "kernelspec": {
   "display_name": "python_main",
   "language": "python",
   "name": "python_main"
  },
  "language_info": {
   "codemirror_mode": {
    "name": "ipython",
    "version": 3
   },
   "file_extension": ".py",
   "mimetype": "text/x-python",
   "name": "python",
   "nbconvert_exporter": "python",
   "pygments_lexer": "ipython3",
   "version": "3.11.0"
  }
 },
 "nbformat": 4,
 "nbformat_minor": 5
}
