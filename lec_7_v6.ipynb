{
 "cells": [
  {
   "cell_type": "code",
   "execution_count": 3,
   "id": "13efbcd7",
   "metadata": {},
   "outputs": [],
   "source": [
    "import torch.nn as nn\n",
    "import torch, gzip, pickle\n",
    "import torchvision.transforms.functional as TF\n",
    "import torch.nn.functional as F\n",
    "import matplotlib.pyplot as plt\n",
    "import matplotlib as mpl\n",
    "from datasets import load_dataset\n",
    "\n",
    "mpl.rcParams['image.cmap'] = 'gray'"
   ]
  },
  {
   "cell_type": "code",
   "execution_count": 4,
   "id": "b03f58d4",
   "metadata": {},
   "outputs": [],
   "source": [
    "with gzip.open('./data/mnist.pkl.gz', 'rb') as f:\n",
    "    data = pickle.load(f, encoding='latin')"
   ]
  },
  {
   "cell_type": "code",
   "execution_count": 5,
   "id": "619ed7bc",
   "metadata": {},
   "outputs": [],
   "source": [
    "((x_train, y_train),(x_val, y_val), _) = data\n",
    "(x_train, y_train, x_val, y_val) = map(torch.tensor, (x_train, y_train, x_val, y_val))"
   ]
  },
  {
   "cell_type": "code",
   "execution_count": 8,
   "id": "0899c6df",
   "metadata": {},
   "outputs": [],
   "source": [
    "x_imgs = x_train.view(-1, 28, 28)\n",
    "xval_imgs = x_val.view(-1, 28, 28)"
   ]
  },
  {
   "cell_type": "code",
   "execution_count": 16,
   "id": "2e10644b",
   "metadata": {},
   "outputs": [
    {
     "name": "stdout",
     "output_type": "stream",
     "text": [
      "label:3\n"
     ]
    },
    {
     "data": {
      "image/png": "[encoded data removed]",
      "text/plain": [
       "<Figure size 432x288 with 1 Axes>"
      ]
     },
     "metadata": {
      "needs_background": "light"
     },
     "output_type": "display_data"
    }
   ],
   "source": [
    "im3  = x_imgs[7]\n",
    "plt.imshow(im3); print(f'label:{y_train[7]}')"
   ]
  },
  {
   "cell_type": "code",
   "execution_count": 17,
   "id": "a02cbf33",
   "metadata": {},
   "outputs": [
    {
     "data": {
      "text/plain": [
       "<matplotlib.image.AxesImage at 0x17341af10>"
      ]
     },
     "execution_count": 17,
     "metadata": {},
     "output_type": "execute_result"
    },
    {
     "data": {
      "image/png": "[encoded data removed]",
      "text/plain": [
       "<Figure size 432x288 with 1 Axes>"
      ]
     },
     "metadata": {
      "needs_background": "light"
     },
     "output_type": "display_data"
    }
   ],
   "source": [
    "top_edges = torch.tensor([\n",
    "    [-1, -1, -1],\n",
    "    [0, 0, 0],\n",
    "    [1, 1, 1]\n",
    "]).float()\n",
    "\n",
    "plt.imshow(top_edges)"
   ]
  },
  {
   "cell_type": "code",
   "execution_count": 26,
   "id": "f8634e9d",
   "metadata": {},
   "outputs": [],
   "source": [
    "import pandas as pd"
   ]
  },
  {
   "cell_type": "code",
   "execution_count": 39,
   "id": "27c264e4",
   "metadata": {},
   "outputs": [
    {
     "data": {
      "text/html": [
       "<style type=\"text/css\">\n",
       "#T_610aa_row0_col0, #T_610aa_row0_col1, #T_610aa_row0_col2, #T_610aa_row0_col3, #T_610aa_row0_col4, #T_610aa_row0_col5, #T_610aa_row0_col6, #T_610aa_row0_col7, #T_610aa_row0_col8, #T_610aa_row0_col9, #T_610aa_row0_col10, #T_610aa_row0_col11, #T_610aa_row0_col12, #T_610aa_row0_col13, #T_610aa_row0_col14, #T_610aa_row0_col15, #T_610aa_row0_col16, #T_610aa_row0_col17, #T_610aa_row0_col18, #T_610aa_row0_col19, #T_610aa_row0_col20, #T_610aa_row0_col21, #T_610aa_row0_col22, #T_610aa_row0_col23, #T_610aa_row0_col24, #T_610aa_row0_col25, #T_610aa_row0_col26, #T_610aa_row1_col0, #T_610aa_row1_col1, #T_610aa_row1_col2, #T_610aa_row1_col3, #T_610aa_row1_col4, #T_610aa_row1_col5, #T_610aa_row1_col6, #T_610aa_row1_col7, #T_610aa_row1_col8, #T_610aa_row1_col9, #T_610aa_row1_col10, #T_610aa_row1_col11, #T_610aa_row1_col12, #T_610aa_row1_col13, #T_610aa_row1_col14, #T_610aa_row1_col15, #T_610aa_row1_col16, #T_610aa_row1_col17, #T_610aa_row1_col18, #T_610aa_row1_col19, #T_610aa_row1_col20, #T_610aa_row1_col21, #T_610aa_row1_col22, #T_610aa_row1_col23, #T_610aa_row1_col24, #T_610aa_row1_col25, #T_610aa_row1_col26, #T_610aa_row2_col0, #T_610aa_row2_col1, #T_610aa_row2_col2, #T_610aa_row2_col3, #T_610aa_row2_col4, #T_610aa_row2_col5, #T_610aa_row2_col6, #T_610aa_row2_col7, #T_610aa_row2_col8, #T_610aa_row2_col9, #T_610aa_row2_col10, #T_610aa_row2_col11, #T_610aa_row2_col12, #T_610aa_row2_col13, #T_610aa_row2_col14, #T_610aa_row2_col15, #T_610aa_row2_col16, #T_610aa_row2_col17, #T_610aa_row2_col18, #T_610aa_row2_col19, #T_610aa_row2_col20, #T_610aa_row2_col21, #T_610aa_row2_col22, #T_610aa_row2_col23, #T_610aa_row2_col24, #T_610aa_row2_col25, #T_610aa_row2_col26, #T_610aa_row3_col0, #T_610aa_row3_col1, #T_610aa_row3_col2, #T_610aa_row3_col3, #T_610aa_row3_col4, #T_610aa_row3_col5, #T_610aa_row3_col6, #T_610aa_row3_col7, #T_610aa_row3_col8, #T_610aa_row3_col9, #T_610aa_row3_col10, #T_610aa_row3_col11, #T_610aa_row3_col12, #T_610aa_row3_col13, #T_610aa_row3_col14, #T_610aa_row3_col15, #T_610aa_row3_col16, #T_610aa_row3_col17, #T_610aa_row3_col18, #T_610aa_row3_col19, #T_610aa_row3_col20, #T_610aa_row3_col21, #T_610aa_row3_col22, #T_610aa_row3_col23, #T_610aa_row3_col24, #T_610aa_row3_col25, #T_610aa_row3_col26, #T_610aa_row4_col0, #T_610aa_row4_col1, #T_610aa_row4_col2, #T_610aa_row4_col3, #T_610aa_row4_col4, #T_610aa_row4_col5, #T_610aa_row4_col6, #T_610aa_row4_col7, #T_610aa_row4_col8, #T_610aa_row4_col9, #T_610aa_row4_col10, #T_610aa_row4_col11, #T_610aa_row4_col12, #T_610aa_row4_col13, #T_610aa_row4_col14, #T_610aa_row4_col15, #T_610aa_row4_col16, #T_610aa_row4_col17, #T_610aa_row4_col18, #T_610aa_row4_col19, #T_610aa_row4_col20, #T_610aa_row4_col21, #T_610aa_row4_col22, #T_610aa_row4_col23, #T_610aa_row4_col24, #T_610aa_row4_col25, #T_610aa_row4_col26, #T_610aa_row5_col0, #T_610aa_row5_col1, #T_610aa_row5_col2, #T_610aa_row5_col3, #T_610aa_row5_col4, #T_610aa_row5_col5, #T_610aa_row5_col6, #T_610aa_row5_col7, #T_610aa_row5_col8, #T_610aa_row5_col9, #T_610aa_row5_col10, #T_610aa_row5_col22, #T_610aa_row5_col23, #T_610aa_row5_col24, #T_610aa_row5_col25, #T_610aa_row5_col26, #T_610aa_row6_col0, #T_610aa_row6_col1, #T_610aa_row6_col2, #T_610aa_row6_col3, #T_610aa_row6_col4, #T_610aa_row6_col5, #T_610aa_row6_col6, #T_610aa_row6_col7, #T_610aa_row6_col8, #T_610aa_row6_col23, #T_610aa_row6_col24, #T_610aa_row6_col25, #T_610aa_row6_col26, #T_610aa_row7_col0, #T_610aa_row7_col1, #T_610aa_row7_col2, #T_610aa_row7_col3, #T_610aa_row7_col4, #T_610aa_row7_col5, #T_610aa_row7_col6, #T_610aa_row7_col7, #T_610aa_row7_col8, #T_610aa_row7_col23, #T_610aa_row7_col24, #T_610aa_row7_col25, #T_610aa_row7_col26, #T_610aa_row8_col0, #T_610aa_row8_col1, #T_610aa_row8_col2, #T_610aa_row8_col3, #T_610aa_row8_col4, #T_610aa_row8_col5, #T_610aa_row8_col6, #T_610aa_row8_col7, #T_610aa_row8_col8, #T_610aa_row8_col23, #T_610aa_row8_col24, #T_610aa_row8_col25, #T_610aa_row8_col26, #T_610aa_row9_col0, #T_610aa_row9_col1, #T_610aa_row9_col2, #T_610aa_row9_col3, #T_610aa_row9_col4, #T_610aa_row9_col5, #T_610aa_row9_col6, #T_610aa_row9_col7, #T_610aa_row9_col8, #T_610aa_row9_col13, #T_610aa_row9_col14, #T_610aa_row9_col15, #T_610aa_row9_col16, #T_610aa_row9_col23, #T_610aa_row9_col24, #T_610aa_row9_col25, #T_610aa_row9_col26, #T_610aa_row10_col0, #T_610aa_row10_col1, #T_610aa_row10_col2, #T_610aa_row10_col3, #T_610aa_row10_col4, #T_610aa_row10_col5, #T_610aa_row10_col6, #T_610aa_row10_col7, #T_610aa_row10_col8, #T_610aa_row10_col9, #T_610aa_row10_col10, #T_610aa_row10_col11, #T_610aa_row10_col12, #T_610aa_row10_col13, #T_610aa_row10_col14, #T_610aa_row10_col15, #T_610aa_row10_col16, #T_610aa_row10_col22, #T_610aa_row10_col23, #T_610aa_row10_col24, #T_610aa_row10_col25, #T_610aa_row10_col26, #T_610aa_row11_col0, #T_610aa_row11_col1, #T_610aa_row11_col2, #T_610aa_row11_col3, #T_610aa_row11_col4, #T_610aa_row11_col5, #T_610aa_row11_col6, #T_610aa_row11_col7, #T_610aa_row11_col8, #T_610aa_row11_col9, #T_610aa_row11_col10, #T_610aa_row11_col11, #T_610aa_row11_col12, #T_610aa_row11_col13, #T_610aa_row11_col14, #T_610aa_row11_col15, #T_610aa_row11_col22, #T_610aa_row11_col23, #T_610aa_row11_col24, #T_610aa_row11_col25, #T_610aa_row11_col26, #T_610aa_row12_col0, #T_610aa_row12_col1, #T_610aa_row12_col2, #T_610aa_row12_col3, #T_610aa_row12_col4, #T_610aa_row12_col5, #T_610aa_row12_col6, #T_610aa_row12_col7, #T_610aa_row12_col8, #T_610aa_row12_col9, #T_610aa_row12_col10, #T_610aa_row12_col11, #T_610aa_row12_col12, #T_610aa_row12_col13, #T_610aa_row12_col22, #T_610aa_row12_col23, #T_610aa_row12_col24, #T_610aa_row12_col25, #T_610aa_row12_col26 {\n",
       "  background-color: #fff7fb;\n",
       "  color: #000000;\n",
       "  font-size: 7pt;\n",
       "}\n",
       "#T_610aa_row5_col11 {\n",
       "  background-color: #e7e3f0;\n",
       "  color: #000000;\n",
       "  font-size: 7pt;\n",
       "}\n",
       "#T_610aa_row5_col12 {\n",
       "  background-color: #e2dfee;\n",
       "  color: #000000;\n",
       "  font-size: 7pt;\n",
       "}\n",
       "#T_610aa_row5_col13 {\n",
       "  background-color: #96b6d7;\n",
       "  color: #000000;\n",
       "  font-size: 7pt;\n",
       "}\n",
       "#T_610aa_row5_col14, #T_610aa_row5_col15, #T_610aa_row5_col16, #T_610aa_row5_col17, #T_610aa_row5_col18, #T_610aa_row5_col19, #T_610aa_row6_col13, #T_610aa_row6_col20, #T_610aa_row7_col9, #T_610aa_row7_col10, #T_610aa_row7_col11, #T_610aa_row7_col12, #T_610aa_row7_col13, #T_610aa_row7_col20, #T_610aa_row7_col21, #T_610aa_row7_col22, #T_610aa_row8_col10, #T_610aa_row8_col11, #T_610aa_row8_col20, #T_610aa_row8_col21, #T_610aa_row8_col22, #T_610aa_row9_col20, #T_610aa_row10_col20, #T_610aa_row11_col20 {\n",
       "  background-color: #023858;\n",
       "  color: #f1f1f1;\n",
       "  font-size: 7pt;\n",
       "}\n",
       "#T_610aa_row5_col20 {\n",
       "  background-color: #1c7fb8;\n",
       "  color: #f1f1f1;\n",
       "  font-size: 7pt;\n",
       "}\n",
       "#T_610aa_row5_col21 {\n",
       "  background-color: #fbf4f9;\n",
       "  color: #000000;\n",
       "  font-size: 7pt;\n",
       "}\n",
       "#T_610aa_row6_col9 {\n",
       "  background-color: #d2d3e7;\n",
       "  color: #000000;\n",
       "  font-size: 7pt;\n",
       "}\n",
       "#T_610aa_row6_col10 {\n",
       "  background-color: #5a9ec9;\n",
       "  color: #f1f1f1;\n",
       "  font-size: 7pt;\n",
       "}\n",
       "#T_610aa_row6_col11 {\n",
       "  background-color: #045687;\n",
       "  color: #f1f1f1;\n",
       "  font-size: 7pt;\n",
       "}\n",
       "#T_610aa_row6_col12 {\n",
       "  background-color: #045483;\n",
       "  color: #f1f1f1;\n",
       "  font-size: 7pt;\n",
       "}\n",
       "#T_610aa_row6_col14, #T_610aa_row7_col14 {\n",
       "  background-color: #023a5b;\n",
       "  color: #f1f1f1;\n",
       "  font-size: 7pt;\n",
       "}\n",
       "#T_610aa_row6_col15, #T_610aa_row6_col16, #T_610aa_row6_col17, #T_610aa_row6_col18, #T_610aa_row6_col19, #T_610aa_row7_col15, #T_610aa_row7_col16, #T_610aa_row7_col17, #T_610aa_row7_col18, #T_610aa_row7_col19, #T_610aa_row8_col18, #T_610aa_row8_col19, #T_610aa_row9_col19, #T_610aa_row10_col19, #T_610aa_row11_col18, #T_610aa_row11_col19, #T_610aa_row12_col17, #T_610aa_row12_col18, #T_610aa_row12_col19 {\n",
       "  background-color: #02395a;\n",
       "  color: #f1f1f1;\n",
       "  font-size: 7pt;\n",
       "}\n",
       "#T_610aa_row6_col21 {\n",
       "  background-color: #358fc0;\n",
       "  color: #f1f1f1;\n",
       "  font-size: 7pt;\n",
       "}\n",
       "#T_610aa_row6_col22 {\n",
       "  background-color: #d3d4e7;\n",
       "  color: #000000;\n",
       "  font-size: 7pt;\n",
       "}\n",
       "#T_610aa_row8_col9 {\n",
       "  background-color: #3d93c2;\n",
       "  color: #f1f1f1;\n",
       "  font-size: 7pt;\n",
       "}\n",
       "#T_610aa_row8_col12 {\n",
       "  background-color: #034f7d;\n",
       "  color: #f1f1f1;\n",
       "  font-size: 7pt;\n",
       "}\n",
       "#T_610aa_row8_col13 {\n",
       "  background-color: #67a4cc;\n",
       "  color: #f1f1f1;\n",
       "  font-size: 7pt;\n",
       "}\n",
       "#T_610aa_row8_col14, #T_610aa_row8_col15, #T_610aa_row8_col16 {\n",
       "  background-color: #69a5cc;\n",
       "  color: #f1f1f1;\n",
       "  font-size: 7pt;\n",
       "}\n",
       "#T_610aa_row8_col17, #T_610aa_row11_col17 {\n",
       "  background-color: #0570b0;\n",
       "  color: #f1f1f1;\n",
       "  font-size: 7pt;\n",
       "}\n",
       "#T_610aa_row9_col9 {\n",
       "  background-color: #fcf4fa;\n",
       "  color: #000000;\n",
       "  font-size: 7pt;\n",
       "}\n",
       "#T_610aa_row9_col10, #T_610aa_row9_col11 {\n",
       "  background-color: #eee8f3;\n",
       "  color: #000000;\n",
       "  font-size: 7pt;\n",
       "}\n",
       "#T_610aa_row9_col12 {\n",
       "  background-color: #f1ebf4;\n",
       "  color: #000000;\n",
       "  font-size: 7pt;\n",
       "}\n",
       "#T_610aa_row9_col17, #T_610aa_row11_col21 {\n",
       "  background-color: #f7f0f7;\n",
       "  color: #000000;\n",
       "  font-size: 7pt;\n",
       "}\n",
       "#T_610aa_row9_col18 {\n",
       "  background-color: #045585;\n",
       "  color: #f1f1f1;\n",
       "  font-size: 7pt;\n",
       "}\n",
       "#T_610aa_row9_col21 {\n",
       "  background-color: #2081b9;\n",
       "  color: #f1f1f1;\n",
       "  font-size: 7pt;\n",
       "}\n",
       "#T_610aa_row9_col22 {\n",
       "  background-color: #ede8f3;\n",
       "  color: #000000;\n",
       "  font-size: 7pt;\n",
       "}\n",
       "#T_610aa_row10_col17 {\n",
       "  background-color: #b3c3de;\n",
       "  color: #000000;\n",
       "  font-size: 7pt;\n",
       "}\n",
       "#T_610aa_row10_col18 {\n",
       "  background-color: #034369;\n",
       "  color: #f1f1f1;\n",
       "  font-size: 7pt;\n",
       "}\n",
       "#T_610aa_row10_col21 {\n",
       "  background-color: #509ac6;\n",
       "  color: #f1f1f1;\n",
       "  font-size: 7pt;\n",
       "}\n",
       "#T_610aa_row11_col16 {\n",
       "  background-color: #afc1dd;\n",
       "  color: #000000;\n",
       "  font-size: 7pt;\n",
       "}\n",
       "#T_610aa_row12_col14 {\n",
       "  background-color: #acc0dd;\n",
       "  color: #000000;\n",
       "  font-size: 7pt;\n",
       "}\n",
       "#T_610aa_row12_col15 {\n",
       "  background-color: #046097;\n",
       "  color: #f1f1f1;\n",
       "  font-size: 7pt;\n",
       "}\n",
       "#T_610aa_row12_col16 {\n",
       "  background-color: #023e62;\n",
       "  color: #f1f1f1;\n",
       "  font-size: 7pt;\n",
       "}\n",
       "#T_610aa_row12_col20 {\n",
       "  background-color: #05659f;\n",
       "  color: #f1f1f1;\n",
       "  font-size: 7pt;\n",
       "}\n",
       "#T_610aa_row12_col21 {\n",
       "  background-color: #faf2f8;\n",
       "  color: #000000;\n",
       "  font-size: 7pt;\n",
       "}\n",
       "</style>\n",
       "<table id=\"T_610aa\">\n",
       "  <thead>\n",
       "    <tr>\n",
       "      <th class=\"blank level0\" >&nbsp;</th>\n",
       "      <th id=\"T_610aa_level0_col0\" class=\"col_heading level0 col0\" >0</th>\n",
       "      <th id=\"T_610aa_level0_col1\" class=\"col_heading level0 col1\" >1</th>\n",
       "      <th id=\"T_610aa_level0_col2\" class=\"col_heading level0 col2\" >2</th>\n",
       "      <th id=\"T_610aa_level0_col3\" class=\"col_heading level0 col3\" >3</th>\n",
       "      <th id=\"T_610aa_level0_col4\" class=\"col_heading level0 col4\" >4</th>\n",
       "      <th id=\"T_610aa_level0_col5\" class=\"col_heading level0 col5\" >5</th>\n",
       "      <th id=\"T_610aa_level0_col6\" class=\"col_heading level0 col6\" >6</th>\n",
       "      <th id=\"T_610aa_level0_col7\" class=\"col_heading level0 col7\" >7</th>\n",
       "      <th id=\"T_610aa_level0_col8\" class=\"col_heading level0 col8\" >8</th>\n",
       "      <th id=\"T_610aa_level0_col9\" class=\"col_heading level0 col9\" >9</th>\n",
       "      <th id=\"T_610aa_level0_col10\" class=\"col_heading level0 col10\" >10</th>\n",
       "      <th id=\"T_610aa_level0_col11\" class=\"col_heading level0 col11\" >11</th>\n",
       "      <th id=\"T_610aa_level0_col12\" class=\"col_heading level0 col12\" >12</th>\n",
       "      <th id=\"T_610aa_level0_col13\" class=\"col_heading level0 col13\" >13</th>\n",
       "      <th id=\"T_610aa_level0_col14\" class=\"col_heading level0 col14\" >14</th>\n",
       "      <th id=\"T_610aa_level0_col15\" class=\"col_heading level0 col15\" >15</th>\n",
       "      <th id=\"T_610aa_level0_col16\" class=\"col_heading level0 col16\" >16</th>\n",
       "      <th id=\"T_610aa_level0_col17\" class=\"col_heading level0 col17\" >17</th>\n",
       "      <th id=\"T_610aa_level0_col18\" class=\"col_heading level0 col18\" >18</th>\n",
       "      <th id=\"T_610aa_level0_col19\" class=\"col_heading level0 col19\" >19</th>\n",
       "      <th id=\"T_610aa_level0_col20\" class=\"col_heading level0 col20\" >20</th>\n",
       "      <th id=\"T_610aa_level0_col21\" class=\"col_heading level0 col21\" >21</th>\n",
       "      <th id=\"T_610aa_level0_col22\" class=\"col_heading level0 col22\" >22</th>\n",
       "      <th id=\"T_610aa_level0_col23\" class=\"col_heading level0 col23\" >23</th>\n",
       "      <th id=\"T_610aa_level0_col24\" class=\"col_heading level0 col24\" >24</th>\n",
       "      <th id=\"T_610aa_level0_col25\" class=\"col_heading level0 col25\" >25</th>\n",
       "      <th id=\"T_610aa_level0_col26\" class=\"col_heading level0 col26\" >26</th>\n",
       "    </tr>\n",
       "  </thead>\n",
       "  <tbody>\n",
       "    <tr>\n",
       "      <th id=\"T_610aa_level0_row0\" class=\"row_heading level0 row0\" >0</th>\n",
       "      <td id=\"T_610aa_row0_col0\" class=\"data row0 col0\" >0.000000</td>\n",
       "      <td id=\"T_610aa_row0_col1\" class=\"data row0 col1\" >0.000000</td>\n",
       "      <td id=\"T_610aa_row0_col2\" class=\"data row0 col2\" >0.000000</td>\n",
       "      <td id=\"T_610aa_row0_col3\" class=\"data row0 col3\" >0.000000</td>\n",
       "      <td id=\"T_610aa_row0_col4\" class=\"data row0 col4\" >0.000000</td>\n",
       "      <td id=\"T_610aa_row0_col5\" class=\"data row0 col5\" >0.000000</td>\n",
       "      <td id=\"T_610aa_row0_col6\" class=\"data row0 col6\" >0.000000</td>\n",
       "      <td id=\"T_610aa_row0_col7\" class=\"data row0 col7\" >0.000000</td>\n",
       "      <td id=\"T_610aa_row0_col8\" class=\"data row0 col8\" >0.000000</td>\n",
       "      <td id=\"T_610aa_row0_col9\" class=\"data row0 col9\" >0.000000</td>\n",
       "      <td id=\"T_610aa_row0_col10\" class=\"data row0 col10\" >0.000000</td>\n",
       "      <td id=\"T_610aa_row0_col11\" class=\"data row0 col11\" >0.000000</td>\n",
       "      <td id=\"T_610aa_row0_col12\" class=\"data row0 col12\" >0.000000</td>\n",
       "      <td id=\"T_610aa_row0_col13\" class=\"data row0 col13\" >0.000000</td>\n",
       "      <td id=\"T_610aa_row0_col14\" class=\"data row0 col14\" >0.000000</td>\n",
       "      <td id=\"T_610aa_row0_col15\" class=\"data row0 col15\" >0.000000</td>\n",
       "      <td id=\"T_610aa_row0_col16\" class=\"data row0 col16\" >0.000000</td>\n",
       "      <td id=\"T_610aa_row0_col17\" class=\"data row0 col17\" >0.000000</td>\n",
       "      <td id=\"T_610aa_row0_col18\" class=\"data row0 col18\" >0.000000</td>\n",
       "      <td id=\"T_610aa_row0_col19\" class=\"data row0 col19\" >0.000000</td>\n",
       "      <td id=\"T_610aa_row0_col20\" class=\"data row0 col20\" >0.000000</td>\n",
       "      <td id=\"T_610aa_row0_col21\" class=\"data row0 col21\" >0.000000</td>\n",
       "      <td id=\"T_610aa_row0_col22\" class=\"data row0 col22\" >0.000000</td>\n",
       "      <td id=\"T_610aa_row0_col23\" class=\"data row0 col23\" >0.000000</td>\n",
       "      <td id=\"T_610aa_row0_col24\" class=\"data row0 col24\" >0.000000</td>\n",
       "      <td id=\"T_610aa_row0_col25\" class=\"data row0 col25\" >0.000000</td>\n",
       "      <td id=\"T_610aa_row0_col26\" class=\"data row0 col26\" >0.000000</td>\n",
       "    </tr>\n",
       "    <tr>\n",
       "      <th id=\"T_610aa_level0_row1\" class=\"row_heading level0 row1\" >1</th>\n",
       "      <td id=\"T_610aa_row1_col0\" class=\"data row1 col0\" >0.000000</td>\n",
       "      <td id=\"T_610aa_row1_col1\" class=\"data row1 col1\" >0.000000</td>\n",
       "      <td id=\"T_610aa_row1_col2\" class=\"data row1 col2\" >0.000000</td>\n",
       "      <td id=\"T_610aa_row1_col3\" class=\"data row1 col3\" >0.000000</td>\n",
       "      <td id=\"T_610aa_row1_col4\" class=\"data row1 col4\" >0.000000</td>\n",
       "      <td id=\"T_610aa_row1_col5\" class=\"data row1 col5\" >0.000000</td>\n",
       "      <td id=\"T_610aa_row1_col6\" class=\"data row1 col6\" >0.000000</td>\n",
       "      <td id=\"T_610aa_row1_col7\" class=\"data row1 col7\" >0.000000</td>\n",
       "      <td id=\"T_610aa_row1_col8\" class=\"data row1 col8\" >0.000000</td>\n",
       "      <td id=\"T_610aa_row1_col9\" class=\"data row1 col9\" >0.000000</td>\n",
       "      <td id=\"T_610aa_row1_col10\" class=\"data row1 col10\" >0.000000</td>\n",
       "      <td id=\"T_610aa_row1_col11\" class=\"data row1 col11\" >0.000000</td>\n",
       "      <td id=\"T_610aa_row1_col12\" class=\"data row1 col12\" >0.000000</td>\n",
       "      <td id=\"T_610aa_row1_col13\" class=\"data row1 col13\" >0.000000</td>\n",
       "      <td id=\"T_610aa_row1_col14\" class=\"data row1 col14\" >0.000000</td>\n",
       "      <td id=\"T_610aa_row1_col15\" class=\"data row1 col15\" >0.000000</td>\n",
       "      <td id=\"T_610aa_row1_col16\" class=\"data row1 col16\" >0.000000</td>\n",
       "      <td id=\"T_610aa_row1_col17\" class=\"data row1 col17\" >0.000000</td>\n",
       "      <td id=\"T_610aa_row1_col18\" class=\"data row1 col18\" >0.000000</td>\n",
       "      <td id=\"T_610aa_row1_col19\" class=\"data row1 col19\" >0.000000</td>\n",
       "      <td id=\"T_610aa_row1_col20\" class=\"data row1 col20\" >0.000000</td>\n",
       "      <td id=\"T_610aa_row1_col21\" class=\"data row1 col21\" >0.000000</td>\n",
       "      <td id=\"T_610aa_row1_col22\" class=\"data row1 col22\" >0.000000</td>\n",
       "      <td id=\"T_610aa_row1_col23\" class=\"data row1 col23\" >0.000000</td>\n",
       "      <td id=\"T_610aa_row1_col24\" class=\"data row1 col24\" >0.000000</td>\n",
       "      <td id=\"T_610aa_row1_col25\" class=\"data row1 col25\" >0.000000</td>\n",
       "      <td id=\"T_610aa_row1_col26\" class=\"data row1 col26\" >0.000000</td>\n",
       "    </tr>\n",
       "    <tr>\n",
       "      <th id=\"T_610aa_level0_row2\" class=\"row_heading level0 row2\" >2</th>\n",
       "      <td id=\"T_610aa_row2_col0\" class=\"data row2 col0\" >0.000000</td>\n",
       "      <td id=\"T_610aa_row2_col1\" class=\"data row2 col1\" >0.000000</td>\n",
       "      <td id=\"T_610aa_row2_col2\" class=\"data row2 col2\" >0.000000</td>\n",
       "      <td id=\"T_610aa_row2_col3\" class=\"data row2 col3\" >0.000000</td>\n",
       "      <td id=\"T_610aa_row2_col4\" class=\"data row2 col4\" >0.000000</td>\n",
       "      <td id=\"T_610aa_row2_col5\" class=\"data row2 col5\" >0.000000</td>\n",
       "      <td id=\"T_610aa_row2_col6\" class=\"data row2 col6\" >0.000000</td>\n",
       "      <td id=\"T_610aa_row2_col7\" class=\"data row2 col7\" >0.000000</td>\n",
       "      <td id=\"T_610aa_row2_col8\" class=\"data row2 col8\" >0.000000</td>\n",
       "      <td id=\"T_610aa_row2_col9\" class=\"data row2 col9\" >0.000000</td>\n",
       "      <td id=\"T_610aa_row2_col10\" class=\"data row2 col10\" >0.000000</td>\n",
       "      <td id=\"T_610aa_row2_col11\" class=\"data row2 col11\" >0.000000</td>\n",
       "      <td id=\"T_610aa_row2_col12\" class=\"data row2 col12\" >0.000000</td>\n",
       "      <td id=\"T_610aa_row2_col13\" class=\"data row2 col13\" >0.000000</td>\n",
       "      <td id=\"T_610aa_row2_col14\" class=\"data row2 col14\" >0.000000</td>\n",
       "      <td id=\"T_610aa_row2_col15\" class=\"data row2 col15\" >0.000000</td>\n",
       "      <td id=\"T_610aa_row2_col16\" class=\"data row2 col16\" >0.000000</td>\n",
       "      <td id=\"T_610aa_row2_col17\" class=\"data row2 col17\" >0.000000</td>\n",
       "      <td id=\"T_610aa_row2_col18\" class=\"data row2 col18\" >0.000000</td>\n",
       "      <td id=\"T_610aa_row2_col19\" class=\"data row2 col19\" >0.000000</td>\n",
       "      <td id=\"T_610aa_row2_col20\" class=\"data row2 col20\" >0.000000</td>\n",
       "      <td id=\"T_610aa_row2_col21\" class=\"data row2 col21\" >0.000000</td>\n",
       "      <td id=\"T_610aa_row2_col22\" class=\"data row2 col22\" >0.000000</td>\n",
       "      <td id=\"T_610aa_row2_col23\" class=\"data row2 col23\" >0.000000</td>\n",
       "      <td id=\"T_610aa_row2_col24\" class=\"data row2 col24\" >0.000000</td>\n",
       "      <td id=\"T_610aa_row2_col25\" class=\"data row2 col25\" >0.000000</td>\n",
       "      <td id=\"T_610aa_row2_col26\" class=\"data row2 col26\" >0.000000</td>\n",
       "    </tr>\n",
       "    <tr>\n",
       "      <th id=\"T_610aa_level0_row3\" class=\"row_heading level0 row3\" >3</th>\n",
       "      <td id=\"T_610aa_row3_col0\" class=\"data row3 col0\" >0.000000</td>\n",
       "      <td id=\"T_610aa_row3_col1\" class=\"data row3 col1\" >0.000000</td>\n",
       "      <td id=\"T_610aa_row3_col2\" class=\"data row3 col2\" >0.000000</td>\n",
       "      <td id=\"T_610aa_row3_col3\" class=\"data row3 col3\" >0.000000</td>\n",
       "      <td id=\"T_610aa_row3_col4\" class=\"data row3 col4\" >0.000000</td>\n",
       "      <td id=\"T_610aa_row3_col5\" class=\"data row3 col5\" >0.000000</td>\n",
       "      <td id=\"T_610aa_row3_col6\" class=\"data row3 col6\" >0.000000</td>\n",
       "      <td id=\"T_610aa_row3_col7\" class=\"data row3 col7\" >0.000000</td>\n",
       "      <td id=\"T_610aa_row3_col8\" class=\"data row3 col8\" >0.000000</td>\n",
       "      <td id=\"T_610aa_row3_col9\" class=\"data row3 col9\" >0.000000</td>\n",
       "      <td id=\"T_610aa_row3_col10\" class=\"data row3 col10\" >0.000000</td>\n",
       "      <td id=\"T_610aa_row3_col11\" class=\"data row3 col11\" >0.000000</td>\n",
       "      <td id=\"T_610aa_row3_col12\" class=\"data row3 col12\" >0.000000</td>\n",
       "      <td id=\"T_610aa_row3_col13\" class=\"data row3 col13\" >0.000000</td>\n",
       "      <td id=\"T_610aa_row3_col14\" class=\"data row3 col14\" >0.000000</td>\n",
       "      <td id=\"T_610aa_row3_col15\" class=\"data row3 col15\" >0.000000</td>\n",
       "      <td id=\"T_610aa_row3_col16\" class=\"data row3 col16\" >0.000000</td>\n",
       "      <td id=\"T_610aa_row3_col17\" class=\"data row3 col17\" >0.000000</td>\n",
       "      <td id=\"T_610aa_row3_col18\" class=\"data row3 col18\" >0.000000</td>\n",
       "      <td id=\"T_610aa_row3_col19\" class=\"data row3 col19\" >0.000000</td>\n",
       "      <td id=\"T_610aa_row3_col20\" class=\"data row3 col20\" >0.000000</td>\n",
       "      <td id=\"T_610aa_row3_col21\" class=\"data row3 col21\" >0.000000</td>\n",
       "      <td id=\"T_610aa_row3_col22\" class=\"data row3 col22\" >0.000000</td>\n",
       "      <td id=\"T_610aa_row3_col23\" class=\"data row3 col23\" >0.000000</td>\n",
       "      <td id=\"T_610aa_row3_col24\" class=\"data row3 col24\" >0.000000</td>\n",
       "      <td id=\"T_610aa_row3_col25\" class=\"data row3 col25\" >0.000000</td>\n",
       "      <td id=\"T_610aa_row3_col26\" class=\"data row3 col26\" >0.000000</td>\n",
       "    </tr>\n",
       "    <tr>\n",
       "      <th id=\"T_610aa_level0_row4\" class=\"row_heading level0 row4\" >4</th>\n",
       "      <td id=\"T_610aa_row4_col0\" class=\"data row4 col0\" >0.000000</td>\n",
       "      <td id=\"T_610aa_row4_col1\" class=\"data row4 col1\" >0.000000</td>\n",
       "      <td id=\"T_610aa_row4_col2\" class=\"data row4 col2\" >0.000000</td>\n",
       "      <td id=\"T_610aa_row4_col3\" class=\"data row4 col3\" >0.000000</td>\n",
       "      <td id=\"T_610aa_row4_col4\" class=\"data row4 col4\" >0.000000</td>\n",
       "      <td id=\"T_610aa_row4_col5\" class=\"data row4 col5\" >0.000000</td>\n",
       "      <td id=\"T_610aa_row4_col6\" class=\"data row4 col6\" >0.000000</td>\n",
       "      <td id=\"T_610aa_row4_col7\" class=\"data row4 col7\" >0.000000</td>\n",
       "      <td id=\"T_610aa_row4_col8\" class=\"data row4 col8\" >0.000000</td>\n",
       "      <td id=\"T_610aa_row4_col9\" class=\"data row4 col9\" >0.000000</td>\n",
       "      <td id=\"T_610aa_row4_col10\" class=\"data row4 col10\" >0.000000</td>\n",
       "      <td id=\"T_610aa_row4_col11\" class=\"data row4 col11\" >0.000000</td>\n",
       "      <td id=\"T_610aa_row4_col12\" class=\"data row4 col12\" >0.000000</td>\n",
       "      <td id=\"T_610aa_row4_col13\" class=\"data row4 col13\" >0.000000</td>\n",
       "      <td id=\"T_610aa_row4_col14\" class=\"data row4 col14\" >0.000000</td>\n",
       "      <td id=\"T_610aa_row4_col15\" class=\"data row4 col15\" >0.000000</td>\n",
       "      <td id=\"T_610aa_row4_col16\" class=\"data row4 col16\" >0.000000</td>\n",
       "      <td id=\"T_610aa_row4_col17\" class=\"data row4 col17\" >0.000000</td>\n",
       "      <td id=\"T_610aa_row4_col18\" class=\"data row4 col18\" >0.000000</td>\n",
       "      <td id=\"T_610aa_row4_col19\" class=\"data row4 col19\" >0.000000</td>\n",
       "      <td id=\"T_610aa_row4_col20\" class=\"data row4 col20\" >0.000000</td>\n",
       "      <td id=\"T_610aa_row4_col21\" class=\"data row4 col21\" >0.000000</td>\n",
       "      <td id=\"T_610aa_row4_col22\" class=\"data row4 col22\" >0.000000</td>\n",
       "      <td id=\"T_610aa_row4_col23\" class=\"data row4 col23\" >0.000000</td>\n",
       "      <td id=\"T_610aa_row4_col24\" class=\"data row4 col24\" >0.000000</td>\n",
       "      <td id=\"T_610aa_row4_col25\" class=\"data row4 col25\" >0.000000</td>\n",
       "      <td id=\"T_610aa_row4_col26\" class=\"data row4 col26\" >0.000000</td>\n",
       "    </tr>\n",
       "    <tr>\n",
       "      <th id=\"T_610aa_level0_row5\" class=\"row_heading level0 row5\" >5</th>\n",
       "      <td id=\"T_610aa_row5_col0\" class=\"data row5 col0\" >0.000000</td>\n",
       "      <td id=\"T_610aa_row5_col1\" class=\"data row5 col1\" >0.000000</td>\n",
       "      <td id=\"T_610aa_row5_col2\" class=\"data row5 col2\" >0.000000</td>\n",
       "      <td id=\"T_610aa_row5_col3\" class=\"data row5 col3\" >0.000000</td>\n",
       "      <td id=\"T_610aa_row5_col4\" class=\"data row5 col4\" >0.000000</td>\n",
       "      <td id=\"T_610aa_row5_col5\" class=\"data row5 col5\" >0.000000</td>\n",
       "      <td id=\"T_610aa_row5_col6\" class=\"data row5 col6\" >0.000000</td>\n",
       "      <td id=\"T_610aa_row5_col7\" class=\"data row5 col7\" >0.000000</td>\n",
       "      <td id=\"T_610aa_row5_col8\" class=\"data row5 col8\" >0.000000</td>\n",
       "      <td id=\"T_610aa_row5_col9\" class=\"data row5 col9\" >0.000000</td>\n",
       "      <td id=\"T_610aa_row5_col10\" class=\"data row5 col10\" >0.000000</td>\n",
       "      <td id=\"T_610aa_row5_col11\" class=\"data row5 col11\" >0.148438</td>\n",
       "      <td id=\"T_610aa_row5_col12\" class=\"data row5 col12\" >0.167969</td>\n",
       "      <td id=\"T_610aa_row5_col13\" class=\"data row5 col13\" >0.410156</td>\n",
       "      <td id=\"T_610aa_row5_col14\" class=\"data row5 col14\" >0.996094</td>\n",
       "      <td id=\"T_610aa_row5_col15\" class=\"data row5 col15\" >0.988281</td>\n",
       "      <td id=\"T_610aa_row5_col16\" class=\"data row5 col16\" >0.988281</td>\n",
       "      <td id=\"T_610aa_row5_col17\" class=\"data row5 col17\" >0.988281</td>\n",
       "      <td id=\"T_610aa_row5_col18\" class=\"data row5 col18\" >0.988281</td>\n",
       "      <td id=\"T_610aa_row5_col19\" class=\"data row5 col19\" >0.988281</td>\n",
       "      <td id=\"T_610aa_row5_col20\" class=\"data row5 col20\" >0.679688</td>\n",
       "      <td id=\"T_610aa_row5_col21\" class=\"data row5 col21\" >0.023438</td>\n",
       "      <td id=\"T_610aa_row5_col22\" class=\"data row5 col22\" >0.000000</td>\n",
       "      <td id=\"T_610aa_row5_col23\" class=\"data row5 col23\" >0.000000</td>\n",
       "      <td id=\"T_610aa_row5_col24\" class=\"data row5 col24\" >0.000000</td>\n",
       "      <td id=\"T_610aa_row5_col25\" class=\"data row5 col25\" >0.000000</td>\n",
       "      <td id=\"T_610aa_row5_col26\" class=\"data row5 col26\" >0.000000</td>\n",
       "    </tr>\n",
       "    <tr>\n",
       "      <th id=\"T_610aa_level0_row6\" class=\"row_heading level0 row6\" >6</th>\n",
       "      <td id=\"T_610aa_row6_col0\" class=\"data row6 col0\" >0.000000</td>\n",
       "      <td id=\"T_610aa_row6_col1\" class=\"data row6 col1\" >0.000000</td>\n",
       "      <td id=\"T_610aa_row6_col2\" class=\"data row6 col2\" >0.000000</td>\n",
       "      <td id=\"T_610aa_row6_col3\" class=\"data row6 col3\" >0.000000</td>\n",
       "      <td id=\"T_610aa_row6_col4\" class=\"data row6 col4\" >0.000000</td>\n",
       "      <td id=\"T_610aa_row6_col5\" class=\"data row6 col5\" >0.000000</td>\n",
       "      <td id=\"T_610aa_row6_col6\" class=\"data row6 col6\" >0.000000</td>\n",
       "      <td id=\"T_610aa_row6_col7\" class=\"data row6 col7\" >0.000000</td>\n",
       "      <td id=\"T_610aa_row6_col8\" class=\"data row6 col8\" >0.000000</td>\n",
       "      <td id=\"T_610aa_row6_col9\" class=\"data row6 col9\" >0.167969</td>\n",
       "      <td id=\"T_610aa_row6_col10\" class=\"data row6 col10\" >0.542969</td>\n",
       "      <td id=\"T_610aa_row6_col11\" class=\"data row6 col11\" >0.875000</td>\n",
       "      <td id=\"T_610aa_row6_col12\" class=\"data row6 col12\" >0.882812</td>\n",
       "      <td id=\"T_610aa_row6_col13\" class=\"data row6 col13\" >0.984375</td>\n",
       "      <td id=\"T_610aa_row6_col14\" class=\"data row6 col14\" >0.988281</td>\n",
       "      <td id=\"T_610aa_row6_col15\" class=\"data row6 col15\" >0.984375</td>\n",
       "      <td id=\"T_610aa_row6_col16\" class=\"data row6 col16\" >0.984375</td>\n",
       "      <td id=\"T_610aa_row6_col17\" class=\"data row6 col17\" >0.984375</td>\n",
       "      <td id=\"T_610aa_row6_col18\" class=\"data row6 col18\" >0.984375</td>\n",
       "      <td id=\"T_610aa_row6_col19\" class=\"data row6 col19\" >0.984375</td>\n",
       "      <td id=\"T_610aa_row6_col20\" class=\"data row6 col20\" >0.984375</td>\n",
       "      <td id=\"T_610aa_row6_col21\" class=\"data row6 col21\" >0.617188</td>\n",
       "      <td id=\"T_610aa_row6_col22\" class=\"data row6 col22\" >0.054688</td>\n",
       "      <td id=\"T_610aa_row6_col23\" class=\"data row6 col23\" >0.000000</td>\n",
       "      <td id=\"T_610aa_row6_col24\" class=\"data row6 col24\" >0.000000</td>\n",
       "      <td id=\"T_610aa_row6_col25\" class=\"data row6 col25\" >0.000000</td>\n",
       "      <td id=\"T_610aa_row6_col26\" class=\"data row6 col26\" >0.000000</td>\n",
       "    </tr>\n",
       "    <tr>\n",
       "      <th id=\"T_610aa_level0_row7\" class=\"row_heading level0 row7\" >7</th>\n",
       "      <td id=\"T_610aa_row7_col0\" class=\"data row7 col0\" >0.000000</td>\n",
       "      <td id=\"T_610aa_row7_col1\" class=\"data row7 col1\" >0.000000</td>\n",
       "      <td id=\"T_610aa_row7_col2\" class=\"data row7 col2\" >0.000000</td>\n",
       "      <td id=\"T_610aa_row7_col3\" class=\"data row7 col3\" >0.000000</td>\n",
       "      <td id=\"T_610aa_row7_col4\" class=\"data row7 col4\" >0.000000</td>\n",
       "      <td id=\"T_610aa_row7_col5\" class=\"data row7 col5\" >0.000000</td>\n",
       "      <td id=\"T_610aa_row7_col6\" class=\"data row7 col6\" >0.000000</td>\n",
       "      <td id=\"T_610aa_row7_col7\" class=\"data row7 col7\" >0.000000</td>\n",
       "      <td id=\"T_610aa_row7_col8\" class=\"data row7 col8\" >0.000000</td>\n",
       "      <td id=\"T_610aa_row7_col9\" class=\"data row7 col9\" >0.695312</td>\n",
       "      <td id=\"T_610aa_row7_col10\" class=\"data row7 col10\" >0.984375</td>\n",
       "      <td id=\"T_610aa_row7_col11\" class=\"data row7 col11\" >0.984375</td>\n",
       "      <td id=\"T_610aa_row7_col12\" class=\"data row7 col12\" >0.984375</td>\n",
       "      <td id=\"T_610aa_row7_col13\" class=\"data row7 col13\" >0.984375</td>\n",
       "      <td id=\"T_610aa_row7_col14\" class=\"data row7 col14\" >0.988281</td>\n",
       "      <td id=\"T_610aa_row7_col15\" class=\"data row7 col15\" >0.984375</td>\n",
       "      <td id=\"T_610aa_row7_col16\" class=\"data row7 col16\" >0.984375</td>\n",
       "      <td id=\"T_610aa_row7_col17\" class=\"data row7 col17\" >0.984375</td>\n",
       "      <td id=\"T_610aa_row7_col18\" class=\"data row7 col18\" >0.984375</td>\n",
       "      <td id=\"T_610aa_row7_col19\" class=\"data row7 col19\" >0.984375</td>\n",
       "      <td id=\"T_610aa_row7_col20\" class=\"data row7 col20\" >0.984375</td>\n",
       "      <td id=\"T_610aa_row7_col21\" class=\"data row7 col21\" >0.984375</td>\n",
       "      <td id=\"T_610aa_row7_col22\" class=\"data row7 col22\" >0.230469</td>\n",
       "      <td id=\"T_610aa_row7_col23\" class=\"data row7 col23\" >0.000000</td>\n",
       "      <td id=\"T_610aa_row7_col24\" class=\"data row7 col24\" >0.000000</td>\n",
       "      <td id=\"T_610aa_row7_col25\" class=\"data row7 col25\" >0.000000</td>\n",
       "      <td id=\"T_610aa_row7_col26\" class=\"data row7 col26\" >0.000000</td>\n",
       "    </tr>\n",
       "    <tr>\n",
       "      <th id=\"T_610aa_level0_row8\" class=\"row_heading level0 row8\" >8</th>\n",
       "      <td id=\"T_610aa_row8_col0\" class=\"data row8 col0\" >0.000000</td>\n",
       "      <td id=\"T_610aa_row8_col1\" class=\"data row8 col1\" >0.000000</td>\n",
       "      <td id=\"T_610aa_row8_col2\" class=\"data row8 col2\" >0.000000</td>\n",
       "      <td id=\"T_610aa_row8_col3\" class=\"data row8 col3\" >0.000000</td>\n",
       "      <td id=\"T_610aa_row8_col4\" class=\"data row8 col4\" >0.000000</td>\n",
       "      <td id=\"T_610aa_row8_col5\" class=\"data row8 col5\" >0.000000</td>\n",
       "      <td id=\"T_610aa_row8_col6\" class=\"data row8 col6\" >0.000000</td>\n",
       "      <td id=\"T_610aa_row8_col7\" class=\"data row8 col7\" >0.000000</td>\n",
       "      <td id=\"T_610aa_row8_col8\" class=\"data row8 col8\" >0.000000</td>\n",
       "      <td id=\"T_610aa_row8_col9\" class=\"data row8 col9\" >0.425781</td>\n",
       "      <td id=\"T_610aa_row8_col10\" class=\"data row8 col10\" >0.984375</td>\n",
       "      <td id=\"T_610aa_row8_col11\" class=\"data row8 col11\" >0.984375</td>\n",
       "      <td id=\"T_610aa_row8_col12\" class=\"data row8 col12\" >0.898438</td>\n",
       "      <td id=\"T_610aa_row8_col13\" class=\"data row8 col13\" >0.515625</td>\n",
       "      <td id=\"T_610aa_row8_col14\" class=\"data row8 col14\" >0.519531</td>\n",
       "      <td id=\"T_610aa_row8_col15\" class=\"data row8 col15\" >0.515625</td>\n",
       "      <td id=\"T_610aa_row8_col16\" class=\"data row8 col16\" >0.515625</td>\n",
       "      <td id=\"T_610aa_row8_col17\" class=\"data row8 col17\" >0.738281</td>\n",
       "      <td id=\"T_610aa_row8_col18\" class=\"data row8 col18\" >0.984375</td>\n",
       "      <td id=\"T_610aa_row8_col19\" class=\"data row8 col19\" >0.984375</td>\n",
       "      <td id=\"T_610aa_row8_col20\" class=\"data row8 col20\" >0.984375</td>\n",
       "      <td id=\"T_610aa_row8_col21\" class=\"data row8 col21\" >0.984375</td>\n",
       "      <td id=\"T_610aa_row8_col22\" class=\"data row8 col22\" >0.230469</td>\n",
       "      <td id=\"T_610aa_row8_col23\" class=\"data row8 col23\" >0.000000</td>\n",
       "      <td id=\"T_610aa_row8_col24\" class=\"data row8 col24\" >0.000000</td>\n",
       "      <td id=\"T_610aa_row8_col25\" class=\"data row8 col25\" >0.000000</td>\n",
       "      <td id=\"T_610aa_row8_col26\" class=\"data row8 col26\" >0.000000</td>\n",
       "    </tr>\n",
       "    <tr>\n",
       "      <th id=\"T_610aa_level0_row9\" class=\"row_heading level0 row9\" >9</th>\n",
       "      <td id=\"T_610aa_row9_col0\" class=\"data row9 col0\" >0.000000</td>\n",
       "      <td id=\"T_610aa_row9_col1\" class=\"data row9 col1\" >0.000000</td>\n",
       "      <td id=\"T_610aa_row9_col2\" class=\"data row9 col2\" >0.000000</td>\n",
       "      <td id=\"T_610aa_row9_col3\" class=\"data row9 col3\" >0.000000</td>\n",
       "      <td id=\"T_610aa_row9_col4\" class=\"data row9 col4\" >0.000000</td>\n",
       "      <td id=\"T_610aa_row9_col5\" class=\"data row9 col5\" >0.000000</td>\n",
       "      <td id=\"T_610aa_row9_col6\" class=\"data row9 col6\" >0.000000</td>\n",
       "      <td id=\"T_610aa_row9_col7\" class=\"data row9 col7\" >0.000000</td>\n",
       "      <td id=\"T_610aa_row9_col8\" class=\"data row9 col8\" >0.000000</td>\n",
       "      <td id=\"T_610aa_row9_col9\" class=\"data row9 col9\" >0.015625</td>\n",
       "      <td id=\"T_610aa_row9_col10\" class=\"data row9 col10\" >0.113281</td>\n",
       "      <td id=\"T_610aa_row9_col11\" class=\"data row9 col11\" >0.113281</td>\n",
       "      <td id=\"T_610aa_row9_col12\" class=\"data row9 col12\" >0.093750</td>\n",
       "      <td id=\"T_610aa_row9_col13\" class=\"data row9 col13\" >0.000000</td>\n",
       "      <td id=\"T_610aa_row9_col14\" class=\"data row9 col14\" >0.000000</td>\n",
       "      <td id=\"T_610aa_row9_col15\" class=\"data row9 col15\" >0.000000</td>\n",
       "      <td id=\"T_610aa_row9_col16\" class=\"data row9 col16\" >0.000000</td>\n",
       "      <td id=\"T_610aa_row9_col17\" class=\"data row9 col17\" >0.054688</td>\n",
       "      <td id=\"T_610aa_row9_col18\" class=\"data row9 col18\" >0.882812</td>\n",
       "      <td id=\"T_610aa_row9_col19\" class=\"data row9 col19\" >0.984375</td>\n",
       "      <td id=\"T_610aa_row9_col20\" class=\"data row9 col20\" >0.984375</td>\n",
       "      <td id=\"T_610aa_row9_col21\" class=\"data row9 col21\" >0.671875</td>\n",
       "      <td id=\"T_610aa_row9_col22\" class=\"data row9 col22\" >0.027344</td>\n",
       "      <td id=\"T_610aa_row9_col23\" class=\"data row9 col23\" >0.000000</td>\n",
       "      <td id=\"T_610aa_row9_col24\" class=\"data row9 col24\" >0.000000</td>\n",
       "      <td id=\"T_610aa_row9_col25\" class=\"data row9 col25\" >0.000000</td>\n",
       "      <td id=\"T_610aa_row9_col26\" class=\"data row9 col26\" >0.000000</td>\n",
       "    </tr>\n",
       "    <tr>\n",
       "      <th id=\"T_610aa_level0_row10\" class=\"row_heading level0 row10\" >10</th>\n",
       "      <td id=\"T_610aa_row10_col0\" class=\"data row10 col0\" >0.000000</td>\n",
       "      <td id=\"T_610aa_row10_col1\" class=\"data row10 col1\" >0.000000</td>\n",
       "      <td id=\"T_610aa_row10_col2\" class=\"data row10 col2\" >0.000000</td>\n",
       "      <td id=\"T_610aa_row10_col3\" class=\"data row10 col3\" >0.000000</td>\n",
       "      <td id=\"T_610aa_row10_col4\" class=\"data row10 col4\" >0.000000</td>\n",
       "      <td id=\"T_610aa_row10_col5\" class=\"data row10 col5\" >0.000000</td>\n",
       "      <td id=\"T_610aa_row10_col6\" class=\"data row10 col6\" >0.000000</td>\n",
       "      <td id=\"T_610aa_row10_col7\" class=\"data row10 col7\" >0.000000</td>\n",
       "      <td id=\"T_610aa_row10_col8\" class=\"data row10 col8\" >0.000000</td>\n",
       "      <td id=\"T_610aa_row10_col9\" class=\"data row10 col9\" >0.000000</td>\n",
       "      <td id=\"T_610aa_row10_col10\" class=\"data row10 col10\" >0.000000</td>\n",
       "      <td id=\"T_610aa_row10_col11\" class=\"data row10 col11\" >0.000000</td>\n",
       "      <td id=\"T_610aa_row10_col12\" class=\"data row10 col12\" >0.000000</td>\n",
       "      <td id=\"T_610aa_row10_col13\" class=\"data row10 col13\" >0.000000</td>\n",
       "      <td id=\"T_610aa_row10_col14\" class=\"data row10 col14\" >0.000000</td>\n",
       "      <td id=\"T_610aa_row10_col15\" class=\"data row10 col15\" >0.000000</td>\n",
       "      <td id=\"T_610aa_row10_col16\" class=\"data row10 col16\" >0.000000</td>\n",
       "      <td id=\"T_610aa_row10_col17\" class=\"data row10 col17\" >0.332031</td>\n",
       "      <td id=\"T_610aa_row10_col18\" class=\"data row10 col18\" >0.949219</td>\n",
       "      <td id=\"T_610aa_row10_col19\" class=\"data row10 col19\" >0.984375</td>\n",
       "      <td id=\"T_610aa_row10_col20\" class=\"data row10 col20\" >0.984375</td>\n",
       "      <td id=\"T_610aa_row10_col21\" class=\"data row10 col21\" >0.562500</td>\n",
       "      <td id=\"T_610aa_row10_col22\" class=\"data row10 col22\" >0.000000</td>\n",
       "      <td id=\"T_610aa_row10_col23\" class=\"data row10 col23\" >0.000000</td>\n",
       "      <td id=\"T_610aa_row10_col24\" class=\"data row10 col24\" >0.000000</td>\n",
       "      <td id=\"T_610aa_row10_col25\" class=\"data row10 col25\" >0.000000</td>\n",
       "      <td id=\"T_610aa_row10_col26\" class=\"data row10 col26\" >0.000000</td>\n",
       "    </tr>\n",
       "    <tr>\n",
       "      <th id=\"T_610aa_level0_row11\" class=\"row_heading level0 row11\" >11</th>\n",
       "      <td id=\"T_610aa_row11_col0\" class=\"data row11 col0\" >0.000000</td>\n",
       "      <td id=\"T_610aa_row11_col1\" class=\"data row11 col1\" >0.000000</td>\n",
       "      <td id=\"T_610aa_row11_col2\" class=\"data row11 col2\" >0.000000</td>\n",
       "      <td id=\"T_610aa_row11_col3\" class=\"data row11 col3\" >0.000000</td>\n",
       "      <td id=\"T_610aa_row11_col4\" class=\"data row11 col4\" >0.000000</td>\n",
       "      <td id=\"T_610aa_row11_col5\" class=\"data row11 col5\" >0.000000</td>\n",
       "      <td id=\"T_610aa_row11_col6\" class=\"data row11 col6\" >0.000000</td>\n",
       "      <td id=\"T_610aa_row11_col7\" class=\"data row11 col7\" >0.000000</td>\n",
       "      <td id=\"T_610aa_row11_col8\" class=\"data row11 col8\" >0.000000</td>\n",
       "      <td id=\"T_610aa_row11_col9\" class=\"data row11 col9\" >0.000000</td>\n",
       "      <td id=\"T_610aa_row11_col10\" class=\"data row11 col10\" >0.000000</td>\n",
       "      <td id=\"T_610aa_row11_col11\" class=\"data row11 col11\" >0.000000</td>\n",
       "      <td id=\"T_610aa_row11_col12\" class=\"data row11 col12\" >0.000000</td>\n",
       "      <td id=\"T_610aa_row11_col13\" class=\"data row11 col13\" >0.000000</td>\n",
       "      <td id=\"T_610aa_row11_col14\" class=\"data row11 col14\" >0.000000</td>\n",
       "      <td id=\"T_610aa_row11_col15\" class=\"data row11 col15\" >0.000000</td>\n",
       "      <td id=\"T_610aa_row11_col16\" class=\"data row11 col16\" >0.343750</td>\n",
       "      <td id=\"T_610aa_row11_col17\" class=\"data row11 col17\" >0.738281</td>\n",
       "      <td id=\"T_610aa_row11_col18\" class=\"data row11 col18\" >0.984375</td>\n",
       "      <td id=\"T_610aa_row11_col19\" class=\"data row11 col19\" >0.984375</td>\n",
       "      <td id=\"T_610aa_row11_col20\" class=\"data row11 col20\" >0.984375</td>\n",
       "      <td id=\"T_610aa_row11_col21\" class=\"data row11 col21\" >0.054688</td>\n",
       "      <td id=\"T_610aa_row11_col22\" class=\"data row11 col22\" >0.000000</td>\n",
       "      <td id=\"T_610aa_row11_col23\" class=\"data row11 col23\" >0.000000</td>\n",
       "      <td id=\"T_610aa_row11_col24\" class=\"data row11 col24\" >0.000000</td>\n",
       "      <td id=\"T_610aa_row11_col25\" class=\"data row11 col25\" >0.000000</td>\n",
       "      <td id=\"T_610aa_row11_col26\" class=\"data row11 col26\" >0.000000</td>\n",
       "    </tr>\n",
       "    <tr>\n",
       "      <th id=\"T_610aa_level0_row12\" class=\"row_heading level0 row12\" >12</th>\n",
       "      <td id=\"T_610aa_row12_col0\" class=\"data row12 col0\" >0.000000</td>\n",
       "      <td id=\"T_610aa_row12_col1\" class=\"data row12 col1\" >0.000000</td>\n",
       "      <td id=\"T_610aa_row12_col2\" class=\"data row12 col2\" >0.000000</td>\n",
       "      <td id=\"T_610aa_row12_col3\" class=\"data row12 col3\" >0.000000</td>\n",
       "      <td id=\"T_610aa_row12_col4\" class=\"data row12 col4\" >0.000000</td>\n",
       "      <td id=\"T_610aa_row12_col5\" class=\"data row12 col5\" >0.000000</td>\n",
       "      <td id=\"T_610aa_row12_col6\" class=\"data row12 col6\" >0.000000</td>\n",
       "      <td id=\"T_610aa_row12_col7\" class=\"data row12 col7\" >0.000000</td>\n",
       "      <td id=\"T_610aa_row12_col8\" class=\"data row12 col8\" >0.000000</td>\n",
       "      <td id=\"T_610aa_row12_col9\" class=\"data row12 col9\" >0.000000</td>\n",
       "      <td id=\"T_610aa_row12_col10\" class=\"data row12 col10\" >0.000000</td>\n",
       "      <td id=\"T_610aa_row12_col11\" class=\"data row12 col11\" >0.000000</td>\n",
       "      <td id=\"T_610aa_row12_col12\" class=\"data row12 col12\" >0.000000</td>\n",
       "      <td id=\"T_610aa_row12_col13\" class=\"data row12 col13\" >0.000000</td>\n",
       "      <td id=\"T_610aa_row12_col14\" class=\"data row12 col14\" >0.355469</td>\n",
       "      <td id=\"T_610aa_row12_col15\" class=\"data row12 col15\" >0.828125</td>\n",
       "      <td id=\"T_610aa_row12_col16\" class=\"data row12 col16\" >0.964844</td>\n",
       "      <td id=\"T_610aa_row12_col17\" class=\"data row12 col17\" >0.984375</td>\n",
       "      <td id=\"T_610aa_row12_col18\" class=\"data row12 col18\" >0.984375</td>\n",
       "      <td id=\"T_610aa_row12_col19\" class=\"data row12 col19\" >0.984375</td>\n",
       "      <td id=\"T_610aa_row12_col20\" class=\"data row12 col20\" >0.796875</td>\n",
       "      <td id=\"T_610aa_row12_col21\" class=\"data row12 col21\" >0.035156</td>\n",
       "      <td id=\"T_610aa_row12_col22\" class=\"data row12 col22\" >0.000000</td>\n",
       "      <td id=\"T_610aa_row12_col23\" class=\"data row12 col23\" >0.000000</td>\n",
       "      <td id=\"T_610aa_row12_col24\" class=\"data row12 col24\" >0.000000</td>\n",
       "      <td id=\"T_610aa_row12_col25\" class=\"data row12 col25\" >0.000000</td>\n",
       "      <td id=\"T_610aa_row12_col26\" class=\"data row12 col26\" >0.000000</td>\n",
       "    </tr>\n",
       "  </tbody>\n",
       "</table>\n"
      ],
      "text/plain": [
       "<pandas.io.formats.style.Styler at 0x179b05a10>"
      ]
     },
     "execution_count": 39,
     "metadata": {},
     "output_type": "execute_result"
    }
   ],
   "source": [
    "df = pd.DataFrame(im3[:13, :27])\n",
    "df.style.background_gradient(cmap='PuBu').set_properties(**{'font-size': '7pt'})"
   ]
  },
  {
   "cell_type": "code",
   "execution_count": 71,
   "id": "20331583",
   "metadata": {},
   "outputs": [
    {
     "data": {
      "text/plain": [
       "tensor(2.9727)"
      ]
     },
     "execution_count": 71,
     "metadata": {},
     "output_type": "execute_result"
    }
   ],
   "source": [
    "t1 = (top_edges * im3[3:6, 14:17]).sum()\n",
    "t1"
   ]
  },
  {
   "cell_type": "code",
   "execution_count": 72,
   "id": "0d3efe01",
   "metadata": {},
   "outputs": [],
   "source": [
    "def apply_kernel(row, col, kernel):\n",
    "    return (im3[row-1:row+2, col-1:col+2]*kernel).sum()"
   ]
  },
  {
   "cell_type": "code",
   "execution_count": 73,
   "id": "400636aa",
   "metadata": {},
   "outputs": [
    {
     "data": {
      "text/plain": [
       "tensor(2.9727)"
      ]
     },
     "execution_count": 73,
     "metadata": {},
     "output_type": "execute_result"
    }
   ],
   "source": [
    "t2 = apply_kernel(4, 15, top_edges)\n",
    "t2"
   ]
  },
  {
   "cell_type": "code",
   "execution_count": 74,
   "id": "8c9a0fb9",
   "metadata": {},
   "outputs": [
    {
     "data": {
      "text/plain": [
       "[[(1, 1), (1, 2), (1, 3), (1, 4)],\n",
       " [(2, 1), (2, 2), (2, 3), (2, 4)],\n",
       " [(3, 1), (3, 2), (3, 3), (3, 4)],\n",
       " [(4, 1), (4, 2), (4, 3), (4, 4)]]"
      ]
     },
     "execution_count": 74,
     "metadata": {},
     "output_type": "execute_result"
    }
   ],
   "source": [
    "rng = range(1, 5)\n",
    "[[(i, j) for j in rng] for i in rng]"
   ]
  },
  {
   "cell_type": "code",
   "execution_count": 75,
   "id": "a719ee5e",
   "metadata": {},
   "outputs": [],
   "source": [
    "rng = range(1, 27)"
   ]
  },
  {
   "cell_type": "code",
   "execution_count": 76,
   "id": "7636b612",
   "metadata": {},
   "outputs": [
    {
     "data": {
      "text/plain": [
       "<matplotlib.image.AxesImage at 0x179c84590>"
      ]
     },
     "execution_count": 76,
     "metadata": {},
     "output_type": "execute_result"
    },
    {
     "data": {
      "image/png": "[encoded data removed]",
      "text/plain": [
       "<Figure size 432x288 with 1 Axes>"
      ]
     },
     "metadata": {
      "needs_background": "light"
     },
     "output_type": "display_data"
    }
   ],
   "source": [
    "top_edge3 = [[apply_kernel(i, j, top_edges) for j in rng] for i in rng]\n",
    "plt.imshow(top_edge3)"
   ]
  },
  {
   "cell_type": "code",
   "execution_count": 77,
   "id": "f3d9d839",
   "metadata": {},
   "outputs": [
    {
     "data": {
      "text/plain": [
       "<matplotlib.image.AxesImage at 0x179e0b510>"
      ]
     },
     "execution_count": 77,
     "metadata": {},
     "output_type": "execute_result"
    },
    {
     "data": {
      "image/png": "[encoded data removed]",
      "text/plain": [
       "<Figure size 432x288 with 1 Axes>"
      ]
     },
     "metadata": {
      "needs_background": "light"
     },
     "output_type": "display_data"
    }
   ],
   "source": [
    "left_edges = torch.tensor([\n",
    "    [-1, 0, 1],\n",
    "    [-1, 0, 1],\n",
    "    [-1, 0, 1]\n",
    "]).float()\n",
    "left_edge3 = [[apply_kernel(i, j, left_edges) for j in rng] for i in rng]\n",
    "plt.imshow(left_edge3)"
   ]
  },
  {
   "cell_type": "code",
   "execution_count": 119,
   "id": "31bba7ee",
   "metadata": {},
   "outputs": [],
   "source": [
    "inp = im3[None,None,:,:].float()\n",
    "inp_unf = F.unfold(inp, (3,3))[0]"
   ]
  },
  {
   "cell_type": "code",
   "execution_count": 120,
   "id": "00becafc",
   "metadata": {},
   "outputs": [
    {
     "data": {
      "text/plain": [
       "torch.Size([1, 1, 28, 28])"
      ]
     },
     "execution_count": 120,
     "metadata": {},
     "output_type": "execute_result"
    }
   ],
   "source": [
    "inp.shape"
   ]
  },
  {
   "cell_type": "code",
   "execution_count": 121,
   "id": "22de6f2b",
   "metadata": {},
   "outputs": [
    {
     "data": {
      "text/plain": [
       "torch.Size([9, 676])"
      ]
     },
     "execution_count": 121,
     "metadata": {},
     "output_type": "execute_result"
    }
   ],
   "source": [
    "inp_unf.shape"
   ]
  },
  {
   "cell_type": "code",
   "execution_count": 122,
   "id": "90d0e7d6",
   "metadata": {},
   "outputs": [
    {
     "data": {
      "text/plain": [
       "torch.Size([9])"
      ]
     },
     "execution_count": 122,
     "metadata": {},
     "output_type": "execute_result"
    }
   ],
   "source": [
    "w = left_edges.view(-1)\n",
    "w.shape"
   ]
  },
  {
   "cell_type": "code",
   "execution_count": 123,
   "id": "614c5407",
   "metadata": {},
   "outputs": [],
   "source": [
    "out_unf = w@inp_unf"
   ]
  },
  {
   "cell_type": "code",
   "execution_count": 124,
   "id": "5f7bfa96",
   "metadata": {},
   "outputs": [
    {
     "data": {
      "text/plain": [
       "torch.Size([676])"
      ]
     },
     "execution_count": 124,
     "metadata": {},
     "output_type": "execute_result"
    }
   ],
   "source": [
    "out_unf.shape"
   ]
  },
  {
   "cell_type": "code",
   "execution_count": 125,
   "id": "03f63c71",
   "metadata": {},
   "outputs": [
    {
     "data": {
      "text/plain": [
       "<matplotlib.image.AxesImage at 0x17ada8890>"
      ]
     },
     "execution_count": 125,
     "metadata": {},
     "output_type": "execute_result"
    },
    {
     "data": {
      "image/png": "[encoded data removed]",
      "text/plain": [
       "<Figure size 432x288 with 1 Axes>"
      ]
     },
     "metadata": {
      "needs_background": "light"
     },
     "output_type": "display_data"
    }
   ],
   "source": [
    "plt.imshow(out_unf.view(26, 26))"
   ]
  },
  {
   "cell_type": "code",
   "execution_count": 127,
   "id": "dc749d1b",
   "metadata": {},
   "outputs": [
    {
     "name": "stdout",
     "output_type": "stream",
     "text": [
      "13.3 ms ± 6.68 ms per loop (mean ± std. dev. of 7 runs, 1 loop each)\n"
     ]
    }
   ],
   "source": [
    "%timeit -n 1 [[apply_kernel(i, j, left_edges) for j in rng] for i in rng]"
   ]
  },
  {
   "cell_type": "code",
   "execution_count": 129,
   "id": "192aba55",
   "metadata": {},
   "outputs": [
    {
     "name": "stdout",
     "output_type": "stream",
     "text": [
      "88.5 µs ± 27.6 µs per loop (mean ± std. dev. of 7 runs, 100 loops each)\n"
     ]
    }
   ],
   "source": [
    "%timeit -n 100 (w@F.unfold(inp, (3,3)))"
   ]
  },
  {
   "cell_type": "code",
   "execution_count": 131,
   "id": "18c4e240",
   "metadata": {},
   "outputs": [
    {
     "name": "stdout",
     "output_type": "stream",
     "text": [
      "The slowest run took 7.82 times longer than the fastest. This could mean that an intermediate result is being cached.\n",
      "87.1 µs ± 99.5 µs per loop (mean ± std. dev. of 7 runs, 100 loops each)\n"
     ]
    },
    {
     "name": "stderr",
     "output_type": "stream",
     "text": [
      "[W NNPACK.cpp:64] Could not initialize NNPACK! Reason: Unsupported hardware.\n"
     ]
    }
   ],
   "source": [
    "%timeit -n 100 F.conv2d(inp, top_edges[None,None])"
   ]
  },
  {
   "cell_type": "code",
   "execution_count": 132,
   "id": "1331645f",
   "metadata": {},
   "outputs": [],
   "source": [
    "def conv(ni, nf, ks=3, stride=2, act=True):\n",
    "    res = nn.Conv2d(ni, nf, kernel_size=ks, stride=stride, padding=ks//2)\n",
    "    if act:\n",
    "        res = nn.Sequential(res, nn.ReLU())\n",
    "    return res"
   ]
  },
  {
   "cell_type": "code",
   "execution_count": 134,
   "id": "cb366129",
   "metadata": {},
   "outputs": [],
   "source": [
    "def get_simple_cnn():\n",
    "    return nn.Sequential(\n",
    "        *[\n",
    "            conv(1, 4),\n",
    "            conv(4, 8),\n",
    "            conv(8, 16),\n",
    "            conv(16, 32),\n",
    "            conv(16, 16),\n",
    "            conv(16, 10, act=False),\n",
    "            nn.Flatten()\n",
    "        ]\n",
    "    )"
   ]
  },
  {
   "cell_type": "code",
   "execution_count": 135,
   "id": "438b3a47",
   "metadata": {},
   "outputs": [],
   "source": [
    "simple_cnn = get_simple_cnn()"
   ]
  },
  {
   "cell_type": "code",
   "execution_count": 138,
   "id": "acf8fc9f",
   "metadata": {},
   "outputs": [
    {
     "data": {
      "text/plain": [
       "Conv2d(1, 4, kernel_size=(3, 3), stride=(2, 2), padding=(1, 1))"
      ]
     },
     "execution_count": 138,
     "metadata": {},
     "output_type": "execute_result"
    }
   ],
   "source": [
    "simple_cnn[0][0]"
   ]
  },
  {
   "cell_type": "code",
   "execution_count": 140,
   "id": "3cb368be",
   "metadata": {},
   "outputs": [
    {
     "data": {
      "text/plain": [
       "torch.Size([4, 1, 3, 3])"
      ]
     },
     "execution_count": 140,
     "metadata": {},
     "output_type": "execute_result"
    }
   ],
   "source": [
    "simple_cnn[0][0].weight.shape"
   ]
  },
  {
   "cell_type": "code",
   "execution_count": 142,
   "id": "cfbea074",
   "metadata": {},
   "outputs": [
    {
     "data": {
      "text/plain": [
       "torch.Size([4])"
      ]
     },
     "execution_count": 142,
     "metadata": {},
     "output_type": "execute_result"
    }
   ],
   "source": [
    "simple_cnn[0][0].bias.shape"
   ]
  },
  {
   "cell_type": "code",
   "execution_count": 160,
   "id": "78c1d339",
   "metadata": {},
   "outputs": [
    {
     "data": {
      "text/plain": [
       "1"
      ]
     },
     "execution_count": 160,
     "metadata": {},
     "output_type": "execute_result"
    }
   ],
   "source": [
    "round(1.2)"
   ]
  },
  {
   "cell_type": "code",
   "execution_count": null,
   "id": "688ad2ee",
   "metadata": {},
   "outputs": [],
   "source": []
  },
  {
   "cell_type": "code",
   "execution_count": null,
   "id": "589597fe",
   "metadata": {},
   "outputs": [],
   "source": []
  },
  {
   "cell_type": "code",
   "execution_count": null,
   "id": "d7c6ecba",
   "metadata": {},
   "outputs": [],
   "source": []
  },
  {
   "cell_type": "code",
   "execution_count": null,
   "id": "229afe4a",
   "metadata": {},
   "outputs": [],
   "source": []
  },
  {
   "cell_type": "code",
   "execution_count": null,
   "id": "ad824392",
   "metadata": {},
   "outputs": [],
   "source": []
  }
 ],
 "metadata": {
  "kernelspec": {
   "display_name": "python_main",
   "language": "python",
   "name": "python_main"
  },
  "language_info": {
   "codemirror_mode": {
    "name": "ipython",
    "version": 3
   },
   "file_extension": ".py",
   "mimetype": "text/x-python",
   "name": "python",
   "nbconvert_exporter": "python",
   "pygments_lexer": "ipython3",
   "version": "3.11.0"
  }
 },
 "nbformat": 4,
 "nbformat_minor": 5
}
