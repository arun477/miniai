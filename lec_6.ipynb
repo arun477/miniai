{
 "cells": [
  {
   "cell_type": "code",
   "execution_count": 1,
   "id": "e8dfcfb4",
   "metadata": {},
   "outputs": [],
   "source": [
    "import torch\n",
    "import matplotlib.pyplot as plt\n",
    "import random"
   ]
  },
  {
   "cell_type": "markdown",
   "id": "64a235ce",
   "metadata": {},
   "source": [
    "#### callbacks"
   ]
  },
  {
   "cell_type": "markdown",
   "id": "611557a0",
   "metadata": {},
   "source": [
    "#### callbacks as GUI events"
   ]
  },
  {
   "cell_type": "code",
   "execution_count": 2,
   "id": "b3532000",
   "metadata": {},
   "outputs": [],
   "source": [
    "import ipywidgets as widgets"
   ]
  },
  {
   "cell_type": "code",
   "execution_count": 7,
   "id": "b437e7d4",
   "metadata": {},
   "outputs": [],
   "source": [
    "w = widgets.Button(description='Click Me!')"
   ]
  },
  {
   "cell_type": "code",
   "execution_count": 8,
   "id": "cd6b1c1b",
   "metadata": {},
   "outputs": [
    {
     "data": {
      "application/vnd.jupyter.widget-view+json": {
       "model_id": "a558759957704eafa40a63aff1af4e81",
       "version_major": 2,
       "version_minor": 0
      },
      "text/plain": [
       "Button(description='Click Me!', style=ButtonStyle())"
      ]
     },
     "execution_count": 8,
     "metadata": {},
     "output_type": "execute_result"
    },
    {
     "name": "stdout",
     "output_type": "stream",
     "text": [
      "heloo...\n",
      "heloo...\n"
     ]
    }
   ],
   "source": [
    "w"
   ]
  },
  {
   "cell_type": "code",
   "execution_count": 9,
   "id": "dd92dfd9",
   "metadata": {},
   "outputs": [],
   "source": [
    "def f(o):\n",
    "    print('heloo...')"
   ]
  },
  {
   "cell_type": "code",
   "execution_count": 10,
   "id": "565e0963",
   "metadata": {},
   "outputs": [],
   "source": [
    "w.on_click(f)"
   ]
  },
  {
   "cell_type": "markdown",
   "id": "dbd4c45b",
   "metadata": {},
   "source": [
    "#### creating own callback"
   ]
  },
  {
   "cell_type": "code",
   "execution_count": 11,
   "id": "0f43a165",
   "metadata": {},
   "outputs": [],
   "source": [
    "from time import sleep"
   ]
  },
  {
   "cell_type": "code",
   "execution_count": 18,
   "id": "6369ce2f",
   "metadata": {},
   "outputs": [],
   "source": [
    "def slow_calc(cb=None):\n",
    "    res = 0\n",
    "    for i in range(5):\n",
    "        res += i*i\n",
    "        sleep(1)\n",
    "        if cb:\n",
    "            cb(i)\n",
    "    return res"
   ]
  },
  {
   "cell_type": "code",
   "execution_count": 19,
   "id": "158472a9",
   "metadata": {},
   "outputs": [
    {
     "data": {
      "text/plain": [
       "30"
      ]
     },
     "execution_count": 19,
     "metadata": {},
     "output_type": "execute_result"
    }
   ],
   "source": [
    "slow_calc()"
   ]
  },
  {
   "cell_type": "code",
   "execution_count": 25,
   "id": "e60c308f",
   "metadata": {},
   "outputs": [],
   "source": [
    "def show_progress(exl, epoch):\n",
    "    print(f'{exl} we have finished epoch {epoch} so far!')"
   ]
  },
  {
   "cell_type": "code",
   "execution_count": 22,
   "id": "f1ad8b3f",
   "metadata": {},
   "outputs": [
    {
     "name": "stdout",
     "output_type": "stream",
     "text": [
      "we have finished epoch 0 so far!\n",
      "we have finished epoch 1 so far!\n",
      "we have finished epoch 2 so far!\n",
      "we have finished epoch 3 so far!\n",
      "we have finished epoch 4 so far!\n"
     ]
    },
    {
     "data": {
      "text/plain": [
       "30"
      ]
     },
     "execution_count": 22,
     "metadata": {},
     "output_type": "execute_result"
    }
   ],
   "source": [
    "slow_calc(show_progress)"
   ]
  },
  {
   "cell_type": "markdown",
   "id": "097a48f8",
   "metadata": {},
   "source": [
    "#### lambdas and partials"
   ]
  },
  {
   "cell_type": "code",
   "execution_count": 26,
   "id": "070e61f8",
   "metadata": {},
   "outputs": [
    {
     "name": "stdout",
     "output_type": "stream",
     "text": [
      "super budyyy we have finished epoch 0 so far!\n",
      "super budyyy we have finished epoch 1 so far!\n",
      "super budyyy we have finished epoch 2 so far!\n",
      "super budyyy we have finished epoch 3 so far!\n",
      "super budyyy we have finished epoch 4 so far!\n"
     ]
    },
    {
     "data": {
      "text/plain": [
       "30"
      ]
     },
     "execution_count": 26,
     "metadata": {},
     "output_type": "execute_result"
    }
   ],
   "source": [
    "slow_calc(lambda x: show_progress('super budyyy',x))"
   ]
  },
  {
   "cell_type": "code",
   "execution_count": 27,
   "id": "1a8987f8",
   "metadata": {},
   "outputs": [],
   "source": [
    "def show_progress(exl):\n",
    "    def _inner(epoch):\n",
    "        print(f'{exl} we have finished epoch {epoch} so far!')\n",
    "    return _inner"
   ]
  },
  {
   "cell_type": "code",
   "execution_count": 28,
   "id": "df4e9f4f",
   "metadata": {},
   "outputs": [
    {
     "name": "stdout",
     "output_type": "stream",
     "text": [
      "awesome budyyy we have finished epoch 0 so far!\n",
      "awesome budyyy we have finished epoch 1 so far!\n",
      "awesome budyyy we have finished epoch 2 so far!\n",
      "awesome budyyy we have finished epoch 3 so far!\n",
      "awesome budyyy we have finished epoch 4 so far!\n"
     ]
    },
    {
     "data": {
      "text/plain": [
       "30"
      ]
     },
     "execution_count": 28,
     "metadata": {},
     "output_type": "execute_result"
    }
   ],
   "source": [
    "slow_calc(show_progress('awesome budyyy'))"
   ]
  },
  {
   "cell_type": "code",
   "execution_count": 29,
   "id": "b1501b0a",
   "metadata": {},
   "outputs": [],
   "source": [
    "def show_progress(exl, epoch):\n",
    "    print(f'{exl} we have finished epoch {epoch} so far!')"
   ]
  },
  {
   "cell_type": "code",
   "execution_count": 30,
   "id": "4f207d1a",
   "metadata": {},
   "outputs": [],
   "source": [
    "from functools import partial"
   ]
  },
  {
   "cell_type": "code",
   "execution_count": 31,
   "id": "7070e44d",
   "metadata": {},
   "outputs": [
    {
     "name": "stdout",
     "output_type": "stream",
     "text": [
      "cooool!!! we have finished epoch 0 so far!\n",
      "cooool!!! we have finished epoch 1 so far!\n",
      "cooool!!! we have finished epoch 2 so far!\n",
      "cooool!!! we have finished epoch 3 so far!\n",
      "cooool!!! we have finished epoch 4 so far!\n"
     ]
    },
    {
     "data": {
      "text/plain": [
       "30"
      ]
     },
     "execution_count": 31,
     "metadata": {},
     "output_type": "execute_result"
    }
   ],
   "source": [
    "slow_calc(partial(show_progress, 'cooool!!!'))"
   ]
  },
  {
   "cell_type": "markdown",
   "id": "f74e873f",
   "metadata": {},
   "source": [
    "#### callbacks as callable classes"
   ]
  },
  {
   "cell_type": "code",
   "execution_count": 34,
   "id": "7caff5c1",
   "metadata": {},
   "outputs": [],
   "source": [
    "class ShowProgressClass():\n",
    "    def __init__(self, exl):\n",
    "        self.exl = exl\n",
    "    \n",
    "    def __call__(self, epoch):\n",
    "        print(f'{self.exl} we have finished epoch {epoch} so far!')        "
   ]
  },
  {
   "cell_type": "code",
   "execution_count": 36,
   "id": "01dfee44",
   "metadata": {},
   "outputs": [],
   "source": [
    "cb = ShowProgressClass('oooohey')"
   ]
  },
  {
   "cell_type": "code",
   "execution_count": 37,
   "id": "43d4659c",
   "metadata": {},
   "outputs": [
    {
     "name": "stdout",
     "output_type": "stream",
     "text": [
      "oooohey we have finished epoch 0 so far!\n",
      "oooohey we have finished epoch 1 so far!\n",
      "oooohey we have finished epoch 2 so far!\n",
      "oooohey we have finished epoch 3 so far!\n",
      "oooohey we have finished epoch 4 so far!\n"
     ]
    },
    {
     "data": {
      "text/plain": [
       "30"
      ]
     },
     "execution_count": 37,
     "metadata": {},
     "output_type": "execute_result"
    }
   ],
   "source": [
    "slow_calc(cb)"
   ]
  },
  {
   "cell_type": "markdown",
   "id": "6ee7f74a",
   "metadata": {},
   "source": [
    "#### multiple callback functions; *args and **kwargs"
   ]
  },
  {
   "cell_type": "code",
   "execution_count": 40,
   "id": "53cb9f25",
   "metadata": {},
   "outputs": [],
   "source": [
    "def f(*a, **kwargs):\n",
    "    print(f'args {a}, kwargs {kwargs}')"
   ]
  },
  {
   "cell_type": "code",
   "execution_count": 44,
   "id": "c4d6d969",
   "metadata": {},
   "outputs": [
    {
     "name": "stdout",
     "output_type": "stream",
     "text": [
      "args ('olll', 'sfgsdg'), kwargs {'size': 10, 'weight': 50}\n"
     ]
    }
   ],
   "source": [
    "f('olll', 'sfgsdg', size=10, weight=50)"
   ]
  },
  {
   "cell_type": "code",
   "execution_count": 45,
   "id": "92d2565a",
   "metadata": {},
   "outputs": [],
   "source": [
    "def slow_calc(cb=None):\n",
    "    res = 0\n",
    "    for i in range(5):\n",
    "        if cb:\n",
    "            cb.befor_cal(i)\n",
    "        res += i*i\n",
    "        sleep(1)\n",
    "        if cb:\n",
    "            cb.after_cal(i, val=res)\n",
    "    return res"
   ]
  },
  {
   "cell_type": "code",
   "execution_count": 52,
   "id": "ae23b9bd",
   "metadata": {},
   "outputs": [],
   "source": [
    "class PrintStepCallback:\n",
    "    def __init__(self):\n",
    "        pass\n",
    "    \n",
    "    def befor_cal(self, *args, **kwargs):\n",
    "        print('before the calculation')\n",
    "    \n",
    "    def after_cal(self, *agrs, **kwargs):\n",
    "        print('after the calculation')"
   ]
  },
  {
   "cell_type": "code",
   "execution_count": 53,
   "id": "6e18f3bf",
   "metadata": {},
   "outputs": [],
   "source": [
    "cb = PrintStepCallback()"
   ]
  },
  {
   "cell_type": "code",
   "execution_count": 54,
   "id": "b4a77cac",
   "metadata": {},
   "outputs": [
    {
     "name": "stdout",
     "output_type": "stream",
     "text": [
      "before the calculation\n",
      "after the calculation\n",
      "before the calculation\n",
      "after the calculation\n",
      "before the calculation\n",
      "after the calculation\n",
      "before the calculation\n",
      "after the calculation\n",
      "before the calculation\n",
      "after the calculation\n"
     ]
    },
    {
     "data": {
      "text/plain": [
       "30"
      ]
     },
     "execution_count": 54,
     "metadata": {},
     "output_type": "execute_result"
    }
   ],
   "source": [
    "slow_calc(cb)"
   ]
  },
  {
   "cell_type": "markdown",
   "id": "cf030445",
   "metadata": {},
   "source": [
    "#### modifying behavior"
   ]
  },
  {
   "cell_type": "code",
   "execution_count": 58,
   "id": "a4926a0a",
   "metadata": {},
   "outputs": [],
   "source": [
    "def slow_calc(cb=None):\n",
    "    res = 0\n",
    "    for i in range(5):\n",
    "        if cb and hasattr(cb, 'before_cal'):\n",
    "            cb.befor_cal(i)\n",
    "        res += i*i\n",
    "        sleep(1)\n",
    "        if cb and hasattr(cb, 'after_cal'):\n",
    "            if cb.after_cal(i, val=res):\n",
    "                print('stopping early!')\n",
    "                break\n",
    "    return res"
   ]
  },
  {
   "cell_type": "code",
   "execution_count": 59,
   "id": "0903bef7",
   "metadata": {},
   "outputs": [],
   "source": [
    "class PrintAfterCallback:\n",
    "    def after_cal(self, epoch, val):\n",
    "        print(f'after epoch {epoch} val {val}')\n",
    "        if val > 10:\n",
    "            return True "
   ]
  },
  {
   "cell_type": "code",
   "execution_count": 60,
   "id": "fdd2703e",
   "metadata": {},
   "outputs": [
    {
     "name": "stdout",
     "output_type": "stream",
     "text": [
      "after epoch 0 val 0\n",
      "after epoch 1 val 1\n",
      "after epoch 2 val 5\n",
      "after epoch 3 val 14\n",
      "stopping early!\n"
     ]
    },
    {
     "data": {
      "text/plain": [
       "14"
      ]
     },
     "execution_count": 60,
     "metadata": {},
     "output_type": "execute_result"
    }
   ],
   "source": [
    "slow_calc(PrintAfterCallback())"
   ]
  },
  {
   "cell_type": "code",
   "execution_count": 63,
   "id": "3b7540bc",
   "metadata": {},
   "outputs": [],
   "source": [
    "class SlowCal:\n",
    "    def __init__(self, cb=None):\n",
    "        self.cb = cb\n",
    "        self.res = 0\n",
    "    \n",
    "    def callback(self, cb_name, *args):\n",
    "        if not self.cb:\n",
    "            return\n",
    "        cb = getattr(self.cb, cb_name, None)\n",
    "        if cb:\n",
    "            return cb(self, *args)\n",
    "    \n",
    "    def calc(self):\n",
    "        for i in range(5):\n",
    "            self.callback('before_cal', i)\n",
    "            self.res += i*i\n",
    "            sleep(1)\n",
    "            if self.callback('after_cal', i):\n",
    "                print('stopping early!')\n",
    "                break"
   ]
  },
  {
   "cell_type": "code",
   "execution_count": 72,
   "id": "77df2434",
   "metadata": {},
   "outputs": [],
   "source": [
    "class ModifyCal:\n",
    "    def after_cal(self, calc, epoch):\n",
    "        print(f'After {epoch} {calc.res}')\n",
    "        if calc.res > 10:\n",
    "            return True\n",
    "        if calc.res < 3:\n",
    "            calc.res = calc.res*2"
   ]
  },
  {
   "cell_type": "code",
   "execution_count": 73,
   "id": "aef47ac9",
   "metadata": {},
   "outputs": [],
   "source": [
    "calc = SlowCal(ModifyCal())"
   ]
  },
  {
   "cell_type": "code",
   "execution_count": 74,
   "id": "67dae650",
   "metadata": {},
   "outputs": [
    {
     "name": "stdout",
     "output_type": "stream",
     "text": [
      "After 0 0\n",
      "After 1 1\n",
      "After 2 6\n",
      "After 3 15\n",
      "stopping early!\n"
     ]
    }
   ],
   "source": [
    "calc.calc()"
   ]
  },
  {
   "cell_type": "markdown",
   "id": "a2cbd79f",
   "metadata": {},
   "source": [
    "### __dunder__ thingies"
   ]
  },
  {
   "cell_type": "code",
   "execution_count": 84,
   "id": "d3e42287",
   "metadata": {},
   "outputs": [],
   "source": [
    "class SloppyAdder:\n",
    "    def __init__(self, o):\n",
    "        self.o = o\n",
    "    \n",
    "    def __add__(self, b):\n",
    "        return SloppyAdder(self.o + b.o + 0.1)\n",
    "    \n",
    "    def __repr__(self):\n",
    "        return str(self.o)"
   ]
  },
  {
   "cell_type": "code",
   "execution_count": 85,
   "id": "dcf52411",
   "metadata": {},
   "outputs": [],
   "source": [
    "a = SloppyAdder(1)\n",
    "b = SloppyAdder(2)"
   ]
  },
  {
   "cell_type": "code",
   "execution_count": 86,
   "id": "c129353c",
   "metadata": {},
   "outputs": [
    {
     "data": {
      "text/plain": [
       "3.1"
      ]
     },
     "execution_count": 86,
     "metadata": {},
     "output_type": "execute_result"
    }
   ],
   "source": [
    "a + b"
   ]
  },
  {
   "cell_type": "code",
   "execution_count": 100,
   "id": "8f1b15b8",
   "metadata": {},
   "outputs": [],
   "source": [
    "class B:\n",
    "    a,b=1,2\n",
    "    \n",
    "    def __getattr__(self, k):\n",
    "#         print(k)\n",
    "        return 'heeee'\n",
    "        pass"
   ]
  },
  {
   "cell_type": "code",
   "execution_count": 101,
   "id": "bab237ee",
   "metadata": {},
   "outputs": [],
   "source": [
    "c = B()"
   ]
  },
  {
   "cell_type": "code",
   "execution_count": 102,
   "id": "b8ea8614",
   "metadata": {},
   "outputs": [
    {
     "data": {
      "text/plain": [
       "1"
      ]
     },
     "execution_count": 102,
     "metadata": {},
     "output_type": "execute_result"
    }
   ],
   "source": [
    "c.a"
   ]
  },
  {
   "cell_type": "code",
   "execution_count": 103,
   "id": "86891adc",
   "metadata": {},
   "outputs": [
    {
     "data": {
      "text/plain": [
       "2"
      ]
     },
     "execution_count": 103,
     "metadata": {},
     "output_type": "execute_result"
    }
   ],
   "source": [
    "c.b"
   ]
  },
  {
   "cell_type": "code",
   "execution_count": 104,
   "id": "4e85bab2",
   "metadata": {},
   "outputs": [
    {
     "data": {
      "text/plain": [
       "'heeee'"
      ]
     },
     "execution_count": 104,
     "metadata": {},
     "output_type": "execute_result"
    }
   ],
   "source": [
    "c.e"
   ]
  },
  {
   "cell_type": "code",
   "execution_count": null,
   "id": "80bb0e9d",
   "metadata": {},
   "outputs": [],
   "source": []
  }
 ],
 "metadata": {
  "kernelspec": {
   "display_name": "python_main",
   "language": "python",
   "name": "python_main"
  },
  "language_info": {
   "codemirror_mode": {
    "name": "ipython",
    "version": 3
   },
   "file_extension": ".py",
   "mimetype": "text/x-python",
   "name": "python",
   "nbconvert_exporter": "python",
   "pygments_lexer": "ipython3",
   "version": "3.11.0"
  }
 },
 "nbformat": 4,
 "nbformat_minor": 5
}
