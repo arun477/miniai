{
 "cells": [
  {
   "cell_type": "code",
   "execution_count": 11,
   "id": "96b15482",
   "metadata": {},
   "outputs": [],
   "source": [
    "import torch"
   ]
  },
  {
   "cell_type": "markdown",
   "id": "17a94b55",
   "metadata": {},
   "source": [
    "#### Glorot/Xavier init"
   ]
  },
  {
   "cell_type": "code",
   "execution_count": 137,
   "id": "35890063",
   "metadata": {},
   "outputs": [
    {
     "data": {
      "text/plain": [
       "tensor([[ -1.6343,  -9.7700, -21.7768,  11.3288,  18.2016],\n",
       "        [-11.8279,   8.9871,  -4.2368,  10.7221,   3.8209],\n",
       "        [ 10.1499,   9.0273,  -5.5877,   7.5599,   4.3356],\n",
       "        [  0.9312,  14.5441,   7.3266, -10.6763,   8.4439],\n",
       "        [  4.9628,   2.8174,  -3.2859, -20.9180, -15.2168]])"
      ]
     },
     "execution_count": 137,
     "metadata": {},
     "output_type": "execute_result"
    }
   ],
   "source": [
    "xr = torch.randn(200, 100)\n",
    "x = xr.clone()\n",
    "for i in range(1): \n",
    "    x = x @ torch.randn(100,100)\n",
    "x[0:5,0:5]"
   ]
  },
  {
   "cell_type": "code",
   "execution_count": 139,
   "id": "1315962c",
   "metadata": {},
   "outputs": [
    {
     "data": {
      "text/plain": [
       "(tensor(0.0753), tensor(9.9558))"
      ]
     },
     "execution_count": 139,
     "metadata": {},
     "output_type": "execute_result"
    }
   ],
   "source": [
    "x.mean(), x.std()"
   ]
  },
  {
   "cell_type": "code",
   "execution_count": 17,
   "id": "00a3840c",
   "metadata": {},
   "outputs": [
    {
     "data": {
      "text/plain": [
       "tensor([[0., 0., 0., 0., 0.],\n",
       "        [0., 0., 0., 0., 0.],\n",
       "        [0., 0., 0., 0., 0.],\n",
       "        [0., 0., 0., 0., 0.],\n",
       "        [0., 0., 0., 0., 0.]])"
      ]
     },
     "execution_count": 17,
     "metadata": {},
     "output_type": "execute_result"
    }
   ],
   "source": [
    "xr = torch.randn(200, 100)\n",
    "x = xr.clone()\n",
    "for i in range(50): \n",
    "    x = x @ torch.randn(100,100)*0.01\n",
    "x[0:5,0:5]"
   ]
  },
  {
   "cell_type": "code",
   "execution_count": 18,
   "id": "4b017565",
   "metadata": {},
   "outputs": [],
   "source": [
    "torch.randn??"
   ]
  },
  {
   "cell_type": "markdown",
   "id": "11865fa3",
   "metadata": {},
   "source": [
    "#### sigmoid function"
   ]
  },
  {
   "cell_type": "code",
   "execution_count": 31,
   "id": "6234eb87",
   "metadata": {},
   "outputs": [],
   "source": [
    "import numpy as np\n",
    "import matplotlib.pyplot as plt"
   ]
  },
  {
   "cell_type": "code",
   "execution_count": 38,
   "id": "aeb2c8c6",
   "metadata": {},
   "outputs": [],
   "source": [
    "def act_sig(x):\n",
    "    return (1/(1 + np.exp(-x)))"
   ]
  },
  {
   "cell_type": "code",
   "execution_count": 88,
   "id": "bab197dc",
   "metadata": {},
   "outputs": [],
   "source": [
    "x = torch.linspace(-5, 5, 100)"
   ]
  },
  {
   "cell_type": "code",
   "execution_count": 89,
   "id": "9431110c",
   "metadata": {},
   "outputs": [],
   "source": [
    "y = act_sig(x)"
   ]
  },
  {
   "cell_type": "code",
   "execution_count": 90,
   "id": "bbedefc9",
   "metadata": {},
   "outputs": [
    {
     "data": {
      "text/plain": [
       "[<matplotlib.lines.Line2D at 0x16271c650>]"
      ]
     },
     "execution_count": 90,
     "metadata": {},
     "output_type": "execute_result"
    },
    {
     "data": {
      "image/png": "[encoded data removed]",
      "text/plain": [
       "<Figure size 432x288 with 1 Axes>"
      ]
     },
     "metadata": {
      "needs_background": "light"
     },
     "output_type": "display_data"
    }
   ],
   "source": [
    "plt.plot(x, y)"
   ]
  },
  {
   "cell_type": "code",
   "execution_count": 91,
   "id": "c772e0aa",
   "metadata": {},
   "outputs": [
    {
     "data": {
      "text/plain": [
       "tensor(0.5000)"
      ]
     },
     "execution_count": 91,
     "metadata": {},
     "output_type": "execute_result"
    }
   ],
   "source": [
    "y.mean()"
   ]
  },
  {
   "cell_type": "code",
   "execution_count": 97,
   "id": "6f49bb5d",
   "metadata": {},
   "outputs": [],
   "source": [
    "def act_softmax(x):\n",
    "    t = x.exp().sum()\n",
    "    print(t)\n",
    "    return (x.exp() - x.max())/t"
   ]
  },
  {
   "cell_type": "code",
   "execution_count": 109,
   "id": "afcd1abd",
   "metadata": {},
   "outputs": [
    {
     "name": "stdout",
     "output_type": "stream",
     "text": [
      "tensor(1544.6826)\n"
     ]
    }
   ],
   "source": [
    "y = act_softmax(x)"
   ]
  },
  {
   "cell_type": "code",
   "execution_count": 110,
   "id": "cda3cb36",
   "metadata": {},
   "outputs": [
    {
     "data": {
      "text/plain": [
       "[<matplotlib.lines.Line2D at 0x162a3e610>]"
      ]
     },
     "execution_count": 110,
     "metadata": {},
     "output_type": "execute_result"
    },
    {
     "data": {
      "image/png": "[encoded data removed]",
      "text/plain": [
       "<Figure size 432x288 with 1 Axes>"
      ]
     },
     "metadata": {
      "needs_background": "light"
     },
     "output_type": "display_data"
    }
   ],
   "source": [
    "plt.plot(x, y)"
   ]
  },
  {
   "cell_type": "code",
   "execution_count": null,
   "id": "c3f53624",
   "metadata": {},
   "outputs": [],
   "source": []
  },
  {
   "cell_type": "code",
   "execution_count": 114,
   "id": "b00d854f",
   "metadata": {},
   "outputs": [
    {
     "data": {
      "text/plain": [
       "tensor([[ 0.4893,  0.0763, -0.5147,  0.4051,  0.4859],\n",
       "        [-0.9563, -2.0963,  2.0460, -0.2998, -0.5597],\n",
       "        [ 0.7562,  1.0429, -1.1559,  1.3175,  0.8683],\n",
       "        [ 2.6986, -0.0074, -1.6993,  0.5111, -0.2448],\n",
       "        [-0.3942, -0.4390,  0.7185, -0.5542, -0.8304]])"
      ]
     },
     "execution_count": 114,
     "metadata": {},
     "output_type": "execute_result"
    }
   ],
   "source": [
    "xr = torch.randn(200, 100)\n",
    "x = xr.clone()\n",
    "for i in range(50): \n",
    "    x = x @ torch.randn(100,100)*0.1\n",
    "x[0:5,0:5]"
   ]
  },
  {
   "cell_type": "code",
   "execution_count": 116,
   "id": "55be1186",
   "metadata": {},
   "outputs": [
    {
     "data": {
      "text/plain": [
       "(tensor(-0.0073), tensor(0.9751))"
      ]
     },
     "execution_count": 116,
     "metadata": {},
     "output_type": "execute_result"
    }
   ],
   "source": [
    "x.mean(), x.std()"
   ]
  },
  {
   "cell_type": "code",
   "execution_count": 120,
   "id": "8dbb26bb",
   "metadata": {},
   "outputs": [],
   "source": [
    "x = torch.tensor([1, 2, 3, 4, 5]).float()"
   ]
  },
  {
   "cell_type": "code",
   "execution_count": 121,
   "id": "79a65062",
   "metadata": {},
   "outputs": [
    {
     "data": {
      "text/plain": [
       "(tensor(3.), tensor(1.5811))"
      ]
     },
     "execution_count": 121,
     "metadata": {},
     "output_type": "execute_result"
    }
   ],
   "source": [
    "x.mean(), x.std()"
   ]
  },
  {
   "cell_type": "code",
   "execution_count": 124,
   "id": "2b9d172d",
   "metadata": {},
   "outputs": [
    {
     "data": {
      "text/plain": [
       "(-0.01706540159881115, 98.8023494720459)"
      ]
     },
     "execution_count": 124,
     "metadata": {},
     "output_type": "execute_result"
    }
   ],
   "source": [
    "mean,sqr = 0.,0.\n",
    "for i in range(100):\n",
    "    x = torch.randn(100)\n",
    "    a = torch.randn(512, 100)\n",
    "    y = a @ x\n",
    "    mean += y.mean().item()\n",
    "    sqr  += y.pow(2).mean().item()\n",
    "mean/100,sqr/100"
   ]
  },
  {
   "cell_type": "code",
   "execution_count": 135,
   "id": "a20f5dbb",
   "metadata": {},
   "outputs": [
    {
     "data": {
      "text/plain": [
       "(-0.01873561680316925, 98.50323196411132)"
      ]
     },
     "execution_count": 135,
     "metadata": {},
     "output_type": "execute_result"
    }
   ],
   "source": [
    "mean,sqr = 0.,0.\n",
    "for i in range(100):\n",
    "    x = torch.randn(100)\n",
    "    a = torch.randn(512, 100)\n",
    "    y = a@x\n",
    "    mean += y.mean().item()\n",
    "    sqr += y.pow(2).mean().item()\n",
    "mean/100, sqr/100"
   ]
  },
  {
   "cell_type": "code",
   "execution_count": 131,
   "id": "60d54778",
   "metadata": {},
   "outputs": [
    {
     "data": {
      "text/plain": [
       "(-0.0029166091486780487, 0.9641124381211379)"
      ]
     },
     "execution_count": 131,
     "metadata": {},
     "output_type": "execute_result"
    }
   ],
   "source": [
    "mean,sqr = 0.,0.\n",
    "for i in range(10000):\n",
    "    x = torch.randn(1)\n",
    "    a = torch.randn(1)\n",
    "    y = a*x\n",
    "    mean += y.item()\n",
    "    sqr  += y.pow(2).item()\n",
    "mean/10000,sqr/10000"
   ]
  },
  {
   "cell_type": "code",
   "execution_count": 133,
   "id": "20321776",
   "metadata": {},
   "outputs": [
    {
     "data": {
      "text/plain": [
       "(0.006341835848118399, 0.9670273849413336)"
      ]
     },
     "execution_count": 133,
     "metadata": {},
     "output_type": "execute_result"
    }
   ],
   "source": [
    "mean,sqr = 0.,0.\n",
    "for i in range(10000):\n",
    "    x = torch.randn(1)\n",
    "    a = torch.randn(1)\n",
    "    y = a*x\n",
    "    mean += y.item()\n",
    "    sqr += y.pow(2).item()\n",
    "\n",
    "mean/10000,sqr/10000"
   ]
  },
  {
   "cell_type": "code",
   "execution_count": 140,
   "id": "ebc5baee",
   "metadata": {},
   "outputs": [],
   "source": [
    "t = torch.tensor([1., 2, 4, 18])"
   ]
  },
  {
   "cell_type": "code",
   "execution_count": 141,
   "id": "63f615e1",
   "metadata": {},
   "outputs": [
    {
     "data": {
      "text/plain": [
       "tensor(6.2500)"
      ]
     },
     "execution_count": 141,
     "metadata": {},
     "output_type": "execute_result"
    }
   ],
   "source": [
    "m = t.mean(); m"
   ]
  },
  {
   "cell_type": "code",
   "execution_count": 142,
   "id": "47109d7a",
   "metadata": {},
   "outputs": [
    {
     "data": {
      "text/plain": [
       "tensor(0.)"
      ]
     },
     "execution_count": 142,
     "metadata": {},
     "output_type": "execute_result"
    }
   ],
   "source": [
    "(t-m).mean()"
   ]
  },
  {
   "cell_type": "code",
   "execution_count": 144,
   "id": "3bd3f543",
   "metadata": {},
   "outputs": [
    {
     "data": {
      "text/plain": [
       "tensor(47.1875)"
      ]
     },
     "execution_count": 144,
     "metadata": {},
     "output_type": "execute_result"
    }
   ],
   "source": [
    "(t-m).pow(2).mean()"
   ]
  },
  {
   "cell_type": "code",
   "execution_count": 145,
   "id": "2dd68411",
   "metadata": {},
   "outputs": [
    {
     "data": {
      "text/plain": [
       "tensor(5.8750)"
      ]
     },
     "execution_count": 145,
     "metadata": {},
     "output_type": "execute_result"
    }
   ],
   "source": [
    "(t-m).abs().mean()"
   ]
  },
  {
   "cell_type": "code",
   "execution_count": 147,
   "id": "2dd16825",
   "metadata": {},
   "outputs": [
    {
     "data": {
      "text/plain": [
       "tensor(6.8693)"
      ]
     },
     "execution_count": 147,
     "metadata": {},
     "output_type": "execute_result"
    }
   ],
   "source": [
    "(t-m).pow(2).mean().sqrt()"
   ]
  },
  {
   "cell_type": "code",
   "execution_count": 152,
   "id": "861abb16",
   "metadata": {},
   "outputs": [
    {
     "data": {
      "text/plain": [
       "(tensor(47.1875), tensor(47.1875))"
      ]
     },
     "execution_count": 152,
     "metadata": {},
     "output_type": "execute_result"
    }
   ],
   "source": [
    "(t-m).pow(2).mean(), t.pow(2).mean() - m.pow(2)"
   ]
  },
  {
   "cell_type": "code",
   "execution_count": 154,
   "id": "eef41738",
   "metadata": {},
   "outputs": [],
   "source": [
    "u = t*2\n",
    "u *= torch.rand_like(t)/10+0.95"
   ]
  },
  {
   "cell_type": "code",
   "execution_count": 156,
   "id": "cc654fd9",
   "metadata": {},
   "outputs": [
    {
     "data": {
      "text/plain": [
       "tensor([ 2.0936,  4.1910,  8.3615, 37.6709])"
      ]
     },
     "execution_count": 156,
     "metadata": {},
     "output_type": "execute_result"
    }
   ],
   "source": [
    "u"
   ]
  },
  {
   "cell_type": "code",
   "execution_count": 157,
   "id": "afa3e0d6",
   "metadata": {},
   "outputs": [
    {
     "data": {
      "text/plain": [
       "tensor([ 1.,  2.,  4., 18.])"
      ]
     },
     "execution_count": 157,
     "metadata": {},
     "output_type": "execute_result"
    }
   ],
   "source": [
    "t"
   ]
  },
  {
   "cell_type": "code",
   "execution_count": 158,
   "id": "e24366a2",
   "metadata": {},
   "outputs": [
    {
     "data": {
      "text/plain": [
       "<matplotlib.collections.PathCollection at 0x162805110>"
      ]
     },
     "execution_count": 158,
     "metadata": {},
     "output_type": "execute_result"
    },
    {
     "data": {
      "image/png": "[encoded data removed]",
      "text/plain": [
       "<Figure size 432x288 with 1 Axes>"
      ]
     },
     "metadata": {
      "needs_background": "light"
     },
     "output_type": "display_data"
    }
   ],
   "source": [
    "plt.scatter(t, u)"
   ]
  },
  {
   "cell_type": "code",
   "execution_count": 159,
   "id": "cdd666de",
   "metadata": {},
   "outputs": [
    {
     "data": {
      "text/plain": [
       "tensor([ 57.6745,  37.7749,  10.6150, 288.9516])"
      ]
     },
     "execution_count": 159,
     "metadata": {},
     "output_type": "execute_result"
    }
   ],
   "source": [
    "prod = (t-t.mean())*(u-u.mean());prod"
   ]
  },
  {
   "cell_type": "code",
   "execution_count": 160,
   "id": "870a55a0",
   "metadata": {},
   "outputs": [
    {
     "data": {
      "text/plain": [
       "tensor(98.7540)"
      ]
     },
     "execution_count": 160,
     "metadata": {},
     "output_type": "execute_result"
    }
   ],
   "source": [
    "prod.mean()"
   ]
  },
  {
   "cell_type": "code",
   "execution_count": 161,
   "id": "a88f6715",
   "metadata": {},
   "outputs": [
    {
     "data": {
      "text/plain": [
       "<matplotlib.collections.PathCollection at 0x1627c89d0>"
      ]
     },
     "execution_count": 161,
     "metadata": {},
     "output_type": "execute_result"
    },
    {
     "data": {
      "image/png": "[encoded data removed]",
      "text/plain": [
       "<Figure size 432x288 with 1 Axes>"
      ]
     },
     "metadata": {
      "needs_background": "light"
     },
     "output_type": "display_data"
    }
   ],
   "source": [
    "v = torch.rand_like(t)\n",
    "plt.scatter(t, v)"
   ]
  },
  {
   "cell_type": "code",
   "execution_count": 162,
   "id": "7f1c3b0f",
   "metadata": {},
   "outputs": [
    {
     "data": {
      "text/plain": [
       "tensor(-1.3247)"
      ]
     },
     "execution_count": 162,
     "metadata": {},
     "output_type": "execute_result"
    }
   ],
   "source": [
    "((t-t.mean())*(v-v.mean())).mean()"
   ]
  },
  {
   "cell_type": "code",
   "execution_count": 163,
   "id": "588be398",
   "metadata": {},
   "outputs": [],
   "source": [
    "cov = (t*v).mean() - (t.mean()*v.mean())"
   ]
  },
  {
   "cell_type": "code",
   "execution_count": 164,
   "id": "69034bd6",
   "metadata": {},
   "outputs": [
    {
     "data": {
      "text/plain": [
       "tensor(-1.3247)"
      ]
     },
     "execution_count": 164,
     "metadata": {},
     "output_type": "execute_result"
    }
   ],
   "source": [
    "cov"
   ]
  },
  {
   "cell_type": "code",
   "execution_count": 165,
   "id": "da4fb9cd",
   "metadata": {},
   "outputs": [
    {
     "data": {
      "text/plain": [
       "tensor(-0.5116)"
      ]
     },
     "execution_count": 165,
     "metadata": {},
     "output_type": "execute_result"
    }
   ],
   "source": [
    "cov/(t.std()*v.std())"
   ]
  },
  {
   "cell_type": "code",
   "execution_count": 166,
   "id": "0193e07e",
   "metadata": {},
   "outputs": [
    {
     "data": {
      "text/plain": [
       "tensor(9.9558)"
      ]
     },
     "execution_count": 166,
     "metadata": {},
     "output_type": "execute_result"
    }
   ],
   "source": [
    "x.std()"
   ]
  },
  {
   "cell_type": "code",
   "execution_count": 766,
   "id": "ea28de47",
   "metadata": {},
   "outputs": [
    {
     "name": "stdout",
     "output_type": "stream",
     "text": [
      "torch.Size([200, 100])\n",
      "mean:-0.01,std:1.0\n",
      "--------------\n",
      "torch.Size([200, 100])\n",
      "mean:-0.0,std:0.1\n",
      "--------------\n",
      "torch.Size([200, 100])\n",
      "mean:0.0,std:0.01\n",
      "--------------\n",
      "torch.Size([200, 100])\n",
      "mean:-0.0,std:0.0\n",
      "--------------\n",
      "torch.Size([200, 100])\n",
      "mean:0.0,std:0.0\n",
      "--------------\n",
      "torch.Size([200, 100])\n",
      "mean:0.0,std:0.0\n",
      "--------------\n",
      "torch.Size([200, 100])\n",
      "mean:-0.0,std:0.0\n",
      "--------------\n",
      "torch.Size([200, 100])\n",
      "mean:-0.0,std:0.0\n",
      "--------------\n",
      "torch.Size([200, 100])\n",
      "mean:-0.0,std:0.0\n",
      "--------------\n",
      "torch.Size([200, 100])\n",
      "mean:-0.0,std:0.0\n",
      "--------------\n",
      "torch.Size([200, 100])\n",
      "mean:-0.0,std:0.0\n",
      "--------------\n",
      "torch.Size([200, 100])\n",
      "mean:-0.0,std:0.0\n",
      "--------------\n",
      "torch.Size([200, 100])\n",
      "mean:0.0,std:0.0\n",
      "--------------\n",
      "torch.Size([200, 100])\n",
      "mean:-0.0,std:0.0\n",
      "--------------\n",
      "torch.Size([200, 100])\n",
      "mean:-0.0,std:0.0\n",
      "--------------\n",
      "torch.Size([200, 100])\n",
      "mean:0.0,std:0.0\n",
      "--------------\n",
      "torch.Size([200, 100])\n",
      "mean:0.0,std:0.0\n",
      "--------------\n",
      "torch.Size([200, 100])\n",
      "mean:-0.0,std:0.0\n",
      "--------------\n",
      "torch.Size([200, 100])\n",
      "mean:-0.0,std:0.0\n",
      "--------------\n",
      "torch.Size([200, 100])\n",
      "mean:-0.0,std:0.0\n",
      "--------------\n",
      "torch.Size([200, 100])\n",
      "mean:0.0,std:0.0\n",
      "--------------\n",
      "torch.Size([200, 100])\n",
      "mean:0.0,std:0.0\n",
      "--------------\n",
      "torch.Size([200, 100])\n",
      "mean:0.0,std:0.0\n",
      "--------------\n",
      "torch.Size([200, 100])\n",
      "mean:0.0,std:0.0\n",
      "--------------\n",
      "torch.Size([200, 100])\n",
      "mean:0.0,std:0.0\n",
      "--------------\n",
      "torch.Size([200, 100])\n",
      "mean:-0.0,std:0.0\n",
      "--------------\n",
      "torch.Size([200, 100])\n",
      "mean:-0.0,std:0.0\n",
      "--------------\n",
      "torch.Size([200, 100])\n",
      "mean:0.0,std:0.0\n",
      "--------------\n",
      "torch.Size([200, 100])\n",
      "mean:0.0,std:0.0\n",
      "--------------\n",
      "torch.Size([200, 100])\n",
      "mean:-0.0,std:0.0\n",
      "--------------\n",
      "torch.Size([200, 100])\n",
      "mean:-0.0,std:0.0\n",
      "--------------\n",
      "torch.Size([200, 100])\n",
      "mean:-0.0,std:0.0\n",
      "--------------\n",
      "torch.Size([200, 100])\n",
      "mean:-0.0,std:0.0\n",
      "--------------\n",
      "torch.Size([200, 100])\n",
      "mean:0.0,std:0.0\n",
      "--------------\n",
      "torch.Size([200, 100])\n",
      "mean:-0.0,std:0.0\n",
      "--------------\n",
      "torch.Size([200, 100])\n",
      "mean:-0.0,std:0.0\n",
      "--------------\n",
      "torch.Size([200, 100])\n",
      "mean:-0.0,std:0.0\n",
      "--------------\n",
      "torch.Size([200, 100])\n",
      "mean:-0.0,std:0.0\n",
      "--------------\n",
      "torch.Size([200, 100])\n",
      "mean:-0.0,std:0.0\n",
      "--------------\n",
      "torch.Size([200, 100])\n",
      "mean:0.0,std:0.0\n",
      "--------------\n",
      "torch.Size([200, 100])\n",
      "mean:0.0,std:0.0\n",
      "--------------\n",
      "torch.Size([200, 100])\n",
      "mean:-0.0,std:0.0\n",
      "--------------\n",
      "torch.Size([200, 100])\n",
      "mean:-0.0,std:0.0\n",
      "--------------\n",
      "torch.Size([200, 100])\n",
      "mean:0.0,std:0.0\n",
      "--------------\n",
      "torch.Size([200, 100])\n",
      "mean:-0.0,std:0.0\n",
      "--------------\n",
      "torch.Size([200, 100])\n",
      "mean:0.0,std:0.0\n",
      "--------------\n",
      "torch.Size([200, 100])\n",
      "mean:0.0,std:0.0\n",
      "--------------\n",
      "torch.Size([200, 100])\n",
      "mean:0.0,std:0.0\n",
      "--------------\n",
      "torch.Size([200, 100])\n",
      "mean:0.0,std:0.0\n",
      "--------------\n",
      "torch.Size([200, 100])\n",
      "mean:0.0,std:0.0\n",
      "--------------\n",
      "torch.Size([200, 100])\n",
      "mean:0.0,std:0.0\n",
      "--------------\n"
     ]
    },
    {
     "data": {
      "text/plain": [
       "tensor([[0., 0., 0., 0., 0.],\n",
       "        [0., 0., 0., 0., 0.],\n",
       "        [0., 0., 0., 0., 0.],\n",
       "        [0., 0., 0., 0., 0.],\n",
       "        [0., 0., 0., 0., 0.]])"
      ]
     },
     "execution_count": 766,
     "metadata": {},
     "output_type": "execute_result"
    }
   ],
   "source": [
    "x = torch.randn(200, 100)\n",
    "print(x.shape)\n",
    "print(f'mean:{round(x.mean().item(),2)},std:{round(x.std().item(), 2)}')\n",
    "print('--------------')\n",
    "for i in range(50): \n",
    "    x = x @ (torch.randn(100,100)*(1/100))\n",
    "    print(x.shape)\n",
    "    print(f'mean:{round(x.mean().item(),2)},std:{round(x.std().item(), 2)}')\n",
    "    print('--------------')\n",
    "#     break\n",
    "x[0:5,0:5]"
   ]
  },
  {
   "cell_type": "code",
   "execution_count": 798,
   "id": "76d4d138",
   "metadata": {},
   "outputs": [
    {
     "name": "stdout",
     "output_type": "stream",
     "text": [
      "mean:-0.04,std:1.01\n",
      "mean:0.0,std:0.07\n"
     ]
    },
    {
     "data": {
      "text/plain": [
       "tensor([[ 0.0462, -0.0123, -0.0799, -0.0465,  0.1042]])"
      ]
     },
     "execution_count": 798,
     "metadata": {},
     "output_type": "execute_result"
    }
   ],
   "source": [
    "x = torch.randn(1, 1000)\n",
    "print(f'mean:{round(x.mean().item(),2)},std:{round(x.std().item(), 2)}')\n",
    "for i in range(500*10):\n",
    "    w = torch.randn(1000,1000) *(1/np.sqrt(1000))\n",
    "#     print(f'wmean:{round(w.mean().item(),2)},wstd:{round(w.std().item(), 2)}') \n",
    "    \n",
    "    x = x@w\n",
    "#     print(f'mean:{round(x.mean().item(),2)},std:{round(x.std().item(), 2)}') \n",
    "#     break\n",
    "print(f'mean:{round(x.mean().item(),2)},std:{round(x.std().item(), 2)}')\n",
    "\n",
    "x[0:5,0:5]"
   ]
  },
  {
   "cell_type": "code",
   "execution_count": 802,
   "id": "4fbc942c",
   "metadata": {},
   "outputs": [],
   "source": [
    "x = torch.randn(100) + 0\n",
    "y = torch.randn(100) * (1/np.sqrt(100)) + 0"
   ]
  },
  {
   "cell_type": "code",
   "execution_count": 803,
   "id": "ba5f0720",
   "metadata": {},
   "outputs": [
    {
     "data": {
      "text/plain": [
       "(tensor(0.0315), tensor(1.0038))"
      ]
     },
     "execution_count": 803,
     "metadata": {},
     "output_type": "execute_result"
    }
   ],
   "source": [
    "x.mean(),x.var()"
   ]
  },
  {
   "cell_type": "code",
   "execution_count": 804,
   "id": "8984a6f6",
   "metadata": {},
   "outputs": [
    {
     "data": {
      "text/plain": [
       "(tensor(-0.0038), tensor(0.0121))"
      ]
     },
     "execution_count": 804,
     "metadata": {},
     "output_type": "execute_result"
    }
   ],
   "source": [
    "y.mean(),y.var()"
   ]
  },
  {
   "cell_type": "code",
   "execution_count": 816,
   "id": "fa4d46f2",
   "metadata": {},
   "outputs": [
    {
     "data": {
      "text/plain": [
       "(tensor(-0.0012), tensor(0.9913))"
      ]
     },
     "execution_count": 816,
     "metadata": {},
     "output_type": "execute_result"
    }
   ],
   "source": [
    "from math import sqrt\n",
    "\n",
    "x = torch.randn(200, 100)\n",
    "y = torch.randn(200)\n",
    "w1 = torch.randn(100,50)/sqrt(100)\n",
    "b1 = torch.zeros(50)\n",
    "w2 = torch.randn(50, 1)/sqrt(50)\n",
    "b2 = torch.zeros(1)\n",
    "\n",
    "def lin(x, w, b):\n",
    "    return x@w+b\n",
    "\n",
    "def relu(x):\n",
    "    return x.clamp_min(0.)\n",
    "\n",
    "l1 = lin(x, w1, b1)\n",
    "l1.mean(),l1.std()"
   ]
  },
  {
   "cell_type": "code",
   "execution_count": 821,
   "id": "7848999c",
   "metadata": {},
   "outputs": [
    {
     "data": {
      "text/plain": [
       "(tensor(0.3940), tensor(0.5806))"
      ]
     },
     "execution_count": 821,
     "metadata": {},
     "output_type": "execute_result"
    }
   ],
   "source": [
    "l2 = relu(l1)\n",
    "l2.mean(),l2.std()"
   ]
  },
  {
   "cell_type": "code",
   "execution_count": 824,
   "id": "2d6bf13c",
   "metadata": {},
   "outputs": [
    {
     "data": {
      "text/plain": [
       "tensor([[0.0000e+00, 0.0000e+00, 0.0000e+00, 1.1744e-09, 0.0000e+00],\n",
       "        [0.0000e+00, 0.0000e+00, 0.0000e+00, 1.0455e-09, 0.0000e+00],\n",
       "        [0.0000e+00, 0.0000e+00, 0.0000e+00, 0.0000e+00, 0.0000e+00],\n",
       "        [0.0000e+00, 0.0000e+00, 0.0000e+00, 0.0000e+00, 0.0000e+00],\n",
       "        [0.0000e+00, 0.0000e+00, 0.0000e+00, 0.0000e+00, 0.0000e+00]])"
      ]
     },
     "execution_count": 824,
     "metadata": {},
     "output_type": "execute_result"
    }
   ],
   "source": [
    "x = torch.randn(200, 100)\n",
    "for i in range(50):\n",
    "    x = relu(x@(torch.randn(100, 100)*0.1))\n",
    "x[0:5,0:5]"
   ]
  },
  {
   "cell_type": "code",
   "execution_count": 826,
   "id": "e0881d71",
   "metadata": {},
   "outputs": [
    {
     "data": {
      "text/plain": [
       "tensor([[0.0000, 0.6540, 0.0000, 0.0000, 0.0000],\n",
       "        [0.0000, 1.0987, 0.0000, 0.0000, 0.0000],\n",
       "        [0.0000, 0.4435, 0.0000, 0.0000, 0.0000],\n",
       "        [0.0000, 0.8919, 0.0000, 0.0000, 0.0000],\n",
       "        [0.0000, 0.9530, 0.0000, 0.0000, 0.0000]])"
      ]
     },
     "execution_count": 826,
     "metadata": {},
     "output_type": "execute_result"
    }
   ],
   "source": [
    "x = torch.randn(200, 100)\n",
    "for i in range(50):\n",
    "    x = relu(x@(torch.randn(100,100)*sqrt(2/100)))\n",
    "x[0:5,0:5]"
   ]
  },
  {
   "cell_type": "code",
   "execution_count": 827,
   "id": "e0b0a713",
   "metadata": {},
   "outputs": [
    {
     "data": {
      "text/plain": [
       "(tensor(0.1740), tensor(0.2954))"
      ]
     },
     "execution_count": 827,
     "metadata": {},
     "output_type": "execute_result"
    }
   ],
   "source": [
    "x.mean(),x.std()"
   ]
  },
  {
   "cell_type": "code",
   "execution_count": null,
   "id": "4f06e195",
   "metadata": {},
   "outputs": [],
   "source": []
  }
 ],
 "metadata": {
  "kernelspec": {
   "display_name": "python_main",
   "language": "python",
   "name": "python_main"
  },
  "language_info": {
   "codemirror_mode": {
    "name": "ipython",
    "version": 3
   },
   "file_extension": ".py",
   "mimetype": "text/x-python",
   "name": "python",
   "nbconvert_exporter": "python",
   "pygments_lexer": "ipython3",
   "version": "3.11.0"
  }
 },
 "nbformat": 4,
 "nbformat_minor": 5
}
