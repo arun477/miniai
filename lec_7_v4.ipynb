{
 "cells": [
  {
   "cell_type": "code",
   "execution_count": 17,
   "id": "3d15b389",
   "metadata": {},
   "outputs": [],
   "source": [
    "import torch\n",
    "import torch.nn as nn\n",
    "import gzip, pickle\n",
    "import matplotlib.pyplot as plt\n",
    "import matplotlib as mpl\n",
    "from pathlib import Path\n",
    "import pandas as pd\n",
    "\n",
    "mp.rcParams['image.cmap'] = 'gray'\n",
    "mpl.rcParams['figure.dpi'] = 30"
   ]
  },
  {
   "cell_type": "code",
   "execution_count": 5,
   "id": "e6e99cd2",
   "metadata": {},
   "outputs": [],
   "source": [
    "dpth = Path('./data/mnist.pkl.gz')\n",
    "with gzip.open(dpth, 'rb') as f:\n",
    "    data = pickle.load(f, encoding='latin')\n",
    "((x_train, y_train), (x_val, y_val), _) = data\n",
    "(x_train, y_train, x_val, y_val) = map(torch.tensor, (x_train, y_train, x_val, y_val))"
   ]
  },
  {
   "cell_type": "code",
   "execution_count": 46,
   "id": "5ca77b78",
   "metadata": {},
   "outputs": [
    {
     "data": {
      "text/plain": [
       "[[(0, 0), (0, 1), (0, 2), (0, 3), (0, 4)],\n",
       " [(1, 0), (1, 1), (1, 2), (1, 3), (1, 4)],\n",
       " [(2, 0), (2, 1), (2, 2), (2, 3), (2, 4)],\n",
       " [(3, 0), (3, 1), (3, 2), (3, 3), (3, 4)],\n",
       " [(4, 0), (4, 1), (4, 2), (4, 3), (4, 4)]]"
      ]
     },
     "execution_count": 46,
     "metadata": {},
     "output_type": "execute_result"
    }
   ],
   "source": [
    "x_imgs = x_train.view(-1, 28, 28)\n",
    "xv_imgs = x_val.view(-1, 28, 28)\n",
    "\n",
    "im3 = x_imgs[7]\n",
    "\n",
    "top_edge = torch.tensor([\n",
    "    [-1, -1, -1],\n",
    "    [0, 0, 0],\n",
    "    [1, 1, 1]  \n",
    "]).float()\n",
    "\n",
    "df = pd.DataFrame(im3[:13, :23])\n",
    "df.style.format(precision=2).set_properties(**{'font-size':'7pt'}).background_gradient('Greys')\n",
    "\n",
    "\n",
    "(im3[1:4, 14:17] * top_edge).sum()\n",
    "(im3[7:10, 14:17] * top_edge).sum()\n",
    "\n",
    "def apply_kernel(row, col, kernel):\n",
    "    return (im3[row-1:row+2, col-1:col+2]*kernel).sum()\n",
    "\n",
    "apply_kernel(8, 15, top_edge)\n",
    "\n",
    "[[(i, j) for j in range(5)] for i in range(5)]"
   ]
  },
  {
   "cell_type": "code",
   "execution_count": 69,
   "id": "c027e5d5",
   "metadata": {},
   "outputs": [
    {
     "data": {
      "text/plain": [
       "torch.Size([26, 26])"
      ]
     },
     "execution_count": 69,
     "metadata": {},
     "output_type": "execute_result"
    },
    {
     "data": {
      "image/png": "[encoded data removed]",
      "text/plain": [
       "<Figure size 180x120 with 1 Axes>"
      ]
     },
     "metadata": {
      "needs_background": "light"
     },
     "output_type": "display_data"
    }
   ],
   "source": [
    "rng = range(1, 27)\n",
    "top_edge3 = torch.tensor([[apply_kernel(i, j, top_edge) for j in rng] for i in rng])\n",
    "plt.imshow(top_edge3)\n",
    "\n",
    "left_edge = torch.tensor([\n",
    "    [-1, 0, 1],\n",
    "    [-1, 0, 1],\n",
    "    [-1, 0, 1]\n",
    "]).float()\n",
    "\n",
    "left_edge3 = torch.tensor([[apply_kernel(i, j, left_edge) for j in rng] for i in rng])\n",
    "plt.imshow(left_edge3)"
   ]
  },
  {
   "cell_type": "code",
   "execution_count": 76,
   "id": "00c7cedb",
   "metadata": {},
   "outputs": [
    {
     "data": {
      "text/plain": [
       "<matplotlib.image.AxesImage at 0x173cb6c10>"
      ]
     },
     "execution_count": 76,
     "metadata": {},
     "output_type": "execute_result"
    },
    {
     "data": {
      "image/png": "[encoded data removed]",
      "text/plain": [
       "<Figure size 180x120 with 1 Axes>"
      ]
     },
     "metadata": {
      "needs_background": "light"
     },
     "output_type": "display_data"
    }
   ],
   "source": [
    "import torch.nn.functional as F\n",
    "\n",
    "inp = im3[None,None,:,:].float()\n",
    "inp_unf = F.unfold(inp, (3, 3))[0]\n",
    "inp_unf.shape\n",
    "torch.Size([9, 676])\n",
    "\n",
    "w = left_edge.view(-1)\n",
    "out = (w @ inp_unf).view(26, 26)\n",
    "plt.imshow(out)"
   ]
  },
  {
   "cell_type": "code",
   "execution_count": 86,
   "id": "81e7cb24",
   "metadata": {},
   "outputs": [
    {
     "name": "stdout",
     "output_type": "stream",
     "text": [
      "12.7 ms ± 5.51 ms per loop (mean ± std. dev. of 7 runs, 1 loop each)\n"
     ]
    }
   ],
   "source": [
    "%timeit -n 1 torch.tensor([[apply_kernel(i, j, left_edge) for j in rng] for i in rng])"
   ]
  },
  {
   "cell_type": "code",
   "execution_count": 88,
   "id": "ad373e15",
   "metadata": {},
   "outputs": [
    {
     "name": "stdout",
     "output_type": "stream",
     "text": [
      "92.3 µs ± 20.1 µs per loop (mean ± std. dev. of 7 runs, 100 loops each)\n"
     ]
    }
   ],
   "source": [
    "%timeit -n 100 (w@F.unfold(inp, (3,3))[0]).view(26, 26)"
   ]
  },
  {
   "cell_type": "code",
   "execution_count": 94,
   "id": "41c96b86",
   "metadata": {},
   "outputs": [
    {
     "name": "stdout",
     "output_type": "stream",
     "text": [
      "67 µs ± 15.8 µs per loop (mean ± std. dev. of 7 runs, 100 loops each)\n"
     ]
    }
   ],
   "source": [
    "%timeit -n 100 F.conv2d(inp, left_edge[None, None]).shape"
   ]
  },
  {
   "cell_type": "code",
   "execution_count": 96,
   "id": "e533928f",
   "metadata": {},
   "outputs": [
    {
     "data": {
      "text/plain": [
       "<matplotlib.image.AxesImage at 0x173a32990>"
      ]
     },
     "execution_count": 96,
     "metadata": {},
     "output_type": "execute_result"
    },
    {
     "data": {
      "image/png": "[encoded data removed]",
      "text/plain": [
       "<Figure size 180x120 with 1 Axes>"
      ]
     },
     "metadata": {
      "needs_background": "light"
     },
     "output_type": "display_data"
    }
   ],
   "source": [
    "diag1_edge = torch.tensor([\n",
    "    [0, -1, 1],\n",
    "    [-1, 1, 0],\n",
    "    [1, 0, 0]\n",
    "]).float()\n",
    "plt.imshow(diag1_edge)\n",
    "\n",
    "diag2_edge = torch.tensor([\n",
    "    [1, -1, 0],\n",
    "    [0, 1, -1],\n",
    "    [0, 0, 1]\n",
    "]).float()\n",
    "plt.imshow(diag2_edge)"
   ]
  },
  {
   "cell_type": "code",
   "execution_count": 113,
   "id": "a98727bb",
   "metadata": {},
   "outputs": [
    {
     "data": {
      "text/plain": [
       "<matplotlib.image.AxesImage at 0x173ebfb10>"
      ]
     },
     "execution_count": 113,
     "metadata": {},
     "output_type": "execute_result"
    },
    {
     "data": {
      "image/png": "[encoded data removed]",
      "text/plain": [
       "<Figure size 180x120 with 1 Axes>"
      ]
     },
     "metadata": {
      "needs_background": "light"
     },
     "output_type": "display_data"
    }
   ],
   "source": [
    "xb = x_imgs[:16][:,None]\n",
    "torch.Size([16, 1, 28, 28])\n",
    "\n",
    "edge_kernels = torch.stack([left_edge, top_edge, diag1_edge, diag2_edge])[:,None]\n",
    "torch.Size([4, 1, 3, 3])\n",
    "\n",
    "batch_features = F.conv2d(xb, edge_kernels)\n",
    "torch.Size([16, 4, 26, 26])\n",
    "\n",
    "img0 = xb[1,0]\n",
    "plt.imshow(img0)\n",
    "\n",
    "plt.imshow(batch_features[1][3])"
   ]
  },
  {
   "cell_type": "code",
   "execution_count": 174,
   "id": "ca41ff8b",
   "metadata": {},
   "outputs": [
    {
     "data": {
      "text/plain": [
       "torch.Size([16, 10])"
      ]
     },
     "execution_count": 174,
     "metadata": {},
     "output_type": "execute_result"
    }
   ],
   "source": [
    "n,m = x_train.shape\n",
    "nh = 50\n",
    "c = y_train.max()+1\n",
    "\n",
    "model = nn.Sequential(*[nn.Linear(m, nh), nn.ReLU(), nn.Linear(nh, 10)])\n",
    "\n",
    "broken_cnn = nn.Sequential(*[\n",
    "   nn.Conv2d(1, 30, kernel_size=3, padding=1),\n",
    "   nn.ReLU(),\n",
    "   nn.Conv2d(30, 10, kernel_size=3, padding=1)\n",
    "])\n",
    "t = broken_cnn(xb)\n",
    "torch.Size([16, 10, 28, 28])\n",
    "\n",
    "def conv(ni, nf, ks=3, stride=2, act=True):\n",
    "    res = nn.Conv2d(ni, nf, stride=stride, kernel_size=ks, padding=ks//2)\n",
    "    if act:\n",
    "        res = nn.Sequential(res, nn.ReLU())\n",
    "    return res\n",
    "\n",
    "simple_cnn = nn.Sequential(\n",
    "    conv(1, 4), #14x14\n",
    "    conv(4, 8), #7x7\n",
    "    conv(8, 16), #2x2\n",
    "    conv(16, 16), #1x1\n",
    "    conv(16, 10, act=False),\n",
    "    nn.Flatten()\n",
    ")\n",
    "t = simple_cnn(xb)\n",
    "t.shape"
   ]
  }
 ],
 "metadata": {
  "kernelspec": {
   "display_name": "python_main",
   "language": "python",
   "name": "python_main"
  },
  "language_info": {
   "codemirror_mode": {
    "name": "ipython",
    "version": 3
   },
   "file_extension": ".py",
   "mimetype": "text/x-python",
   "name": "python",
   "nbconvert_exporter": "python",
   "pygments_lexer": "ipython3",
   "version": "3.11.0"
  }
 },
 "nbformat": 4,
 "nbformat_minor": 5
}
