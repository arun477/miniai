{
 "cells": [
  {
   "cell_type": "code",
   "execution_count": null,
   "id": "42accb56",
   "metadata": {},
   "outputs": [],
   "source": [
    "from datasets import load_dataset\n",
    "import torchvision.transforms.functional as TF\n",
    "import torch\n",
    "from torch import nn,tensor\n",
    "from miniai.datasets import *\n",
    "import torch.nn.functional as F\n",
    "from operator import itemgetter"
   ]
  },
  {
   "cell_type": "code",
   "execution_count": null,
   "id": "c81623cd",
   "metadata": {},
   "outputs": [
    {
     "name": "stderr",
     "output_type": "stream",
     "text": [
      "Found cached dataset fashion_mnist (/Users/arun/.cache/huggingface/datasets/fashion_mnist/fashion_mnist/1.0.0/0a671f063342996f19779d38c0ab4abef9c64f757b35af8134b331c294d7ba48)\n"
     ]
    },
    {
     "data": {
      "application/vnd.jupyter.widget-view+json": {
       "model_id": "56929c876954469485ed8dde5bf65122",
       "version_major": 2,
       "version_minor": 0
      },
      "text/plain": [
       "  0%|          | 0/2 [00:00<?, ?it/s]"
      ]
     },
     "metadata": {},
     "output_type": "display_data"
    },
    {
     "data": {
      "text/plain": [
       "DatasetDict({\n",
       "    train: Dataset({\n",
       "        features: ['image', 'label'],\n",
       "        num_rows: 60000\n",
       "    })\n",
       "    test: Dataset({\n",
       "        features: ['image', 'label'],\n",
       "        num_rows: 10000\n",
       "    })\n",
       "})"
      ]
     },
     "execution_count": null,
     "metadata": {},
     "output_type": "execute_result"
    }
   ],
   "source": [
    "x,y = 'image','label'\n",
    "name = 'fashion_mnist'\n",
    "dsr = load_dataset(name)\n",
    "dsr"
   ]
  },
  {
   "cell_type": "markdown",
   "id": "c0c2bd10",
   "metadata": {},
   "source": [
    "### Practice python iter and generator"
   ]
  },
  {
   "cell_type": "code",
   "execution_count": null,
   "id": "10d6e84a",
   "metadata": {},
   "outputs": [],
   "source": [
    "%load_ext memory_profiler"
   ]
  },
  {
   "cell_type": "code",
   "execution_count": null,
   "id": "877532aa",
   "metadata": {},
   "outputs": [
    {
     "name": "stdout",
     "output_type": "stream",
     "text": [
      "CPU times: user 9.18 s, sys: 2.4 s, total: 11.6 s\n",
      "Wall time: 12.5 s\n",
      "peak memory: 1543.41 MiB, increment: 1252.23 MiB\n"
     ]
    },
    {
     "data": {
      "text/plain": [
       "4999999950000000"
      ]
     },
     "execution_count": null,
     "metadata": {},
     "output_type": "execute_result"
    }
   ],
   "source": [
    "# sum of \"n\" integers\n",
    "# store each int in-memory\n",
    "def firstn(n):\n",
    "    num,nums = 0,[]\n",
    "    while num < n:\n",
    "        nums.append(num)\n",
    "        num += 1\n",
    "    return nums\n",
    "\n",
    "%time sum_first_n = sum(firstn(100000000))\n",
    "%memit sum_first_n = sum(firstn(100000000))\n",
    "\n",
    "sum_first_n"
   ]
  },
  {
   "cell_type": "code",
   "execution_count": null,
   "id": "b7d1f244",
   "metadata": {},
   "outputs": [],
   "source": [
    "# make it generator by creating generator class object\n",
    "class Firstn:\n",
    "    def __init__(self, n):\n",
    "        self.n,self.num = n,0\n",
    "    \n",
    "    def __iter__(self):\n",
    "        return self\n",
    "    \n",
    "    def __next__(self):\n",
    "        return self.next()\n",
    "    \n",
    "    def next(self):\n",
    "        if self.num < self.n:\n",
    "            cur, self.num = self.num, self.num+1\n",
    "            return cur\n",
    "        raise StopIteration()"
   ]
  },
  {
   "cell_type": "code",
   "execution_count": null,
   "id": "cc48314e",
   "metadata": {},
   "outputs": [
    {
     "name": "stdout",
     "output_type": "stream",
     "text": [
      "CPU times: user 12.5 s, sys: 41.9 ms, total: 12.6 s\n",
      "Wall time: 12.6 s\n",
      "peak memory: 360.19 MiB, increment: 0.00 MiB\n"
     ]
    },
    {
     "data": {
      "text/plain": [
       "4999999950000000"
      ]
     },
     "execution_count": null,
     "metadata": {},
     "output_type": "execute_result"
    }
   ],
   "source": [
    "%time sum_first_n = sum(Firstn(100000000))\n",
    "%memit sum_first_n = sum(Firstn(100000000))\n",
    "\n",
    "sum_first_n"
   ]
  },
  {
   "cell_type": "code",
   "execution_count": null,
   "id": "560ba73b",
   "metadata": {},
   "outputs": [
    {
     "data": {
      "text/plain": [
       "37101"
      ]
     },
     "execution_count": null,
     "metadata": {},
     "output_type": "execute_result"
    }
   ],
   "source": [
    "# memory reduction\n",
    "round(1113.02/0.03)"
   ]
  },
  {
   "cell_type": "code",
   "execution_count": null,
   "id": "f7f9b4af",
   "metadata": {},
   "outputs": [],
   "source": [
    "# defining class is lot of boilerplate codes\n",
    "# generator is shortcut way of doing the same iterator using funciton\n",
    "def gfirstn(n):\n",
    "    num = 0\n",
    "    while num < n:\n",
    "        yield num\n",
    "        num += 1"
   ]
  },
  {
   "cell_type": "code",
   "execution_count": null,
   "id": "1219ef79",
   "metadata": {},
   "outputs": [
    {
     "name": "stdout",
     "output_type": "stream",
     "text": [
      "CPU times: user 4.83 s, sys: 18.3 ms, total: 4.85 s\n",
      "Wall time: 4.86 s\n",
      "peak memory: 359.00 MiB, increment: 0.01 MiB\n"
     ]
    },
    {
     "data": {
      "text/plain": [
       "4999999950000000"
      ]
     },
     "execution_count": null,
     "metadata": {},
     "output_type": "execute_result"
    }
   ],
   "source": [
    "%time sum_first_n = sum(gfirstn(100000000))\n",
    "%memit sum_first_n = sum(gfirstn(100000000))\n",
    "\n",
    "sum_first_n"
   ]
  },
  {
   "cell_type": "code",
   "execution_count": null,
   "id": "d17f1f33",
   "metadata": {},
   "outputs": [],
   "source": [
    "# as sequence using __getitem__\n",
    "class Sfirstn:\n",
    "    def __init__(self,n):\n",
    "        self.num,self.n = 0,n\n",
    "    \n",
    "    def __getitem__(self,k):\n",
    "        if self.num < self.n:\n",
    "            cur, self.num = self.num, self.num+1\n",
    "            return cur\n",
    "        raise StopIteration()"
   ]
  },
  {
   "cell_type": "code",
   "execution_count": null,
   "id": "59b79988",
   "metadata": {},
   "outputs": [
    {
     "name": "stdout",
     "output_type": "stream",
     "text": [
      "CPU times: user 9.78 s, sys: 22.8 ms, total: 9.8 s\n",
      "Wall time: 9.84 s\n",
      "peak memory: 372.71 MiB, increment: 0.00 MiB\n"
     ]
    },
    {
     "data": {
      "text/plain": [
       "4999999950000000"
      ]
     },
     "execution_count": null,
     "metadata": {},
     "output_type": "execute_result"
    }
   ],
   "source": [
    "%time sum_first_n = sum(Sfirstn(100000000))\n",
    "%memit sum_first_n = sum(Sfirstn(100000000))\n",
    "\n",
    "sum_first_n"
   ]
  },
  {
   "cell_type": "code",
   "execution_count": null,
   "id": "67e88bd5",
   "metadata": {},
   "outputs": [],
   "source": [
    "# callable object with builtin iter function\n",
    "class Cfirstn:\n",
    "    def __init__(self, n):\n",
    "        self.num,self.n = 0,n\n",
    "    \n",
    "    def __call__(self):\n",
    "        if self.num < self.n:\n",
    "            cur,self.num = self.num, self.num+1\n",
    "            return cur\n",
    "        raise StopIteration()"
   ]
  },
  {
   "cell_type": "code",
   "execution_count": null,
   "id": "4e521568",
   "metadata": {},
   "outputs": [
    {
     "name": "stdout",
     "output_type": "stream",
     "text": [
      "CPU times: user 10.3 s, sys: 36.2 ms, total: 10.3 s\n",
      "Wall time: 10.3 s\n",
      "peak memory: 376.36 MiB, increment: 0.00 MiB\n"
     ]
    },
    {
     "data": {
      "text/plain": [
       "4999999950000000"
      ]
     },
     "execution_count": null,
     "metadata": {},
     "output_type": "execute_result"
    }
   ],
   "source": [
    "%time sum_first_n = sum(iter(Cfirstn(100000000), None))\n",
    "%memit sum_first_n = sum(iter(Cfirstn(100000000), None))\n",
    "\n",
    "sum_first_n"
   ]
  },
  {
   "cell_type": "code",
   "execution_count": null,
   "id": "87ecfbfa",
   "metadata": {},
   "outputs": [],
   "source": [
    "# nested generator functions\n",
    "def gthrd():\n",
    "    for i in range(2):\n",
    "        yield 'hey'\n",
    "        \n",
    "def gscnd():\n",
    "    for i in range(1):\n",
    "        yield from gthrd()\n",
    "\n",
    "def gfrst():\n",
    "    for i in range(2):\n",
    "        yield from gscnd()"
   ]
  },
  {
   "cell_type": "code",
   "execution_count": null,
   "id": "7b3c7d88",
   "metadata": {},
   "outputs": [
    {
     "name": "stdout",
     "output_type": "stream",
     "text": [
      "hey\n",
      "hey\n",
      "hey\n",
      "hey\n"
     ]
    }
   ],
   "source": [
    "t = gfrst()\n",
    "for i in t:\n",
    "    print(i)"
   ]
  },
  {
   "cell_type": "markdown",
   "id": "13193066",
   "metadata": {},
   "source": [
    "## Create DataLoaders"
   ]
  },
  {
   "cell_type": "code",
   "execution_count": null,
   "id": "ba708312",
   "metadata": {},
   "outputs": [],
   "source": [
    "@inplace\n",
    "def transformi(b):\n",
    "    b[x] = [torch.flatten(TF.to_tensor(i)) for i in b[x]]\n",
    "\n",
    "dsrt = dsr.with_transform(transformi)\n",
    "\n",
    "bs = 50\n",
    "dls = DataLoaders.from_dd(dsrt, batch_size=bs)\n",
    "\n",
    "xb,yb = next(iter(dls.train))\n",
    "xb.shape,yb.shape"
   ]
  },
  {
   "cell_type": "markdown",
   "id": "8bd2ba77",
   "metadata": {},
   "source": [
    "## Basic Learner "
   ]
  },
  {
   "cell_type": "code",
   "execution_count": null,
   "id": "807b4e17",
   "metadata": {},
   "outputs": [],
   "source": [
    "from torch import optim\n",
    "import fastcore.all as fc"
   ]
  },
  {
   "cell_type": "code",
   "execution_count": null,
   "id": "adc1f659",
   "metadata": {},
   "outputs": [],
   "source": [
    "class Learner:\n",
    "    def __init__(self, model, dls, lr, loss_func, opt_func=optim.SGD):\n",
    "        fc.store_attr()\n",
    "    \n",
    "    def calc_stats(self):\n",
    "        n = len(self.xb)\n",
    "        self.accs.append((self.preds.argmax()==self.yb).float().sum())\n",
    "        self.losses.append(self.loss*n)\n",
    "        self.ns.append(n)\n",
    "        \n",
    "    def one_batch(self):\n",
    "        self.xb,self.yb = self.batch\n",
    "        self.preds = self.model(self.xb)\n",
    "        self.loss = self.loss_func(self.preds, self.yb)\n",
    "        if self.model.training:\n",
    "            self.loss.backward()\n",
    "            self.opt.step()\n",
    "            self.opt.zero_grad()\n",
    "        self.calc_stats()\n",
    "            \n",
    "    def one_epoch(self, train):\n",
    "        self.model.training = train\n",
    "        self.dl = self.dls.train if train else self.dls.valid\n",
    "        for self.batch in self.dl:\n",
    "            self.one_batch()\n",
    "        ns = sum(self.ns) or 1\n",
    "        avg_acc = sum(self.accs).item()/ns\n",
    "        avg_loss = sum(self.losses).item()/ns\n",
    "        print(f'train:{train}, acc:{avg_acc:.3}, loss:{avg_loss:.3}')\n",
    "    \n",
    "    def fit(self, n_epochs):\n",
    "        self.n_epochs = n_epochs\n",
    "        self.ns,self.accs,self.losses = [],[],[]\n",
    "        self.opt = self.opt_func(self.model.parameters(), lr=self.lr)\n",
    "        for self.epoch in range(self.n_epochs):\n",
    "            self.one_epoch(True)"
   ]
  },
  {
   "cell_type": "code",
   "execution_count": null,
   "id": "865d16f1",
   "metadata": {},
   "outputs": [],
   "source": [
    "n,nh,nout = 28*28,50,10\n",
    "model = nn.Sequential(nn.Linear(n,nh), nn.ReLU(), nn.Linear(nh, nout))"
   ]
  },
  {
   "cell_type": "code",
   "execution_count": null,
   "id": "841439fb",
   "metadata": {},
   "outputs": [
    {
     "data": {
      "text/plain": [
       "Sequential(\n",
       "  (0): Linear(in_features=784, out_features=50, bias=True)\n",
       "  (1): ReLU()\n",
       "  (2): Linear(in_features=50, out_features=10, bias=True)\n",
       ")"
      ]
     },
     "execution_count": null,
     "metadata": {},
     "output_type": "execute_result"
    }
   ],
   "source": [
    "model"
   ]
  },
  {
   "cell_type": "code",
   "execution_count": null,
   "id": "3ec30f03",
   "metadata": {},
   "outputs": [],
   "source": [
    "learner = Learner(model, dls, lr=0.1, loss_func=F.cross_entropy)"
   ]
  },
  {
   "cell_type": "code",
   "execution_count": null,
   "id": "f888c2d5",
   "metadata": {},
   "outputs": [],
   "source": [
    "learner.fit(5)"
   ]
  },
  {
   "cell_type": "code",
   "execution_count": null,
   "id": "07559c87",
   "metadata": {},
   "outputs": [],
   "source": [
    "t = tensor([[1, 2, 3.]])"
   ]
  },
  {
   "cell_type": "code",
   "execution_count": null,
   "id": "e0689319",
   "metadata": {},
   "outputs": [],
   "source": [
    "m = nn.Sequential(nn.Linear(3, 3), nn.ReLU(), nn.Linear(3, 2))"
   ]
  },
  {
   "cell_type": "code",
   "execution_count": null,
   "id": "da3dd52d",
   "metadata": {},
   "outputs": [],
   "source": []
  },
  {
   "cell_type": "code",
   "execution_count": null,
   "id": "8c044d26",
   "metadata": {},
   "outputs": [
    {
     "data": {
      "text/plain": [
       "torch.Size([1, 3])"
      ]
     },
     "execution_count": null,
     "metadata": {},
     "output_type": "execute_result"
    }
   ],
   "source": [
    "t.shape"
   ]
  },
  {
   "cell_type": "code",
   "execution_count": null,
   "id": "acc75899",
   "metadata": {},
   "outputs": [
    {
     "data": {
      "text/plain": [
       "tensor([[ 0.3255, -0.7221]], grad_fn=<AddmmBackward0>)"
      ]
     },
     "execution_count": null,
     "metadata": {},
     "output_type": "execute_result"
    }
   ],
   "source": [
    "m(t)"
   ]
  },
  {
   "cell_type": "code",
   "execution_count": null,
   "id": "33de9736",
   "metadata": {},
   "outputs": [
    {
     "data": {
      "text/plain": [
       "torch.Size([1, 784])"
      ]
     },
     "execution_count": null,
     "metadata": {},
     "output_type": "execute_result"
    }
   ],
   "source": [
    "xb[:1].shape"
   ]
  },
  {
   "cell_type": "code",
   "execution_count": null,
   "id": "f1da3110",
   "metadata": {},
   "outputs": [],
   "source": [
    "g = 150\n",
    "m = nn.Sequential(nn.Linear(g, 3), nn.ReLU(), nn.Linear(3, 2))\n",
    "k = torch.randn(1, g)\n",
    "m(k)"
   ]
  },
  {
   "cell_type": "code",
   "execution_count": null,
   "id": "be44a8d1",
   "metadata": {},
   "outputs": [],
   "source": []
  }
 ],
 "metadata": {
  "kernelspec": {
   "display_name": "conda-env-python_main-py",
   "language": "python",
   "name": "conda-env-python_main-py"
  }
 },
 "nbformat": 4,
 "nbformat_minor": 5
}
