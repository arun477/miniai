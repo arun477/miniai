{
 "cells": [
  {
   "cell_type": "code",
   "execution_count": 39,
   "id": "9a89d655",
   "metadata": {},
   "outputs": [],
   "source": [
    "import torch, gzip, matplotlib as mpl, pickle\n",
    "import matplotlib.pyplot as plt\n",
    "import pandas as pd\n",
    "\n",
    "mpl.rcParams['image.cmap'] = 'gray'"
   ]
  },
  {
   "cell_type": "code",
   "execution_count": 8,
   "id": "d43caceb",
   "metadata": {},
   "outputs": [],
   "source": [
    "data = None\n",
    "with gzip.open('data/mnist.pkl.gz', 'rb') as f:\n",
    "    data = pickle.load(f, encoding='latin')"
   ]
  },
  {
   "cell_type": "code",
   "execution_count": 11,
   "id": "7c222e45",
   "metadata": {},
   "outputs": [],
   "source": [
    "((x_train, y_train), (x_val, y_val), _) = data"
   ]
  },
  {
   "cell_type": "code",
   "execution_count": 12,
   "id": "8fb51e5d",
   "metadata": {},
   "outputs": [
    {
     "data": {
      "text/plain": [
       "((50000, 784), (50000,), (10000, 784), (10000,))"
      ]
     },
     "execution_count": 12,
     "metadata": {},
     "output_type": "execute_result"
    }
   ],
   "source": [
    "x_train.shape, y_train.shape, x_val.shape, y_val.shape"
   ]
  },
  {
   "cell_type": "code",
   "execution_count": 13,
   "id": "b76c551b",
   "metadata": {},
   "outputs": [
    {
     "data": {
      "text/plain": [
       "(torch.Size([50000, 784]),\n",
       " torch.Size([50000]),\n",
       " torch.Size([10000, 784]),\n",
       " torch.Size([10000]))"
      ]
     },
     "execution_count": 13,
     "metadata": {},
     "output_type": "execute_result"
    }
   ],
   "source": [
    "(x_train, y_train, x_val, y_val) = map(torch.tensor, (x_train, y_train, x_val, y_val))\n",
    "x_train.shape, y_train.shape, x_val.shape, y_val.shape"
   ]
  },
  {
   "cell_type": "code",
   "execution_count": 14,
   "id": "16162940",
   "metadata": {},
   "outputs": [],
   "source": [
    "x_imgs = x_train.view(-1, 28, 28)\n",
    "xval_imgs = x_val.view(-1, 28, 28)"
   ]
  },
  {
   "cell_type": "code",
   "execution_count": 15,
   "id": "8e05c015",
   "metadata": {},
   "outputs": [
    {
     "data": {
      "text/plain": [
       "torch.Size([50000, 28, 28])"
      ]
     },
     "execution_count": 15,
     "metadata": {},
     "output_type": "execute_result"
    }
   ],
   "source": [
    "x_imgs.shape"
   ]
  },
  {
   "cell_type": "code",
   "execution_count": 18,
   "id": "02942dbf",
   "metadata": {},
   "outputs": [
    {
     "data": {
      "text/plain": [
       "<matplotlib.image.AxesImage at 0x13c6c4510>"
      ]
     },
     "execution_count": 18,
     "metadata": {},
     "output_type": "execute_result"
    },
    {
     "data": {
      "image/png": "[encoded data removed]",
      "text/plain": [
       "<Figure size 432x288 with 1 Axes>"
      ]
     },
     "metadata": {
      "needs_background": "light"
     },
     "output_type": "display_data"
    }
   ],
   "source": [
    "plt.imshow(x_imgs[0])"
   ]
  },
  {
   "cell_type": "code",
   "execution_count": 19,
   "id": "87c500d6",
   "metadata": {},
   "outputs": [],
   "source": [
    "img3 = x_imgs[7]"
   ]
  },
  {
   "cell_type": "code",
   "execution_count": 32,
   "id": "5216cde9",
   "metadata": {},
   "outputs": [],
   "source": [
    "mpl.rcParams['figure.dpi'] = 80"
   ]
  },
  {
   "cell_type": "code",
   "execution_count": 33,
   "id": "80e0ee01",
   "metadata": {},
   "outputs": [
    {
     "data": {
      "text/plain": [
       "<matplotlib.image.AxesImage at 0x13cfab050>"
      ]
     },
     "execution_count": 33,
     "metadata": {},
     "output_type": "execute_result"
    },
    {
     "data": {
      "image/png": "[encoded data removed]",
      "text/plain": [
       "<Figure size 480x320 with 1 Axes>"
      ]
     },
     "metadata": {
      "needs_background": "light"
     },
     "output_type": "display_data"
    }
   ],
   "source": [
    "plt.imshow(img3)"
   ]
  },
  {
   "cell_type": "code",
   "execution_count": 34,
   "id": "b74542c7",
   "metadata": {},
   "outputs": [],
   "source": [
    "top_edges = torch.tensor([\n",
    "    [-1, -1, -1],\n",
    "    [0, 0, 0],\n",
    "    [1, 1, 1]\n",
    "])"
   ]
  },
  {
   "cell_type": "code",
   "execution_count": 37,
   "id": "777415f4",
   "metadata": {},
   "outputs": [
    {
     "data": {
      "text/plain": [
       "<matplotlib.image.AxesImage at 0x140253050>"
      ]
     },
     "execution_count": 37,
     "metadata": {},
     "output_type": "execute_result"
    },
    {
     "data": {
      "image/png": "[encoded data removed]",
      "text/plain": [
       "<Figure size 480x320 with 1 Axes>"
      ]
     },
     "metadata": {
      "needs_background": "light"
     },
     "output_type": "display_data"
    }
   ],
   "source": [
    "plt.imshow(top_edges)"
   ]
  },
  {
   "cell_type": "code",
   "execution_count": 51,
   "id": "230a7047",
   "metadata": {},
   "outputs": [
    {
     "data": {
      "text/html": [
       "<style type=\"text/css\">\n",
       "</style>\n",
       "<table id=\"T_6f983\">\n",
       "  <thead>\n",
       "    <tr>\n",
       "      <th class=\"blank level0\" >&nbsp;</th>\n",
       "      <th id=\"T_6f983_level0_col0\" class=\"col_heading level0 col0\" >0</th>\n",
       "      <th id=\"T_6f983_level0_col1\" class=\"col_heading level0 col1\" >1</th>\n",
       "      <th id=\"T_6f983_level0_col2\" class=\"col_heading level0 col2\" >2</th>\n",
       "      <th id=\"T_6f983_level0_col3\" class=\"col_heading level0 col3\" >3</th>\n",
       "      <th id=\"T_6f983_level0_col4\" class=\"col_heading level0 col4\" >4</th>\n",
       "      <th id=\"T_6f983_level0_col5\" class=\"col_heading level0 col5\" >5</th>\n",
       "      <th id=\"T_6f983_level0_col6\" class=\"col_heading level0 col6\" >6</th>\n",
       "      <th id=\"T_6f983_level0_col7\" class=\"col_heading level0 col7\" >7</th>\n",
       "      <th id=\"T_6f983_level0_col8\" class=\"col_heading level0 col8\" >8</th>\n",
       "      <th id=\"T_6f983_level0_col9\" class=\"col_heading level0 col9\" >9</th>\n",
       "      <th id=\"T_6f983_level0_col10\" class=\"col_heading level0 col10\" >10</th>\n",
       "      <th id=\"T_6f983_level0_col11\" class=\"col_heading level0 col11\" >11</th>\n",
       "      <th id=\"T_6f983_level0_col12\" class=\"col_heading level0 col12\" >12</th>\n",
       "      <th id=\"T_6f983_level0_col13\" class=\"col_heading level0 col13\" >13</th>\n",
       "      <th id=\"T_6f983_level0_col14\" class=\"col_heading level0 col14\" >14</th>\n",
       "      <th id=\"T_6f983_level0_col15\" class=\"col_heading level0 col15\" >15</th>\n",
       "      <th id=\"T_6f983_level0_col16\" class=\"col_heading level0 col16\" >16</th>\n",
       "      <th id=\"T_6f983_level0_col17\" class=\"col_heading level0 col17\" >17</th>\n",
       "      <th id=\"T_6f983_level0_col18\" class=\"col_heading level0 col18\" >18</th>\n",
       "      <th id=\"T_6f983_level0_col19\" class=\"col_heading level0 col19\" >19</th>\n",
       "      <th id=\"T_6f983_level0_col20\" class=\"col_heading level0 col20\" >20</th>\n",
       "      <th id=\"T_6f983_level0_col21\" class=\"col_heading level0 col21\" >21</th>\n",
       "      <th id=\"T_6f983_level0_col22\" class=\"col_heading level0 col22\" >22</th>\n",
       "    </tr>\n",
       "  </thead>\n",
       "  <tbody>\n",
       "    <tr>\n",
       "      <th id=\"T_6f983_level0_row0\" class=\"row_heading level0 row0\" >0</th>\n",
       "      <td id=\"T_6f983_row0_col0\" class=\"data row0 col0\" >0.000000</td>\n",
       "      <td id=\"T_6f983_row0_col1\" class=\"data row0 col1\" >0.000000</td>\n",
       "      <td id=\"T_6f983_row0_col2\" class=\"data row0 col2\" >0.000000</td>\n",
       "      <td id=\"T_6f983_row0_col3\" class=\"data row0 col3\" >0.000000</td>\n",
       "      <td id=\"T_6f983_row0_col4\" class=\"data row0 col4\" >0.000000</td>\n",
       "      <td id=\"T_6f983_row0_col5\" class=\"data row0 col5\" >0.000000</td>\n",
       "      <td id=\"T_6f983_row0_col6\" class=\"data row0 col6\" >0.000000</td>\n",
       "      <td id=\"T_6f983_row0_col7\" class=\"data row0 col7\" >0.000000</td>\n",
       "      <td id=\"T_6f983_row0_col8\" class=\"data row0 col8\" >0.000000</td>\n",
       "      <td id=\"T_6f983_row0_col9\" class=\"data row0 col9\" >0.000000</td>\n",
       "      <td id=\"T_6f983_row0_col10\" class=\"data row0 col10\" >0.000000</td>\n",
       "      <td id=\"T_6f983_row0_col11\" class=\"data row0 col11\" >0.000000</td>\n",
       "      <td id=\"T_6f983_row0_col12\" class=\"data row0 col12\" >0.000000</td>\n",
       "      <td id=\"T_6f983_row0_col13\" class=\"data row0 col13\" >0.000000</td>\n",
       "      <td id=\"T_6f983_row0_col14\" class=\"data row0 col14\" >0.000000</td>\n",
       "      <td id=\"T_6f983_row0_col15\" class=\"data row0 col15\" >0.000000</td>\n",
       "      <td id=\"T_6f983_row0_col16\" class=\"data row0 col16\" >0.000000</td>\n",
       "      <td id=\"T_6f983_row0_col17\" class=\"data row0 col17\" >0.000000</td>\n",
       "      <td id=\"T_6f983_row0_col18\" class=\"data row0 col18\" >0.000000</td>\n",
       "      <td id=\"T_6f983_row0_col19\" class=\"data row0 col19\" >0.000000</td>\n",
       "      <td id=\"T_6f983_row0_col20\" class=\"data row0 col20\" >0.000000</td>\n",
       "      <td id=\"T_6f983_row0_col21\" class=\"data row0 col21\" >0.000000</td>\n",
       "      <td id=\"T_6f983_row0_col22\" class=\"data row0 col22\" >0.000000</td>\n",
       "    </tr>\n",
       "    <tr>\n",
       "      <th id=\"T_6f983_level0_row1\" class=\"row_heading level0 row1\" >1</th>\n",
       "      <td id=\"T_6f983_row1_col0\" class=\"data row1 col0\" >0.000000</td>\n",
       "      <td id=\"T_6f983_row1_col1\" class=\"data row1 col1\" >0.000000</td>\n",
       "      <td id=\"T_6f983_row1_col2\" class=\"data row1 col2\" >0.000000</td>\n",
       "      <td id=\"T_6f983_row1_col3\" class=\"data row1 col3\" >0.000000</td>\n",
       "      <td id=\"T_6f983_row1_col4\" class=\"data row1 col4\" >0.000000</td>\n",
       "      <td id=\"T_6f983_row1_col5\" class=\"data row1 col5\" >0.000000</td>\n",
       "      <td id=\"T_6f983_row1_col6\" class=\"data row1 col6\" >0.000000</td>\n",
       "      <td id=\"T_6f983_row1_col7\" class=\"data row1 col7\" >0.000000</td>\n",
       "      <td id=\"T_6f983_row1_col8\" class=\"data row1 col8\" >0.000000</td>\n",
       "      <td id=\"T_6f983_row1_col9\" class=\"data row1 col9\" >0.000000</td>\n",
       "      <td id=\"T_6f983_row1_col10\" class=\"data row1 col10\" >0.000000</td>\n",
       "      <td id=\"T_6f983_row1_col11\" class=\"data row1 col11\" >0.000000</td>\n",
       "      <td id=\"T_6f983_row1_col12\" class=\"data row1 col12\" >0.000000</td>\n",
       "      <td id=\"T_6f983_row1_col13\" class=\"data row1 col13\" >0.000000</td>\n",
       "      <td id=\"T_6f983_row1_col14\" class=\"data row1 col14\" >0.000000</td>\n",
       "      <td id=\"T_6f983_row1_col15\" class=\"data row1 col15\" >0.000000</td>\n",
       "      <td id=\"T_6f983_row1_col16\" class=\"data row1 col16\" >0.000000</td>\n",
       "      <td id=\"T_6f983_row1_col17\" class=\"data row1 col17\" >0.000000</td>\n",
       "      <td id=\"T_6f983_row1_col18\" class=\"data row1 col18\" >0.000000</td>\n",
       "      <td id=\"T_6f983_row1_col19\" class=\"data row1 col19\" >0.000000</td>\n",
       "      <td id=\"T_6f983_row1_col20\" class=\"data row1 col20\" >0.000000</td>\n",
       "      <td id=\"T_6f983_row1_col21\" class=\"data row1 col21\" >0.000000</td>\n",
       "      <td id=\"T_6f983_row1_col22\" class=\"data row1 col22\" >0.000000</td>\n",
       "    </tr>\n",
       "    <tr>\n",
       "      <th id=\"T_6f983_level0_row2\" class=\"row_heading level0 row2\" >2</th>\n",
       "      <td id=\"T_6f983_row2_col0\" class=\"data row2 col0\" >0.000000</td>\n",
       "      <td id=\"T_6f983_row2_col1\" class=\"data row2 col1\" >0.000000</td>\n",
       "      <td id=\"T_6f983_row2_col2\" class=\"data row2 col2\" >0.000000</td>\n",
       "      <td id=\"T_6f983_row2_col3\" class=\"data row2 col3\" >0.000000</td>\n",
       "      <td id=\"T_6f983_row2_col4\" class=\"data row2 col4\" >0.000000</td>\n",
       "      <td id=\"T_6f983_row2_col5\" class=\"data row2 col5\" >0.000000</td>\n",
       "      <td id=\"T_6f983_row2_col6\" class=\"data row2 col6\" >0.000000</td>\n",
       "      <td id=\"T_6f983_row2_col7\" class=\"data row2 col7\" >0.000000</td>\n",
       "      <td id=\"T_6f983_row2_col8\" class=\"data row2 col8\" >0.000000</td>\n",
       "      <td id=\"T_6f983_row2_col9\" class=\"data row2 col9\" >0.000000</td>\n",
       "      <td id=\"T_6f983_row2_col10\" class=\"data row2 col10\" >0.000000</td>\n",
       "      <td id=\"T_6f983_row2_col11\" class=\"data row2 col11\" >0.000000</td>\n",
       "      <td id=\"T_6f983_row2_col12\" class=\"data row2 col12\" >0.000000</td>\n",
       "      <td id=\"T_6f983_row2_col13\" class=\"data row2 col13\" >0.000000</td>\n",
       "      <td id=\"T_6f983_row2_col14\" class=\"data row2 col14\" >0.000000</td>\n",
       "      <td id=\"T_6f983_row2_col15\" class=\"data row2 col15\" >0.000000</td>\n",
       "      <td id=\"T_6f983_row2_col16\" class=\"data row2 col16\" >0.000000</td>\n",
       "      <td id=\"T_6f983_row2_col17\" class=\"data row2 col17\" >0.000000</td>\n",
       "      <td id=\"T_6f983_row2_col18\" class=\"data row2 col18\" >0.000000</td>\n",
       "      <td id=\"T_6f983_row2_col19\" class=\"data row2 col19\" >0.000000</td>\n",
       "      <td id=\"T_6f983_row2_col20\" class=\"data row2 col20\" >0.000000</td>\n",
       "      <td id=\"T_6f983_row2_col21\" class=\"data row2 col21\" >0.000000</td>\n",
       "      <td id=\"T_6f983_row2_col22\" class=\"data row2 col22\" >0.000000</td>\n",
       "    </tr>\n",
       "    <tr>\n",
       "      <th id=\"T_6f983_level0_row3\" class=\"row_heading level0 row3\" >3</th>\n",
       "      <td id=\"T_6f983_row3_col0\" class=\"data row3 col0\" >0.000000</td>\n",
       "      <td id=\"T_6f983_row3_col1\" class=\"data row3 col1\" >0.000000</td>\n",
       "      <td id=\"T_6f983_row3_col2\" class=\"data row3 col2\" >0.000000</td>\n",
       "      <td id=\"T_6f983_row3_col3\" class=\"data row3 col3\" >0.000000</td>\n",
       "      <td id=\"T_6f983_row3_col4\" class=\"data row3 col4\" >0.000000</td>\n",
       "      <td id=\"T_6f983_row3_col5\" class=\"data row3 col5\" >0.000000</td>\n",
       "      <td id=\"T_6f983_row3_col6\" class=\"data row3 col6\" >0.000000</td>\n",
       "      <td id=\"T_6f983_row3_col7\" class=\"data row3 col7\" >0.000000</td>\n",
       "      <td id=\"T_6f983_row3_col8\" class=\"data row3 col8\" >0.000000</td>\n",
       "      <td id=\"T_6f983_row3_col9\" class=\"data row3 col9\" >0.000000</td>\n",
       "      <td id=\"T_6f983_row3_col10\" class=\"data row3 col10\" >0.000000</td>\n",
       "      <td id=\"T_6f983_row3_col11\" class=\"data row3 col11\" >0.000000</td>\n",
       "      <td id=\"T_6f983_row3_col12\" class=\"data row3 col12\" >0.000000</td>\n",
       "      <td id=\"T_6f983_row3_col13\" class=\"data row3 col13\" >0.000000</td>\n",
       "      <td id=\"T_6f983_row3_col14\" class=\"data row3 col14\" >0.000000</td>\n",
       "      <td id=\"T_6f983_row3_col15\" class=\"data row3 col15\" >0.000000</td>\n",
       "      <td id=\"T_6f983_row3_col16\" class=\"data row3 col16\" >0.000000</td>\n",
       "      <td id=\"T_6f983_row3_col17\" class=\"data row3 col17\" >0.000000</td>\n",
       "      <td id=\"T_6f983_row3_col18\" class=\"data row3 col18\" >0.000000</td>\n",
       "      <td id=\"T_6f983_row3_col19\" class=\"data row3 col19\" >0.000000</td>\n",
       "      <td id=\"T_6f983_row3_col20\" class=\"data row3 col20\" >0.000000</td>\n",
       "      <td id=\"T_6f983_row3_col21\" class=\"data row3 col21\" >0.000000</td>\n",
       "      <td id=\"T_6f983_row3_col22\" class=\"data row3 col22\" >0.000000</td>\n",
       "    </tr>\n",
       "    <tr>\n",
       "      <th id=\"T_6f983_level0_row4\" class=\"row_heading level0 row4\" >4</th>\n",
       "      <td id=\"T_6f983_row4_col0\" class=\"data row4 col0\" >0.000000</td>\n",
       "      <td id=\"T_6f983_row4_col1\" class=\"data row4 col1\" >0.000000</td>\n",
       "      <td id=\"T_6f983_row4_col2\" class=\"data row4 col2\" >0.000000</td>\n",
       "      <td id=\"T_6f983_row4_col3\" class=\"data row4 col3\" >0.000000</td>\n",
       "      <td id=\"T_6f983_row4_col4\" class=\"data row4 col4\" >0.000000</td>\n",
       "      <td id=\"T_6f983_row4_col5\" class=\"data row4 col5\" >0.000000</td>\n",
       "      <td id=\"T_6f983_row4_col6\" class=\"data row4 col6\" >0.000000</td>\n",
       "      <td id=\"T_6f983_row4_col7\" class=\"data row4 col7\" >0.000000</td>\n",
       "      <td id=\"T_6f983_row4_col8\" class=\"data row4 col8\" >0.000000</td>\n",
       "      <td id=\"T_6f983_row4_col9\" class=\"data row4 col9\" >0.000000</td>\n",
       "      <td id=\"T_6f983_row4_col10\" class=\"data row4 col10\" >0.000000</td>\n",
       "      <td id=\"T_6f983_row4_col11\" class=\"data row4 col11\" >0.000000</td>\n",
       "      <td id=\"T_6f983_row4_col12\" class=\"data row4 col12\" >0.000000</td>\n",
       "      <td id=\"T_6f983_row4_col13\" class=\"data row4 col13\" >0.000000</td>\n",
       "      <td id=\"T_6f983_row4_col14\" class=\"data row4 col14\" >0.000000</td>\n",
       "      <td id=\"T_6f983_row4_col15\" class=\"data row4 col15\" >0.000000</td>\n",
       "      <td id=\"T_6f983_row4_col16\" class=\"data row4 col16\" >0.000000</td>\n",
       "      <td id=\"T_6f983_row4_col17\" class=\"data row4 col17\" >0.000000</td>\n",
       "      <td id=\"T_6f983_row4_col18\" class=\"data row4 col18\" >0.000000</td>\n",
       "      <td id=\"T_6f983_row4_col19\" class=\"data row4 col19\" >0.000000</td>\n",
       "      <td id=\"T_6f983_row4_col20\" class=\"data row4 col20\" >0.000000</td>\n",
       "      <td id=\"T_6f983_row4_col21\" class=\"data row4 col21\" >0.000000</td>\n",
       "      <td id=\"T_6f983_row4_col22\" class=\"data row4 col22\" >0.000000</td>\n",
       "    </tr>\n",
       "    <tr>\n",
       "      <th id=\"T_6f983_level0_row5\" class=\"row_heading level0 row5\" >5</th>\n",
       "      <td id=\"T_6f983_row5_col0\" class=\"data row5 col0\" >0.000000</td>\n",
       "      <td id=\"T_6f983_row5_col1\" class=\"data row5 col1\" >0.000000</td>\n",
       "      <td id=\"T_6f983_row5_col2\" class=\"data row5 col2\" >0.000000</td>\n",
       "      <td id=\"T_6f983_row5_col3\" class=\"data row5 col3\" >0.000000</td>\n",
       "      <td id=\"T_6f983_row5_col4\" class=\"data row5 col4\" >0.000000</td>\n",
       "      <td id=\"T_6f983_row5_col5\" class=\"data row5 col5\" >0.000000</td>\n",
       "      <td id=\"T_6f983_row5_col6\" class=\"data row5 col6\" >0.000000</td>\n",
       "      <td id=\"T_6f983_row5_col7\" class=\"data row5 col7\" >0.000000</td>\n",
       "      <td id=\"T_6f983_row5_col8\" class=\"data row5 col8\" >0.000000</td>\n",
       "      <td id=\"T_6f983_row5_col9\" class=\"data row5 col9\" >0.000000</td>\n",
       "      <td id=\"T_6f983_row5_col10\" class=\"data row5 col10\" >0.000000</td>\n",
       "      <td id=\"T_6f983_row5_col11\" class=\"data row5 col11\" >0.148438</td>\n",
       "      <td id=\"T_6f983_row5_col12\" class=\"data row5 col12\" >0.167969</td>\n",
       "      <td id=\"T_6f983_row5_col13\" class=\"data row5 col13\" >0.410156</td>\n",
       "      <td id=\"T_6f983_row5_col14\" class=\"data row5 col14\" >0.996094</td>\n",
       "      <td id=\"T_6f983_row5_col15\" class=\"data row5 col15\" >0.988281</td>\n",
       "      <td id=\"T_6f983_row5_col16\" class=\"data row5 col16\" >0.988281</td>\n",
       "      <td id=\"T_6f983_row5_col17\" class=\"data row5 col17\" >0.988281</td>\n",
       "      <td id=\"T_6f983_row5_col18\" class=\"data row5 col18\" >0.988281</td>\n",
       "      <td id=\"T_6f983_row5_col19\" class=\"data row5 col19\" >0.988281</td>\n",
       "      <td id=\"T_6f983_row5_col20\" class=\"data row5 col20\" >0.679688</td>\n",
       "      <td id=\"T_6f983_row5_col21\" class=\"data row5 col21\" >0.023438</td>\n",
       "      <td id=\"T_6f983_row5_col22\" class=\"data row5 col22\" >0.000000</td>\n",
       "    </tr>\n",
       "    <tr>\n",
       "      <th id=\"T_6f983_level0_row6\" class=\"row_heading level0 row6\" >6</th>\n",
       "      <td id=\"T_6f983_row6_col0\" class=\"data row6 col0\" >0.000000</td>\n",
       "      <td id=\"T_6f983_row6_col1\" class=\"data row6 col1\" >0.000000</td>\n",
       "      <td id=\"T_6f983_row6_col2\" class=\"data row6 col2\" >0.000000</td>\n",
       "      <td id=\"T_6f983_row6_col3\" class=\"data row6 col3\" >0.000000</td>\n",
       "      <td id=\"T_6f983_row6_col4\" class=\"data row6 col4\" >0.000000</td>\n",
       "      <td id=\"T_6f983_row6_col5\" class=\"data row6 col5\" >0.000000</td>\n",
       "      <td id=\"T_6f983_row6_col6\" class=\"data row6 col6\" >0.000000</td>\n",
       "      <td id=\"T_6f983_row6_col7\" class=\"data row6 col7\" >0.000000</td>\n",
       "      <td id=\"T_6f983_row6_col8\" class=\"data row6 col8\" >0.000000</td>\n",
       "      <td id=\"T_6f983_row6_col9\" class=\"data row6 col9\" >0.167969</td>\n",
       "      <td id=\"T_6f983_row6_col10\" class=\"data row6 col10\" >0.542969</td>\n",
       "      <td id=\"T_6f983_row6_col11\" class=\"data row6 col11\" >0.875000</td>\n",
       "      <td id=\"T_6f983_row6_col12\" class=\"data row6 col12\" >0.882812</td>\n",
       "      <td id=\"T_6f983_row6_col13\" class=\"data row6 col13\" >0.984375</td>\n",
       "      <td id=\"T_6f983_row6_col14\" class=\"data row6 col14\" >0.988281</td>\n",
       "      <td id=\"T_6f983_row6_col15\" class=\"data row6 col15\" >0.984375</td>\n",
       "      <td id=\"T_6f983_row6_col16\" class=\"data row6 col16\" >0.984375</td>\n",
       "      <td id=\"T_6f983_row6_col17\" class=\"data row6 col17\" >0.984375</td>\n",
       "      <td id=\"T_6f983_row6_col18\" class=\"data row6 col18\" >0.984375</td>\n",
       "      <td id=\"T_6f983_row6_col19\" class=\"data row6 col19\" >0.984375</td>\n",
       "      <td id=\"T_6f983_row6_col20\" class=\"data row6 col20\" >0.984375</td>\n",
       "      <td id=\"T_6f983_row6_col21\" class=\"data row6 col21\" >0.617188</td>\n",
       "      <td id=\"T_6f983_row6_col22\" class=\"data row6 col22\" >0.054688</td>\n",
       "    </tr>\n",
       "    <tr>\n",
       "      <th id=\"T_6f983_level0_row7\" class=\"row_heading level0 row7\" >7</th>\n",
       "      <td id=\"T_6f983_row7_col0\" class=\"data row7 col0\" >0.000000</td>\n",
       "      <td id=\"T_6f983_row7_col1\" class=\"data row7 col1\" >0.000000</td>\n",
       "      <td id=\"T_6f983_row7_col2\" class=\"data row7 col2\" >0.000000</td>\n",
       "      <td id=\"T_6f983_row7_col3\" class=\"data row7 col3\" >0.000000</td>\n",
       "      <td id=\"T_6f983_row7_col4\" class=\"data row7 col4\" >0.000000</td>\n",
       "      <td id=\"T_6f983_row7_col5\" class=\"data row7 col5\" >0.000000</td>\n",
       "      <td id=\"T_6f983_row7_col6\" class=\"data row7 col6\" >0.000000</td>\n",
       "      <td id=\"T_6f983_row7_col7\" class=\"data row7 col7\" >0.000000</td>\n",
       "      <td id=\"T_6f983_row7_col8\" class=\"data row7 col8\" >0.000000</td>\n",
       "      <td id=\"T_6f983_row7_col9\" class=\"data row7 col9\" >0.695312</td>\n",
       "      <td id=\"T_6f983_row7_col10\" class=\"data row7 col10\" >0.984375</td>\n",
       "      <td id=\"T_6f983_row7_col11\" class=\"data row7 col11\" >0.984375</td>\n",
       "      <td id=\"T_6f983_row7_col12\" class=\"data row7 col12\" >0.984375</td>\n",
       "      <td id=\"T_6f983_row7_col13\" class=\"data row7 col13\" >0.984375</td>\n",
       "      <td id=\"T_6f983_row7_col14\" class=\"data row7 col14\" >0.988281</td>\n",
       "      <td id=\"T_6f983_row7_col15\" class=\"data row7 col15\" >0.984375</td>\n",
       "      <td id=\"T_6f983_row7_col16\" class=\"data row7 col16\" >0.984375</td>\n",
       "      <td id=\"T_6f983_row7_col17\" class=\"data row7 col17\" >0.984375</td>\n",
       "      <td id=\"T_6f983_row7_col18\" class=\"data row7 col18\" >0.984375</td>\n",
       "      <td id=\"T_6f983_row7_col19\" class=\"data row7 col19\" >0.984375</td>\n",
       "      <td id=\"T_6f983_row7_col20\" class=\"data row7 col20\" >0.984375</td>\n",
       "      <td id=\"T_6f983_row7_col21\" class=\"data row7 col21\" >0.984375</td>\n",
       "      <td id=\"T_6f983_row7_col22\" class=\"data row7 col22\" >0.230469</td>\n",
       "    </tr>\n",
       "    <tr>\n",
       "      <th id=\"T_6f983_level0_row8\" class=\"row_heading level0 row8\" >8</th>\n",
       "      <td id=\"T_6f983_row8_col0\" class=\"data row8 col0\" >0.000000</td>\n",
       "      <td id=\"T_6f983_row8_col1\" class=\"data row8 col1\" >0.000000</td>\n",
       "      <td id=\"T_6f983_row8_col2\" class=\"data row8 col2\" >0.000000</td>\n",
       "      <td id=\"T_6f983_row8_col3\" class=\"data row8 col3\" >0.000000</td>\n",
       "      <td id=\"T_6f983_row8_col4\" class=\"data row8 col4\" >0.000000</td>\n",
       "      <td id=\"T_6f983_row8_col5\" class=\"data row8 col5\" >0.000000</td>\n",
       "      <td id=\"T_6f983_row8_col6\" class=\"data row8 col6\" >0.000000</td>\n",
       "      <td id=\"T_6f983_row8_col7\" class=\"data row8 col7\" >0.000000</td>\n",
       "      <td id=\"T_6f983_row8_col8\" class=\"data row8 col8\" >0.000000</td>\n",
       "      <td id=\"T_6f983_row8_col9\" class=\"data row8 col9\" >0.425781</td>\n",
       "      <td id=\"T_6f983_row8_col10\" class=\"data row8 col10\" >0.984375</td>\n",
       "      <td id=\"T_6f983_row8_col11\" class=\"data row8 col11\" >0.984375</td>\n",
       "      <td id=\"T_6f983_row8_col12\" class=\"data row8 col12\" >0.898438</td>\n",
       "      <td id=\"T_6f983_row8_col13\" class=\"data row8 col13\" >0.515625</td>\n",
       "      <td id=\"T_6f983_row8_col14\" class=\"data row8 col14\" >0.519531</td>\n",
       "      <td id=\"T_6f983_row8_col15\" class=\"data row8 col15\" >0.515625</td>\n",
       "      <td id=\"T_6f983_row8_col16\" class=\"data row8 col16\" >0.515625</td>\n",
       "      <td id=\"T_6f983_row8_col17\" class=\"data row8 col17\" >0.738281</td>\n",
       "      <td id=\"T_6f983_row8_col18\" class=\"data row8 col18\" >0.984375</td>\n",
       "      <td id=\"T_6f983_row8_col19\" class=\"data row8 col19\" >0.984375</td>\n",
       "      <td id=\"T_6f983_row8_col20\" class=\"data row8 col20\" >0.984375</td>\n",
       "      <td id=\"T_6f983_row8_col21\" class=\"data row8 col21\" >0.984375</td>\n",
       "      <td id=\"T_6f983_row8_col22\" class=\"data row8 col22\" >0.230469</td>\n",
       "    </tr>\n",
       "    <tr>\n",
       "      <th id=\"T_6f983_level0_row9\" class=\"row_heading level0 row9\" >9</th>\n",
       "      <td id=\"T_6f983_row9_col0\" class=\"data row9 col0\" >0.000000</td>\n",
       "      <td id=\"T_6f983_row9_col1\" class=\"data row9 col1\" >0.000000</td>\n",
       "      <td id=\"T_6f983_row9_col2\" class=\"data row9 col2\" >0.000000</td>\n",
       "      <td id=\"T_6f983_row9_col3\" class=\"data row9 col3\" >0.000000</td>\n",
       "      <td id=\"T_6f983_row9_col4\" class=\"data row9 col4\" >0.000000</td>\n",
       "      <td id=\"T_6f983_row9_col5\" class=\"data row9 col5\" >0.000000</td>\n",
       "      <td id=\"T_6f983_row9_col6\" class=\"data row9 col6\" >0.000000</td>\n",
       "      <td id=\"T_6f983_row9_col7\" class=\"data row9 col7\" >0.000000</td>\n",
       "      <td id=\"T_6f983_row9_col8\" class=\"data row9 col8\" >0.000000</td>\n",
       "      <td id=\"T_6f983_row9_col9\" class=\"data row9 col9\" >0.015625</td>\n",
       "      <td id=\"T_6f983_row9_col10\" class=\"data row9 col10\" >0.113281</td>\n",
       "      <td id=\"T_6f983_row9_col11\" class=\"data row9 col11\" >0.113281</td>\n",
       "      <td id=\"T_6f983_row9_col12\" class=\"data row9 col12\" >0.093750</td>\n",
       "      <td id=\"T_6f983_row9_col13\" class=\"data row9 col13\" >0.000000</td>\n",
       "      <td id=\"T_6f983_row9_col14\" class=\"data row9 col14\" >0.000000</td>\n",
       "      <td id=\"T_6f983_row9_col15\" class=\"data row9 col15\" >0.000000</td>\n",
       "      <td id=\"T_6f983_row9_col16\" class=\"data row9 col16\" >0.000000</td>\n",
       "      <td id=\"T_6f983_row9_col17\" class=\"data row9 col17\" >0.054688</td>\n",
       "      <td id=\"T_6f983_row9_col18\" class=\"data row9 col18\" >0.882812</td>\n",
       "      <td id=\"T_6f983_row9_col19\" class=\"data row9 col19\" >0.984375</td>\n",
       "      <td id=\"T_6f983_row9_col20\" class=\"data row9 col20\" >0.984375</td>\n",
       "      <td id=\"T_6f983_row9_col21\" class=\"data row9 col21\" >0.671875</td>\n",
       "      <td id=\"T_6f983_row9_col22\" class=\"data row9 col22\" >0.027344</td>\n",
       "    </tr>\n",
       "    <tr>\n",
       "      <th id=\"T_6f983_level0_row10\" class=\"row_heading level0 row10\" >10</th>\n",
       "      <td id=\"T_6f983_row10_col0\" class=\"data row10 col0\" >0.000000</td>\n",
       "      <td id=\"T_6f983_row10_col1\" class=\"data row10 col1\" >0.000000</td>\n",
       "      <td id=\"T_6f983_row10_col2\" class=\"data row10 col2\" >0.000000</td>\n",
       "      <td id=\"T_6f983_row10_col3\" class=\"data row10 col3\" >0.000000</td>\n",
       "      <td id=\"T_6f983_row10_col4\" class=\"data row10 col4\" >0.000000</td>\n",
       "      <td id=\"T_6f983_row10_col5\" class=\"data row10 col5\" >0.000000</td>\n",
       "      <td id=\"T_6f983_row10_col6\" class=\"data row10 col6\" >0.000000</td>\n",
       "      <td id=\"T_6f983_row10_col7\" class=\"data row10 col7\" >0.000000</td>\n",
       "      <td id=\"T_6f983_row10_col8\" class=\"data row10 col8\" >0.000000</td>\n",
       "      <td id=\"T_6f983_row10_col9\" class=\"data row10 col9\" >0.000000</td>\n",
       "      <td id=\"T_6f983_row10_col10\" class=\"data row10 col10\" >0.000000</td>\n",
       "      <td id=\"T_6f983_row10_col11\" class=\"data row10 col11\" >0.000000</td>\n",
       "      <td id=\"T_6f983_row10_col12\" class=\"data row10 col12\" >0.000000</td>\n",
       "      <td id=\"T_6f983_row10_col13\" class=\"data row10 col13\" >0.000000</td>\n",
       "      <td id=\"T_6f983_row10_col14\" class=\"data row10 col14\" >0.000000</td>\n",
       "      <td id=\"T_6f983_row10_col15\" class=\"data row10 col15\" >0.000000</td>\n",
       "      <td id=\"T_6f983_row10_col16\" class=\"data row10 col16\" >0.000000</td>\n",
       "      <td id=\"T_6f983_row10_col17\" class=\"data row10 col17\" >0.332031</td>\n",
       "      <td id=\"T_6f983_row10_col18\" class=\"data row10 col18\" >0.949219</td>\n",
       "      <td id=\"T_6f983_row10_col19\" class=\"data row10 col19\" >0.984375</td>\n",
       "      <td id=\"T_6f983_row10_col20\" class=\"data row10 col20\" >0.984375</td>\n",
       "      <td id=\"T_6f983_row10_col21\" class=\"data row10 col21\" >0.562500</td>\n",
       "      <td id=\"T_6f983_row10_col22\" class=\"data row10 col22\" >0.000000</td>\n",
       "    </tr>\n",
       "    <tr>\n",
       "      <th id=\"T_6f983_level0_row11\" class=\"row_heading level0 row11\" >11</th>\n",
       "      <td id=\"T_6f983_row11_col0\" class=\"data row11 col0\" >0.000000</td>\n",
       "      <td id=\"T_6f983_row11_col1\" class=\"data row11 col1\" >0.000000</td>\n",
       "      <td id=\"T_6f983_row11_col2\" class=\"data row11 col2\" >0.000000</td>\n",
       "      <td id=\"T_6f983_row11_col3\" class=\"data row11 col3\" >0.000000</td>\n",
       "      <td id=\"T_6f983_row11_col4\" class=\"data row11 col4\" >0.000000</td>\n",
       "      <td id=\"T_6f983_row11_col5\" class=\"data row11 col5\" >0.000000</td>\n",
       "      <td id=\"T_6f983_row11_col6\" class=\"data row11 col6\" >0.000000</td>\n",
       "      <td id=\"T_6f983_row11_col7\" class=\"data row11 col7\" >0.000000</td>\n",
       "      <td id=\"T_6f983_row11_col8\" class=\"data row11 col8\" >0.000000</td>\n",
       "      <td id=\"T_6f983_row11_col9\" class=\"data row11 col9\" >0.000000</td>\n",
       "      <td id=\"T_6f983_row11_col10\" class=\"data row11 col10\" >0.000000</td>\n",
       "      <td id=\"T_6f983_row11_col11\" class=\"data row11 col11\" >0.000000</td>\n",
       "      <td id=\"T_6f983_row11_col12\" class=\"data row11 col12\" >0.000000</td>\n",
       "      <td id=\"T_6f983_row11_col13\" class=\"data row11 col13\" >0.000000</td>\n",
       "      <td id=\"T_6f983_row11_col14\" class=\"data row11 col14\" >0.000000</td>\n",
       "      <td id=\"T_6f983_row11_col15\" class=\"data row11 col15\" >0.000000</td>\n",
       "      <td id=\"T_6f983_row11_col16\" class=\"data row11 col16\" >0.343750</td>\n",
       "      <td id=\"T_6f983_row11_col17\" class=\"data row11 col17\" >0.738281</td>\n",
       "      <td id=\"T_6f983_row11_col18\" class=\"data row11 col18\" >0.984375</td>\n",
       "      <td id=\"T_6f983_row11_col19\" class=\"data row11 col19\" >0.984375</td>\n",
       "      <td id=\"T_6f983_row11_col20\" class=\"data row11 col20\" >0.984375</td>\n",
       "      <td id=\"T_6f983_row11_col21\" class=\"data row11 col21\" >0.054688</td>\n",
       "      <td id=\"T_6f983_row11_col22\" class=\"data row11 col22\" >0.000000</td>\n",
       "    </tr>\n",
       "    <tr>\n",
       "      <th id=\"T_6f983_level0_row12\" class=\"row_heading level0 row12\" >12</th>\n",
       "      <td id=\"T_6f983_row12_col0\" class=\"data row12 col0\" >0.000000</td>\n",
       "      <td id=\"T_6f983_row12_col1\" class=\"data row12 col1\" >0.000000</td>\n",
       "      <td id=\"T_6f983_row12_col2\" class=\"data row12 col2\" >0.000000</td>\n",
       "      <td id=\"T_6f983_row12_col3\" class=\"data row12 col3\" >0.000000</td>\n",
       "      <td id=\"T_6f983_row12_col4\" class=\"data row12 col4\" >0.000000</td>\n",
       "      <td id=\"T_6f983_row12_col5\" class=\"data row12 col5\" >0.000000</td>\n",
       "      <td id=\"T_6f983_row12_col6\" class=\"data row12 col6\" >0.000000</td>\n",
       "      <td id=\"T_6f983_row12_col7\" class=\"data row12 col7\" >0.000000</td>\n",
       "      <td id=\"T_6f983_row12_col8\" class=\"data row12 col8\" >0.000000</td>\n",
       "      <td id=\"T_6f983_row12_col9\" class=\"data row12 col9\" >0.000000</td>\n",
       "      <td id=\"T_6f983_row12_col10\" class=\"data row12 col10\" >0.000000</td>\n",
       "      <td id=\"T_6f983_row12_col11\" class=\"data row12 col11\" >0.000000</td>\n",
       "      <td id=\"T_6f983_row12_col12\" class=\"data row12 col12\" >0.000000</td>\n",
       "      <td id=\"T_6f983_row12_col13\" class=\"data row12 col13\" >0.000000</td>\n",
       "      <td id=\"T_6f983_row12_col14\" class=\"data row12 col14\" >0.355469</td>\n",
       "      <td id=\"T_6f983_row12_col15\" class=\"data row12 col15\" >0.828125</td>\n",
       "      <td id=\"T_6f983_row12_col16\" class=\"data row12 col16\" >0.964844</td>\n",
       "      <td id=\"T_6f983_row12_col17\" class=\"data row12 col17\" >0.984375</td>\n",
       "      <td id=\"T_6f983_row12_col18\" class=\"data row12 col18\" >0.984375</td>\n",
       "      <td id=\"T_6f983_row12_col19\" class=\"data row12 col19\" >0.984375</td>\n",
       "      <td id=\"T_6f983_row12_col20\" class=\"data row12 col20\" >0.796875</td>\n",
       "      <td id=\"T_6f983_row12_col21\" class=\"data row12 col21\" >0.035156</td>\n",
       "      <td id=\"T_6f983_row12_col22\" class=\"data row12 col22\" >0.000000</td>\n",
       "    </tr>\n",
       "  </tbody>\n",
       "</table>\n"
      ],
      "text/plain": [
       "<pandas.io.formats.style.Styler at 0x179c62bd0>"
      ]
     },
     "execution_count": 51,
     "metadata": {},
     "output_type": "execute_result"
    }
   ],
   "source": [
    "df = pd.DataFrame(img3[:13, :23])\n",
    "df.style"
   ]
  },
  {
   "cell_type": "code",
   "execution_count": 57,
   "id": "b1c4a537",
   "metadata": {},
   "outputs": [
    {
     "data": {
      "text/plain": [
       "tensor(2.9727)"
      ]
     },
     "execution_count": 57,
     "metadata": {},
     "output_type": "execute_result"
    }
   ],
   "source": [
    "(img3[3:6, 14:17] * top_edges).sum()"
   ]
  },
  {
   "cell_type": "code",
   "execution_count": 62,
   "id": "bc5ffed7",
   "metadata": {},
   "outputs": [
    {
     "data": {
      "text/plain": [
       "tensor(-2.9570)"
      ]
     },
     "execution_count": 62,
     "metadata": {},
     "output_type": "execute_result"
    }
   ],
   "source": [
    "(img3[7:10, 14:17] * top_edges).sum()"
   ]
  },
  {
   "cell_type": "code",
   "execution_count": 67,
   "id": "4651ccba",
   "metadata": {},
   "outputs": [],
   "source": [
    "def apply_kernel(row, col, kernel):\n",
    "    return (img3[row-1:row+2, col-1:col+2] * kernel).sum()"
   ]
  },
  {
   "cell_type": "code",
   "execution_count": 68,
   "id": "b569bf7e",
   "metadata": {},
   "outputs": [
    {
     "data": {
      "text/plain": [
       "tensor(2.9727)"
      ]
     },
     "execution_count": 68,
     "metadata": {},
     "output_type": "execute_result"
    }
   ],
   "source": [
    "apply_kernel(4, 15, top_edges)"
   ]
  },
  {
   "cell_type": "code",
   "execution_count": 74,
   "id": "3b4efe3a",
   "metadata": {},
   "outputs": [
    {
     "data": {
      "text/plain": [
       "[[(0, 0), (0, 1), (0, 2)],\n",
       " [(1, 0), (1, 1), (1, 2)],\n",
       " [(2, 0), (2, 1), (2, 2)],\n",
       " [(3, 0), (3, 1), (3, 2)]]"
      ]
     },
     "execution_count": 74,
     "metadata": {},
     "output_type": "execute_result"
    }
   ],
   "source": [
    "[[(i, j) for j in range(3)] for i in range(4)]"
   ]
  },
  {
   "cell_type": "code",
   "execution_count": 75,
   "id": "ab3bfc9f",
   "metadata": {},
   "outputs": [],
   "source": [
    "rng = range(1, 27)"
   ]
  },
  {
   "cell_type": "code",
   "execution_count": 77,
   "id": "66985a7c",
   "metadata": {},
   "outputs": [],
   "source": [
    "top_edge3 = [[apply_kernel(i, j, top_edges) for j in rng] for i in rng]"
   ]
  },
  {
   "cell_type": "code",
   "execution_count": 78,
   "id": "ba1ea722",
   "metadata": {},
   "outputs": [
    {
     "data": {
      "text/plain": [
       "<matplotlib.image.AxesImage at 0x17612b9d0>"
      ]
     },
     "execution_count": 78,
     "metadata": {},
     "output_type": "execute_result"
    },
    {
     "data": {
      "image/png": "[encoded data removed]",
      "text/plain": [
       "<Figure size 480x320 with 1 Axes>"
      ]
     },
     "metadata": {
      "needs_background": "light"
     },
     "output_type": "display_data"
    }
   ],
   "source": [
    "plt.imshow(top_edge3)"
   ]
  },
  {
   "cell_type": "code",
   "execution_count": 79,
   "id": "e7ce1beb",
   "metadata": {},
   "outputs": [],
   "source": [
    "left_edge = torch.tensor([\n",
    "    [-1, 0, 1],\n",
    "    [-1, 0, 1],\n",
    "    [-1, 0, 1]\n",
    "])"
   ]
  },
  {
   "cell_type": "code",
   "execution_count": 80,
   "id": "83bdefa1",
   "metadata": {},
   "outputs": [
    {
     "data": {
      "text/plain": [
       "<matplotlib.image.AxesImage at 0x179fcf990>"
      ]
     },
     "execution_count": 80,
     "metadata": {},
     "output_type": "execute_result"
    },
    {
     "data": {
      "image/png": "[encoded data removed]",
      "text/plain": [
       "<Figure size 480x320 with 1 Axes>"
      ]
     },
     "metadata": {
      "needs_background": "light"
     },
     "output_type": "display_data"
    }
   ],
   "source": [
    "plt.imshow(left_edge)"
   ]
  },
  {
   "cell_type": "code",
   "execution_count": 81,
   "id": "aeb6f3f6",
   "metadata": {},
   "outputs": [],
   "source": [
    "left_edge3 = [[apply_kernel(i, j, left_edge) for j in rng] for i in rng]"
   ]
  },
  {
   "cell_type": "code",
   "execution_count": 82,
   "id": "d824c9d5",
   "metadata": {},
   "outputs": [
    {
     "data": {
      "text/plain": [
       "<matplotlib.image.AxesImage at 0x17a078b90>"
      ]
     },
     "execution_count": 82,
     "metadata": {},
     "output_type": "execute_result"
    },
    {
     "data": {
      "image/png": "[encoded data removed]",
      "text/plain": [
       "<Figure size 480x320 with 1 Axes>"
      ]
     },
     "metadata": {
      "needs_background": "light"
     },
     "output_type": "display_data"
    }
   ],
   "source": [
    "plt.imshow(left_edge3)"
   ]
  },
  {
   "cell_type": "code",
   "execution_count": 88,
   "id": "28146f24",
   "metadata": {},
   "outputs": [
    {
     "data": {
      "text/plain": [
       "torch.Size([28, 28])"
      ]
     },
     "execution_count": 88,
     "metadata": {},
     "output_type": "execute_result"
    }
   ],
   "source": [
    "img3.shape"
   ]
  },
  {
   "cell_type": "code",
   "execution_count": 94,
   "id": "00d77111",
   "metadata": {},
   "outputs": [
    {
     "data": {
      "text/plain": [
       "torch.Size([1, 1, 28, 28])"
      ]
     },
     "execution_count": 94,
     "metadata": {},
     "output_type": "execute_result"
    }
   ],
   "source": [
    "inp = img3[None,None,:,:]\n",
    "inp.shape"
   ]
  },
  {
   "cell_type": "code",
   "execution_count": 124,
   "id": "e142432f",
   "metadata": {},
   "outputs": [
    {
     "data": {
      "text/plain": [
       "torch.Size([9, 676])"
      ]
     },
     "execution_count": 124,
     "metadata": {},
     "output_type": "execute_result"
    }
   ],
   "source": [
    "inp_unf = F.unfold(inp, (3, 3))[0]\n",
    "inp_unf.shape"
   ]
  },
  {
   "cell_type": "code",
   "execution_count": 128,
   "id": "806ac166",
   "metadata": {},
   "outputs": [
    {
     "data": {
      "text/plain": [
       "tensor([[-1,  0,  1],\n",
       "        [-1,  0,  1],\n",
       "        [-1,  0,  1]])"
      ]
     },
     "execution_count": 128,
     "metadata": {},
     "output_type": "execute_result"
    }
   ],
   "source": [
    "left_edge"
   ]
  },
  {
   "cell_type": "code",
   "execution_count": 134,
   "id": "dc4e505b",
   "metadata": {},
   "outputs": [
    {
     "data": {
      "text/plain": [
       "torch.Size([9])"
      ]
     },
     "execution_count": 134,
     "metadata": {},
     "output_type": "execute_result"
    }
   ],
   "source": [
    "w = left_edge.view(-1).float()\n",
    "w.shape"
   ]
  },
  {
   "cell_type": "code",
   "execution_count": 135,
   "id": "f0701ac7",
   "metadata": {},
   "outputs": [],
   "source": [
    "out_unf = w@inp_unf"
   ]
  },
  {
   "cell_type": "code",
   "execution_count": 138,
   "id": "a054f8dd",
   "metadata": {},
   "outputs": [
    {
     "data": {
      "text/plain": [
       "torch.Size([676])"
      ]
     },
     "execution_count": 138,
     "metadata": {},
     "output_type": "execute_result"
    }
   ],
   "source": [
    "out_unf.shape"
   ]
  },
  {
   "cell_type": "code",
   "execution_count": 146,
   "id": "528cd623",
   "metadata": {},
   "outputs": [],
   "source": [
    "out = out_unf.view(26, 26)"
   ]
  },
  {
   "cell_type": "code",
   "execution_count": 147,
   "id": "c236940e",
   "metadata": {},
   "outputs": [
    {
     "data": {
      "text/plain": [
       "torch.Size([26, 26])"
      ]
     },
     "execution_count": 147,
     "metadata": {},
     "output_type": "execute_result"
    }
   ],
   "source": [
    "out.shape"
   ]
  },
  {
   "cell_type": "code",
   "execution_count": 148,
   "id": "e3628b1e",
   "metadata": {},
   "outputs": [
    {
     "data": {
      "text/plain": [
       "<matplotlib.image.AxesImage at 0x17b6d8b90>"
      ]
     },
     "execution_count": 148,
     "metadata": {},
     "output_type": "execute_result"
    },
    {
     "data": {
      "image/png": "[encoded data removed]",
      "text/plain": [
       "<Figure size 480x320 with 1 Axes>"
      ]
     },
     "metadata": {
      "needs_background": "light"
     },
     "output_type": "display_data"
    }
   ],
   "source": [
    "plt.imshow(out)"
   ]
  },
  {
   "cell_type": "code",
   "execution_count": 154,
   "id": "133d1197",
   "metadata": {},
   "outputs": [],
   "source": [
    "import pdb"
   ]
  },
  {
   "cell_type": "code",
   "execution_count": 165,
   "id": "72de97a2",
   "metadata": {},
   "outputs": [],
   "source": [
    "def fnx(n):\n",
    "#     pdb.set_trace()\n",
    "    for i in range(n):\n",
    "        print(f'hello {i+1}')"
   ]
  },
  {
   "cell_type": "code",
   "execution_count": 166,
   "id": "2aa5af33",
   "metadata": {
    "scrolled": true
   },
   "outputs": [
    {
     "name": "stdout",
     "output_type": "stream",
     "text": [
      "hello 1\n",
      "hello 2\n",
      "hello 3\n",
      "hello 4\n",
      "hello 5\n"
     ]
    }
   ],
   "source": [
    "fnx(5)"
   ]
  },
  {
   "cell_type": "code",
   "execution_count": null,
   "id": "49ee61fa",
   "metadata": {},
   "outputs": [],
   "source": []
  },
  {
   "cell_type": "code",
   "execution_count": null,
   "id": "c5783985",
   "metadata": {},
   "outputs": [],
   "source": []
  },
  {
   "cell_type": "code",
   "execution_count": null,
   "id": "5f23ba66",
   "metadata": {},
   "outputs": [],
   "source": []
  },
  {
   "cell_type": "code",
   "execution_count": null,
   "id": "fcfec0a1",
   "metadata": {},
   "outputs": [],
   "source": []
  },
  {
   "cell_type": "code",
   "execution_count": null,
   "id": "8f706a5c",
   "metadata": {},
   "outputs": [],
   "source": []
  },
  {
   "cell_type": "code",
   "execution_count": null,
   "id": "4e72e2c4",
   "metadata": {},
   "outputs": [],
   "source": []
  },
  {
   "cell_type": "code",
   "execution_count": null,
   "id": "24cb4870",
   "metadata": {},
   "outputs": [],
   "source": []
  }
 ],
 "metadata": {
  "kernelspec": {
   "display_name": "Python [conda env:python_main] *",
   "language": "python",
   "name": "conda-env-python_main-py"
  },
  "language_info": {
   "codemirror_mode": {
    "name": "ipython",
    "version": 3
   },
   "file_extension": ".py",
   "mimetype": "text/x-python",
   "name": "python",
   "nbconvert_exporter": "python",
   "pygments_lexer": "ipython3",
   "version": "3.11.0"
  }
 },
 "nbformat": 4,
 "nbformat_minor": 5
}
