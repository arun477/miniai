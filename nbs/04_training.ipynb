{
 "cells": [
  {
   "cell_type": "code",
   "execution_count": 1,
   "id": "96ced4c6",
   "metadata": {},
   "outputs": [],
   "source": [
    "#|default_exp training"
   ]
  },
  {
   "cell_type": "code",
   "execution_count": 2,
   "id": "33da3cbd",
   "metadata": {},
   "outputs": [],
   "source": [
    "#|export\n",
    "import pickle,gzip,math,os,time,shutil,torch,matplotlib as mpl,numpy as np,matplotlib.pyplot as plt\n",
    "from pathlib import Path\n",
    "from torch import tensor,nn\n",
    "import torch.nn.functional as F"
   ]
  },
  {
   "cell_type": "markdown",
   "id": "dc545284",
   "metadata": {},
   "source": [
    "### Data"
   ]
  },
  {
   "cell_type": "code",
   "execution_count": 5,
   "id": "8b4be0a2",
   "metadata": {},
   "outputs": [
    {
     "data": {
      "text/plain": [
       "(torch.Size([50000, 784]),\n",
       " torch.Size([50000]),\n",
       " torch.Size([10000, 784]),\n",
       " torch.Size([10000]))"
      ]
     },
     "execution_count": 5,
     "metadata": {},
     "output_type": "execute_result"
    }
   ],
   "source": [
    "data = None\n",
    "with gzip.open('../data/mnist.pkl.gz', 'rb') as f:\n",
    "    data = pickle.load(f, encoding='latin')\n",
    "((x_train,y_train),(x_val,y_val), _) = data\n",
    "(x_train,y_train,x_val,y_val) = map(tensor, (x_train,y_train,x_val,y_val))\n",
    "x_train.shape,y_train.shape,x_val.shape,y_val.shape"
   ]
  },
  {
   "cell_type": "markdown",
   "id": "e6efc614",
   "metadata": {},
   "source": [
    "### Prediction flow"
   ]
  },
  {
   "cell_type": "code",
   "execution_count": 213,
   "id": "ac879fe7",
   "metadata": {},
   "outputs": [],
   "source": [
    "m,n = x_train.shape\n",
    "c = max(y_train) + 1\n",
    "nh = 50\n",
    "n_out = 10"
   ]
  },
  {
   "cell_type": "code",
   "execution_count": 231,
   "id": "13638e67",
   "metadata": {},
   "outputs": [],
   "source": [
    "class Model(nn.Module):\n",
    "    def __init__(self, n_in, nh, n_out):\n",
    "        super().__init__()\n",
    "        self.layers = [nn.Linear(n_in, nh), nn.ReLU(), nn.Linear(nh, n_out)]\n",
    "    \n",
    "    def __call__(self, x):\n",
    "        for l in self.layers:\n",
    "            x = l(x)\n",
    "        return x"
   ]
  },
  {
   "cell_type": "code",
   "execution_count": 232,
   "id": "9f231680",
   "metadata": {},
   "outputs": [
    {
     "data": {
      "text/plain": [
       "torch.Size([50000, 10])"
      ]
     },
     "execution_count": 232,
     "metadata": {},
     "output_type": "execute_result"
    }
   ],
   "source": [
    "model = Model(n,nh,n_out)\n",
    "pred = model(x_train)\n",
    "pred.shape"
   ]
  },
  {
   "cell_type": "code",
   "execution_count": 223,
   "id": "aee4e2a1",
   "metadata": {},
   "outputs": [],
   "source": [
    "pred.sum().backward()"
   ]
  },
  {
   "cell_type": "code",
   "execution_count": 224,
   "id": "f8e58cbd",
   "metadata": {},
   "outputs": [
    {
     "data": {
      "text/plain": [
       "tensor(9107.3145)"
      ]
     },
     "execution_count": 224,
     "metadata": {},
     "output_type": "execute_result"
    }
   ],
   "source": [
    "model.layers[0].weight.grad.max()"
   ]
  },
  {
   "cell_type": "code",
   "execution_count": 225,
   "id": "67782e51",
   "metadata": {},
   "outputs": [
    {
     "data": {
      "text/plain": [
       "[]"
      ]
     },
     "execution_count": 225,
     "metadata": {},
     "output_type": "execute_result"
    }
   ],
   "source": [
    "[ele for ele in model.parameters()]"
   ]
  },
  {
   "cell_type": "markdown",
   "id": "75da3bd6",
   "metadata": {},
   "source": [
    "###  Cross entropy loss"
   ]
  },
  {
   "cell_type": "code",
   "execution_count": 36,
   "id": "a939053f",
   "metadata": {},
   "outputs": [],
   "source": [
    "def log_softmax(x):\n",
    "    return (x.exp()/x.exp().sum(-1, keepdim=True)).log()"
   ]
  },
  {
   "cell_type": "code",
   "execution_count": 38,
   "id": "cc18d6e4",
   "metadata": {},
   "outputs": [
    {
     "data": {
      "text/plain": [
       "tensor([[-2.3048, -2.2415, -2.2480,  ..., -2.1866, -2.2036, -2.3776],\n",
       "        [-2.4131, -2.2731, -2.1568,  ..., -2.2583, -2.1803, -2.2698],\n",
       "        [-2.4295, -2.1087, -2.2318,  ..., -2.1927, -2.2782, -2.4518],\n",
       "        ...,\n",
       "        [-2.3280, -2.2321, -2.2526,  ..., -2.2195, -2.3059, -2.3306],\n",
       "        [-2.4395, -2.0856, -2.1918,  ..., -2.1651, -2.2479, -2.3557],\n",
       "        [-2.3856, -2.0988, -2.1821,  ..., -2.2111, -2.3032, -2.3954]],\n",
       "       grad_fn=<LogBackward0>)"
      ]
     },
     "execution_count": 38,
     "metadata": {},
     "output_type": "execute_result"
    }
   ],
   "source": [
    "t1 = log_softmax(pred)\n",
    "t1"
   ]
  },
  {
   "cell_type": "code",
   "execution_count": 39,
   "id": "60a19d77",
   "metadata": {},
   "outputs": [],
   "source": [
    "def log_softmax(x):\n",
    "    return x.exp().log() - x.exp().sum(-1, keepdim=True).log()"
   ]
  },
  {
   "cell_type": "code",
   "execution_count": 40,
   "id": "faa8135c",
   "metadata": {},
   "outputs": [
    {
     "data": {
      "text/plain": [
       "tensor([[-2.3048, -2.2415, -2.2480,  ..., -2.1866, -2.2036, -2.3776],\n",
       "        [-2.4131, -2.2731, -2.1568,  ..., -2.2583, -2.1803, -2.2698],\n",
       "        [-2.4295, -2.1087, -2.2318,  ..., -2.1927, -2.2782, -2.4518],\n",
       "        ...,\n",
       "        [-2.3280, -2.2321, -2.2526,  ..., -2.2195, -2.3059, -2.3306],\n",
       "        [-2.4395, -2.0856, -2.1918,  ..., -2.1651, -2.2479, -2.3557],\n",
       "        [-2.3856, -2.0988, -2.1821,  ..., -2.2111, -2.3032, -2.3954]],\n",
       "       grad_fn=<SubBackward0>)"
      ]
     },
     "execution_count": 40,
     "metadata": {},
     "output_type": "execute_result"
    }
   ],
   "source": [
    "t2 = log_softmax(pred)\n",
    "t2"
   ]
  },
  {
   "cell_type": "code",
   "execution_count": 41,
   "id": "42559bd8",
   "metadata": {},
   "outputs": [
    {
     "data": {
      "text/plain": [
       "True"
      ]
     },
     "execution_count": 41,
     "metadata": {},
     "output_type": "execute_result"
    }
   ],
   "source": [
    "torch.allclose(t1, t2)"
   ]
  },
  {
   "cell_type": "code",
   "execution_count": 96,
   "id": "f2c6a4ee",
   "metadata": {},
   "outputs": [],
   "source": [
    "def logsumexp(x):\n",
    "    m = x.max(-1)[0]\n",
    "    return m + ((x-m[:,None]).exp()).sum(-1).log()\n",
    "     "
   ]
  },
  {
   "cell_type": "code",
   "execution_count": 87,
   "id": "57c796ed",
   "metadata": {},
   "outputs": [],
   "source": [
    "def logsum(x):\n",
    "    m = x.max(-1)[0]\n",
    "    return m + ((x-m[:,None]).exp()).sum(-1).log()"
   ]
  },
  {
   "cell_type": "code",
   "execution_count": 97,
   "id": "38ebf9ba",
   "metadata": {},
   "outputs": [
    {
     "data": {
      "text/plain": [
       "tensor([2.3366, 2.3449, 2.3489,  ..., 2.3423, 2.3752, 2.3320],\n",
       "       grad_fn=<AddBackward0>)"
      ]
     },
     "execution_count": 97,
     "metadata": {},
     "output_type": "execute_result"
    }
   ],
   "source": [
    "logsum(pred)"
   ]
  },
  {
   "cell_type": "code",
   "execution_count": 98,
   "id": "1a633d98",
   "metadata": {},
   "outputs": [],
   "source": [
    "def log_softmax(x):\n",
    "    return x.exp().log() - logsum(x)[:,None]"
   ]
  },
  {
   "cell_type": "code",
   "execution_count": 102,
   "id": "43eb80f7",
   "metadata": {},
   "outputs": [],
   "source": [
    "t3 = log_softmax(pred)"
   ]
  },
  {
   "cell_type": "code",
   "execution_count": 103,
   "id": "411a0e90",
   "metadata": {},
   "outputs": [
    {
     "data": {
      "text/plain": [
       "torch.Size([50000, 10])"
      ]
     },
     "execution_count": 103,
     "metadata": {},
     "output_type": "execute_result"
    }
   ],
   "source": [
    "t3.shape"
   ]
  },
  {
   "cell_type": "code",
   "execution_count": 104,
   "id": "d103815e",
   "metadata": {},
   "outputs": [
    {
     "data": {
      "text/plain": [
       "True"
      ]
     },
     "execution_count": 104,
     "metadata": {},
     "output_type": "execute_result"
    }
   ],
   "source": [
    "torch.allclose(t2, t3)"
   ]
  },
  {
   "cell_type": "code",
   "execution_count": 105,
   "id": "1ae7b09d",
   "metadata": {},
   "outputs": [],
   "source": [
    "def log_softmax(x):\n",
    "    return x - x.logsumexp(-1, keepdim=True)"
   ]
  },
  {
   "cell_type": "code",
   "execution_count": 106,
   "id": "011e4035",
   "metadata": {},
   "outputs": [
    {
     "data": {
      "text/plain": [
       "torch.Size([50000, 10])"
      ]
     },
     "execution_count": 106,
     "metadata": {},
     "output_type": "execute_result"
    }
   ],
   "source": [
    "t4 = log_softmax(pred)\n",
    "t4.shape"
   ]
  },
  {
   "cell_type": "code",
   "execution_count": 107,
   "id": "53e1bcb7",
   "metadata": {},
   "outputs": [
    {
     "data": {
      "text/plain": [
       "True"
      ]
     },
     "execution_count": 107,
     "metadata": {},
     "output_type": "execute_result"
    }
   ],
   "source": [
    "torch.allclose(t2, t4)"
   ]
  },
  {
   "cell_type": "code",
   "execution_count": 112,
   "id": "d9d13e3f",
   "metadata": {},
   "outputs": [
    {
     "data": {
      "text/plain": [
       "True"
      ]
     },
     "execution_count": 112,
     "metadata": {},
     "output_type": "execute_result"
    }
   ],
   "source": [
    "sm_pred = log_softmax(pred)\n",
    "torch.allclose(sm_pred, t4)"
   ]
  },
  {
   "cell_type": "code",
   "execution_count": 121,
   "id": "2b14e852",
   "metadata": {},
   "outputs": [],
   "source": [
    "def nll(input, target):\n",
    "    return -input[range(target.shape[0]), target].mean()"
   ]
  },
  {
   "cell_type": "code",
   "execution_count": 122,
   "id": "5f17e15f",
   "metadata": {},
   "outputs": [
    {
     "data": {
      "text/plain": [
       "tensor(2.3164, grad_fn=<NegBackward0>)"
      ]
     },
     "execution_count": 122,
     "metadata": {},
     "output_type": "execute_result"
    }
   ],
   "source": [
    "loss = nll(sm_pred, y_train)\n",
    "loss"
   ]
  },
  {
   "cell_type": "code",
   "execution_count": 125,
   "id": "63eaaf5f",
   "metadata": {},
   "outputs": [
    {
     "data": {
      "text/plain": [
       "tensor(2.3164, grad_fn=<NllLossBackward0>)"
      ]
     },
     "execution_count": 125,
     "metadata": {},
     "output_type": "execute_result"
    }
   ],
   "source": [
    "loss2 = F.nll_loss(sm_pred, y_train)\n",
    "loss2"
   ]
  },
  {
   "cell_type": "code",
   "execution_count": 126,
   "id": "ea31803d",
   "metadata": {},
   "outputs": [
    {
     "data": {
      "text/plain": [
       "tensor(2.3164, grad_fn=<NllLossBackward0>)"
      ]
     },
     "execution_count": 126,
     "metadata": {},
     "output_type": "execute_result"
    }
   ],
   "source": [
    "loss3 = F.cross_entropy(pred, y_train)\n",
    "loss3"
   ]
  },
  {
   "cell_type": "markdown",
   "id": "65665e3d",
   "metadata": {},
   "source": [
    "### Training loop"
   ]
  },
  {
   "cell_type": "code",
   "execution_count": 159,
   "id": "c188a408",
   "metadata": {},
   "outputs": [],
   "source": [
    "loss_func = F.cross_entropy"
   ]
  },
  {
   "cell_type": "code",
   "execution_count": 160,
   "id": "3dd48580",
   "metadata": {},
   "outputs": [],
   "source": [
    "bs = 50\n",
    "xb,yb = x_train[0:bs], y_train[0:bs]\n",
    "preds = model(xb)"
   ]
  },
  {
   "cell_type": "code",
   "execution_count": 161,
   "id": "6056cbdf",
   "metadata": {},
   "outputs": [
    {
     "data": {
      "text/plain": [
       "tensor(2.2975, grad_fn=<NllLossBackward0>)"
      ]
     },
     "execution_count": 161,
     "metadata": {},
     "output_type": "execute_result"
    }
   ],
   "source": [
    "loss = loss_func(preds, yb)\n",
    "loss"
   ]
  },
  {
   "cell_type": "code",
   "execution_count": 162,
   "id": "4c1811e0",
   "metadata": {},
   "outputs": [
    {
     "data": {
      "text/plain": [
       "tensor(0.1400)"
      ]
     },
     "execution_count": 162,
     "metadata": {},
     "output_type": "execute_result"
    }
   ],
   "source": [
    "(preds.argmax(-1) == yb).float().mean()"
   ]
  },
  {
   "cell_type": "code",
   "execution_count": 163,
   "id": "bbe4bfed",
   "metadata": {},
   "outputs": [],
   "source": [
    "#|export\n",
    "def accuracy(out, yb):\n",
    "    return (out.argmax(-1)==yb).float().mean()"
   ]
  },
  {
   "cell_type": "code",
   "execution_count": 164,
   "id": "2b0e6675",
   "metadata": {},
   "outputs": [
    {
     "data": {
      "text/plain": [
       "tensor(0.1400)"
      ]
     },
     "execution_count": 164,
     "metadata": {},
     "output_type": "execute_result"
    }
   ],
   "source": [
    "accuracy(preds, yb)"
   ]
  },
  {
   "cell_type": "code",
   "execution_count": 195,
   "id": "f014ff49",
   "metadata": {},
   "outputs": [],
   "source": [
    "lr = 0.5\n",
    "epochs = 3"
   ]
  },
  {
   "cell_type": "code",
   "execution_count": 196,
   "id": "c53084f5",
   "metadata": {},
   "outputs": [],
   "source": [
    "#|export\n",
    "def report(loss, preds, yb):\n",
    "    print(f'loss:{loss:.2f}, accuracy:{accuracy(preds,yb):.2f}')"
   ]
  },
  {
   "cell_type": "code",
   "execution_count": 197,
   "id": "7029912e",
   "metadata": {},
   "outputs": [
    {
     "name": "stdout",
     "output_type": "stream",
     "text": [
      "loss:2.31, accuracy:0.06\n"
     ]
    }
   ],
   "source": [
    "report(loss, preds, yb)"
   ]
  },
  {
   "cell_type": "code",
   "execution_count": 234,
   "id": "e62749cd",
   "metadata": {},
   "outputs": [
    {
     "name": "stdout",
     "output_type": "stream",
     "text": [
      "loss:0.04, accuracy:1.00\n",
      "loss:0.02, accuracy:1.00\n",
      "loss:0.02, accuracy:1.00\n"
     ]
    }
   ],
   "source": [
    "for epoch in range(epochs):\n",
    "    for i in range(0, m, bs):\n",
    "        s = slice(i, min(m,i+bs))\n",
    "        xb,yb = x_train[s],y_train[s]\n",
    "        preds = model(xb)\n",
    "        loss = loss_func(preds, yb)\n",
    "        loss.backward()\n",
    "        with torch.no_grad():\n",
    "            for l in model.layers:\n",
    "                if hasattr(l, 'weight'):\n",
    "                    l.weight -= lr * l.weight.grad\n",
    "                    l.bias -= lr * l.bias.grad\n",
    "                    l.weight.grad.zero_()\n",
    "                    l.bias.grad.zero_()\n",
    "    report(loss, preds, yb)"
   ]
  },
  {
   "cell_type": "markdown",
   "id": "bc9a2b36",
   "metadata": {},
   "source": [
    "### Parameters and optim"
   ]
  },
  {
   "cell_type": "code",
   "execution_count": 237,
   "id": "8d5812eb",
   "metadata": {},
   "outputs": [
    {
     "data": {
      "text/plain": [
       "Module(\n",
       "  (foo): Linear(in_features=5, out_features=10, bias=True)\n",
       ")"
      ]
     },
     "execution_count": 237,
     "metadata": {},
     "output_type": "execute_result"
    }
   ],
   "source": [
    "m1 = nn.Module()\n",
    "m1.foo = 'hello'\n",
    "m1.foo = nn.Linear(5, 10)\n",
    "m1"
   ]
  },
  {
   "cell_type": "code",
   "execution_count": 239,
   "id": "4baa6f28",
   "metadata": {},
   "outputs": [
    {
     "data": {
      "text/plain": [
       "[('foo', Linear(in_features=5, out_features=10, bias=True))]"
      ]
     },
     "execution_count": 239,
     "metadata": {},
     "output_type": "execute_result"
    }
   ],
   "source": [
    "list(m1.named_children())"
   ]
  },
  {
   "cell_type": "code",
   "execution_count": 240,
   "id": "50f3bb37",
   "metadata": {},
   "outputs": [
    {
     "data": {
      "text/plain": [
       "[Parameter containing:\n",
       " tensor([[-0.0135,  0.2427,  0.4071, -0.2641, -0.1063],\n",
       "         [-0.0249, -0.0718,  0.2160,  0.1209, -0.4219],\n",
       "         [ 0.4248,  0.2381, -0.1875, -0.0182,  0.2244],\n",
       "         [ 0.2804, -0.3338, -0.1321,  0.1581,  0.4113],\n",
       "         [-0.3045, -0.2625,  0.3716,  0.1020,  0.3805],\n",
       "         [ 0.3382, -0.4217,  0.3375,  0.3837,  0.1381],\n",
       "         [-0.0558,  0.0939,  0.4124,  0.3357,  0.2708],\n",
       "         [ 0.4250, -0.2025,  0.1014, -0.1028,  0.1781],\n",
       "         [ 0.1769,  0.2889, -0.0114, -0.0194,  0.3398],\n",
       "         [-0.0588, -0.3934, -0.2778,  0.4254, -0.3880]], requires_grad=True),\n",
       " Parameter containing:\n",
       " tensor([-0.0305,  0.0801, -0.3037, -0.3867,  0.2716,  0.3476, -0.3826,  0.2228,\n",
       "          0.1090, -0.2184], requires_grad=True)]"
      ]
     },
     "execution_count": 240,
     "metadata": {},
     "output_type": "execute_result"
    }
   ],
   "source": [
    "list(m1.parameters())"
   ]
  },
  {
   "cell_type": "code",
   "execution_count": 250,
   "id": "c4f33de3",
   "metadata": {},
   "outputs": [],
   "source": [
    "class MLP(nn.Module):\n",
    "    def __init__(self, n_in, nh, n_out):\n",
    "        super().__init__()\n",
    "        self.l1 = nn.Linear(n_in, nh)\n",
    "        self.relu = nn.ReLU()\n",
    "        self.l2 = nn.Linear(nh, n_out)\n",
    "    \n",
    "    def forward(self, x):\n",
    "        return self.l2(self.relu(self.l1(x)))"
   ]
  },
  {
   "cell_type": "code",
   "execution_count": 251,
   "id": "02b15692",
   "metadata": {},
   "outputs": [],
   "source": [
    "model = MLP(n, nh, n_out)"
   ]
  },
  {
   "cell_type": "code",
   "execution_count": 252,
   "id": "de73aabd",
   "metadata": {},
   "outputs": [
    {
     "data": {
      "text/plain": [
       "MLP(\n",
       "  (l1): Linear(in_features=784, out_features=50, bias=True)\n",
       "  (relu): ReLU()\n",
       "  (l2): Linear(in_features=50, out_features=10, bias=True)\n",
       ")"
      ]
     },
     "execution_count": 252,
     "metadata": {},
     "output_type": "execute_result"
    }
   ],
   "source": [
    "model"
   ]
  },
  {
   "cell_type": "code",
   "execution_count": 253,
   "id": "43e6ee68",
   "metadata": {},
   "outputs": [
    {
     "data": {
      "text/plain": [
       "torch.Size([50, 10])"
      ]
     },
     "execution_count": 253,
     "metadata": {},
     "output_type": "execute_result"
    }
   ],
   "source": [
    "model(xb).shape"
   ]
  },
  {
   "cell_type": "code",
   "execution_count": 254,
   "id": "77a329fc",
   "metadata": {},
   "outputs": [],
   "source": [
    "def fit():\n",
    "    for epoch in range(epochs):\n",
    "        for i in range(0, m, bs):\n",
    "            s = slice(i, min(m,i+bs))\n",
    "            xb,yb = x_train[s],y_train[s]\n",
    "            preds = model(xb)\n",
    "            loss = loss_func(preds, yb)\n",
    "            loss.backward()\n",
    "            with torch.no_grad():\n",
    "                for p in model.parameters():\n",
    "                    p -= lr*p.grad\n",
    "                model.zero_grad()\n",
    "        report(loss, preds, yb)"
   ]
  },
  {
   "cell_type": "code",
   "execution_count": 255,
   "id": "b061fe95",
   "metadata": {},
   "outputs": [
    {
     "name": "stdout",
     "output_type": "stream",
     "text": [
      "loss:0.15, accuracy:0.96\n",
      "loss:0.14, accuracy:0.96\n",
      "loss:0.13, accuracy:0.94\n"
     ]
    }
   ],
   "source": [
    "fit()"
   ]
  },
  {
   "cell_type": "code",
   "execution_count": 259,
   "id": "3999054e",
   "metadata": {},
   "outputs": [],
   "source": [
    "class MyModule:\n",
    "    def __init__(self,n_in,nh,n_out):\n",
    "        self._modules = {}\n",
    "        self.l1 = nn.Linear(n_in, nh)\n",
    "        self.relu = nn.ReLU()\n",
    "        self.l2 = nn.Linear(nh, n_out)\n",
    "    \n",
    "    def __setattr__(self,k,v):\n",
    "        if not k.startswith('_'):\n",
    "            self._modules[k] = v\n",
    "        super().__setattr__(k, v)\n",
    "    \n",
    "    def __repr__(self):\n",
    "        return f'{self._modules}'\n",
    "    \n",
    "    def parameters(self):\n",
    "        for l in self._modules.values():\n",
    "            yield from l.parameters()"
   ]
  },
  {
   "cell_type": "code",
   "execution_count": 260,
   "id": "b761c95a",
   "metadata": {},
   "outputs": [],
   "source": [
    "md1 = MyModule(n,nh,n_out)"
   ]
  },
  {
   "cell_type": "code",
   "execution_count": 261,
   "id": "f567ee05",
   "metadata": {},
   "outputs": [
    {
     "data": {
      "text/plain": [
       "{'l1': Linear(in_features=784, out_features=50, bias=True), 'relu': ReLU(), 'l2': Linear(in_features=50, out_features=10, bias=True)}"
      ]
     },
     "execution_count": 261,
     "metadata": {},
     "output_type": "execute_result"
    }
   ],
   "source": [
    "md1"
   ]
  },
  {
   "cell_type": "code",
   "execution_count": 262,
   "id": "df68d896",
   "metadata": {},
   "outputs": [
    {
     "name": "stdout",
     "output_type": "stream",
     "text": [
      "torch.Size([50, 784])\n",
      "torch.Size([50])\n",
      "torch.Size([10, 50])\n",
      "torch.Size([10])\n"
     ]
    }
   ],
   "source": [
    "for p in md1.parameters():\n",
    "    print(p.shape)"
   ]
  },
  {
   "cell_type": "code",
   "execution_count": 263,
   "id": "381909f8",
   "metadata": {},
   "outputs": [],
   "source": [
    "layers = [nn.Linear(n,nh), nn.ReLU(), nn.Linear(nh,n_out)]"
   ]
  },
  {
   "cell_type": "code",
   "execution_count": 268,
   "id": "9b644052",
   "metadata": {},
   "outputs": [],
   "source": [
    "class Model(nn.Module):\n",
    "    def __init__(self, layers):\n",
    "        super().__init__()\n",
    "        self.layers = layers\n",
    "        for i,l in enumerate(self.layers):\n",
    "            self.add_module(f'layer_{i}', l)\n",
    "    \n",
    "    def forward(self, x):\n",
    "        for l in self.layers:\n",
    "            x = l(x)\n",
    "        return x"
   ]
  },
  {
   "cell_type": "code",
   "execution_count": 269,
   "id": "788753c8",
   "metadata": {},
   "outputs": [],
   "source": [
    "model = Model(layers)"
   ]
  },
  {
   "cell_type": "code",
   "execution_count": 270,
   "id": "0d95d06c",
   "metadata": {},
   "outputs": [
    {
     "data": {
      "text/plain": [
       "Model(\n",
       "  (layer_0): Linear(in_features=784, out_features=50, bias=True)\n",
       "  (layer_1): ReLU()\n",
       "  (layer_2): Linear(in_features=50, out_features=10, bias=True)\n",
       ")"
      ]
     },
     "execution_count": 270,
     "metadata": {},
     "output_type": "execute_result"
    }
   ],
   "source": [
    "model"
   ]
  },
  {
   "cell_type": "code",
   "execution_count": 271,
   "id": "8cc73141",
   "metadata": {},
   "outputs": [
    {
     "data": {
      "text/plain": [
       "torch.Size([50, 10])"
      ]
     },
     "execution_count": 271,
     "metadata": {},
     "output_type": "execute_result"
    }
   ],
   "source": [
    "model(xb).shape"
   ]
  },
  {
   "cell_type": "code",
   "execution_count": 272,
   "id": "be09afcb",
   "metadata": {},
   "outputs": [],
   "source": [
    "class SequentialsModel(nn.Module):\n",
    "    def __init__(self, layers):\n",
    "        super().__init__()\n",
    "        self.layers = nn.ModuleList(layers)\n",
    "    \n",
    "    def forward(self, x):\n",
    "        for l in self.layers:\n",
    "            x = l(x)\n",
    "        return x"
   ]
  },
  {
   "cell_type": "code",
   "execution_count": 274,
   "id": "59a821b5",
   "metadata": {},
   "outputs": [
    {
     "data": {
      "text/plain": [
       "SequentialsModel(\n",
       "  (layers): ModuleList(\n",
       "    (0): Linear(in_features=784, out_features=50, bias=True)\n",
       "    (1): ReLU()\n",
       "    (2): Linear(in_features=50, out_features=10, bias=True)\n",
       "  )\n",
       ")"
      ]
     },
     "execution_count": 274,
     "metadata": {},
     "output_type": "execute_result"
    }
   ],
   "source": [
    "model = SequentialsModel(layers)\n",
    "model"
   ]
  },
  {
   "cell_type": "code",
   "execution_count": 275,
   "id": "0f1ff6a5",
   "metadata": {},
   "outputs": [
    {
     "data": {
      "text/plain": [
       "torch.Size([50, 10])"
      ]
     },
     "execution_count": 275,
     "metadata": {},
     "output_type": "execute_result"
    }
   ],
   "source": [
    "model(xb).shape"
   ]
  },
  {
   "cell_type": "code",
   "execution_count": 276,
   "id": "8fc99011",
   "metadata": {},
   "outputs": [
    {
     "data": {
      "text/plain": [
       "Sequential(\n",
       "  (0): Linear(in_features=784, out_features=50, bias=True)\n",
       "  (1): ReLU()\n",
       "  (2): Linear(in_features=50, out_features=10, bias=True)\n",
       ")"
      ]
     },
     "execution_count": 276,
     "metadata": {},
     "output_type": "execute_result"
    }
   ],
   "source": [
    "model = nn.Sequential(*layers)\n",
    "model"
   ]
  },
  {
   "cell_type": "code",
   "execution_count": 277,
   "id": "4d32ecde",
   "metadata": {},
   "outputs": [
    {
     "data": {
      "text/plain": [
       "torch.Size([50, 10])"
      ]
     },
     "execution_count": 277,
     "metadata": {},
     "output_type": "execute_result"
    }
   ],
   "source": [
    "model(xb).shape"
   ]
  },
  {
   "cell_type": "markdown",
   "id": "47140d8e",
   "metadata": {},
   "source": [
    "### Optim"
   ]
  },
  {
   "cell_type": "code",
   "execution_count": 347,
   "id": "10b576cb",
   "metadata": {},
   "outputs": [],
   "source": [
    "class Optimizer:\n",
    "    def __init__(self, params, lr=0.5):\n",
    "        self.lr = lr\n",
    "        self.params = list(params)\n",
    "    \n",
    "    def step(self):\n",
    "        with torch.no_grad():\n",
    "            for p in self.params:\n",
    "                p -= self.lr*p.grad\n",
    "    \n",
    "    def zero_grad(self):\n",
    "        for p in self.params:\n",
    "            p.grad.data.zero_()      "
   ]
  },
  {
   "cell_type": "code",
   "execution_count": 348,
   "id": "497dde80",
   "metadata": {},
   "outputs": [],
   "source": [
    "model = nn.Sequential(*[nn.Linear(n,nh), nn.ReLU(), nn.Linear(nh,n_out)])"
   ]
  },
  {
   "cell_type": "code",
   "execution_count": 349,
   "id": "082f5728",
   "metadata": {},
   "outputs": [],
   "source": [
    "opt = Optimizer(model.parameters())"
   ]
  },
  {
   "cell_type": "code",
   "execution_count": 351,
   "id": "bc780b63",
   "metadata": {},
   "outputs": [
    {
     "name": "stdout",
     "output_type": "stream",
     "text": [
      "loss:0.09, accuracy:0.96\n",
      "loss:0.03, accuracy:1.00\n",
      "loss:0.02, accuracy:1.00\n"
     ]
    }
   ],
   "source": [
    "for epoch in range(epochs):\n",
    "    for i in range(0, m, bs):\n",
    "        s = slice(i, min(m, i+bs))\n",
    "        xb,yb = x_train[s],y_train[s]\n",
    "        preds = model(xb)\n",
    "        loss = loss_func(preds, yb)\n",
    "        loss.backward()\n",
    "        opt.step()\n",
    "        opt.zero_grad()\n",
    "    report(loss, preds, yb)"
   ]
  },
  {
   "cell_type": "code",
   "execution_count": 363,
   "id": "24ed1bea",
   "metadata": {},
   "outputs": [],
   "source": [
    "from torch import optim"
   ]
  },
  {
   "cell_type": "code",
   "execution_count": 364,
   "id": "0932a113",
   "metadata": {},
   "outputs": [],
   "source": [
    "def get_model():\n",
    "    model = nn.Sequential(*[nn.Linear(n,nh), nn.ReLU(), nn.Linear(nh,n_out)])\n",
    "    opt = optim.SGD(model.parameters(), lr=lr)\n",
    "    return model,opt"
   ]
  },
  {
   "cell_type": "code",
   "execution_count": 365,
   "id": "5a4c9e26",
   "metadata": {},
   "outputs": [],
   "source": [
    "model,opt = get_model()"
   ]
  },
  {
   "cell_type": "code",
   "execution_count": 366,
   "id": "172f8513",
   "metadata": {},
   "outputs": [
    {
     "name": "stdout",
     "output_type": "stream",
     "text": [
      "loss:0.16, accuracy:0.98\n",
      "loss:0.08, accuracy:0.98\n",
      "loss:0.03, accuracy:1.00\n"
     ]
    }
   ],
   "source": [
    "for epoch in range(epochs):\n",
    "    for i in range(0, m, bs):\n",
    "        s = slice(i, min(m, i+bs))\n",
    "        xb,yb = x_train[s],y_train[s]\n",
    "        preds = model(xb)\n",
    "        loss = loss_func(preds, yb)\n",
    "        loss.backward()\n",
    "        opt.step()\n",
    "        opt.zero_grad()\n",
    "    report(loss, preds, yb)"
   ]
  },
  {
   "cell_type": "markdown",
   "id": "2dabd771",
   "metadata": {},
   "source": [
    "### Dataset and DataLoader"
   ]
  },
  {
   "cell_type": "code",
   "execution_count": 369,
   "id": "5c94bab2",
   "metadata": {},
   "outputs": [],
   "source": [
    "#|export\n",
    "\n",
    "class Dataset:\n",
    "    def __init__(self,x,y):\n",
    "        self.x,self.y = x,y\n",
    "    \n",
    "    def __len__(self):\n",
    "        return len(self.x)\n",
    "    \n",
    "    def __getitem__(self,i):\n",
    "        return self.x[i],self.y[i]"
   ]
  },
  {
   "cell_type": "code",
   "execution_count": 370,
   "id": "de24065f",
   "metadata": {},
   "outputs": [],
   "source": [
    "train_ds,val_ds = Dataset(x_train, y_train),Dataset(x_val, y_val)"
   ]
  },
  {
   "cell_type": "code",
   "execution_count": 379,
   "id": "5670689a",
   "metadata": {},
   "outputs": [],
   "source": [
    "xb,yb = train_ds[0:5]"
   ]
  },
  {
   "cell_type": "code",
   "execution_count": 380,
   "id": "57f3106d",
   "metadata": {},
   "outputs": [
    {
     "data": {
      "text/plain": [
       "(torch.Size([5, 784]), torch.Size([5]))"
      ]
     },
     "execution_count": 380,
     "metadata": {},
     "output_type": "execute_result"
    }
   ],
   "source": [
    "xb.shape,yb.shape"
   ]
  },
  {
   "cell_type": "code",
   "execution_count": 383,
   "id": "d62617b4",
   "metadata": {},
   "outputs": [],
   "source": [
    "model,opt = get_model()"
   ]
  },
  {
   "cell_type": "code",
   "execution_count": 385,
   "id": "981999fb",
   "metadata": {},
   "outputs": [
    {
     "name": "stdout",
     "output_type": "stream",
     "text": [
      "loss:0.21, accuracy:0.94\n",
      "loss:0.18, accuracy:0.92\n",
      "loss:0.14, accuracy:0.92\n"
     ]
    }
   ],
   "source": [
    "for epoch in range(epochs):\n",
    "    for i in range(0,m,bs):\n",
    "        xb,yb = train_ds[i:min(m,i+bs)]\n",
    "        preds = model(xb)\n",
    "        loss = loss_func(preds,yb)\n",
    "        loss.backward()\n",
    "        opt.step()\n",
    "        opt.zero_grad()\n",
    "    report(loss,preds,yb)"
   ]
  },
  {
   "cell_type": "markdown",
   "id": "2375a2dd",
   "metadata": {},
   "source": [
    "### DataLoader"
   ]
  },
  {
   "cell_type": "code",
   "execution_count": 386,
   "id": "860f8c6a",
   "metadata": {},
   "outputs": [],
   "source": [
    "class DataLoader:\n",
    "    def __init__(self,ds,bs):\n",
    "        self.ds,self.bs = ds,bs\n",
    "    \n",
    "    def __iter__(self):\n",
    "        for i in range(0,len(self.ds),self.bs):\n",
    "            yield self.ds[i:i+self.bs]"
   ]
  },
  {
   "cell_type": "code",
   "execution_count": 387,
   "id": "fe2fe8e1",
   "metadata": {},
   "outputs": [],
   "source": [
    "train_dl = DataLoader(train_ds, bs)\n",
    "val_dl = DataLoader(val_ds, bs)"
   ]
  },
  {
   "cell_type": "code",
   "execution_count": 389,
   "id": "da3f720a",
   "metadata": {},
   "outputs": [],
   "source": [
    "model,opt = get_model()"
   ]
  },
  {
   "cell_type": "code",
   "execution_count": 392,
   "id": "e920dcb8",
   "metadata": {},
   "outputs": [],
   "source": [
    "def fit():\n",
    "    for epoch in range(epochs):\n",
    "        for xb,yb in train_dl:\n",
    "            preds = model(xb)\n",
    "            loss = loss_func(preds, yb)\n",
    "            loss.backward()\n",
    "            opt.step()\n",
    "            opt.zero_grad()\n",
    "        report(loss, preds, yb)"
   ]
  },
  {
   "cell_type": "code",
   "execution_count": 393,
   "id": "e4c547d6",
   "metadata": {},
   "outputs": [
    {
     "name": "stdout",
     "output_type": "stream",
     "text": [
      "loss:0.10, accuracy:0.96\n",
      "loss:0.05, accuracy:1.00\n",
      "loss:0.03, accuracy:1.00\n"
     ]
    }
   ],
   "source": [
    "fit()"
   ]
  },
  {
   "cell_type": "markdown",
   "id": "6a3dfcc4",
   "metadata": {},
   "source": [
    "### Random sampling"
   ]
  },
  {
   "cell_type": "code",
   "execution_count": 394,
   "id": "529cfcde",
   "metadata": {},
   "outputs": [],
   "source": [
    "import random"
   ]
  },
  {
   "cell_type": "code",
   "execution_count": 397,
   "id": "c0a3da68",
   "metadata": {},
   "outputs": [],
   "source": [
    "class Sampler:\n",
    "    def __init__(self, ds, shuffle=False):\n",
    "        self.shuffle,self.n = shuffle,len(ds)\n",
    "    \n",
    "    def __iter__(self):\n",
    "        res = list(range(self.n))\n",
    "        if self.shuffle:\n",
    "            random.shuffle(res)\n",
    "        return iter(res)"
   ]
  },
  {
   "cell_type": "code",
   "execution_count": 402,
   "id": "a9c06685",
   "metadata": {},
   "outputs": [],
   "source": [
    "ss = Sampler(train_ds, shuffle=True)"
   ]
  },
  {
   "cell_type": "code",
   "execution_count": 404,
   "id": "f1e8e091",
   "metadata": {},
   "outputs": [],
   "source": [
    "import fastcore.all as fc"
   ]
  },
  {
   "cell_type": "code",
   "execution_count": 412,
   "id": "b6166364",
   "metadata": {},
   "outputs": [],
   "source": [
    "class BatchSampler:\n",
    "    def __init__(self, sampler, bs, drop_last=False):\n",
    "        fc.store_attr()\n",
    "    \n",
    "    def __iter__(self):\n",
    "        yield from fc.chunked(iter(self.sampler), self.bs, drop_last=self.drop_last)"
   ]
  },
  {
   "cell_type": "code",
   "execution_count": 416,
   "id": "f72d1d05",
   "metadata": {},
   "outputs": [],
   "source": [
    "batchs = BatchSampler(ss, 4)"
   ]
  },
  {
   "cell_type": "code",
   "execution_count": 505,
   "id": "0acb6b3a",
   "metadata": {},
   "outputs": [],
   "source": [
    "from itertools import islice"
   ]
  },
  {
   "cell_type": "code",
   "execution_count": 601,
   "id": "50ca3b19",
   "metadata": {},
   "outputs": [
    {
     "data": {
      "text/plain": [
       "[[26747, 32392, 21528, 44881],\n",
       " [24809, 44369, 43235, 34463],\n",
       " [18199, 38684, 26613, 41748],\n",
       " [23086, 1949, 15452, 22802]]"
      ]
     },
     "execution_count": 601,
     "metadata": {},
     "output_type": "execute_result"
    }
   ],
   "source": [
    "list(islice(batchs, 4))"
   ]
  },
  {
   "cell_type": "code",
   "execution_count": 636,
   "id": "d8c8062f",
   "metadata": {},
   "outputs": [],
   "source": [
    "def collate(b):\n",
    "    xs,ys = zip(*b)\n",
    "    return torch.stack(xs),torch.stack(ys)"
   ]
  },
  {
   "cell_type": "code",
   "execution_count": 637,
   "id": "a3c08e55",
   "metadata": {},
   "outputs": [],
   "source": [
    "class DataLoader:\n",
    "    def __init__(self, ds, batchs, collate_fn=collate):\n",
    "        fc.store_attr()\n",
    "    \n",
    "    def __iter__(self):\n",
    "        yield from (self.collate_fn(self.ds[i] for i in b) for b in self.batchs)"
   ]
  },
  {
   "cell_type": "code",
   "execution_count": 638,
   "id": "495c4113",
   "metadata": {},
   "outputs": [],
   "source": [
    "train_samp = BatchSampler(Sampler(train_ds, shuffle=True ), bs)"
   ]
  },
  {
   "cell_type": "code",
   "execution_count": 639,
   "id": "4508655c",
   "metadata": {},
   "outputs": [],
   "source": [
    "train_dl = DataLoader(train_ds, batchs=train_samp)"
   ]
  },
  {
   "cell_type": "code",
   "execution_count": 640,
   "id": "f10e87f7",
   "metadata": {},
   "outputs": [],
   "source": [
    "xb,yb = next(iter(train_dl))"
   ]
  },
  {
   "cell_type": "code",
   "execution_count": 641,
   "id": "3a0714b7",
   "metadata": {},
   "outputs": [
    {
     "data": {
      "text/plain": [
       "(torch.Size([50, 784]), torch.Size([50]))"
      ]
     },
     "execution_count": 641,
     "metadata": {},
     "output_type": "execute_result"
    }
   ],
   "source": [
    "xb.shape,yb.shape"
   ]
  },
  {
   "cell_type": "code",
   "execution_count": 665,
   "id": "39943633",
   "metadata": {},
   "outputs": [],
   "source": [
    "t = iter(((1, 2), (3, 4)))\n",
    "t = map(tensor, t)\n",
    "t = ((1, 2), (3, 4))"
   ]
  },
  {
   "cell_type": "code",
   "execution_count": 667,
   "id": "5fa44b2e",
   "metadata": {},
   "outputs": [
    {
     "name": "stdout",
     "output_type": "stream",
     "text": [
      "1 3\n",
      "2 4\n"
     ]
    }
   ],
   "source": [
    "for a,b in zip(*t):\n",
    "    print(a,b)"
   ]
  },
  {
   "cell_type": "markdown",
   "id": "4e160f6d",
   "metadata": {},
   "source": [
    "### Validation "
   ]
  },
  {
   "cell_type": "code",
   "execution_count": 682,
   "id": "5fb37ec1",
   "metadata": {},
   "outputs": [],
   "source": [
    "#|export\n",
    "from torch.utils.data import default_collate,DataLoader"
   ]
  },
  {
   "cell_type": "code",
   "execution_count": 683,
   "id": "c89608cd",
   "metadata": {},
   "outputs": [],
   "source": [
    "#|export\n",
    "def fit(epochs, model, loss_func, opt, train_dl, valid_dl):\n",
    "    for epoch in range(epochs):\n",
    "        model.train()\n",
    "        for xb,yb in train_dl:\n",
    "            loss = loss_func(model(xb), yb)\n",
    "            loss.backward()\n",
    "            opt.step()\n",
    "            opt.zero_grad()\n",
    "        \n",
    "        model.eval()\n",
    "        with torch.no_grad():\n",
    "            tot_loss,tot_acc,count = 0.,0.,0.\n",
    "            for xb,yb in valid_dl:\n",
    "                pred = model(xb)\n",
    "                n = len(xb)\n",
    "                count += n\n",
    "                tot_loss += loss_func(pred,yb).item()*n\n",
    "                tot_acc += accuracy(pred,yb).item()*n\n",
    "        print(epoch, tot_loss/count, tot_acc/count)\n",
    "    return tot_loss/count, tot_acc/count"
   ]
  },
  {
   "cell_type": "code",
   "execution_count": 684,
   "id": "055f41c1",
   "metadata": {},
   "outputs": [],
   "source": [
    "#|export\n",
    "def get_dls(train_ds, val_ds, bs, **kwargs):\n",
    "    return (\n",
    "        DataLoader(train_ds, batch_size=bs, shuffle=True, **kwargs),\n",
    "        DataLoader(val_ds, batch_size=bs*2, shuffle=False, **kwargs),\n",
    "    )"
   ]
  },
  {
   "cell_type": "code",
   "execution_count": 685,
   "id": "94c748db",
   "metadata": {},
   "outputs": [],
   "source": [
    "train_dl,valid_dl = get_dls(train_ds, val_ds, bs)\n",
    "model,opt = get_model()"
   ]
  },
  {
   "cell_type": "code",
   "execution_count": 686,
   "id": "accc4ef0",
   "metadata": {},
   "outputs": [
    {
     "name": "stdout",
     "output_type": "stream",
     "text": [
      "0 0.15154032296035438 0.9564000001549721\n",
      "1 0.14613142590736972 0.9564999982714653\n",
      "2 0.1094715037359856 0.9671000015735626\n",
      "CPU times: user 2.31 s, sys: 119 ms, total: 2.43 s\n",
      "Wall time: 2.66 s\n"
     ]
    }
   ],
   "source": [
    "%time loss,acc = fit(epochs, model, loss_func, opt, train_dl, val_dl)"
   ]
  },
  {
   "cell_type": "markdown",
   "id": "6e412658",
   "metadata": {},
   "source": [
    "### Export -"
   ]
  },
  {
   "cell_type": "code",
   "execution_count": 687,
   "id": "42adc711",
   "metadata": {},
   "outputs": [],
   "source": [
    "import nbdev\n",
    "nbdev.nbdev_export()"
   ]
  },
  {
   "cell_type": "code",
   "execution_count": null,
   "id": "b94fbbdd",
   "metadata": {},
   "outputs": [],
   "source": []
  }
 ],
 "metadata": {
  "kernelspec": {
   "display_name": "Python [conda env:python_main] *",
   "language": "python",
   "name": "conda-env-python_main-py"
  },
  "language_info": {
   "codemirror_mode": {
    "name": "ipython",
    "version": 3
   },
   "file_extension": ".py",
   "mimetype": "text/x-python",
   "name": "python",
   "nbconvert_exporter": "python",
   "pygments_lexer": "ipython3",
   "version": "3.11.0"
  }
 },
 "nbformat": 4,
 "nbformat_minor": 5
}
