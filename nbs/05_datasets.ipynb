{
 "cells": [
  {
   "cell_type": "code",
   "execution_count": 3,
   "id": "2d1dfa8a",
   "metadata": {},
   "outputs": [],
   "source": [
    "#|default_exp datasets"
   ]
  },
  {
   "cell_type": "code",
   "execution_count": 31,
   "id": "743140a2",
   "metadata": {},
   "outputs": [],
   "source": [
    "#|export\n",
    "from __future__ import annotations\n",
    "import math,numpy as np,matplotlib.pyplot as plt\n",
    "from operator import itemgetter\n",
    "from itertools import zip_longest\n",
    "import fastcore.all as fc\n",
    "from torch.utils.data import default_collate,DataLoader\n",
    "from miniai.training import *\n",
    "import torchvision.transforms.functional as TF"
   ]
  },
  {
   "cell_type": "code",
   "execution_count": 19,
   "id": "5f76a113",
   "metadata": {},
   "outputs": [],
   "source": [
    "from datasets import load_dataset\n",
    "import torch"
   ]
  },
  {
   "cell_type": "markdown",
   "id": "8a763e40",
   "metadata": {},
   "source": [
    "### Hugging Face dataset"
   ]
  },
  {
   "cell_type": "code",
   "execution_count": 11,
   "id": "c2bffb03",
   "metadata": {},
   "outputs": [],
   "source": [
    "name = 'fashion_mnist'"
   ]
  },
  {
   "cell_type": "code",
   "execution_count": 12,
   "id": "f77088e6",
   "metadata": {},
   "outputs": [],
   "source": [
    "#|export\n",
    "def inplace(f):\n",
    "    def _f(b):\n",
    "        f(b)\n",
    "        return b\n",
    "    return _f"
   ]
  },
  {
   "cell_type": "code",
   "execution_count": 15,
   "id": "3a41a84d",
   "metadata": {},
   "outputs": [
    {
     "name": "stderr",
     "output_type": "stream",
     "text": [
      "Found cached dataset fashion_mnist (/Users/arun/.cache/huggingface/datasets/fashion_mnist/fashion_mnist/1.0.0/0a671f063342996f19779d38c0ab4abef9c64f757b35af8134b331c294d7ba48)\n"
     ]
    },
    {
     "data": {
      "application/vnd.jupyter.widget-view+json": {
       "model_id": "e4ca186e0e48405aa6751dd767db2b1d",
       "version_major": 2,
       "version_minor": 0
      },
      "text/plain": [
       "  0%|          | 0/2 [00:00<?, ?it/s]"
      ]
     },
     "metadata": {},
     "output_type": "display_data"
    }
   ],
   "source": [
    "rds = load_dataset(name)"
   ]
  },
  {
   "cell_type": "code",
   "execution_count": 23,
   "id": "cf73a3fb",
   "metadata": {},
   "outputs": [],
   "source": [
    "x,y = rds['train'].features"
   ]
  },
  {
   "cell_type": "code",
   "execution_count": 25,
   "id": "94693c67",
   "metadata": {},
   "outputs": [],
   "source": [
    "@inplace\n",
    "def transformi(b):\n",
    "    b[x] = [torch.flatten(TF.to_tensor(ele)) for ele in b[x]]"
   ]
  },
  {
   "cell_type": "code",
   "execution_count": 26,
   "id": "1d824f15",
   "metadata": {},
   "outputs": [],
   "source": [
    "tds = rds.with_transform(transformi)"
   ]
  },
  {
   "cell_type": "code",
   "execution_count": 28,
   "id": "f041a0f6",
   "metadata": {},
   "outputs": [],
   "source": [
    "#|export\n",
    "def collated_dict(ds):\n",
    "    get = itemgetter(*ds.features)\n",
    "    def _f(b):\n",
    "        return get(default_collate(b))\n",
    "    return _f"
   ]
  },
  {
   "cell_type": "code",
   "execution_count": 34,
   "id": "23483872",
   "metadata": {},
   "outputs": [],
   "source": [
    "dlf = DataLoader(tds['train'], batch_size=4, collate_fn=collated_dict(tds['train']))"
   ]
  },
  {
   "cell_type": "code",
   "execution_count": 35,
   "id": "9778f9e6",
   "metadata": {},
   "outputs": [
    {
     "data": {
      "text/plain": [
       "<torch.utils.data.dataloader.DataLoader at 0x17c782390>"
      ]
     },
     "execution_count": 35,
     "metadata": {},
     "output_type": "execute_result"
    }
   ],
   "source": []
  },
  {
   "cell_type": "markdown",
   "id": "b026dab6",
   "metadata": {},
   "source": [
    "### Plotting images"
   ]
  },
  {
   "cell_type": "code",
   "execution_count": 37,
   "id": "edae8bc6",
   "metadata": {},
   "outputs": [],
   "source": [
    "#|export\n",
    "@fc.delegates(plt.Axes.imshow)\n",
    "def show_image(im, ax=None, figsize=None, title=None, noframe=True, **kwargs):\n",
    "    if fc.hasattrs(im, ('cpu', 'permute', 'detach')):\n",
    "        im = im.detach().cpu()\n",
    "        if len(im.shape)==3 and im.shape[0]<5:\n",
    "            im = im.permute(1,2,0)\n",
    "    elif not isinstance(im,np.ndarray):\n",
    "        im = np.array(im)\n",
    "    if im.shape[-1]==1:\n",
    "        im = im[...,0]\n",
    "    if ax is None:\n",
    "        _,ax = plt.subplots(figsize=figsize)\n",
    "    ax.imshow(im, **kwargs)\n",
    "    if title is not None:\n",
    "        ax.set_title(title)\n",
    "    ax.set_xticks([])\n",
    "    ax.set_yticks([])\n",
    "    if noframe:\n",
    "        ax.axis('off')\n",
    "    return ax"
   ]
  },
  {
   "cell_type": "code",
   "execution_count": null,
   "id": "6039591e",
   "metadata": {},
   "outputs": [],
   "source": []
  },
  {
   "cell_type": "code",
   "execution_count": null,
   "id": "8b0fe815",
   "metadata": {},
   "outputs": [],
   "source": []
  }
 ],
 "metadata": {
  "kernelspec": {
   "display_name": "python_main",
   "language": "python",
   "name": "python_main"
  },
  "language_info": {
   "codemirror_mode": {
    "name": "ipython",
    "version": 3
   },
   "file_extension": ".py",
   "mimetype": "text/x-python",
   "name": "python",
   "nbconvert_exporter": "python",
   "pygments_lexer": "ipython3",
   "version": "3.11.0"
  }
 },
 "nbformat": 4,
 "nbformat_minor": 5
}
