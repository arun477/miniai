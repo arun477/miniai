{
 "cells": [
  {
   "cell_type": "code",
   "execution_count": 39,
   "id": "902278cd",
   "metadata": {},
   "outputs": [],
   "source": [
    "#|default_exp datasets"
   ]
  },
  {
   "cell_type": "code",
   "execution_count": 40,
   "id": "dc464fd6",
   "metadata": {},
   "outputs": [],
   "source": [
    "#|export\n",
    "from __future__ import annotations\n",
    "import math, numpy as np,matplotlib.pyplot as plt\n",
    "from operator import itemgetter\n",
    "from itertools import zip_longest\n",
    "import fastcore.all as fc\n",
    "from torch.utils.data import default_collate"
   ]
  },
  {
   "cell_type": "code",
   "execution_count": 5,
   "id": "05fdef6a",
   "metadata": {},
   "outputs": [],
   "source": [
    "import logging,pickle,os,time,shutil,torch,matplotlib as mpl\n",
    "from pathlib import Path\n",
    "from torch import tensor,nn,optim\n",
    "from torch.utils.data import DataLoader\n",
    "import torch.nn.functional as F\n",
    "from datasets import load_dataset,load_dataset_builder\n",
    "import torchvision.transforms.functional as TF\n",
    "from fastcore.test import test_close"
   ]
  },
  {
   "cell_type": "code",
   "execution_count": 6,
   "id": "9607c3ca",
   "metadata": {},
   "outputs": [],
   "source": [
    "torch.set_printoptions(precision=2, sci_mode=False, linewidth=140)\n",
    "torch.manual_seed(1)\n",
    "mpl.rcParams['image.cmap'] = 'gray'"
   ]
  },
  {
   "cell_type": "code",
   "execution_count": 7,
   "id": "689054dc",
   "metadata": {},
   "outputs": [],
   "source": [
    "logging.disable(logging.WARNING)"
   ]
  },
  {
   "cell_type": "markdown",
   "id": "f07bdd3e",
   "metadata": {},
   "source": [
    "### Hugging face datasets"
   ]
  },
  {
   "cell_type": "code",
   "execution_count": 8,
   "id": "c1f6c40c",
   "metadata": {},
   "outputs": [
    {
     "name": "stdout",
     "output_type": "stream",
     "text": [
      "Fashion-MNIST is a dataset of Zalando's article images—consisting of a training set of\n",
      "60,000 examples and a test set of 10,000 examples. Each example is a 28x28 grayscale image,\n",
      "associated with a label from 10 classes. We intend Fashion-MNIST to serve as a direct drop-in\n",
      "replacement for the original MNIST dataset for benchmarking machine learning algorithms.\n",
      "It shares the same image size and structure of training and testing splits.\n",
      "\n"
     ]
    }
   ],
   "source": [
    "name = 'fashion_mnist'\n",
    "ds_builder = load_dataset_builder(name)\n",
    "print(ds_builder.info.description)"
   ]
  },
  {
   "cell_type": "code",
   "execution_count": 11,
   "id": "f1587640",
   "metadata": {},
   "outputs": [
    {
     "data": {
      "text/plain": [
       "{'image': Image(decode=True, id=None),\n",
       " 'label': ClassLabel(names=['T - shirt / top', 'Trouser', 'Pullover', 'Dress', 'Coat', 'Sandal', 'Shirt', 'Sneaker', 'Bag', 'Ankle boot'], id=None)}"
      ]
     },
     "execution_count": 11,
     "metadata": {},
     "output_type": "execute_result"
    }
   ],
   "source": [
    "ds_builder.info.features"
   ]
  },
  {
   "cell_type": "code",
   "execution_count": 12,
   "id": "5de6e32e",
   "metadata": {},
   "outputs": [
    {
     "data": {
      "text/plain": [
       "{'train': SplitInfo(name='train', num_bytes=31296607, num_examples=60000, shard_lengths=None, dataset_name='fashion_mnist'),\n",
       " 'test': SplitInfo(name='test', num_bytes=5233810, num_examples=10000, shard_lengths=None, dataset_name='fashion_mnist')}"
      ]
     },
     "execution_count": 12,
     "metadata": {},
     "output_type": "execute_result"
    }
   ],
   "source": [
    "ds_builder.info.splits"
   ]
  },
  {
   "cell_type": "code",
   "execution_count": 13,
   "id": "e393ba54",
   "metadata": {},
   "outputs": [
    {
     "data": {
      "application/vnd.jupyter.widget-view+json": {
       "model_id": "b8c4e320f1f64ac6aeef1eab4e0c6bc3",
       "version_major": 2,
       "version_minor": 0
      },
      "text/plain": [
       "  0%|          | 0/2 [00:00<?, ?it/s]"
      ]
     },
     "metadata": {},
     "output_type": "display_data"
    }
   ],
   "source": [
    "dsd = load_dataset(name)"
   ]
  },
  {
   "cell_type": "code",
   "execution_count": 14,
   "id": "54c5bfec",
   "metadata": {},
   "outputs": [
    {
     "data": {
      "text/plain": [
       "DatasetDict({\n",
       "    train: Dataset({\n",
       "        features: ['image', 'label'],\n",
       "        num_rows: 60000\n",
       "    })\n",
       "    test: Dataset({\n",
       "        features: ['image', 'label'],\n",
       "        num_rows: 10000\n",
       "    })\n",
       "})"
      ]
     },
     "execution_count": 14,
     "metadata": {},
     "output_type": "execute_result"
    }
   ],
   "source": [
    "dsd"
   ]
  },
  {
   "cell_type": "code",
   "execution_count": 24,
   "id": "5ffbde54",
   "metadata": {},
   "outputs": [
    {
     "data": {
      "text/plain": [
       "('image', 'label')"
      ]
     },
     "execution_count": 24,
     "metadata": {},
     "output_type": "execute_result"
    }
   ],
   "source": [
    "tuple(dsd['train'].features)"
   ]
  },
  {
   "cell_type": "code",
   "execution_count": 41,
   "id": "c1d22ec6",
   "metadata": {},
   "outputs": [],
   "source": [
    "#|export\n",
    "def inplace(f):\n",
    "    def _f(b):\n",
    "        f(b)\n",
    "        return b\n",
    "    return _f"
   ]
  },
  {
   "cell_type": "code",
   "execution_count": 26,
   "id": "f748ebb1",
   "metadata": {},
   "outputs": [],
   "source": [
    "feat_x, label = tuple(dsd['train'].features)"
   ]
  },
  {
   "cell_type": "code",
   "execution_count": 36,
   "id": "f1925fde",
   "metadata": {},
   "outputs": [],
   "source": [
    "@inplace\n",
    "def transformi(b):\n",
    "    b[feat_x] = [torch.flatten(TF.to_tensor(ele)) for ele in b[feat_x]]"
   ]
  },
  {
   "cell_type": "code",
   "execution_count": 37,
   "id": "8d703b23",
   "metadata": {},
   "outputs": [],
   "source": [
    "tdsf = dsd['train'].with_transform(transformi)"
   ]
  },
  {
   "cell_type": "code",
   "execution_count": 38,
   "id": "43000246",
   "metadata": {},
   "outputs": [
    {
     "data": {
      "text/plain": [
       "(torch.Size([784]), 9)"
      ]
     },
     "execution_count": 38,
     "metadata": {},
     "output_type": "execute_result"
    }
   ],
   "source": [
    "r = tdsf[0]\n",
    "r[feat_x].shape,r[label]"
   ]
  },
  {
   "cell_type": "code",
   "execution_count": 44,
   "id": "4ffa4fa0",
   "metadata": {},
   "outputs": [],
   "source": [
    "#|export\n",
    "def collate_dict(ds):\n",
    "    ig = itemgetter(*ds.features)\n",
    "    def _f(b):\n",
    "        return ig(default_collate(b))\n",
    "    return _f"
   ]
  },
  {
   "cell_type": "code",
   "execution_count": 51,
   "id": "dfda6513",
   "metadata": {},
   "outputs": [],
   "source": [
    "dlf = DataLoader(tdsf, batch_size=4, collate_fn=collate_dict(tdsf))\n",
    "xb,yb = next(iter(dlf))"
   ]
  },
  {
   "cell_type": "code",
   "execution_count": 54,
   "id": "0f674392",
   "metadata": {},
   "outputs": [
    {
     "data": {
      "text/plain": [
       "(torch.Size([4, 784]), torch.Size([4]))"
      ]
     },
     "execution_count": 54,
     "metadata": {},
     "output_type": "execute_result"
    }
   ],
   "source": [
    "xb.shape,yb.shape"
   ]
  },
  {
   "cell_type": "markdown",
   "id": "21dc4640",
   "metadata": {},
   "source": [
    "### Plotting images"
   ]
  },
  {
   "cell_type": "code",
   "execution_count": 489,
   "id": "babf1ff1",
   "metadata": {},
   "outputs": [],
   "source": [
    "#|export\n",
    "@fc.delegates(plt.Axes.imshow)\n",
    "def show_image(im, ax=None, noframe=True, title=None, figsize=(2,2), **kwargs):\n",
    "    if fc.hasattrs(im, ('cpu', 'permute', 'detach')):\n",
    "        im = im.detach().cpu()\n",
    "        if len(im.shape)==3 and im.shape[0]<5:\n",
    "            im = im.perumte(1,2,0)\n",
    "    elif not isinstance(im, np.ndarray):\n",
    "        im = np.array(im)\n",
    "    if im.shape[-1]==1:\n",
    "        im = im[...,0]\n",
    "    if ax is None:\n",
    "        _,ax = plt.subplots(figsize=figsize)\n",
    "    ax.imshow(im, **kwargs)\n",
    "    if title is not None:\n",
    "        ax.set_title(title)\n",
    "    ax.set_xticks([])\n",
    "    ax.set_yticks([])\n",
    "    if noframe:\n",
    "        ax.axis('off')\n",
    "    return ax   "
   ]
  },
  {
   "cell_type": "code",
   "execution_count": 490,
   "id": "bb6c2302",
   "metadata": {},
   "outputs": [
    {
     "name": "stdout",
     "output_type": "stream",
     "text": [
      "Help on function show_image in module __main__:\n",
      "\n",
      "show_image(im, ax=None, noframe=True, title=None, figsize=(2, 2), *, cmap=None, norm=None, aspect=None, interpolation=None, alpha=None, vmin=None, vmax=None, origin=None, extent=None, interpolation_stage=None, filternorm=True, filterrad=4.0, resample=None, url=None, data=None)\n",
      "    #|export\n",
      "\n"
     ]
    }
   ],
   "source": [
    "help(show_image)"
   ]
  },
  {
   "cell_type": "code",
   "execution_count": 491,
   "id": "8ba75197",
   "metadata": {},
   "outputs": [
    {
     "data": {
      "text/plain": [
       "<Axes: >"
      ]
     },
     "execution_count": 491,
     "metadata": {},
     "output_type": "execute_result"
    },
    {
     "data": {
      "image/png": "[encoded data removed]",
      "text/plain": [
       "<Figure size 144x144 with 1 Axes>"
      ]
     },
     "metadata": {},
     "output_type": "display_data"
    }
   ],
   "source": [
    "img = xb[0]\n",
    "img = img.view(28,28,1,1)\n",
    "img = img.tolist()\n",
    "show_image(img, figsize=(2,2))"
   ]
  },
  {
   "cell_type": "code",
   "execution_count": 559,
   "id": "b637f4ae",
   "metadata": {},
   "outputs": [],
   "source": [
    "#|export\n",
    "@fc.delegates(plt.subplots, keep=False)\n",
    "def subplots(\n",
    "    nrows:int=1,\n",
    "    ncols:int=1,\n",
    "    figsize:tuple=None,\n",
    "    imsize:int=3,\n",
    "    suptitle:str=None,\n",
    "    **kwargs\n",
    "):\n",
    "    if figsize is None:\n",
    "        figsize = (ncols*imsize, nrows*imsize)\n",
    "    fig,ax = plt.subplots(nrows, ncols, figsize=figsize, **kwargs)\n",
    "    if suptitle is not None:\n",
    "        fig.suptitle(suptitle)\n",
    "    return fig,ax"
   ]
  },
  {
   "cell_type": "code",
   "execution_count": 560,
   "id": "133e5131",
   "metadata": {},
   "outputs": [
    {
     "data": {
      "image/png": "[encoded data removed]",
      "text/plain": [
       "<Figure size 288x288 with 4 Axes>"
      ]
     },
     "metadata": {},
     "output_type": "display_data"
    }
   ],
   "source": [
    "imgs = xb[:8]\n",
    "fig,axs = subplots(2, 2, imsize=2, suptitle='test')\n",
    "for ax,img in zip(axs.flat, imgs):\n",
    "    show_image(img.view(28,28), ax, title='cool')"
   ]
  },
  {
   "cell_type": "code",
   "execution_count": 575,
   "id": "64f0d725",
   "metadata": {},
   "outputs": [],
   "source": [
    "#|export\n",
    "@fc.delegates(subplots)\n",
    "def get_grid(\n",
    "    n:int,\n",
    "    nrows:int=None,\n",
    "    ncols:int=None,\n",
    "    title:str=None,\n",
    "    weight:str='bold',\n",
    "    size:int=14,\n",
    "    **kwargs\n",
    "):\n",
    "    if nrows:\n",
    "        ncols = ncols or int(np.floor(n/nrows))\n",
    "    elif ncols:\n",
    "        nrows = nrows or int(np.ceil(n/ncols))\n",
    "    else:\n",
    "        nrows = int(math.sqrt(n))\n",
    "        ncols = int(np.floor(n/nrows))\n",
    "    fig,axs = subplots(nrows, ncols, **kwargs)\n",
    "    return fig,axs"
   ]
  },
  {
   "cell_type": "code",
   "execution_count": 582,
   "id": "8f75af54",
   "metadata": {},
   "outputs": [
    {
     "data": {
      "image/png": "[encoded data removed]",
      "text/plain": [
       "<Figure size 288x288 with 4 Axes>"
      ]
     },
     "metadata": {},
     "output_type": "display_data"
    }
   ],
   "source": [
    "fig,axs = get_grid(5, imsize=2)\n",
    "for ax,img in zip(axs.flat,imgs): \n",
    "    show_image(img.view(28,28), ax)"
   ]
  },
  {
   "cell_type": "code",
   "execution_count": 593,
   "id": "2aa54385",
   "metadata": {},
   "outputs": [],
   "source": [
    "#|export\n",
    "@fc.delegates(subplots)\n",
    "def show_images(ims:list, # Images to show\n",
    "                nrows:int|None=None, # Number of rows in grid\n",
    "                ncols:int|None=None, # Number of columns in grid (auto-calculated if None)\n",
    "                titles:list|None=None, # Optional list of titles for each image\n",
    "                **kwargs):\n",
    "    \"Show all images `ims` as subplots with `rows` using `titles`\"\n",
    "    axs = get_grid(len(ims), nrows, ncols, **kwargs)[1].flat\n",
    "    for im,t,ax in zip_longest(ims, titles or [], axs): show_image(im, ax=ax, title=t)\n",
    "     "
   ]
  },
  {
   "cell_type": "code",
   "execution_count": 597,
   "id": "25e5016c",
   "metadata": {},
   "outputs": [],
   "source": [
    "#|export\n",
    "@fc.delegates(subplots)\n",
    "def show_images(ims:list,\n",
    "                nrows:int|None=None,\n",
    "                ncols:int|None=None,\n",
    "                titles:list|None=None,\n",
    "                **kwargs\n",
    "               ):\n",
    "    axs = get_grid(len(ims), nrows, ncols, **kwargs)[1].flat\n",
    "    for im,t,ax in zip_longest(ims, titles or [], axs):\n",
    "        show_image(im, ax=ax, title=t)"
   ]
  },
  {
   "cell_type": "code",
   "execution_count": 604,
   "id": "dd883d24",
   "metadata": {},
   "outputs": [
    {
     "data": {
      "text/plain": [
       "torch.Size([4, 28, 28])"
      ]
     },
     "execution_count": 604,
     "metadata": {},
     "output_type": "execute_result"
    }
   ],
   "source": [
    "imgs.shape\n",
    "imgs = imgs.view(-1, 28, 28)\n",
    "imgs.shape"
   ]
  },
  {
   "cell_type": "code",
   "execution_count": 605,
   "id": "9afe1d0f",
   "metadata": {},
   "outputs": [
    {
     "data": {
      "image/png": "[encoded data removed]",
      "text/plain": [
       "<Figure size 244.8x244.8 with 4 Axes>"
      ]
     },
     "metadata": {},
     "output_type": "display_data"
    }
   ],
   "source": [
    "lbls = yb[:8]\n",
    "names = \"Top Trouser Pullover Dress Coat Sandal Shirt Sneaker Bag Boot\".split()\n",
    "titles = itemgetter(*lbls)(names)\n",
    "' '.join(titles)\n",
    "show_images(imgs, imsize=1.7, titles=titles)"
   ]
  },
  {
   "cell_type": "code",
   "execution_count": 608,
   "id": "9e740a54",
   "metadata": {},
   "outputs": [],
   "source": [
    "import nbdev"
   ]
  },
  {
   "cell_type": "code",
   "execution_count": 612,
   "id": "443a91f5",
   "metadata": {},
   "outputs": [],
   "source": [
    "# nbdev.nbdev_export()"
   ]
  },
  {
   "cell_type": "code",
   "execution_count": null,
   "id": "4a7d00e3",
   "metadata": {},
   "outputs": [],
   "source": []
  }
 ],
 "metadata": {
  "kernelspec": {
   "display_name": "python_main",
   "language": "python",
   "name": "python_main"
  },
  "language_info": {
   "codemirror_mode": {
    "name": "ipython",
    "version": 3
   },
   "file_extension": ".py",
   "mimetype": "text/x-python",
   "name": "python",
   "nbconvert_exporter": "python",
   "pygments_lexer": "ipython3",
   "version": "3.11.0"
  }
 },
 "nbformat": 4,
 "nbformat_minor": 5
}
